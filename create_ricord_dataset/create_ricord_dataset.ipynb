{
 "cells": [
  {
   "cell_type": "code",
   "execution_count": 1,
   "id": "floral-season",
   "metadata": {},
   "outputs": [
    {
     "name": "stdout",
     "output_type": "stream",
     "text": [
      "['D:\\\\mymanchester\\\\CSImage2\\\\VMware\\\\year3\\\\COMP30040yearporject\\\\CovidNetDeepLearning\\\\create_ricord_dataset', 'd:\\\\computer\\\\python3\\\\python38.zip', 'd:\\\\computer\\\\python3\\\\DLLs', 'd:\\\\computer\\\\python3\\\\lib', 'd:\\\\computer\\\\python3', '', 'C:\\\\Users\\\\16593\\\\AppData\\\\Roaming\\\\Python\\\\Python38\\\\site-packages', 'd:\\\\computer\\\\python3\\\\lib\\\\site-packages', 'd:\\\\mymanchester\\\\csimage2\\\\vmware\\\\year2_sem1\\\\summer\\\\django', 'd:\\\\computer\\\\python3\\\\lib\\\\site-packages\\\\win32', 'd:\\\\computer\\\\python3\\\\lib\\\\site-packages\\\\win32\\\\lib', 'd:\\\\computer\\\\python3\\\\lib\\\\site-packages\\\\Pythonwin', 'd:\\\\computer\\\\python3\\\\lib\\\\site-packages\\\\IPython\\\\extensions', 'C:\\\\Users\\\\16593\\\\.ipython', 'c:\\\\python39\\\\lib\\\\site-packages']\n"
     ]
    }
   ],
   "source": [
    "import sys\n",
    "sys.path.append('c:\\\\python39\\\\lib\\\\site-packages')\n",
    "# print(sys.path)\n",
    "# sys.path.append('D:\\\\computer\\\\anaconda\\\\envs\\\\covidnet2\\\\Lib\\\\site-packages')\n",
    "# sys.path.remove('d:\\\\computer\\\\python3\\\\lib\\\\site-packages')\n",
    "print(sys.path)\n",
    "# import os\n",
    "# import cv2\n",
    "# import glob\n",
    "# # !pip3 install python-gdcm\n",
    "# # !conda install -c conda-forge pillow -y\n",
    "# # !conda install -c conda-forge pydicom -y\n",
    "# # !conda install -c conda-forge gdcm -y\n",
    "# # !\n",
    "# # import gdcm\n",
    "# import numpy as np\n",
    "# import pandas as pd"
   ]
  },
  {
   "cell_type": "code",
   "execution_count": 2,
   "id": "oriental-approval",
   "metadata": {},
   "outputs": [],
   "source": [
    "# !pip uninstall rle"
   ]
  },
  {
   "cell_type": "code",
   "execution_count": 3,
   "id": "amateur-banking",
   "metadata": {},
   "outputs": [],
   "source": [
    "# !pip install RLE"
   ]
  },
  {
   "cell_type": "code",
   "execution_count": 4,
   "id": "catholic-speed",
   "metadata": {},
   "outputs": [],
   "source": [
    "# !python -m pip install pydicom"
   ]
  },
  {
   "cell_type": "code",
   "execution_count": 5,
   "id": "guided-immigration",
   "metadata": {},
   "outputs": [],
   "source": [
    "# !pip install python-rle"
   ]
  },
  {
   "cell_type": "code",
   "execution_count": 6,
   "id": "drawn-montana",
   "metadata": {},
   "outputs": [
    {
     "ename": "ModuleNotFoundError",
     "evalue": "No module named '_libjpeg'",
     "output_type": "error",
     "traceback": [
      "\u001b[1;31m---------------------------------------------------------------------------\u001b[0m",
      "\u001b[1;31mModuleNotFoundError\u001b[0m                       Traceback (most recent call last)",
      "\u001b[1;32m<ipython-input-6-9ca3f23c582c>\u001b[0m in \u001b[0;36m<module>\u001b[1;34m\u001b[0m\n\u001b[0;32m      2\u001b[0m \u001b[1;32mimport\u001b[0m \u001b[0mcv2\u001b[0m\u001b[1;33m\u001b[0m\u001b[1;33m\u001b[0m\u001b[0m\n\u001b[0;32m      3\u001b[0m \u001b[1;32mimport\u001b[0m \u001b[0mglob\u001b[0m\u001b[1;33m\u001b[0m\u001b[1;33m\u001b[0m\u001b[0m\n\u001b[1;32m----> 4\u001b[1;33m \u001b[1;32mimport\u001b[0m \u001b[0mpydicom\u001b[0m\u001b[1;33m\u001b[0m\u001b[1;33m\u001b[0m\u001b[0m\n\u001b[0m\u001b[0;32m      5\u001b[0m \u001b[1;31m# import dicom\u001b[0m\u001b[1;33m\u001b[0m\u001b[1;33m\u001b[0m\u001b[1;33m\u001b[0m\u001b[0m\n\u001b[0;32m      6\u001b[0m \u001b[1;32mfrom\u001b[0m \u001b[0mpydicom\u001b[0m\u001b[1;33m.\u001b[0m\u001b[0mpixel_data_handlers\u001b[0m \u001b[1;32mimport\u001b[0m \u001b[0mapply_modality_lut\u001b[0m\u001b[1;33m,\u001b[0m \u001b[0mapply_voi_lut\u001b[0m\u001b[1;33m\u001b[0m\u001b[1;33m\u001b[0m\u001b[0m\n",
      "\u001b[1;32mc:\\python39\\lib\\site-packages\\pydicom\\__init__.py\u001b[0m in \u001b[0;36m<module>\u001b[1;34m\u001b[0m\n\u001b[0;32m     30\u001b[0m \u001b[1;32mimport\u001b[0m \u001b[0mwarnings\u001b[0m\u001b[1;33m\u001b[0m\u001b[1;33m\u001b[0m\u001b[0m\n\u001b[0;32m     31\u001b[0m \u001b[1;33m\u001b[0m\u001b[0m\n\u001b[1;32m---> 32\u001b[1;33m \u001b[1;32mfrom\u001b[0m \u001b[0mpydicom\u001b[0m\u001b[1;33m.\u001b[0m\u001b[0mdataelem\u001b[0m \u001b[1;32mimport\u001b[0m \u001b[0mDataElement\u001b[0m\u001b[1;33m\u001b[0m\u001b[1;33m\u001b[0m\u001b[0m\n\u001b[0m\u001b[0;32m     33\u001b[0m \u001b[1;32mfrom\u001b[0m \u001b[0mpydicom\u001b[0m\u001b[1;33m.\u001b[0m\u001b[0mdataset\u001b[0m \u001b[1;32mimport\u001b[0m \u001b[0mDataset\u001b[0m\u001b[1;33m,\u001b[0m \u001b[0mFileDataset\u001b[0m\u001b[1;33m\u001b[0m\u001b[1;33m\u001b[0m\u001b[0m\n\u001b[0;32m     34\u001b[0m \u001b[1;32mwith\u001b[0m \u001b[0mwarnings\u001b[0m\u001b[1;33m.\u001b[0m\u001b[0mcatch_warnings\u001b[0m\u001b[1;33m(\u001b[0m\u001b[1;33m)\u001b[0m\u001b[1;33m:\u001b[0m\u001b[1;33m\u001b[0m\u001b[1;33m\u001b[0m\u001b[0m\n",
      "\u001b[1;32mc:\\python39\\lib\\site-packages\\pydicom\\dataelem.py\u001b[0m in \u001b[0;36m<module>\u001b[1;34m\u001b[0m\n\u001b[0;32m     16\u001b[0m \u001b[1;32mimport\u001b[0m \u001b[0mwarnings\u001b[0m\u001b[1;33m\u001b[0m\u001b[1;33m\u001b[0m\u001b[0m\n\u001b[0;32m     17\u001b[0m \u001b[1;33m\u001b[0m\u001b[0m\n\u001b[1;32m---> 18\u001b[1;33m \u001b[1;32mfrom\u001b[0m \u001b[0mpydicom\u001b[0m \u001b[1;32mimport\u001b[0m \u001b[0mconfig\u001b[0m  \u001b[1;31m# don't import datetime_conversion directly\u001b[0m\u001b[1;33m\u001b[0m\u001b[1;33m\u001b[0m\u001b[0m\n\u001b[0m\u001b[0;32m     19\u001b[0m \u001b[1;32mfrom\u001b[0m \u001b[0mpydicom\u001b[0m\u001b[1;33m.\u001b[0m\u001b[0mconfig\u001b[0m \u001b[1;32mimport\u001b[0m \u001b[0mlogger\u001b[0m\u001b[1;33m\u001b[0m\u001b[1;33m\u001b[0m\u001b[0m\n\u001b[0;32m     20\u001b[0m from pydicom.datadict import (dictionary_has_tag, dictionary_description,\n",
      "\u001b[1;32mc:\\python39\\lib\\site-packages\\pydicom\\config.py\u001b[0m in \u001b[0;36m<module>\u001b[1;34m\u001b[0m\n\u001b[0;32m    367\u001b[0m \u001b[1;32mimport\u001b[0m \u001b[0mpydicom\u001b[0m\u001b[1;33m.\u001b[0m\u001b[0mpixel_data_handlers\u001b[0m\u001b[1;33m.\u001b[0m\u001b[0mjpeg_ls_handler\u001b[0m \u001b[1;32mas\u001b[0m \u001b[0mjpegls_handler\u001b[0m  \u001b[1;31m# noqa\u001b[0m\u001b[1;33m\u001b[0m\u001b[1;33m\u001b[0m\u001b[0m\n\u001b[0;32m    368\u001b[0m \u001b[1;32mimport\u001b[0m \u001b[0mpydicom\u001b[0m\u001b[1;33m.\u001b[0m\u001b[0mpixel_data_handlers\u001b[0m\u001b[1;33m.\u001b[0m\u001b[0mgdcm_handler\u001b[0m \u001b[1;32mas\u001b[0m \u001b[0mgdcm_handler\u001b[0m  \u001b[1;31m# noqa\u001b[0m\u001b[1;33m\u001b[0m\u001b[1;33m\u001b[0m\u001b[0m\n\u001b[1;32m--> 369\u001b[1;33m \u001b[1;32mimport\u001b[0m \u001b[0mpydicom\u001b[0m\u001b[1;33m.\u001b[0m\u001b[0mpixel_data_handlers\u001b[0m\u001b[1;33m.\u001b[0m\u001b[0mpylibjpeg_handler\u001b[0m \u001b[1;32mas\u001b[0m \u001b[0mpylibjpeg_handler\u001b[0m  \u001b[1;31m# noqa\u001b[0m\u001b[1;33m\u001b[0m\u001b[1;33m\u001b[0m\u001b[0m\n\u001b[0m\u001b[0;32m    370\u001b[0m \u001b[1;33m\u001b[0m\u001b[0m\n\u001b[0;32m    371\u001b[0m pixel_data_handlers = [\n",
      "\u001b[1;32mc:\\python39\\lib\\site-packages\\pydicom\\pixel_data_handlers\\pylibjpeg_handler.py\u001b[0m in \u001b[0;36m<module>\u001b[1;34m\u001b[0m\n\u001b[0;32m    115\u001b[0m \u001b[0mHANDLER_NAME\u001b[0m \u001b[1;33m=\u001b[0m \u001b[1;34m\"pylibjpeg\"\u001b[0m\u001b[1;33m\u001b[0m\u001b[1;33m\u001b[0m\u001b[0m\n\u001b[0;32m    116\u001b[0m \u001b[1;32mif\u001b[0m \u001b[0mHAVE_PYLIBJPEG\u001b[0m\u001b[1;33m:\u001b[0m\u001b[1;33m\u001b[0m\u001b[1;33m\u001b[0m\u001b[0m\n\u001b[1;32m--> 117\u001b[1;33m     \u001b[0m_DECODERS\u001b[0m \u001b[1;33m=\u001b[0m \u001b[0mget_pixel_data_decoders\u001b[0m\u001b[1;33m(\u001b[0m\u001b[1;33m)\u001b[0m\u001b[1;33m\u001b[0m\u001b[1;33m\u001b[0m\u001b[0m\n\u001b[0m\u001b[0;32m    118\u001b[0m \u001b[1;33m\u001b[0m\u001b[0m\n\u001b[0;32m    119\u001b[0m _LIBJPEG_SYNTAXES = [\n",
      "\u001b[1;32mc:\\python39\\lib\\site-packages\\pylibjpeg\\utils.py\u001b[0m in \u001b[0;36mget_pixel_data_decoders\u001b[1;34m()\u001b[0m\n\u001b[0;32m    119\u001b[0m \u001b[1;32mdef\u001b[0m \u001b[0mget_pixel_data_decoders\u001b[0m\u001b[1;33m(\u001b[0m\u001b[1;33m)\u001b[0m\u001b[1;33m:\u001b[0m\u001b[1;33m\u001b[0m\u001b[1;33m\u001b[0m\u001b[0m\n\u001b[0;32m    120\u001b[0m     \u001b[1;34m\"\"\"Return a :class:`dict` of ``{UID: callable}``.\"\"\"\u001b[0m\u001b[1;33m\u001b[0m\u001b[1;33m\u001b[0m\u001b[0m\n\u001b[1;32m--> 121\u001b[1;33m     return {\n\u001b[0m\u001b[0;32m    122\u001b[0m         \u001b[0mval\u001b[0m\u001b[1;33m.\u001b[0m\u001b[0mname\u001b[0m\u001b[1;33m:\u001b[0m \u001b[0mval\u001b[0m\u001b[1;33m.\u001b[0m\u001b[0mload\u001b[0m\u001b[1;33m(\u001b[0m\u001b[1;33m)\u001b[0m\u001b[1;33m\u001b[0m\u001b[1;33m\u001b[0m\u001b[0m\n\u001b[0;32m    123\u001b[0m         \u001b[1;32mfor\u001b[0m \u001b[0mval\u001b[0m \u001b[1;32min\u001b[0m \u001b[0miter_entry_points\u001b[0m\u001b[1;33m(\u001b[0m\u001b[1;34m\"pylibjpeg.pixel_data_decoders\"\u001b[0m\u001b[1;33m)\u001b[0m\u001b[1;33m\u001b[0m\u001b[1;33m\u001b[0m\u001b[0m\n",
      "\u001b[1;32mc:\\python39\\lib\\site-packages\\pylibjpeg\\utils.py\u001b[0m in \u001b[0;36m<dictcomp>\u001b[1;34m(.0)\u001b[0m\n\u001b[0;32m    120\u001b[0m     \u001b[1;34m\"\"\"Return a :class:`dict` of ``{UID: callable}``.\"\"\"\u001b[0m\u001b[1;33m\u001b[0m\u001b[1;33m\u001b[0m\u001b[0m\n\u001b[0;32m    121\u001b[0m     return {\n\u001b[1;32m--> 122\u001b[1;33m         \u001b[0mval\u001b[0m\u001b[1;33m.\u001b[0m\u001b[0mname\u001b[0m\u001b[1;33m:\u001b[0m \u001b[0mval\u001b[0m\u001b[1;33m.\u001b[0m\u001b[0mload\u001b[0m\u001b[1;33m(\u001b[0m\u001b[1;33m)\u001b[0m\u001b[1;33m\u001b[0m\u001b[1;33m\u001b[0m\u001b[0m\n\u001b[0m\u001b[0;32m    123\u001b[0m         \u001b[1;32mfor\u001b[0m \u001b[0mval\u001b[0m \u001b[1;32min\u001b[0m \u001b[0miter_entry_points\u001b[0m\u001b[1;33m(\u001b[0m\u001b[1;34m\"pylibjpeg.pixel_data_decoders\"\u001b[0m\u001b[1;33m)\u001b[0m\u001b[1;33m\u001b[0m\u001b[1;33m\u001b[0m\u001b[0m\n\u001b[0;32m    124\u001b[0m     }\n",
      "\u001b[1;32md:\\computer\\python3\\lib\\site-packages\\pkg_resources\\__init__.py\u001b[0m in \u001b[0;36mload\u001b[1;34m(self, require, *args, **kwargs)\u001b[0m\n\u001b[0;32m   2441\u001b[0m         \u001b[1;32mif\u001b[0m \u001b[0mrequire\u001b[0m\u001b[1;33m:\u001b[0m\u001b[1;33m\u001b[0m\u001b[1;33m\u001b[0m\u001b[0m\n\u001b[0;32m   2442\u001b[0m             \u001b[0mself\u001b[0m\u001b[1;33m.\u001b[0m\u001b[0mrequire\u001b[0m\u001b[1;33m(\u001b[0m\u001b[1;33m*\u001b[0m\u001b[0margs\u001b[0m\u001b[1;33m,\u001b[0m \u001b[1;33m**\u001b[0m\u001b[0mkwargs\u001b[0m\u001b[1;33m)\u001b[0m\u001b[1;33m\u001b[0m\u001b[1;33m\u001b[0m\u001b[0m\n\u001b[1;32m-> 2443\u001b[1;33m         \u001b[1;32mreturn\u001b[0m \u001b[0mself\u001b[0m\u001b[1;33m.\u001b[0m\u001b[0mresolve\u001b[0m\u001b[1;33m(\u001b[0m\u001b[1;33m)\u001b[0m\u001b[1;33m\u001b[0m\u001b[1;33m\u001b[0m\u001b[0m\n\u001b[0m\u001b[0;32m   2444\u001b[0m \u001b[1;33m\u001b[0m\u001b[0m\n\u001b[0;32m   2445\u001b[0m     \u001b[1;32mdef\u001b[0m \u001b[0mresolve\u001b[0m\u001b[1;33m(\u001b[0m\u001b[0mself\u001b[0m\u001b[1;33m)\u001b[0m\u001b[1;33m:\u001b[0m\u001b[1;33m\u001b[0m\u001b[1;33m\u001b[0m\u001b[0m\n",
      "\u001b[1;32md:\\computer\\python3\\lib\\site-packages\\pkg_resources\\__init__.py\u001b[0m in \u001b[0;36mresolve\u001b[1;34m(self)\u001b[0m\n\u001b[0;32m   2447\u001b[0m         \u001b[0mResolve\u001b[0m \u001b[0mthe\u001b[0m \u001b[0mentry\u001b[0m \u001b[0mpoint\u001b[0m \u001b[1;32mfrom\u001b[0m \u001b[0mits\u001b[0m \u001b[0mmodule\u001b[0m \u001b[1;32mand\u001b[0m \u001b[0mattrs\u001b[0m\u001b[1;33m.\u001b[0m\u001b[1;33m\u001b[0m\u001b[1;33m\u001b[0m\u001b[0m\n\u001b[0;32m   2448\u001b[0m         \"\"\"\n\u001b[1;32m-> 2449\u001b[1;33m         \u001b[0mmodule\u001b[0m \u001b[1;33m=\u001b[0m \u001b[0m__import__\u001b[0m\u001b[1;33m(\u001b[0m\u001b[0mself\u001b[0m\u001b[1;33m.\u001b[0m\u001b[0mmodule_name\u001b[0m\u001b[1;33m,\u001b[0m \u001b[0mfromlist\u001b[0m\u001b[1;33m=\u001b[0m\u001b[1;33m[\u001b[0m\u001b[1;34m'__name__'\u001b[0m\u001b[1;33m]\u001b[0m\u001b[1;33m,\u001b[0m \u001b[0mlevel\u001b[0m\u001b[1;33m=\u001b[0m\u001b[1;36m0\u001b[0m\u001b[1;33m)\u001b[0m\u001b[1;33m\u001b[0m\u001b[1;33m\u001b[0m\u001b[0m\n\u001b[0m\u001b[0;32m   2450\u001b[0m         \u001b[1;32mtry\u001b[0m\u001b[1;33m:\u001b[0m\u001b[1;33m\u001b[0m\u001b[1;33m\u001b[0m\u001b[0m\n\u001b[0;32m   2451\u001b[0m             \u001b[1;32mreturn\u001b[0m \u001b[0mfunctools\u001b[0m\u001b[1;33m.\u001b[0m\u001b[0mreduce\u001b[0m\u001b[1;33m(\u001b[0m\u001b[0mgetattr\u001b[0m\u001b[1;33m,\u001b[0m \u001b[0mself\u001b[0m\u001b[1;33m.\u001b[0m\u001b[0mattrs\u001b[0m\u001b[1;33m,\u001b[0m \u001b[0mmodule\u001b[0m\u001b[1;33m)\u001b[0m\u001b[1;33m\u001b[0m\u001b[1;33m\u001b[0m\u001b[0m\n",
      "\u001b[1;32mc:\\python39\\lib\\site-packages\\libjpeg\\__init__.py\u001b[0m in \u001b[0;36m<module>\u001b[1;34m\u001b[0m\n\u001b[0;32m      2\u001b[0m \u001b[1;33m\u001b[0m\u001b[0m\n\u001b[0;32m      3\u001b[0m \u001b[1;32mfrom\u001b[0m \u001b[1;33m.\u001b[0m\u001b[0m_version\u001b[0m \u001b[1;32mimport\u001b[0m \u001b[0m__version__\u001b[0m\u001b[1;33m\u001b[0m\u001b[1;33m\u001b[0m\u001b[0m\n\u001b[1;32m----> 4\u001b[1;33m \u001b[1;32mfrom\u001b[0m \u001b[1;33m.\u001b[0m\u001b[0mutils\u001b[0m \u001b[1;32mimport\u001b[0m \u001b[0mdecode\u001b[0m\u001b[1;33m,\u001b[0m \u001b[0mdecode_pixel_data\u001b[0m\u001b[1;33m,\u001b[0m \u001b[0mget_parameters\u001b[0m\u001b[1;33m\u001b[0m\u001b[1;33m\u001b[0m\u001b[0m\n\u001b[0m",
      "\u001b[1;32mc:\\python39\\lib\\site-packages\\libjpeg\\utils.py\u001b[0m in \u001b[0;36m<module>\u001b[1;34m\u001b[0m\n\u001b[0;32m      7\u001b[0m \u001b[1;32mimport\u001b[0m \u001b[0mnumpy\u001b[0m \u001b[1;32mas\u001b[0m \u001b[0mnp\u001b[0m\u001b[1;33m\u001b[0m\u001b[1;33m\u001b[0m\u001b[0m\n\u001b[0;32m      8\u001b[0m \u001b[1;33m\u001b[0m\u001b[0m\n\u001b[1;32m----> 9\u001b[1;33m \u001b[1;32mimport\u001b[0m \u001b[0m_libjpeg\u001b[0m\u001b[1;33m\u001b[0m\u001b[1;33m\u001b[0m\u001b[0m\n\u001b[0m\u001b[0;32m     10\u001b[0m \u001b[1;33m\u001b[0m\u001b[0m\n\u001b[0;32m     11\u001b[0m \u001b[1;33m\u001b[0m\u001b[0m\n",
      "\u001b[1;31mModuleNotFoundError\u001b[0m: No module named '_libjpeg'"
     ]
    }
   ],
   "source": [
    "import os\n",
    "import cv2\n",
    "import glob\n",
    "import pydicom\n",
    "# import dicom\n",
    "from pydicom.pixel_data_handlers import apply_modality_lut, apply_voi_lut\n",
    "import numpy as np\n",
    "import pandas as pd"
   ]
  },
  {
   "cell_type": "code",
   "execution_count": null,
   "id": "computational-sunrise",
   "metadata": {},
   "outputs": [],
   "source": [
    "# import pydicom\n",
    "# from pydicom.pixel_data_handlers import apply_modality_lut, apply_voi_lut\n",
    "# # import pydicom"
   ]
  },
  {
   "cell_type": "code",
   "execution_count": null,
   "id": "public-split",
   "metadata": {},
   "outputs": [],
   "source": [
    "\"\"\"Helper functions\"\"\"\n",
    "def _extract_data(df_row):\n",
    "    return df_row['Anon MRN'], df_row['Anon TCIA Study Date'], df_row['Anon Exam Description'], df_row['Anon Study UID']\n",
    "\n",
    "\n",
    "def load_ricord_metadata(ricord_meta_file):\n",
    "    df = pd.read_excel(ricord_meta_file, sheet_name='CR Pos - TCIA Submission')\n",
    "    ricord_metadata = []\n",
    "    for index, row in df.iterrows():\n",
    "        ricord_metadata.append(_extract_data(row))\n",
    "    return ricord_metadata\n",
    "\n",
    "def make_ricord_dict(ricord_data_set_file):\n",
    "    \"\"\"Loads bboxes from the given text file\"\"\"\n",
    "    ricord_dict = {}\n",
    "    with open(ricord_data_set_file, 'r') as f:\n",
    "        for line in f.readlines():\n",
    "            # Values after file name are crop dimensions\n",
    "            if(len(line.split()) > 1):\n",
    "                fname, xmin, ymin, xmax, ymax = line.rstrip('\\n').split()\n",
    "                bbox = tuple(int(c) for c in (xmin, ymin, xmax, ymax))\n",
    "                ricord_dict[fname] = bbox\n",
    "            else:\n",
    "                fname = line.rstrip('\\n')\n",
    "                ricord_dict[fname] = None\n",
    "                \n",
    "    return ricord_dict"
   ]
  },
  {
   "cell_type": "code",
   "execution_count": null,
   "id": "unlike-composite",
   "metadata": {},
   "outputs": [],
   "source": [
    "\"\"\"\n",
    "RICORD data requires some preprocessing before splitting into test/train. \n",
    "Some images contain padding and some images are unusable. \n",
    "ricord_data_set.txt contains the name of usable images along with bounding box dimensions if needed. \n",
    "\n",
    "This cell crops the DICOM according to dimensions in ricord_data_set.txt and saves the image \n",
    "as png format in out_dir.\n",
    "\n",
    "DICOM_images and \"MIDRC-RICORD-1c Clinical Data Jan 13 2021 .xlsx\" need to be downloaded from\n",
    "https://wiki.cancerimagingarchive.net/pages/viewpage.action?pageId=70230281 before running this cell\n",
    "\"\"\"\n",
    "\n",
    "# ricord_dir = 'path/to/DICOM_images'\n",
    "# ricord_meta_file = 'path/to/MIDRC-RICORD-1c Clinical Data Jan 13 2021 .xlsx'\n",
    "# ricord_dir = 'G:\\\\dataset\\DICOM\\\\manifest-1610656454899\\MIDRC-RICORD-1C\\\\MIDRC-RICORD-1C-419639-000025\\05-03-2000-NA-XR CHEST 1 VIEW AP-56001\\\\1.000000-AP-79621'\n",
    "ricord_dir = \"G:\\\\dataset\\\\DICOM\\\\manifest-1610656454899\"\n",
    "ricord_meta_file = 'G:\\\\dataset\\\\DICOM\\\\MIDRC-RICORD-1c Clinical Data Jan 13 2021 .xlsx'\n",
    "\n",
    "out_dir = 'ricord_images'\n",
    "ricord_set_file = 'ricord_data_set.txt'\n",
    "\n",
    "os.makedirs(out_dir, exist_ok=True)\n",
    "\n",
    "ricord_dict = make_ricord_dict(ricord_set_file)\n",
    "\n",
    "metadata = load_ricord_metadata(ricord_meta_file)\n",
    "file_count = 0\n",
    "for mrn, date, desc, uid in metadata:\n",
    "    date = date.strftime('%m-%d-%Y')\n",
    "    uid = uid[-5:]\n",
    "    study_dir = os.path.join(ricord_dir, 'MIDRC-RICORD-1C-{}'.format(mrn), '*-{}'.format(uid))\n",
    "#     patht = study_dir + '*' + '*.dcm'\n",
    "    patht2 = os.path.join(study_dir, '*', '*.dcm')\n",
    "    newfile = glob.glob(patht2)\n",
    "    \n",
    "    dcm_files = sorted(glob.glob(os.path.join(study_dir, \"*\", \"*.dcm\")))\n",
    "    print(\"patht2\", patht2)\n",
    "    print(\"study_dir\", study_dir)\n",
    "    print(\"newfile\", newfile)\n",
    "    print(\"dcm_files\", dcm_files)\n",
    "    \n",
    "#     for infile in glob.glob(os.path.join(study_dir, '*', '*.dcm')):\n",
    "#         print(infile)\n",
    "    for i, dcm_file in enumerate(dcm_files):\n",
    "        # Create output path and check if image is to be included\n",
    "        out_fname = 'MIDRC-RICORD-1C-{}-{}-{}.png'.format(mrn, uid, i)\n",
    "        out_path = os.path.join(out_dir, out_fname)\n",
    "\n",
    "        if out_fname not in ricord_dict:\n",
    "            continue\n",
    "\n",
    "        # Load DICOM image\n",
    "        ds = pydicom.dcmread(dcm_file)\n",
    "\n",
    "        # Verify orientation\n",
    "        if ds.ViewPosition != 'AP' and ds.ViewPosition != 'PA':\n",
    "            print('Image from MRN-{} Date-{} UID-{} in position {}'.format(mrn, date, uid, ds.ViewPosition))\n",
    "            continue\n",
    "\n",
    "        # Apply transformations if required\n",
    "        if ds.pixel_array.dtype != np.uint8:\n",
    "            # Apply LUT transforms\n",
    "            arr = apply_modality_lut(ds.pixel_array, ds)\n",
    "            if arr.dtype == np.float64 and ds.RescaleSlope == 1 and ds.RescaleIntercept == 0:\n",
    "                arr = arr.astype(np.uint16)\n",
    "            arr = apply_voi_lut(arr, ds)\n",
    "            arr = arr.astype(np.float64)\n",
    "\n",
    "            # Normalize to [0, 1]\n",
    "            arr = (arr - arr.min())/arr.ptp()\n",
    "\n",
    "            # Invert MONOCHROME1 images\n",
    "            if ds.PhotometricInterpretation == 'MONOCHROME1':\n",
    "                arr = 1. - arr\n",
    "\n",
    "            # Convert to uint8\n",
    "            image = np.uint8(255.*arr)\n",
    "        else:\n",
    "            # Invert MONOCHROME1 images\n",
    "            if ds.PhotometricInterpretation == 'MONOCHROME1':\n",
    "                image = 255 - ds.pixel_array\n",
    "            else:\n",
    "                image = ds.pixel_array\n",
    "\n",
    "        # Crop if necessary\n",
    "        bbox = ricord_dict[out_fname]\n",
    "        if bbox is not None:\n",
    "            image = image[bbox[1]:bbox[3], bbox[0]:bbox[2]]\n",
    "\n",
    "        # Save image\n",
    "        cv2.imwrite(out_path, image)\n",
    "        file_count += 1\n",
    "print('Created {} files'.format(file_count))"
   ]
  },
  {
   "cell_type": "code",
   "execution_count": null,
   "id": "hawaiian-example",
   "metadata": {},
   "outputs": [],
   "source": [
    "# !pip install pillow\n",
    "# !pip install python-gdcm"
   ]
  }
 ],
 "metadata": {
  "kernelspec": {
   "display_name": "Python 3",
   "language": "python",
   "name": "python3"
  },
  "language_info": {
   "codemirror_mode": {
    "name": "ipython",
    "version": 3
   },
   "file_extension": ".py",
   "mimetype": "text/x-python",
   "name": "python",
   "nbconvert_exporter": "python",
   "pygments_lexer": "ipython3",
   "version": "3.8.1"
  }
 },
 "nbformat": 4,
 "nbformat_minor": 5
}

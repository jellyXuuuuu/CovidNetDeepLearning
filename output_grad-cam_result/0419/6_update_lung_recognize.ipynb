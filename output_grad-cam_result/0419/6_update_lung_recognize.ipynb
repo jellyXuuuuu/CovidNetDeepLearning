{
 "cells": [
  {
   "cell_type": "markdown",
   "metadata": {
    "id": "oHurGgR0I1Cj"
   },
   "source": [
    "# import"
   ]
  },
  {
   "cell_type": "code",
   "execution_count": 1,
   "metadata": {},
   "outputs": [],
   "source": [
    "# !/opt/apps/apps/binapps/anaconda3/2019.07-numpy-fix/bin/python -m pip install --user  --upgrade pip"
   ]
  },
  {
   "cell_type": "code",
   "execution_count": 2,
   "metadata": {},
   "outputs": [],
   "source": [
    "# !/opt/apps/apps/binapps/anaconda3/2019.07-numpy-fix/bin/python -m pip install --user tensorflow==1.15\n"
   ]
  },
  {
   "cell_type": "code",
   "execution_count": 3,
   "metadata": {},
   "outputs": [],
   "source": [
    "# !/opt/apps/apps/binapps/anaconda3/2019.07-numpy-fix/bin/python -m pip install --user opencv-python"
   ]
  },
  {
   "cell_type": "code",
   "execution_count": 1,
   "metadata": {
    "id": "ruR2LPB3IiGs"
   },
   "outputs": [],
   "source": [
    "from IPython.display import Image, display\n",
    "import matplotlib.pyplot as plt\n",
    "import matplotlib.cm as cm\n",
    "import cv2 as cv\n",
    "import cv2\n",
    "# from google.colab.patches import cv2_imshow\n",
    "import numpy as np\n",
    "\n",
    "import tensorflow.compat.v1 as tf\n",
    "import os, argparse\n",
    "import cv2\n",
    "import pandas as pd\n",
    "# from tqdm import tqdm\n",
    "import json"
   ]
  },
  {
   "cell_type": "markdown",
   "metadata": {
    "id": "LyhBKLDZmAgp"
   },
   "source": [
    "## Load other dataset"
   ]
  },
  {
   "cell_type": "code",
   "execution_count": 5,
   "metadata": {
    "colab": {
     "base_uri": "https://localhost:8080/"
    },
    "id": "CW12AbaKmCxB",
    "outputId": "18c3b5bb-5529-4761-e470-82c7fe9dcc05"
   },
   "outputs": [],
   "source": [
    "# covid-chestxray-dataset\n",
    "# !wget https://github.com/ieee8023/covid-chestxray-dataset/archive/refs/heads/master.zip"
   ]
  },
  {
   "cell_type": "code",
   "execution_count": 6,
   "metadata": {
    "colab": {
     "base_uri": "https://localhost:8080/"
    },
    "id": "UxMeS_3NmDFb",
    "outputId": "a1497d6e-d321-4dfe-8e8c-f9faf3e14a33"
   },
   "outputs": [],
   "source": [
    "# !unzip master.zip"
   ]
  },
  {
   "cell_type": "markdown",
   "metadata": {
    "id": "fgT4sD0jUTII"
   },
   "source": [
    "# Method"
   ]
  },
  {
   "cell_type": "markdown",
   "metadata": {
    "id": "aQAnb5UiI7mm"
   },
   "source": [
    "## prepare the model"
   ]
  },
  {
   "cell_type": "code",
   "execution_count": 2,
   "metadata": {
    "id": "OQESa9GRIwvU"
   },
   "outputs": [],
   "source": [
    "def crop_top(img, percent=0.15):\n",
    "    offset = int(img.shape[0] * percent)\n",
    "    return img[offset:]\n",
    "\n",
    "\n",
    "def central_crop(img):\n",
    "    size = min(img.shape[0], img.shape[1])\n",
    "    offset_h = int((img.shape[0] - size) / 2)\n",
    "    offset_w = int((img.shape[1] - size) / 2)\n",
    "    return img[offset_h:offset_h + size, offset_w:offset_w + size]\n",
    "\n",
    "\n",
    "def process_image_file(filepath, top_percent, size):\n",
    "    if filepath.split(\".\")[-1] == \"npy\":\n",
    "        x_arr = np.load(filepath)\n",
    "        x_arr = x_arr * 255.0 / x_arr.max()\n",
    "        img = np.stack((x_arr, x_arr, x_arr), axis=-1)\n",
    "    else:\n",
    "        img = cv2.imread(filepath)\n",
    "    \n",
    "    if img is None:\n",
    "      img = cv2.imread(\"white.png\")\n",
    "      \n",
    "\n",
    "    processed_img = crop_top(img, percent=top_percent)\n",
    "    processed_img = central_crop(processed_img)\n",
    "    processed_img = cv2.resize(processed_img, (size, size))\n",
    "    return processed_img, img\n",
    "\n",
    "\n",
    "'''/////////////////////////main_grad/////////////////////////////'''\n",
    "\n",
    "def main_grad(args_impath):\n",
    "  # # add more photo\n",
    "  # args_impath = \"./covid-chestxray-dataset-master/images/000001-1.jpg\"\n",
    "  image_tensor = graph.get_tensor_by_name(args_in_tensorname)\n",
    "  pred_tensor = sess.graph.get_tensor_by_name('dense_3/Softmax:0') # args_out_tensorname 'norm_dense_2/Softmax:0'\n",
    "  gradCam = GradCAM(graph=graph, classes = [0,1,2], outLayer=args_out_tensorname, targetLayer=final_conv_name)\n",
    "\n",
    "  grads = gradCam.compute_grads()\n",
    "  \n",
    "  x, origin_im = process_image_file(args_impath, args_top_percent, args_input_size)\n",
    "  img_arr = np.asanyarray(x)\n",
    "  size_upsample = (origin_im.shape[1],origin_im.shape[0]) # (w, h)\n",
    "\n",
    "  x = x.astype('float32') / 255.0\n",
    "  output, grads_val = sess.run([gradCam.target, grads[mapping[args_pred_class]]], feed_dict={image_tensor: np.expand_dims(x, axis=0)})\n",
    "\n",
    "\n",
    "  # x = process_image_file(IMAGE_PATH, args_input_size, top_percent=args_top_percent)\n",
    "  # x = x.astype('float32') / 255.0\n",
    "  feed_dict = {image_tensor: np.expand_dims(x, axis=0)}\n",
    "  pred = sess.run(pred_tensor, feed_dict=feed_dict)\n",
    "  print(\"pred\", pred)\n",
    "\n",
    "  print('Prediction: {}'.format(inv_mapping[pred.argmax(axis=1)[0]]))\n",
    "  print('Confidence')\n",
    "  print(' '.join('{}: {:.3f}'.format(cls.capitalize(), pred[0][i]) for cls, i in mapping.items()))\n",
    "#   print('**DISCLAIMER**')\n",
    "#   print('Do not use this prediction for self-diagnosis. You should check with your local authorities for the latest advice on seeking medical assistance.')\n",
    "\n",
    "\n",
    "  cam3 = generate_cam(output[0],grads_val[0],size_upsample)\n",
    "\n",
    "  # Overlay cam on image\n",
    "  cam3 = np.uint8(255*cam3)\n",
    "  cam3 = cv2.applyColorMap(cam3, cv2.COLORMAP_JET)\n",
    "  \n",
    "  im_name = args_impath.split(\"/\")[-1]\n",
    "  ext = im_name.split(\".\")[-1]\n",
    "\n",
    "\n",
    "  # show!!!!\n",
    "  cam3_resize = cv.resize(cam3, (224, 224))\n",
    "  \n",
    "  # cv2.imwrite(\"cam-1.png\", cam3_resize)\n",
    "  \n",
    "\n",
    "  new_im = cam3*0.3 + origin_im*0.5\n",
    "\n",
    "\n",
    "  # Save the GradCAM\n",
    "  # cv2.imwrite(\"./output/\"+os.path.join(args_outdir, \"{}_{}png\".format(args_pred_class, im_name.rstrip(ext))), new_im)\n",
    "\n",
    "  # print(\"GradCAM image is save in \", args_outdir)\n",
    "\n",
    "  # show images:\n",
    "  # imagepath = \"assets/ex-covid.jpeg\"\n",
    "  img_m = cv.imread(args_impath)\n",
    "  if img_m is None:\n",
    "    img_m = cv.imread(\"white.png\")\n",
    "    img_m = cv.resize(img_m, (224, 224))\n",
    "  else:\n",
    "    img_m = cv.resize(img_m, (224, 224))\n",
    "\n",
    "  # display(Image(imagepath))\n",
    "  # cv2_imshow(img_m)  # oringinal\n",
    "  new_im_2 = cv.resize(new_im, (224, 224))\n",
    "  # cv2_imshow(new_im_2)  # grad-cam\n",
    "\n",
    "  # cv2_imshow(cam3_resize) # grad-cam-explain\n",
    "\n",
    "  return img_m, new_im_2, cam3_resize, pred\n",
    "\n",
    "'''/////////////////////////main_grad/////////////////////////////'''\n",
    "\n",
    "'''/////////////////////////bb_iou/////////////////////////////'''\n",
    "\n",
    "def bb_intersection_over_union(boxA, boxB):\n",
    "\t# determine the (x, y)-coordinates of the intersection rectangle\n",
    "\txA = max(boxA[0], boxB[0])\n",
    "\tyA = max(boxA[1], boxB[1])\n",
    "\txB = min(boxA[2], boxB[2])\n",
    "\tyB = min(boxA[3], boxB[3])\n",
    "\t# compute the area of intersection rectangle\n",
    "\tinterArea = max(0, (xB - xA + 1)) * max(0, (yB - yA + 1))\n",
    "\t# print(\"interarea:\", interArea)\n",
    "\t# print(\"xA, yA, xB, yB:\", xA, yA, xB, yB)\n",
    "  \n",
    "\t# compute the area of both the prediction and ground-truth\n",
    "\t# rectangles\n",
    "\tboxAArea = ((boxA[2] - boxA[0] + 1) * (boxA[3] - boxA[1] + 1))\n",
    "\tboxBArea = ((boxB[2] - boxB[0] + 1) * (boxB[3] - boxB[1] + 1))\n",
    "\t# print(\"boxAArea:\", boxAArea)\n",
    "\t# print(\"boxBArea\", boxBArea)\n",
    "\n",
    "\t# compute the intersection over union by taking the intersection\n",
    "\t# area and dividing it by the sum of prediction + ground-truth\n",
    "\t# areas - the interesection area\n",
    "\tiou = interArea / float(boxAArea + boxBArea - interArea)\n",
    "\t# print(\"boxAArea + boxBArea - interArea: \", boxAArea + boxBArea - interArea)\n",
    "\t# print(\"iou: \", iou)\n",
    "  \n",
    "\t# return the intersection over union value\n",
    "\treturn iou\n",
    "\n",
    "'''/////////////////////////bb_iou/////////////////////////////'''\n",
    "\n",
    "\n",
    "\n",
    "\n",
    "\n",
    "\n",
    "class GradCAM:\n",
    "    def __init__(self, graph, classes, outLayer, targetLayer=None):\n",
    "        self.graph = graph\n",
    "        self.classes = classes\n",
    "        self.targetLayer = targetLayer\n",
    "        self.outLayer = outLayer\n",
    "\n",
    "        if self.targetLayer is None:\n",
    "            self.target = self.find_target_tensor()\n",
    "        else:\n",
    "            self.target = self.graph.get_tensor_by_name(self.targetLayer)\n",
    "\n",
    "    def find_target_tensor(self):\n",
    "        \"\"\"\n",
    "        Find the last tensor that have 4D shape if targetLayer is not specified.\n",
    "        :return:\n",
    "        \"\"\"\n",
    "        tensor_names = [t.name for op in tf.get_default_graph().get_operations() for t in op.values() if\n",
    "                   \"save\" not in str(t.name)]\n",
    "        for tensor_name in reversed(tensor_names):\n",
    "            tensor = self.graph.get_tensor_by_name(tensor_name)\n",
    "            if len(tensor.shape) == 4:\n",
    "                return tensor\n",
    "\n",
    "        raise ValueError(\"Could not find 4D layer. Cannot apply GradCAM\")\n",
    "\n",
    "    def compute_grads(self):\n",
    "        results = {} # grads of classes with keys being classes and values being normalized gradients\n",
    "        for classIdx in self.classes:\n",
    "            one_hot = tf.sparse_to_dense(classIdx, [len(self.classes)], 1.0)\n",
    "            signal = tf.multiply(self.graph.get_tensor_by_name(self.outLayer),one_hot)\n",
    "            loss = tf.reduce_mean(signal)\n",
    "\n",
    "            grads = tf.gradients(loss, self.target)[0]\n",
    "\n",
    "            norm_grads = tf.div(grads, tf.sqrt(tf.reduce_mean(tf.square(grads)))+tf.constant(1e-5))\n",
    "\n",
    "            results[classIdx] = norm_grads\n",
    "\n",
    "        return results\n",
    "\n",
    "\n",
    "def generate_cam(conv_layer_out, grads_val, upsample_size):\n",
    "    weights = np.mean(grads_val, axis=(0,1))\n",
    "    cam = np.zeros(conv_layer_out.shape[0:2], dtype=np.float32)\n",
    "\n",
    "    # Weight averaginng\n",
    "    for i, w in enumerate(weights):\n",
    "        cam += w*conv_layer_out[:,:,i]\n",
    "\n",
    "    # Apply reLU\n",
    "    cam = np.maximum(cam, 0)\n",
    "    cam = cam/np.max(cam)\n",
    "    cam = cv2.resize(cam, upsample_size)\n",
    "\n",
    "    # Convert to 3D\n",
    "    cam3 = np.expand_dims(cam, axis=2)\n",
    "    cam3 = np.tile(cam3,[1,1,3])\n",
    "\n",
    "    return cam3\n",
    "\n",
    "\n",
    "\n"
   ]
  },
  {
   "cell_type": "markdown",
   "metadata": {
    "id": "LgZOz4h4UchI"
   },
   "source": [
    "## Prepare 10/30 images"
   ]
  },
  {
   "cell_type": "code",
   "execution_count": 3,
   "metadata": {
    "id": "ix20LrhpV7vP"
   },
   "outputs": [],
   "source": [
    "# img_num_set = [29, 51, 73, 75, 100, 125, 179, 202, 251, 257]\n",
    "# '''\n",
    "# img_num_set = [29, 51, 73, 75, 100, 125, 179, 202, 251, 257,\n",
    "#                 288, 297, 325, 361, 369, 480, 498, 509, 524, 642,\n",
    "#                659, 720, 757, 763, 823, 845, 881, 890, 919, 942]\n",
    "img_num_set = [51, 179,\n",
    "                297, 361, 480, \n",
    "               659, 720, 823, 919, 942]\n",
    "# '''\n",
    "# 53: radiopaedia_org_covid-19-pneumonia-7_85703_0-dcm.nii.gz unknown\n",
    "# 243: radiopaedia_org_covid-19-pneumonia-10_85902_3-dcm.nii.gz unknown\n",
    "# 178: no pattern recognized\n",
    "# 478: 8da14fff.jpg(line480): no pattern recognized\n",
    "# 479: 1052b0fe.jpg: no pattern recognized\n",
    "# 514: 000002-11-a.jpg(line516)\n",
    "# 516: 000001-3.png\n",
    "# 836: 0ac7580d.jpg\n",
    "# 877: 006f3a8a.jpg\n",
    "# 913: 3e9d9c9b02b9bcd81c851134667e76_jumbo.jpg\n",
    "# 921: 49eca411aa2d4ccd73df21a209a551_jumbo.jpeg"
   ]
  },
  {
   "cell_type": "code",
   "execution_count": 4,
   "metadata": {
    "colab": {
     "base_uri": "https://localhost:8080/"
    },
    "id": "bHIXYCVia5aW",
    "outputId": "5e4cf82e-75a5-42cb-8714-faf62f113961"
   },
   "outputs": [
    {
     "name": "stdout",
     "output_type": "stream",
     "text": [
      "    patientid  offset  sex   age                         finding  \\\n",
      "0           2     0.0    M  65.0        Pneumonia/Viral/COVID-19   \n",
      "1           2     3.0    M  65.0        Pneumonia/Viral/COVID-19   \n",
      "2           2     5.0    M  65.0        Pneumonia/Viral/COVID-19   \n",
      "3           2     6.0    M  65.0        Pneumonia/Viral/COVID-19   \n",
      "4           4     0.0    F  52.0        Pneumonia/Viral/COVID-19   \n",
      "5           4     5.0    F  52.0        Pneumonia/Viral/COVID-19   \n",
      "6           5     NaN  NaN   NaN                       Pneumonia   \n",
      "7           6     0.0  NaN   NaN        Pneumonia/Viral/COVID-19   \n",
      "8           6     4.0  NaN   NaN        Pneumonia/Viral/COVID-19   \n",
      "9           3     4.0    M  74.0            Pneumonia/Viral/SARS   \n",
      "10          3     9.0    M  74.0            Pneumonia/Viral/SARS   \n",
      "11          3    10.0    M  74.0            Pneumonia/Viral/SARS   \n",
      "12          7     7.0    F  29.0            Pneumonia/Viral/SARS   \n",
      "13          7    12.0    F  29.0            Pneumonia/Viral/SARS   \n",
      "14          8     9.0    F  42.0            Pneumonia/Viral/SARS   \n",
      "15          9     5.0    F  46.0            Pneumonia/Viral/SARS   \n",
      "16          9    17.0    F  46.0            Pneumonia/Viral/SARS   \n",
      "17         10    19.0    F  73.0            Pneumonia/Viral/SARS   \n",
      "18         10    27.0    F  73.0            Pneumonia/Viral/SARS   \n",
      "19         10    35.0    F  73.0            Pneumonia/Viral/SARS   \n",
      "20         11     0.0    M  56.0        Pneumonia/Viral/COVID-19   \n",
      "21         12     7.0    M  42.0        Pneumonia/Viral/COVID-19   \n",
      "22         13     4.0    M  35.0        Pneumonia/Viral/COVID-19   \n",
      "23         13     4.0    M  35.0        Pneumonia/Viral/COVID-19   \n",
      "24         13     7.0    M  35.0        Pneumonia/Viral/COVID-19   \n",
      "25         13     7.0    M  35.0        Pneumonia/Viral/COVID-19   \n",
      "26         13     9.0    M  35.0        Pneumonia/Viral/COVID-19   \n",
      "27         13    10.0    M  35.0        Pneumonia/Viral/COVID-19   \n",
      "28         13    10.0    M  35.0        Pneumonia/Viral/COVID-19   \n",
      "29         14     0.0    F   NaN        Pneumonia/Viral/COVID-19   \n",
      "..        ...     ...  ...   ...                             ...   \n",
      "920       466     NaN    F  70.0                       Pneumonia   \n",
      "921       466     NaN    F  70.0                       Pneumonia   \n",
      "922       467     NaN    M  60.0                       Pneumonia   \n",
      "923       467     NaN    M  60.0                       Pneumonia   \n",
      "924       468     NaN    F  50.0                       Pneumonia   \n",
      "925       468     NaN    F  50.0                       Pneumonia   \n",
      "926       469     NaN    F  25.0                       Pneumonia   \n",
      "927       469     NaN    F  25.0                       Pneumonia   \n",
      "928       470     NaN    M  55.0                       Pneumonia   \n",
      "929       470     NaN    M  55.0                       Pneumonia   \n",
      "930       471     0.0    M  20.0        Pneumonia/Viral/COVID-19   \n",
      "931       471    30.0    M  20.0        Pneumonia/Viral/COVID-19   \n",
      "932       471    51.0    M  20.0        Pneumonia/Viral/COVID-19   \n",
      "933       471    72.0    M  20.0        Pneumonia/Viral/COVID-19   \n",
      "934       472     7.0    M  47.0        Pneumonia/Viral/COVID-19   \n",
      "935       473     7.0    M  71.0        Pneumonia/Viral/COVID-19   \n",
      "936       474     NaN    M  55.0        Pneumonia/Viral/COVID-19   \n",
      "937       475     0.0    M  50.0        Pneumonia/Viral/COVID-19   \n",
      "938       475     2.0    M  50.0        Pneumonia/Viral/COVID-19   \n",
      "939       476     3.0    M  25.0        Pneumonia/Viral/COVID-19   \n",
      "940       476     3.0    M  25.0        Pneumonia/Viral/COVID-19   \n",
      "941       477     7.0    F  60.0  Pneumonia/Bacterial/Legionella   \n",
      "942       477     NaN    F  60.0  Pneumonia/Bacterial/Legionella   \n",
      "943       478     NaN    F  75.0                      No Finding   \n",
      "944       478     NaN    F  75.0                       Pneumonia   \n",
      "945       479     0.0    F  40.0                       Pneumonia   \n",
      "946       479    70.0    F  40.0                       Pneumonia   \n",
      "947       480     NaN    M  26.0                       Pneumonia   \n",
      "948       481     NaN    M  50.0                       Pneumonia   \n",
      "949       481     NaN    M  50.0                       Pneumonia   \n",
      "\n",
      "    RT_PCR_positive survival intubated intubation_present went_icu  ...  \\\n",
      "0                 Y        Y         N                  N        N  ...   \n",
      "1                 Y        Y         N                  N        N  ...   \n",
      "2                 Y        Y         N                  N        N  ...   \n",
      "3                 Y        Y         N                  N        N  ...   \n",
      "4                 Y      NaN         N                  N        N  ...   \n",
      "5                 Y      NaN         N                  N        N  ...   \n",
      "6               NaN      NaN         Y                  Y        Y  ...   \n",
      "7                 Y      NaN         Y                  Y        Y  ...   \n",
      "8                 Y      NaN         Y                  Y        Y  ...   \n",
      "9               NaN        N       NaN                NaN      NaN  ...   \n",
      "10              NaN        N       NaN                NaN      NaN  ...   \n",
      "11              NaN        N       NaN                NaN      NaN  ...   \n",
      "12              NaN        Y       NaN                NaN      NaN  ...   \n",
      "13              NaN        Y       NaN                NaN      NaN  ...   \n",
      "14              NaN      NaN       NaN                NaN      NaN  ...   \n",
      "15              NaN      NaN       NaN                NaN      NaN  ...   \n",
      "16              NaN      NaN       NaN                NaN      NaN  ...   \n",
      "17              NaN        N       NaN                NaN      NaN  ...   \n",
      "18              NaN        N       NaN                NaN      NaN  ...   \n",
      "19              NaN        N       NaN                NaN      NaN  ...   \n",
      "20                Y        Y       NaN                NaN      NaN  ...   \n",
      "21                Y        Y       NaN                NaN      NaN  ...   \n",
      "22                Y        Y         N                  N        N  ...   \n",
      "23                Y        Y         N                  N        N  ...   \n",
      "24                Y        Y         N                  N        N  ...   \n",
      "25                Y        Y         N                  N        N  ...   \n",
      "26                Y        Y         N                  N        N  ...   \n",
      "27                Y        Y         N                  N        N  ...   \n",
      "28                Y        Y         N                  N        N  ...   \n",
      "29                Y      NaN       NaN                NaN      NaN  ...   \n",
      "..              ...      ...       ...                ...      ...  ...   \n",
      "920             NaN      NaN       NaN                NaN      NaN  ...   \n",
      "921             NaN      NaN       NaN                NaN      NaN  ...   \n",
      "922             NaN      NaN       NaN                NaN      NaN  ...   \n",
      "923             NaN      NaN       NaN                NaN      NaN  ...   \n",
      "924             NaN      NaN       NaN                NaN      NaN  ...   \n",
      "925             NaN      NaN       NaN                NaN      NaN  ...   \n",
      "926             NaN      NaN       NaN                NaN      NaN  ...   \n",
      "927             NaN      NaN       NaN                NaN      NaN  ...   \n",
      "928             NaN      NaN       NaN                NaN      NaN  ...   \n",
      "929             NaN      NaN       NaN                NaN      NaN  ...   \n",
      "930               Y      NaN       NaN                NaN      NaN  ...   \n",
      "931               Y      NaN       NaN                NaN      NaN  ...   \n",
      "932               Y      NaN       NaN                NaN      NaN  ...   \n",
      "933               Y      NaN       NaN                NaN      NaN  ...   \n",
      "934               Y        Y         N                  N        N  ...   \n",
      "935               Y      NaN       NaN                NaN      NaN  ...   \n",
      "936         Unclear      NaN       NaN                NaN      NaN  ...   \n",
      "937               Y      NaN         N                  N        Y  ...   \n",
      "938               Y      NaN         N                  N        Y  ...   \n",
      "939               Y        Y       NaN                NaN      NaN  ...   \n",
      "940               Y        Y       NaN                NaN      NaN  ...   \n",
      "941             NaN      NaN         Y                NaN        Y  ...   \n",
      "942             NaN      NaN         Y                  Y        Y  ...   \n",
      "943             NaN      NaN       NaN                NaN      NaN  ...   \n",
      "944             NaN      NaN       NaN                NaN      NaN  ...   \n",
      "945             NaN      NaN       NaN                NaN      NaN  ...   \n",
      "946             NaN      NaN       NaN                NaN      NaN  ...   \n",
      "947             NaN      NaN       NaN                NaN      NaN  ...   \n",
      "948             NaN      NaN       NaN                NaN      NaN  ...   \n",
      "949             NaN      NaN       NaN                NaN      NaN  ...   \n",
      "\n",
      "                 date                                           location  \\\n",
      "0    January 22, 2020        Cho Ray Hospital, Ho Chi Minh City, Vietnam   \n",
      "1    January 25, 2020        Cho Ray Hospital, Ho Chi Minh City, Vietnam   \n",
      "2    January 27, 2020        Cho Ray Hospital, Ho Chi Minh City, Vietnam   \n",
      "3    January 28, 2020        Cho Ray Hospital, Ho Chi Minh City, Vietnam   \n",
      "4    January 25, 2020  Changhua Christian Hospital, Changhua City, Ta...   \n",
      "5    January 30, 2020  Changhua Christian Hospital, Changhua City, Ta...   \n",
      "6                2017                                                NaN   \n",
      "7     January 6, 2020  Wuhan Jinyintan Hospital, Wuhan, Hubei Provinc...   \n",
      "8    January 10, 2020  Wuhan Jinyintan Hospital, Wuhan, Hubei Provinc...   \n",
      "9                2004     Mount Sinai Hospital, Toronto, Ontario, Canada   \n",
      "10               2004     Mount Sinai Hospital, Toronto, Ontario, Canada   \n",
      "11               2004     Mount Sinai Hospital, Toronto, Ontario, Canada   \n",
      "12               2004     Mount Sinai Hospital, Toronto, Ontario, Canada   \n",
      "13               2004     Mount Sinai Hospital, Toronto, Ontario, Canada   \n",
      "14               2004     Mount Sinai Hospital, Toronto, Ontario, Canada   \n",
      "15               2004     Mount Sinai Hospital, Toronto, Ontario, Canada   \n",
      "16               2004     Mount Sinai Hospital, Toronto, Ontario, Canada   \n",
      "17               2004     Mount Sinai Hospital, Toronto, Ontario, Canada   \n",
      "18               2004     Mount Sinai Hospital, Toronto, Ontario, Canada   \n",
      "19               2004     Mount Sinai Hospital, Toronto, Ontario, Canada   \n",
      "20               2020  Sunnybrook Health Sciences Centre, Toronto, On...   \n",
      "21    January 1, 2020  Tongji Medical College, Wuhan, Hubei Province,...   \n",
      "22   January 19, 2020        Snohomish County, Washington, United States   \n",
      "23   January 19, 2020        Snohomish County, Washington, United States   \n",
      "24   January 22, 2020        Snohomish County, Washington, United States   \n",
      "25   January 22, 2020        Snohomish County, Washington, United States   \n",
      "26   January 24, 2020        Snohomish County, Washington, United States   \n",
      "27   January 26, 2020        Snohomish County, Washington, United States   \n",
      "28   January 26, 2020        Snohomish County, Washington, United States   \n",
      "29               2020                                          Hong Kong   \n",
      "..                ...                                                ...   \n",
      "920               NaN                               Melbourne, Australia   \n",
      "921               NaN                               Melbourne, Australia   \n",
      "922               NaN                                            Hungary   \n",
      "923               NaN                                            Hungary   \n",
      "924               NaN                                Adelaide, Australia   \n",
      "925               NaN                                Adelaide, Australia   \n",
      "926               NaN                                    Calgary, Canada   \n",
      "927               NaN                                    Calgary, Canada   \n",
      "928               NaN                               Melbourne, Australia   \n",
      "929               NaN                               Melbourne, Australia   \n",
      "930              2020                                     United Kingdom   \n",
      "931              2020                                     United Kingdom   \n",
      "932              2020                                     United Kingdom   \n",
      "933              2020                                     United Kingdom   \n",
      "934              2020                          California, United States   \n",
      "935              2020                          California, United States   \n",
      "936              2020                              Al Hasa, Saudi Arabia   \n",
      "937              2020                          California, United States   \n",
      "938              2020                          California, United States   \n",
      "939              2020  Hospital Universitario Severo Ochoa, Madrid, S...   \n",
      "940              2020  Hospital Universitario Severo Ochoa, Madrid, S...   \n",
      "941               NaN                                     United Kingdom   \n",
      "942               NaN                                     United Kingdom   \n",
      "943               NaN                                            Hungary   \n",
      "944               NaN                                            Hungary   \n",
      "945               NaN                                     United Kingdom   \n",
      "946               NaN                                     United Kingdom   \n",
      "947               NaN                                                NaN   \n",
      "948               NaN                                                NaN   \n",
      "949               NaN                                                NaN   \n",
      "\n",
      "     folder                                           filename  \\\n",
      "0    images  auntminnie-a-2020_01_28_23_51_6665_2020_01_28_...   \n",
      "1    images  auntminnie-b-2020_01_28_23_51_6665_2020_01_28_...   \n",
      "2    images  auntminnie-c-2020_01_28_23_51_6665_2020_01_28_...   \n",
      "3    images  auntminnie-d-2020_01_28_23_51_6665_2020_01_28_...   \n",
      "4    images                              nejmc2001573_f1a.jpeg   \n",
      "5    images                              nejmc2001573_f1b.jpeg   \n",
      "6    images                                     ARDSSevere.png   \n",
      "7    images                                  lancet-case2a.jpg   \n",
      "8    images                                  lancet-case2b.jpg   \n",
      "9    images  SARS-10.1148rg.242035193-g04mr34g0-Fig8a-day0....   \n",
      "10   images  SARS-10.1148rg.242035193-g04mr34g0-Fig8b-day5....   \n",
      "11   images  SARS-10.1148rg.242035193-g04mr34g0-Fig8c-day10...   \n",
      "12   images  SARS-10.1148rg.242035193-g04mr34g04a-Fig4a-day...   \n",
      "13   images  SARS-10.1148rg.242035193-g04mr34g04b-Fig4b-day...   \n",
      "14   images  SARS-10.1148rg.242035193-g04mr34g05x-Fig5-day9...   \n",
      "15   images  SARS-10.1148rg.242035193-g04mr34g07a-Fig7a-day...   \n",
      "16   images  SARS-10.1148rg.242035193-g04mr34g07b-Fig7b-day...   \n",
      "17   images  SARS-10.1148rg.242035193-g04mr34g09a-Fig9a-day...   \n",
      "18   images  SARS-10.1148rg.242035193-g04mr34g09b-Fig9b-day...   \n",
      "19   images  SARS-10.1148rg.242035193-g04mr34g09c-Fig9c-day...   \n",
      "20   images               1-s2.0-S0140673620303706-fx1_lrg.jpg   \n",
      "21   images              nCoV-radiol.2020200269.fig1-day7.jpeg   \n",
      "22   images                           nejmoa2001191_f1-PA.jpeg   \n",
      "23   images                            nejmoa2001191_f1-L.jpeg   \n",
      "24   images                           nejmoa2001191_f3-PA.jpeg   \n",
      "25   images                            nejmoa2001191_f3-L.jpeg   \n",
      "26   images                              nejmoa2001191_f4.jpeg   \n",
      "27   images                           nejmoa2001191_f5-PA.jpeg   \n",
      "28   images                            nejmoa2001191_f5-L.jpeg   \n",
      "29   images                          ryct.2020200034.fig2.jpeg   \n",
      "..      ...                                                ...   \n",
      "920  images          1538fbfe9d0872739b00f5a51e4fdc_jumbo.jpeg   \n",
      "921  images          49eca411aa2d4ccd73df21a209a551_jumbo.jpeg   \n",
      "922  images          7a7044c64a87936f09fee9a7f5c5fa_jumbo.jpeg   \n",
      "923  images          2b4425e4afe32fa5e047fcac58f8e9_jumbo.jpeg   \n",
      "924  images           4e74cbafeab0bfd317a93e1aace6cf_jumbo.jpg   \n",
      "925  images           e0e3a6526a3fecadfca2be13242798_jumbo.jpg   \n",
      "926  images          2264f643b18b1010ec10a850f17550_jumbo.jpeg   \n",
      "927  images          800f798a58d0cbcc72eb234f192461_jumbo.jpeg   \n",
      "928  images           55f5189d2c23688ac8dc1d58eb65cf_jumbo.jpg   \n",
      "929  images           d2cdf41a662113279d2ec21af3a4e2_jumbo.jpg   \n",
      "930  images                                      16953_1_1.jpg   \n",
      "931  images                                      16953_3_1.jpg   \n",
      "932  images                                      16953_4_1.jpg   \n",
      "933  images                                      16953_5_1.jpg   \n",
      "934  images                                      16892_2_1.png   \n",
      "935  images                                      16883_1_1.png   \n",
      "936  images          2edb88df42cab5e5fbc18b3965e0bd_jumbo.jpeg   \n",
      "937  images                                      16858_1_1.png   \n",
      "938  images                                      16858_3_1.png   \n",
      "939  images                                      16865_1_1.jpg   \n",
      "940  images                                      16865_1_2.jpg   \n",
      "941  images       bdc40f9ad2395d88c92479089f5d1b_jumbo-10.jpeg   \n",
      "942  images       15d081345df9ca620ebe5e76023775_jumbo-10.jpeg   \n",
      "943  images       02b973e10caa192fd4e6825ad4aeaf_jumbo-10.jpeg   \n",
      "944  images       d2c8a74b37d8d1581ea2a8fe865ef3_jumbo-10.jpeg   \n",
      "945  images        072ecaf8c60a81980abb57150a8016_jumbo-9.jpeg   \n",
      "946  images        ff33c406392b968d483174c97eb857_jumbo-9.jpeg   \n",
      "947  images                                     000001-266.jpg   \n",
      "948  images                                     000001-272.jpg   \n",
      "949  images                                     000002-268.jpg   \n",
      "\n",
      "                               doi  \\\n",
      "0             10.1056/nejmc2001272   \n",
      "1             10.1056/nejmc2001272   \n",
      "2             10.1056/nejmc2001272   \n",
      "3             10.1056/nejmc2001272   \n",
      "4             10.1056/NEJMc2001573   \n",
      "5             10.1056/NEJMc2001573   \n",
      "6                              NaN   \n",
      "7    10.1016/S0140-6736(20)30211-7   \n",
      "8    10.1016/S0140-6736(20)30211-7   \n",
      "9             10.1148/rg.242035193   \n",
      "10            10.1148/rg.242035193   \n",
      "11            10.1148/rg.242035193   \n",
      "12            10.1148/rg.242035193   \n",
      "13            10.1148/rg.242035193   \n",
      "14            10.1148/rg.242035193   \n",
      "15            10.1148/rg.242035193   \n",
      "16            10.1148/rg.242035193   \n",
      "17            10.1148/rg.242035193   \n",
      "18            10.1148/rg.242035193   \n",
      "19            10.1148/rg.242035193   \n",
      "20   10.1016/S0140-6736(20)30370-6   \n",
      "21       10.1148/radiol.2020200269   \n",
      "22           10.1056/NEJMoa2001191   \n",
      "23           10.1056/NEJMoa2001191   \n",
      "24           10.1056/NEJMoa2001191   \n",
      "25           10.1056/NEJMoa2001191   \n",
      "26           10.1056/NEJMoa2001191   \n",
      "27           10.1056/NEJMoa2001191   \n",
      "28           10.1056/NEJMoa2001191   \n",
      "29         10.1148/ryct.2020200034   \n",
      "..                             ...   \n",
      "920                            NaN   \n",
      "921                            NaN   \n",
      "922                            NaN   \n",
      "923                            NaN   \n",
      "924                            NaN   \n",
      "925                            NaN   \n",
      "926                            NaN   \n",
      "927                            NaN   \n",
      "928                            NaN   \n",
      "929                            NaN   \n",
      "930                            NaN   \n",
      "931                            NaN   \n",
      "932                            NaN   \n",
      "933                            NaN   \n",
      "934                            NaN   \n",
      "935                            NaN   \n",
      "936                            NaN   \n",
      "937                            NaN   \n",
      "938                            NaN   \n",
      "939                            NaN   \n",
      "940                            NaN   \n",
      "941                            NaN   \n",
      "942                            NaN   \n",
      "943                            NaN   \n",
      "944                            NaN   \n",
      "945                            NaN   \n",
      "946                            NaN   \n",
      "947                            NaN   \n",
      "948                            NaN   \n",
      "949                            NaN   \n",
      "\n",
      "                                                   url          license  \\\n",
      "0    https://www.nejm.org/doi/full/10.1056/NEJMc200...              NaN   \n",
      "1    https://www.nejm.org/doi/full/10.1056/NEJMc200...              NaN   \n",
      "2    https://www.nejm.org/doi/full/10.1056/NEJMc200...              NaN   \n",
      "3    https://www.nejm.org/doi/full/10.1056/NEJMc200...              NaN   \n",
      "4    https://www.nejm.org/doi/full/10.1056/NEJMc200...              NaN   \n",
      "5    https://www.nejm.org/doi/full/10.1056/NEJMc200...              NaN   \n",
      "6    https://en.wikipedia.org/wiki/File:ARDSSevere.png         CC BY-SA   \n",
      "7    https://www.thelancet.com/journals/lancet/arti...              NaN   \n",
      "8    https://www.thelancet.com/journals/lancet/arti...              NaN   \n",
      "9       https://pubs.rsna.org/doi/10.1148/rg.242035193              NaN   \n",
      "10      https://pubs.rsna.org/doi/10.1148/rg.242035193              NaN   \n",
      "11      https://pubs.rsna.org/doi/10.1148/rg.242035193              NaN   \n",
      "12      https://pubs.rsna.org/doi/10.1148/rg.242035193              NaN   \n",
      "13      https://pubs.rsna.org/doi/10.1148/rg.242035193              NaN   \n",
      "14      https://pubs.rsna.org/doi/10.1148/rg.242035193              NaN   \n",
      "15      https://pubs.rsna.org/doi/10.1148/rg.242035193              NaN   \n",
      "16      https://pubs.rsna.org/doi/10.1148/rg.242035193              NaN   \n",
      "17      https://pubs.rsna.org/doi/10.1148/rg.242035193              NaN   \n",
      "18      https://pubs.rsna.org/doi/10.1148/rg.242035193              NaN   \n",
      "19      https://pubs.rsna.org/doi/10.1148/rg.242035193              NaN   \n",
      "20   https://www.sciencedirect.com/science/article/...              NaN   \n",
      "21   https://pubs.rsna.org/doi/10.1148/radiol.20202...              NaN   \n",
      "22   https://www.nejm.org/doi/full/10.1056/NEJMoa20...              NaN   \n",
      "23   https://www.nejm.org/doi/full/10.1056/NEJMoa20...              NaN   \n",
      "24   https://www.nejm.org/doi/full/10.1056/NEJMoa20...              NaN   \n",
      "25   https://www.nejm.org/doi/full/10.1056/NEJMoa20...              NaN   \n",
      "26   https://www.nejm.org/doi/full/10.1056/NEJMoa20...              NaN   \n",
      "27   https://www.nejm.org/doi/full/10.1056/NEJMoa20...              NaN   \n",
      "28   https://www.nejm.org/doi/full/10.1056/NEJMoa20...              NaN   \n",
      "29   https://pubs.rsna.org/doi/full/10.1148/ryct.20...              NaN   \n",
      "..                                                 ...              ...   \n",
      "920  https://radiopaedia.org/cases/right-middle-lob...      CC BY-NC-SA   \n",
      "921  https://radiopaedia.org/cases/right-middle-lob...      CC BY-NC-SA   \n",
      "922  https://radiopaedia.org/cases/right-middle-lob...      CC BY-NC-SA   \n",
      "923  https://radiopaedia.org/cases/right-middle-lob...      CC BY-NC-SA   \n",
      "924  https://radiopaedia.org/cases/left-lower-lobe-...      CC BY-NC-SA   \n",
      "925  https://radiopaedia.org/cases/left-lower-lobe-...      CC BY-NC-SA   \n",
      "926  https://radiopaedia.org/cases/silhouette-sign-...      CC BY-NC-SA   \n",
      "927  https://radiopaedia.org/cases/silhouette-sign-...      CC BY-NC-SA   \n",
      "928  https://radiopaedia.org/cases/left-lower-lobe-...      CC BY-NC-SA   \n",
      "929  https://radiopaedia.org/cases/left-lower-lobe-...      CC BY-NC-SA   \n",
      "930                 https://www.eurorad.org/case/16953  CC BY-NC-SA 4.0   \n",
      "931                 https://www.eurorad.org/case/16953  CC BY-NC-SA 4.0   \n",
      "932                 https://www.eurorad.org/case/16953  CC BY-NC-SA 4.0   \n",
      "933                 https://www.eurorad.org/case/16953  CC BY-NC-SA 4.0   \n",
      "934                 https://www.eurorad.org/case/16892  CC BY-NC-SA 4.0   \n",
      "935                 https://www.eurorad.org/case/16883  CC BY-NC-SA 4.0   \n",
      "936  https://radiopaedia.org/cases/covid-19-pneumon...      CC BY-NC-SA   \n",
      "937                 https://www.eurorad.org/case/16858  CC BY-NC-SA 4.0   \n",
      "938                 https://www.eurorad.org/case/16858  CC BY-NC-SA 4.0   \n",
      "939                 https://www.eurorad.org/case/16865  CC BY-NC-SA 4.0   \n",
      "940                 https://www.eurorad.org/case/16865  CC BY-NC-SA 4.0   \n",
      "941  https://radiopaedia.org/cases/legionella-pneum...      CC BY-NC-SA   \n",
      "942  https://radiopaedia.org/cases/legionella-pneum...      CC BY-NC-SA   \n",
      "943  https://radiopaedia.org/cases/right-middle-lob...      CC BY-NC-SA   \n",
      "944  https://radiopaedia.org/cases/right-middle-lob...      CC BY-NC-SA   \n",
      "945  https://radiopaedia.org/cases/multifocal-round...      CC BY-NC-SA   \n",
      "946  https://radiopaedia.org/cases/multifocal-round...      CC BY-NC-SA   \n",
      "947                   https://www.eurorad.org/case/947  CC BY-NC-SA 4.0   \n",
      "948                   https://www.eurorad.org/case/934  CC BY-NC-SA 4.0   \n",
      "949                   https://www.eurorad.org/case/934  CC BY-NC-SA 4.0   \n",
      "\n",
      "                                        clinical_notes  \\\n",
      "0    On January 22, 2020, a 65-year-old man with a ...   \n",
      "1    On January 22, 2020, a 65-year-old man with a ...   \n",
      "2    On January 22, 2020, a 65-year-old man with a ...   \n",
      "3    On January 22, 2020, a 65-year-old man with a ...   \n",
      "4     diffuse infiltrates in the bilateral lower lungs   \n",
      "5    progressive diffuse interstitial opacities and...   \n",
      "6    Severe ARDS. Person is intubated with an OG in...   \n",
      "7    Case 2: chest x-ray obtained on Jan 6 (2A). Th...   \n",
      "8    Case 2: chest x-ray obtained on Jan 6 (2A). Th...   \n",
      "9    SARS in a 74-year-old man who developed sympto...   \n",
      "10   SARS in a 74-year-old man who developed sympto...   \n",
      "11   SARS in a 74-year-old man who developed sympto...   \n",
      "12   SARS in a 29-year-old woman who presented 7 da...   \n",
      "13   SARS in a 29-year-old woman who presented 7 da...   \n",
      "14   SARS in a 42-year-old woman who presented 9 da...   \n",
      "15   SARS in a 46-year-old woman who presented 5 da...   \n",
      "16   SARS in a 46-year-old woman who presented 5 da...   \n",
      "17   SARS in a 73-year-old woman who presented 17 d...   \n",
      "18   SARS in a 73-year-old woman who presented 17 d...   \n",
      "19   SARS in a 73-year-old woman who presented 17 d...   \n",
      "20   A 56-year-old man presented to our Emergency D...   \n",
      "21   On January 1, 2020, a 42-year-old man was admi...   \n",
      "22   On January 19, 2020, a 35-year-old man present...   \n",
      "23   On January 19, 2020, a 35-year-old man present...   \n",
      "24   On January 19, 2020, a 35-year-old man present...   \n",
      "25   On January 19, 2020, a 35-year-old man present...   \n",
      "26   On January 19, 2020, a 35-year-old man present...   \n",
      "27   On January 19, 2020, a 35-year-old man present...   \n",
      "28   On January 19, 2020, a 35-year-old man present...   \n",
      "29                                                 NaN   \n",
      "..                                                 ...   \n",
      "920  Fevers, cough, dyspnea. Mild cardiomegaly. Rig...   \n",
      "921  Fevers, cough, dyspnea. Mild cardiomegaly. Rig...   \n",
      "922  Fever and dyspnea. Raised serum inflammatory m...   \n",
      "923  Fever and dyspnea. Raised serum inflammatory m...   \n",
      "924  Shortness of breath, fever and rigors Opacity ...   \n",
      "925  Shortness of breath, fever and rigors Opacity ...   \n",
      "926  A young woman is sent with a diagnosis of pneu...   \n",
      "927  A young woman is sent with a diagnosis of pneu...   \n",
      "928  Productive cough and fever Region of consolida...   \n",
      "929  Productive cough and fever Region of consolida...   \n",
      "930  A 20-year-old male with a history of asthma pr...   \n",
      "931  A 20-year-old male with a history of asthma pr...   \n",
      "932  A 20-year-old male with a history of asthma pr...   \n",
      "933  A 20-year-old male with a history of asthma pr...   \n",
      "934  A previously healthy 47-year-old male presente...   \n",
      "935  A 71-year-old male with no known past medical ...   \n",
      "936  Fever, abdominal pain and diarrhea. No cough o...   \n",
      "937  A 50-year-old male with recent positive corona...   \n",
      "938  A 50-year-old male with recent positive corona...   \n",
      "939  A 25 year-old male resident presented with a 7...   \n",
      "940  A 25 year-old male resident presented with a 7...   \n",
      "941  Unwell. Low saturations. Pyrexic. Tachypneic, ...   \n",
      "942  Unwell. Low saturations. Pyrexic. Tachypneic, ...   \n",
      "943  Decreased SpO2, elevated CRP and WBC, diffuse ...   \n",
      "944  Decreased SpO2, elevated CRP and WBC, diffuse ...   \n",
      "945  Asthmatic. Shortness of breath and wheeze. Rou...   \n",
      "946  Asthmatic. Shortness of breath and wheeze. The...   \n",
      "947  fire-eater accidentally ingested a paraffin mi...   \n",
      "948  The patient, a heavy smoker, was referred to t...   \n",
      "949  The patient, a heavy smoker, was referred to t...   \n",
      "\n",
      "                                           other_notes Unnamed: 29  \n",
      "0                                                  NaN         NaN  \n",
      "1                                                  NaN         NaN  \n",
      "2                                                  NaN         NaN  \n",
      "3                                                  NaN         NaN  \n",
      "4                                                  NaN         NaN  \n",
      "5                                                  NaN         NaN  \n",
      "6                                                  NaN         NaN  \n",
      "7                                                  NaN         NaN  \n",
      "8                                                  NaN         NaN  \n",
      "9                                                  NaN         NaN  \n",
      "10                                                 NaN         NaN  \n",
      "11                                                 NaN         NaN  \n",
      "12                                                 NaN         NaN  \n",
      "13                                                 NaN         NaN  \n",
      "14                                                 NaN         NaN  \n",
      "15                                                 NaN         NaN  \n",
      "16                                                 NaN         NaN  \n",
      "17                                                 NaN         NaN  \n",
      "18                                                 NaN         NaN  \n",
      "19                                                 NaN         NaN  \n",
      "20                                                 NaN         NaN  \n",
      "21                                                 NaN         NaN  \n",
      "22                                                 NaN         NaN  \n",
      "23                                                 NaN         NaN  \n",
      "24                                                 NaN         NaN  \n",
      "25                                                 NaN         NaN  \n",
      "26                                                 NaN         NaN  \n",
      "27                                                 NaN         NaN  \n",
      "28                                                 NaN         NaN  \n",
      "29                                                 NaN         NaN  \n",
      "..                                                 ...         ...  \n",
      "920  Case courtesy of RMH Core Conditions, Radiopae...         NaN  \n",
      "921  Case courtesy of RMH Core Conditions, Radiopae...         NaN  \n",
      "922  Case courtesy of Dr Kékkői László, Radiopaedia...         NaN  \n",
      "923  Case courtesy of Dr Kékkői László, Radiopaedia...         NaN  \n",
      "924  Case courtesy of Dr Thuan Tzen, Koh, Radiopaed...         NaN  \n",
      "925  Case courtesy of Dr Thuan Tzen, Koh, Radiopaed...         NaN  \n",
      "926  Case courtesy of Dr Garth Kruger, Radiopaedia....         NaN  \n",
      "927  Case courtesy of Dr Garth Kruger, Radiopaedia....         NaN  \n",
      "928  Case courtesy of Dr Andrew Dixon, Radiopaedia....         NaN  \n",
      "929  Case courtesy of Dr Andrew Dixon, Radiopaedia....         NaN  \n",
      "930                                                NaN         NaN  \n",
      "931                                                NaN         NaN  \n",
      "932                                                NaN         NaN  \n",
      "933                                                NaN         NaN  \n",
      "934                                                NaN         NaN  \n",
      "935                                                NaN         NaN  \n",
      "936  Case courtesy of Dr  Osama Rizk, Radiopaedia.o...         NaN  \n",
      "937                                                NaN         NaN  \n",
      "938                                                NaN         NaN  \n",
      "939                                                NaN         NaN  \n",
      "940                                                NaN         NaN  \n",
      "941  Case courtesy of Dr Ian Bickle, Radiopaedia.or...         NaN  \n",
      "942  Case courtesy of Dr Ian Bickle, Radiopaedia.or...         NaN  \n",
      "943  Case courtesy of Dr Balint Botz , Radiopaedia....         NaN  \n",
      "944  Case courtesy of Dr Balint Botz , Radiopaedia....         NaN  \n",
      "945  Case courtesy of Dr Ian Bickle, Radiopaedia.or...         NaN  \n",
      "946  Case courtesy of Dr Ian Bickle, Radiopaedia.or...         NaN  \n",
      "947                                                NaN         NaN  \n",
      "948                                                NaN         NaN  \n",
      "949                                                NaN         NaN  \n",
      "\n",
      "[950 rows x 30 columns]\n"
     ]
    }
   ],
   "source": [
    "# import metedata\n",
    "\n",
    "metadata_covid_chest = './covid-chestxray-dataset-master/metadata.csv'\n",
    "pd_reader = pd.read_csv(metadata_covid_chest)\n",
    "print(pd_reader)"
   ]
  },
  {
   "cell_type": "code",
   "execution_count": 5,
   "metadata": {
    "id": "jpxSF_Bvb1oF"
   },
   "outputs": [],
   "source": [
    "image_name_all =pd_reader['filename']\n",
    "PCR_result_all = pd_reader['RT_PCR_positive']"
   ]
  },
  {
   "cell_type": "code",
   "execution_count": 6,
   "metadata": {
    "colab": {
     "base_uri": "https://localhost:8080/",
     "height": 1000
    },
    "id": "B42zr-WdcKP-",
    "outputId": "37e03880-6575-4c38-e93d-fa396e80af9b"
   },
   "outputs": [
    {
     "data": {
      "text/html": [
       "<div>\n",
       "<style scoped>\n",
       "    .dataframe tbody tr th:only-of-type {\n",
       "        vertical-align: middle;\n",
       "    }\n",
       "\n",
       "    .dataframe tbody tr th {\n",
       "        vertical-align: top;\n",
       "    }\n",
       "\n",
       "    .dataframe thead th {\n",
       "        text-align: right;\n",
       "    }\n",
       "</style>\n",
       "<table border=\"1\" class=\"dataframe\">\n",
       "  <thead>\n",
       "    <tr style=\"text-align: right;\">\n",
       "      <th></th>\n",
       "      <th>patientid</th>\n",
       "      <th>offset</th>\n",
       "      <th>sex</th>\n",
       "      <th>age</th>\n",
       "      <th>finding</th>\n",
       "      <th>RT_PCR_positive</th>\n",
       "      <th>survival</th>\n",
       "      <th>intubated</th>\n",
       "      <th>intubation_present</th>\n",
       "      <th>went_icu</th>\n",
       "      <th>...</th>\n",
       "      <th>date</th>\n",
       "      <th>location</th>\n",
       "      <th>folder</th>\n",
       "      <th>filename</th>\n",
       "      <th>doi</th>\n",
       "      <th>url</th>\n",
       "      <th>license</th>\n",
       "      <th>clinical_notes</th>\n",
       "      <th>other_notes</th>\n",
       "      <th>Unnamed: 29</th>\n",
       "    </tr>\n",
       "    <tr>\n",
       "      <th>index</th>\n",
       "      <th></th>\n",
       "      <th></th>\n",
       "      <th></th>\n",
       "      <th></th>\n",
       "      <th></th>\n",
       "      <th></th>\n",
       "      <th></th>\n",
       "      <th></th>\n",
       "      <th></th>\n",
       "      <th></th>\n",
       "      <th></th>\n",
       "      <th></th>\n",
       "      <th></th>\n",
       "      <th></th>\n",
       "      <th></th>\n",
       "      <th></th>\n",
       "      <th></th>\n",
       "      <th></th>\n",
       "      <th></th>\n",
       "      <th></th>\n",
       "      <th></th>\n",
       "    </tr>\n",
       "  </thead>\n",
       "  <tbody>\n",
       "    <tr>\n",
       "      <th>0</th>\n",
       "      <td>2</td>\n",
       "      <td>0.0</td>\n",
       "      <td>M</td>\n",
       "      <td>65.0</td>\n",
       "      <td>Pneumonia/Viral/COVID-19</td>\n",
       "      <td>Y</td>\n",
       "      <td>Y</td>\n",
       "      <td>N</td>\n",
       "      <td>N</td>\n",
       "      <td>N</td>\n",
       "      <td>...</td>\n",
       "      <td>January 22, 2020</td>\n",
       "      <td>Cho Ray Hospital, Ho Chi Minh City, Vietnam</td>\n",
       "      <td>images</td>\n",
       "      <td>auntminnie-a-2020_01_28_23_51_6665_2020_01_28_...</td>\n",
       "      <td>10.1056/nejmc2001272</td>\n",
       "      <td>https://www.nejm.org/doi/full/10.1056/NEJMc200...</td>\n",
       "      <td>NaN</td>\n",
       "      <td>On January 22, 2020, a 65-year-old man with a ...</td>\n",
       "      <td>NaN</td>\n",
       "      <td>NaN</td>\n",
       "    </tr>\n",
       "    <tr>\n",
       "      <th>1</th>\n",
       "      <td>2</td>\n",
       "      <td>3.0</td>\n",
       "      <td>M</td>\n",
       "      <td>65.0</td>\n",
       "      <td>Pneumonia/Viral/COVID-19</td>\n",
       "      <td>Y</td>\n",
       "      <td>Y</td>\n",
       "      <td>N</td>\n",
       "      <td>N</td>\n",
       "      <td>N</td>\n",
       "      <td>...</td>\n",
       "      <td>January 25, 2020</td>\n",
       "      <td>Cho Ray Hospital, Ho Chi Minh City, Vietnam</td>\n",
       "      <td>images</td>\n",
       "      <td>auntminnie-b-2020_01_28_23_51_6665_2020_01_28_...</td>\n",
       "      <td>10.1056/nejmc2001272</td>\n",
       "      <td>https://www.nejm.org/doi/full/10.1056/NEJMc200...</td>\n",
       "      <td>NaN</td>\n",
       "      <td>On January 22, 2020, a 65-year-old man with a ...</td>\n",
       "      <td>NaN</td>\n",
       "      <td>NaN</td>\n",
       "    </tr>\n",
       "    <tr>\n",
       "      <th>2</th>\n",
       "      <td>2</td>\n",
       "      <td>5.0</td>\n",
       "      <td>M</td>\n",
       "      <td>65.0</td>\n",
       "      <td>Pneumonia/Viral/COVID-19</td>\n",
       "      <td>Y</td>\n",
       "      <td>Y</td>\n",
       "      <td>N</td>\n",
       "      <td>N</td>\n",
       "      <td>N</td>\n",
       "      <td>...</td>\n",
       "      <td>January 27, 2020</td>\n",
       "      <td>Cho Ray Hospital, Ho Chi Minh City, Vietnam</td>\n",
       "      <td>images</td>\n",
       "      <td>auntminnie-c-2020_01_28_23_51_6665_2020_01_28_...</td>\n",
       "      <td>10.1056/nejmc2001272</td>\n",
       "      <td>https://www.nejm.org/doi/full/10.1056/NEJMc200...</td>\n",
       "      <td>NaN</td>\n",
       "      <td>On January 22, 2020, a 65-year-old man with a ...</td>\n",
       "      <td>NaN</td>\n",
       "      <td>NaN</td>\n",
       "    </tr>\n",
       "    <tr>\n",
       "      <th>3</th>\n",
       "      <td>2</td>\n",
       "      <td>6.0</td>\n",
       "      <td>M</td>\n",
       "      <td>65.0</td>\n",
       "      <td>Pneumonia/Viral/COVID-19</td>\n",
       "      <td>Y</td>\n",
       "      <td>Y</td>\n",
       "      <td>N</td>\n",
       "      <td>N</td>\n",
       "      <td>N</td>\n",
       "      <td>...</td>\n",
       "      <td>January 28, 2020</td>\n",
       "      <td>Cho Ray Hospital, Ho Chi Minh City, Vietnam</td>\n",
       "      <td>images</td>\n",
       "      <td>auntminnie-d-2020_01_28_23_51_6665_2020_01_28_...</td>\n",
       "      <td>10.1056/nejmc2001272</td>\n",
       "      <td>https://www.nejm.org/doi/full/10.1056/NEJMc200...</td>\n",
       "      <td>NaN</td>\n",
       "      <td>On January 22, 2020, a 65-year-old man with a ...</td>\n",
       "      <td>NaN</td>\n",
       "      <td>NaN</td>\n",
       "    </tr>\n",
       "    <tr>\n",
       "      <th>4</th>\n",
       "      <td>4</td>\n",
       "      <td>0.0</td>\n",
       "      <td>F</td>\n",
       "      <td>52.0</td>\n",
       "      <td>Pneumonia/Viral/COVID-19</td>\n",
       "      <td>Y</td>\n",
       "      <td>NaN</td>\n",
       "      <td>N</td>\n",
       "      <td>N</td>\n",
       "      <td>N</td>\n",
       "      <td>...</td>\n",
       "      <td>January 25, 2020</td>\n",
       "      <td>Changhua Christian Hospital, Changhua City, Ta...</td>\n",
       "      <td>images</td>\n",
       "      <td>nejmc2001573_f1a.jpeg</td>\n",
       "      <td>10.1056/NEJMc2001573</td>\n",
       "      <td>https://www.nejm.org/doi/full/10.1056/NEJMc200...</td>\n",
       "      <td>NaN</td>\n",
       "      <td>diffuse infiltrates in the bilateral lower lungs</td>\n",
       "      <td>NaN</td>\n",
       "      <td>NaN</td>\n",
       "    </tr>\n",
       "    <tr>\n",
       "      <th>5</th>\n",
       "      <td>4</td>\n",
       "      <td>5.0</td>\n",
       "      <td>F</td>\n",
       "      <td>52.0</td>\n",
       "      <td>Pneumonia/Viral/COVID-19</td>\n",
       "      <td>Y</td>\n",
       "      <td>NaN</td>\n",
       "      <td>N</td>\n",
       "      <td>N</td>\n",
       "      <td>N</td>\n",
       "      <td>...</td>\n",
       "      <td>January 30, 2020</td>\n",
       "      <td>Changhua Christian Hospital, Changhua City, Ta...</td>\n",
       "      <td>images</td>\n",
       "      <td>nejmc2001573_f1b.jpeg</td>\n",
       "      <td>10.1056/NEJMc2001573</td>\n",
       "      <td>https://www.nejm.org/doi/full/10.1056/NEJMc200...</td>\n",
       "      <td>NaN</td>\n",
       "      <td>progressive diffuse interstitial opacities and...</td>\n",
       "      <td>NaN</td>\n",
       "      <td>NaN</td>\n",
       "    </tr>\n",
       "    <tr>\n",
       "      <th>6</th>\n",
       "      <td>5</td>\n",
       "      <td>NaN</td>\n",
       "      <td>NaN</td>\n",
       "      <td>NaN</td>\n",
       "      <td>Pneumonia</td>\n",
       "      <td>NaN</td>\n",
       "      <td>NaN</td>\n",
       "      <td>Y</td>\n",
       "      <td>Y</td>\n",
       "      <td>Y</td>\n",
       "      <td>...</td>\n",
       "      <td>2017</td>\n",
       "      <td>NaN</td>\n",
       "      <td>images</td>\n",
       "      <td>ARDSSevere.png</td>\n",
       "      <td>NaN</td>\n",
       "      <td>https://en.wikipedia.org/wiki/File:ARDSSevere.png</td>\n",
       "      <td>CC BY-SA</td>\n",
       "      <td>Severe ARDS. Person is intubated with an OG in...</td>\n",
       "      <td>NaN</td>\n",
       "      <td>NaN</td>\n",
       "    </tr>\n",
       "    <tr>\n",
       "      <th>7</th>\n",
       "      <td>6</td>\n",
       "      <td>0.0</td>\n",
       "      <td>NaN</td>\n",
       "      <td>NaN</td>\n",
       "      <td>Pneumonia/Viral/COVID-19</td>\n",
       "      <td>Y</td>\n",
       "      <td>NaN</td>\n",
       "      <td>Y</td>\n",
       "      <td>Y</td>\n",
       "      <td>Y</td>\n",
       "      <td>...</td>\n",
       "      <td>January 6, 2020</td>\n",
       "      <td>Wuhan Jinyintan Hospital, Wuhan, Hubei Provinc...</td>\n",
       "      <td>images</td>\n",
       "      <td>lancet-case2a.jpg</td>\n",
       "      <td>10.1016/S0140-6736(20)30211-7</td>\n",
       "      <td>https://www.thelancet.com/journals/lancet/arti...</td>\n",
       "      <td>NaN</td>\n",
       "      <td>Case 2: chest x-ray obtained on Jan 6 (2A). Th...</td>\n",
       "      <td>NaN</td>\n",
       "      <td>NaN</td>\n",
       "    </tr>\n",
       "    <tr>\n",
       "      <th>8</th>\n",
       "      <td>6</td>\n",
       "      <td>4.0</td>\n",
       "      <td>NaN</td>\n",
       "      <td>NaN</td>\n",
       "      <td>Pneumonia/Viral/COVID-19</td>\n",
       "      <td>Y</td>\n",
       "      <td>NaN</td>\n",
       "      <td>Y</td>\n",
       "      <td>Y</td>\n",
       "      <td>Y</td>\n",
       "      <td>...</td>\n",
       "      <td>January 10, 2020</td>\n",
       "      <td>Wuhan Jinyintan Hospital, Wuhan, Hubei Provinc...</td>\n",
       "      <td>images</td>\n",
       "      <td>lancet-case2b.jpg</td>\n",
       "      <td>10.1016/S0140-6736(20)30211-7</td>\n",
       "      <td>https://www.thelancet.com/journals/lancet/arti...</td>\n",
       "      <td>NaN</td>\n",
       "      <td>Case 2: chest x-ray obtained on Jan 6 (2A). Th...</td>\n",
       "      <td>NaN</td>\n",
       "      <td>NaN</td>\n",
       "    </tr>\n",
       "    <tr>\n",
       "      <th>9</th>\n",
       "      <td>3</td>\n",
       "      <td>4.0</td>\n",
       "      <td>M</td>\n",
       "      <td>74.0</td>\n",
       "      <td>Pneumonia/Viral/SARS</td>\n",
       "      <td>NaN</td>\n",
       "      <td>N</td>\n",
       "      <td>NaN</td>\n",
       "      <td>NaN</td>\n",
       "      <td>NaN</td>\n",
       "      <td>...</td>\n",
       "      <td>2004</td>\n",
       "      <td>Mount Sinai Hospital, Toronto, Ontario, Canada</td>\n",
       "      <td>images</td>\n",
       "      <td>SARS-10.1148rg.242035193-g04mr34g0-Fig8a-day0....</td>\n",
       "      <td>10.1148/rg.242035193</td>\n",
       "      <td>https://pubs.rsna.org/doi/10.1148/rg.242035193</td>\n",
       "      <td>NaN</td>\n",
       "      <td>SARS in a 74-year-old man who developed sympto...</td>\n",
       "      <td>NaN</td>\n",
       "      <td>NaN</td>\n",
       "    </tr>\n",
       "    <tr>\n",
       "      <th>10</th>\n",
       "      <td>3</td>\n",
       "      <td>9.0</td>\n",
       "      <td>M</td>\n",
       "      <td>74.0</td>\n",
       "      <td>Pneumonia/Viral/SARS</td>\n",
       "      <td>NaN</td>\n",
       "      <td>N</td>\n",
       "      <td>NaN</td>\n",
       "      <td>NaN</td>\n",
       "      <td>NaN</td>\n",
       "      <td>...</td>\n",
       "      <td>2004</td>\n",
       "      <td>Mount Sinai Hospital, Toronto, Ontario, Canada</td>\n",
       "      <td>images</td>\n",
       "      <td>SARS-10.1148rg.242035193-g04mr34g0-Fig8b-day5....</td>\n",
       "      <td>10.1148/rg.242035193</td>\n",
       "      <td>https://pubs.rsna.org/doi/10.1148/rg.242035193</td>\n",
       "      <td>NaN</td>\n",
       "      <td>SARS in a 74-year-old man who developed sympto...</td>\n",
       "      <td>NaN</td>\n",
       "      <td>NaN</td>\n",
       "    </tr>\n",
       "    <tr>\n",
       "      <th>11</th>\n",
       "      <td>3</td>\n",
       "      <td>10.0</td>\n",
       "      <td>M</td>\n",
       "      <td>74.0</td>\n",
       "      <td>Pneumonia/Viral/SARS</td>\n",
       "      <td>NaN</td>\n",
       "      <td>N</td>\n",
       "      <td>NaN</td>\n",
       "      <td>NaN</td>\n",
       "      <td>NaN</td>\n",
       "      <td>...</td>\n",
       "      <td>2004</td>\n",
       "      <td>Mount Sinai Hospital, Toronto, Ontario, Canada</td>\n",
       "      <td>images</td>\n",
       "      <td>SARS-10.1148rg.242035193-g04mr34g0-Fig8c-day10...</td>\n",
       "      <td>10.1148/rg.242035193</td>\n",
       "      <td>https://pubs.rsna.org/doi/10.1148/rg.242035193</td>\n",
       "      <td>NaN</td>\n",
       "      <td>SARS in a 74-year-old man who developed sympto...</td>\n",
       "      <td>NaN</td>\n",
       "      <td>NaN</td>\n",
       "    </tr>\n",
       "    <tr>\n",
       "      <th>12</th>\n",
       "      <td>7</td>\n",
       "      <td>7.0</td>\n",
       "      <td>F</td>\n",
       "      <td>29.0</td>\n",
       "      <td>Pneumonia/Viral/SARS</td>\n",
       "      <td>NaN</td>\n",
       "      <td>Y</td>\n",
       "      <td>NaN</td>\n",
       "      <td>NaN</td>\n",
       "      <td>NaN</td>\n",
       "      <td>...</td>\n",
       "      <td>2004</td>\n",
       "      <td>Mount Sinai Hospital, Toronto, Ontario, Canada</td>\n",
       "      <td>images</td>\n",
       "      <td>SARS-10.1148rg.242035193-g04mr34g04a-Fig4a-day...</td>\n",
       "      <td>10.1148/rg.242035193</td>\n",
       "      <td>https://pubs.rsna.org/doi/10.1148/rg.242035193</td>\n",
       "      <td>NaN</td>\n",
       "      <td>SARS in a 29-year-old woman who presented 7 da...</td>\n",
       "      <td>NaN</td>\n",
       "      <td>NaN</td>\n",
       "    </tr>\n",
       "    <tr>\n",
       "      <th>13</th>\n",
       "      <td>7</td>\n",
       "      <td>12.0</td>\n",
       "      <td>F</td>\n",
       "      <td>29.0</td>\n",
       "      <td>Pneumonia/Viral/SARS</td>\n",
       "      <td>NaN</td>\n",
       "      <td>Y</td>\n",
       "      <td>NaN</td>\n",
       "      <td>NaN</td>\n",
       "      <td>NaN</td>\n",
       "      <td>...</td>\n",
       "      <td>2004</td>\n",
       "      <td>Mount Sinai Hospital, Toronto, Ontario, Canada</td>\n",
       "      <td>images</td>\n",
       "      <td>SARS-10.1148rg.242035193-g04mr34g04b-Fig4b-day...</td>\n",
       "      <td>10.1148/rg.242035193</td>\n",
       "      <td>https://pubs.rsna.org/doi/10.1148/rg.242035193</td>\n",
       "      <td>NaN</td>\n",
       "      <td>SARS in a 29-year-old woman who presented 7 da...</td>\n",
       "      <td>NaN</td>\n",
       "      <td>NaN</td>\n",
       "    </tr>\n",
       "    <tr>\n",
       "      <th>14</th>\n",
       "      <td>8</td>\n",
       "      <td>9.0</td>\n",
       "      <td>F</td>\n",
       "      <td>42.0</td>\n",
       "      <td>Pneumonia/Viral/SARS</td>\n",
       "      <td>NaN</td>\n",
       "      <td>NaN</td>\n",
       "      <td>NaN</td>\n",
       "      <td>NaN</td>\n",
       "      <td>NaN</td>\n",
       "      <td>...</td>\n",
       "      <td>2004</td>\n",
       "      <td>Mount Sinai Hospital, Toronto, Ontario, Canada</td>\n",
       "      <td>images</td>\n",
       "      <td>SARS-10.1148rg.242035193-g04mr34g05x-Fig5-day9...</td>\n",
       "      <td>10.1148/rg.242035193</td>\n",
       "      <td>https://pubs.rsna.org/doi/10.1148/rg.242035193</td>\n",
       "      <td>NaN</td>\n",
       "      <td>SARS in a 42-year-old woman who presented 9 da...</td>\n",
       "      <td>NaN</td>\n",
       "      <td>NaN</td>\n",
       "    </tr>\n",
       "    <tr>\n",
       "      <th>15</th>\n",
       "      <td>9</td>\n",
       "      <td>5.0</td>\n",
       "      <td>F</td>\n",
       "      <td>46.0</td>\n",
       "      <td>Pneumonia/Viral/SARS</td>\n",
       "      <td>NaN</td>\n",
       "      <td>NaN</td>\n",
       "      <td>NaN</td>\n",
       "      <td>NaN</td>\n",
       "      <td>NaN</td>\n",
       "      <td>...</td>\n",
       "      <td>2004</td>\n",
       "      <td>Mount Sinai Hospital, Toronto, Ontario, Canada</td>\n",
       "      <td>images</td>\n",
       "      <td>SARS-10.1148rg.242035193-g04mr34g07a-Fig7a-day...</td>\n",
       "      <td>10.1148/rg.242035193</td>\n",
       "      <td>https://pubs.rsna.org/doi/10.1148/rg.242035193</td>\n",
       "      <td>NaN</td>\n",
       "      <td>SARS in a 46-year-old woman who presented 5 da...</td>\n",
       "      <td>NaN</td>\n",
       "      <td>NaN</td>\n",
       "    </tr>\n",
       "    <tr>\n",
       "      <th>16</th>\n",
       "      <td>9</td>\n",
       "      <td>17.0</td>\n",
       "      <td>F</td>\n",
       "      <td>46.0</td>\n",
       "      <td>Pneumonia/Viral/SARS</td>\n",
       "      <td>NaN</td>\n",
       "      <td>NaN</td>\n",
       "      <td>NaN</td>\n",
       "      <td>NaN</td>\n",
       "      <td>NaN</td>\n",
       "      <td>...</td>\n",
       "      <td>2004</td>\n",
       "      <td>Mount Sinai Hospital, Toronto, Ontario, Canada</td>\n",
       "      <td>images</td>\n",
       "      <td>SARS-10.1148rg.242035193-g04mr34g07b-Fig7b-day...</td>\n",
       "      <td>10.1148/rg.242035193</td>\n",
       "      <td>https://pubs.rsna.org/doi/10.1148/rg.242035193</td>\n",
       "      <td>NaN</td>\n",
       "      <td>SARS in a 46-year-old woman who presented 5 da...</td>\n",
       "      <td>NaN</td>\n",
       "      <td>NaN</td>\n",
       "    </tr>\n",
       "    <tr>\n",
       "      <th>17</th>\n",
       "      <td>10</td>\n",
       "      <td>19.0</td>\n",
       "      <td>F</td>\n",
       "      <td>73.0</td>\n",
       "      <td>Pneumonia/Viral/SARS</td>\n",
       "      <td>NaN</td>\n",
       "      <td>N</td>\n",
       "      <td>NaN</td>\n",
       "      <td>NaN</td>\n",
       "      <td>NaN</td>\n",
       "      <td>...</td>\n",
       "      <td>2004</td>\n",
       "      <td>Mount Sinai Hospital, Toronto, Ontario, Canada</td>\n",
       "      <td>images</td>\n",
       "      <td>SARS-10.1148rg.242035193-g04mr34g09a-Fig9a-day...</td>\n",
       "      <td>10.1148/rg.242035193</td>\n",
       "      <td>https://pubs.rsna.org/doi/10.1148/rg.242035193</td>\n",
       "      <td>NaN</td>\n",
       "      <td>SARS in a 73-year-old woman who presented 17 d...</td>\n",
       "      <td>NaN</td>\n",
       "      <td>NaN</td>\n",
       "    </tr>\n",
       "    <tr>\n",
       "      <th>18</th>\n",
       "      <td>10</td>\n",
       "      <td>27.0</td>\n",
       "      <td>F</td>\n",
       "      <td>73.0</td>\n",
       "      <td>Pneumonia/Viral/SARS</td>\n",
       "      <td>NaN</td>\n",
       "      <td>N</td>\n",
       "      <td>NaN</td>\n",
       "      <td>NaN</td>\n",
       "      <td>NaN</td>\n",
       "      <td>...</td>\n",
       "      <td>2004</td>\n",
       "      <td>Mount Sinai Hospital, Toronto, Ontario, Canada</td>\n",
       "      <td>images</td>\n",
       "      <td>SARS-10.1148rg.242035193-g04mr34g09b-Fig9b-day...</td>\n",
       "      <td>10.1148/rg.242035193</td>\n",
       "      <td>https://pubs.rsna.org/doi/10.1148/rg.242035193</td>\n",
       "      <td>NaN</td>\n",
       "      <td>SARS in a 73-year-old woman who presented 17 d...</td>\n",
       "      <td>NaN</td>\n",
       "      <td>NaN</td>\n",
       "    </tr>\n",
       "    <tr>\n",
       "      <th>19</th>\n",
       "      <td>10</td>\n",
       "      <td>35.0</td>\n",
       "      <td>F</td>\n",
       "      <td>73.0</td>\n",
       "      <td>Pneumonia/Viral/SARS</td>\n",
       "      <td>NaN</td>\n",
       "      <td>N</td>\n",
       "      <td>NaN</td>\n",
       "      <td>NaN</td>\n",
       "      <td>NaN</td>\n",
       "      <td>...</td>\n",
       "      <td>2004</td>\n",
       "      <td>Mount Sinai Hospital, Toronto, Ontario, Canada</td>\n",
       "      <td>images</td>\n",
       "      <td>SARS-10.1148rg.242035193-g04mr34g09c-Fig9c-day...</td>\n",
       "      <td>10.1148/rg.242035193</td>\n",
       "      <td>https://pubs.rsna.org/doi/10.1148/rg.242035193</td>\n",
       "      <td>NaN</td>\n",
       "      <td>SARS in a 73-year-old woman who presented 17 d...</td>\n",
       "      <td>NaN</td>\n",
       "      <td>NaN</td>\n",
       "    </tr>\n",
       "    <tr>\n",
       "      <th>20</th>\n",
       "      <td>11</td>\n",
       "      <td>0.0</td>\n",
       "      <td>M</td>\n",
       "      <td>56.0</td>\n",
       "      <td>Pneumonia/Viral/COVID-19</td>\n",
       "      <td>Y</td>\n",
       "      <td>Y</td>\n",
       "      <td>NaN</td>\n",
       "      <td>NaN</td>\n",
       "      <td>NaN</td>\n",
       "      <td>...</td>\n",
       "      <td>2020</td>\n",
       "      <td>Sunnybrook Health Sciences Centre, Toronto, On...</td>\n",
       "      <td>images</td>\n",
       "      <td>1-s2.0-S0140673620303706-fx1_lrg.jpg</td>\n",
       "      <td>10.1016/S0140-6736(20)30370-6</td>\n",
       "      <td>https://www.sciencedirect.com/science/article/...</td>\n",
       "      <td>NaN</td>\n",
       "      <td>A 56-year-old man presented to our Emergency D...</td>\n",
       "      <td>NaN</td>\n",
       "      <td>NaN</td>\n",
       "    </tr>\n",
       "    <tr>\n",
       "      <th>21</th>\n",
       "      <td>12</td>\n",
       "      <td>7.0</td>\n",
       "      <td>M</td>\n",
       "      <td>42.0</td>\n",
       "      <td>Pneumonia/Viral/COVID-19</td>\n",
       "      <td>Y</td>\n",
       "      <td>Y</td>\n",
       "      <td>NaN</td>\n",
       "      <td>NaN</td>\n",
       "      <td>NaN</td>\n",
       "      <td>...</td>\n",
       "      <td>January 1, 2020</td>\n",
       "      <td>Tongji Medical College, Wuhan, Hubei Province,...</td>\n",
       "      <td>images</td>\n",
       "      <td>nCoV-radiol.2020200269.fig1-day7.jpeg</td>\n",
       "      <td>10.1148/radiol.2020200269</td>\n",
       "      <td>https://pubs.rsna.org/doi/10.1148/radiol.20202...</td>\n",
       "      <td>NaN</td>\n",
       "      <td>On January 1, 2020, a 42-year-old man was admi...</td>\n",
       "      <td>NaN</td>\n",
       "      <td>NaN</td>\n",
       "    </tr>\n",
       "    <tr>\n",
       "      <th>22</th>\n",
       "      <td>13</td>\n",
       "      <td>4.0</td>\n",
       "      <td>M</td>\n",
       "      <td>35.0</td>\n",
       "      <td>Pneumonia/Viral/COVID-19</td>\n",
       "      <td>Y</td>\n",
       "      <td>Y</td>\n",
       "      <td>N</td>\n",
       "      <td>N</td>\n",
       "      <td>N</td>\n",
       "      <td>...</td>\n",
       "      <td>January 19, 2020</td>\n",
       "      <td>Snohomish County, Washington, United States</td>\n",
       "      <td>images</td>\n",
       "      <td>nejmoa2001191_f1-PA.jpeg</td>\n",
       "      <td>10.1056/NEJMoa2001191</td>\n",
       "      <td>https://www.nejm.org/doi/full/10.1056/NEJMoa20...</td>\n",
       "      <td>NaN</td>\n",
       "      <td>On January 19, 2020, a 35-year-old man present...</td>\n",
       "      <td>NaN</td>\n",
       "      <td>NaN</td>\n",
       "    </tr>\n",
       "    <tr>\n",
       "      <th>23</th>\n",
       "      <td>13</td>\n",
       "      <td>4.0</td>\n",
       "      <td>M</td>\n",
       "      <td>35.0</td>\n",
       "      <td>Pneumonia/Viral/COVID-19</td>\n",
       "      <td>Y</td>\n",
       "      <td>Y</td>\n",
       "      <td>N</td>\n",
       "      <td>N</td>\n",
       "      <td>N</td>\n",
       "      <td>...</td>\n",
       "      <td>January 19, 2020</td>\n",
       "      <td>Snohomish County, Washington, United States</td>\n",
       "      <td>images</td>\n",
       "      <td>nejmoa2001191_f1-L.jpeg</td>\n",
       "      <td>10.1056/NEJMoa2001191</td>\n",
       "      <td>https://www.nejm.org/doi/full/10.1056/NEJMoa20...</td>\n",
       "      <td>NaN</td>\n",
       "      <td>On January 19, 2020, a 35-year-old man present...</td>\n",
       "      <td>NaN</td>\n",
       "      <td>NaN</td>\n",
       "    </tr>\n",
       "    <tr>\n",
       "      <th>24</th>\n",
       "      <td>13</td>\n",
       "      <td>7.0</td>\n",
       "      <td>M</td>\n",
       "      <td>35.0</td>\n",
       "      <td>Pneumonia/Viral/COVID-19</td>\n",
       "      <td>Y</td>\n",
       "      <td>Y</td>\n",
       "      <td>N</td>\n",
       "      <td>N</td>\n",
       "      <td>N</td>\n",
       "      <td>...</td>\n",
       "      <td>January 22, 2020</td>\n",
       "      <td>Snohomish County, Washington, United States</td>\n",
       "      <td>images</td>\n",
       "      <td>nejmoa2001191_f3-PA.jpeg</td>\n",
       "      <td>10.1056/NEJMoa2001191</td>\n",
       "      <td>https://www.nejm.org/doi/full/10.1056/NEJMoa20...</td>\n",
       "      <td>NaN</td>\n",
       "      <td>On January 19, 2020, a 35-year-old man present...</td>\n",
       "      <td>NaN</td>\n",
       "      <td>NaN</td>\n",
       "    </tr>\n",
       "    <tr>\n",
       "      <th>25</th>\n",
       "      <td>13</td>\n",
       "      <td>7.0</td>\n",
       "      <td>M</td>\n",
       "      <td>35.0</td>\n",
       "      <td>Pneumonia/Viral/COVID-19</td>\n",
       "      <td>Y</td>\n",
       "      <td>Y</td>\n",
       "      <td>N</td>\n",
       "      <td>N</td>\n",
       "      <td>N</td>\n",
       "      <td>...</td>\n",
       "      <td>January 22, 2020</td>\n",
       "      <td>Snohomish County, Washington, United States</td>\n",
       "      <td>images</td>\n",
       "      <td>nejmoa2001191_f3-L.jpeg</td>\n",
       "      <td>10.1056/NEJMoa2001191</td>\n",
       "      <td>https://www.nejm.org/doi/full/10.1056/NEJMoa20...</td>\n",
       "      <td>NaN</td>\n",
       "      <td>On January 19, 2020, a 35-year-old man present...</td>\n",
       "      <td>NaN</td>\n",
       "      <td>NaN</td>\n",
       "    </tr>\n",
       "    <tr>\n",
       "      <th>26</th>\n",
       "      <td>13</td>\n",
       "      <td>9.0</td>\n",
       "      <td>M</td>\n",
       "      <td>35.0</td>\n",
       "      <td>Pneumonia/Viral/COVID-19</td>\n",
       "      <td>Y</td>\n",
       "      <td>Y</td>\n",
       "      <td>N</td>\n",
       "      <td>N</td>\n",
       "      <td>N</td>\n",
       "      <td>...</td>\n",
       "      <td>January 24, 2020</td>\n",
       "      <td>Snohomish County, Washington, United States</td>\n",
       "      <td>images</td>\n",
       "      <td>nejmoa2001191_f4.jpeg</td>\n",
       "      <td>10.1056/NEJMoa2001191</td>\n",
       "      <td>https://www.nejm.org/doi/full/10.1056/NEJMoa20...</td>\n",
       "      <td>NaN</td>\n",
       "      <td>On January 19, 2020, a 35-year-old man present...</td>\n",
       "      <td>NaN</td>\n",
       "      <td>NaN</td>\n",
       "    </tr>\n",
       "    <tr>\n",
       "      <th>27</th>\n",
       "      <td>13</td>\n",
       "      <td>10.0</td>\n",
       "      <td>M</td>\n",
       "      <td>35.0</td>\n",
       "      <td>Pneumonia/Viral/COVID-19</td>\n",
       "      <td>Y</td>\n",
       "      <td>Y</td>\n",
       "      <td>N</td>\n",
       "      <td>N</td>\n",
       "      <td>N</td>\n",
       "      <td>...</td>\n",
       "      <td>January 26, 2020</td>\n",
       "      <td>Snohomish County, Washington, United States</td>\n",
       "      <td>images</td>\n",
       "      <td>nejmoa2001191_f5-PA.jpeg</td>\n",
       "      <td>10.1056/NEJMoa2001191</td>\n",
       "      <td>https://www.nejm.org/doi/full/10.1056/NEJMoa20...</td>\n",
       "      <td>NaN</td>\n",
       "      <td>On January 19, 2020, a 35-year-old man present...</td>\n",
       "      <td>NaN</td>\n",
       "      <td>NaN</td>\n",
       "    </tr>\n",
       "    <tr>\n",
       "      <th>28</th>\n",
       "      <td>13</td>\n",
       "      <td>10.0</td>\n",
       "      <td>M</td>\n",
       "      <td>35.0</td>\n",
       "      <td>Pneumonia/Viral/COVID-19</td>\n",
       "      <td>Y</td>\n",
       "      <td>Y</td>\n",
       "      <td>N</td>\n",
       "      <td>N</td>\n",
       "      <td>N</td>\n",
       "      <td>...</td>\n",
       "      <td>January 26, 2020</td>\n",
       "      <td>Snohomish County, Washington, United States</td>\n",
       "      <td>images</td>\n",
       "      <td>nejmoa2001191_f5-L.jpeg</td>\n",
       "      <td>10.1056/NEJMoa2001191</td>\n",
       "      <td>https://www.nejm.org/doi/full/10.1056/NEJMoa20...</td>\n",
       "      <td>NaN</td>\n",
       "      <td>On January 19, 2020, a 35-year-old man present...</td>\n",
       "      <td>NaN</td>\n",
       "      <td>NaN</td>\n",
       "    </tr>\n",
       "    <tr>\n",
       "      <th>29</th>\n",
       "      <td>14</td>\n",
       "      <td>0.0</td>\n",
       "      <td>F</td>\n",
       "      <td>NaN</td>\n",
       "      <td>Pneumonia/Viral/COVID-19</td>\n",
       "      <td>Y</td>\n",
       "      <td>NaN</td>\n",
       "      <td>NaN</td>\n",
       "      <td>NaN</td>\n",
       "      <td>NaN</td>\n",
       "      <td>...</td>\n",
       "      <td>2020</td>\n",
       "      <td>Hong Kong</td>\n",
       "      <td>images</td>\n",
       "      <td>ryct.2020200034.fig2.jpeg</td>\n",
       "      <td>10.1148/ryct.2020200034</td>\n",
       "      <td>https://pubs.rsna.org/doi/full/10.1148/ryct.20...</td>\n",
       "      <td>NaN</td>\n",
       "      <td>NaN</td>\n",
       "      <td>NaN</td>\n",
       "      <td>NaN</td>\n",
       "    </tr>\n",
       "    <tr>\n",
       "      <th>...</th>\n",
       "      <td>...</td>\n",
       "      <td>...</td>\n",
       "      <td>...</td>\n",
       "      <td>...</td>\n",
       "      <td>...</td>\n",
       "      <td>...</td>\n",
       "      <td>...</td>\n",
       "      <td>...</td>\n",
       "      <td>...</td>\n",
       "      <td>...</td>\n",
       "      <td>...</td>\n",
       "      <td>...</td>\n",
       "      <td>...</td>\n",
       "      <td>...</td>\n",
       "      <td>...</td>\n",
       "      <td>...</td>\n",
       "      <td>...</td>\n",
       "      <td>...</td>\n",
       "      <td>...</td>\n",
       "      <td>...</td>\n",
       "      <td>...</td>\n",
       "    </tr>\n",
       "    <tr>\n",
       "      <th>920</th>\n",
       "      <td>466</td>\n",
       "      <td>NaN</td>\n",
       "      <td>F</td>\n",
       "      <td>70.0</td>\n",
       "      <td>Pneumonia</td>\n",
       "      <td>NaN</td>\n",
       "      <td>NaN</td>\n",
       "      <td>NaN</td>\n",
       "      <td>NaN</td>\n",
       "      <td>NaN</td>\n",
       "      <td>...</td>\n",
       "      <td>NaN</td>\n",
       "      <td>Melbourne, Australia</td>\n",
       "      <td>images</td>\n",
       "      <td>1538fbfe9d0872739b00f5a51e4fdc_jumbo.jpeg</td>\n",
       "      <td>NaN</td>\n",
       "      <td>https://radiopaedia.org/cases/right-middle-lob...</td>\n",
       "      <td>CC BY-NC-SA</td>\n",
       "      <td>Fevers, cough, dyspnea. Mild cardiomegaly. Rig...</td>\n",
       "      <td>Case courtesy of RMH Core Conditions, Radiopae...</td>\n",
       "      <td>NaN</td>\n",
       "    </tr>\n",
       "    <tr>\n",
       "      <th>921</th>\n",
       "      <td>466</td>\n",
       "      <td>NaN</td>\n",
       "      <td>F</td>\n",
       "      <td>70.0</td>\n",
       "      <td>Pneumonia</td>\n",
       "      <td>NaN</td>\n",
       "      <td>NaN</td>\n",
       "      <td>NaN</td>\n",
       "      <td>NaN</td>\n",
       "      <td>NaN</td>\n",
       "      <td>...</td>\n",
       "      <td>NaN</td>\n",
       "      <td>Melbourne, Australia</td>\n",
       "      <td>images</td>\n",
       "      <td>49eca411aa2d4ccd73df21a209a551_jumbo.jpeg</td>\n",
       "      <td>NaN</td>\n",
       "      <td>https://radiopaedia.org/cases/right-middle-lob...</td>\n",
       "      <td>CC BY-NC-SA</td>\n",
       "      <td>Fevers, cough, dyspnea. Mild cardiomegaly. Rig...</td>\n",
       "      <td>Case courtesy of RMH Core Conditions, Radiopae...</td>\n",
       "      <td>NaN</td>\n",
       "    </tr>\n",
       "    <tr>\n",
       "      <th>922</th>\n",
       "      <td>467</td>\n",
       "      <td>NaN</td>\n",
       "      <td>M</td>\n",
       "      <td>60.0</td>\n",
       "      <td>Pneumonia</td>\n",
       "      <td>NaN</td>\n",
       "      <td>NaN</td>\n",
       "      <td>NaN</td>\n",
       "      <td>NaN</td>\n",
       "      <td>NaN</td>\n",
       "      <td>...</td>\n",
       "      <td>NaN</td>\n",
       "      <td>Hungary</td>\n",
       "      <td>images</td>\n",
       "      <td>7a7044c64a87936f09fee9a7f5c5fa_jumbo.jpeg</td>\n",
       "      <td>NaN</td>\n",
       "      <td>https://radiopaedia.org/cases/right-middle-lob...</td>\n",
       "      <td>CC BY-NC-SA</td>\n",
       "      <td>Fever and dyspnea. Raised serum inflammatory m...</td>\n",
       "      <td>Case courtesy of Dr Kékkői László, Radiopaedia...</td>\n",
       "      <td>NaN</td>\n",
       "    </tr>\n",
       "    <tr>\n",
       "      <th>923</th>\n",
       "      <td>467</td>\n",
       "      <td>NaN</td>\n",
       "      <td>M</td>\n",
       "      <td>60.0</td>\n",
       "      <td>Pneumonia</td>\n",
       "      <td>NaN</td>\n",
       "      <td>NaN</td>\n",
       "      <td>NaN</td>\n",
       "      <td>NaN</td>\n",
       "      <td>NaN</td>\n",
       "      <td>...</td>\n",
       "      <td>NaN</td>\n",
       "      <td>Hungary</td>\n",
       "      <td>images</td>\n",
       "      <td>2b4425e4afe32fa5e047fcac58f8e9_jumbo.jpeg</td>\n",
       "      <td>NaN</td>\n",
       "      <td>https://radiopaedia.org/cases/right-middle-lob...</td>\n",
       "      <td>CC BY-NC-SA</td>\n",
       "      <td>Fever and dyspnea. Raised serum inflammatory m...</td>\n",
       "      <td>Case courtesy of Dr Kékkői László, Radiopaedia...</td>\n",
       "      <td>NaN</td>\n",
       "    </tr>\n",
       "    <tr>\n",
       "      <th>924</th>\n",
       "      <td>468</td>\n",
       "      <td>NaN</td>\n",
       "      <td>F</td>\n",
       "      <td>50.0</td>\n",
       "      <td>Pneumonia</td>\n",
       "      <td>NaN</td>\n",
       "      <td>NaN</td>\n",
       "      <td>NaN</td>\n",
       "      <td>NaN</td>\n",
       "      <td>NaN</td>\n",
       "      <td>...</td>\n",
       "      <td>NaN</td>\n",
       "      <td>Adelaide, Australia</td>\n",
       "      <td>images</td>\n",
       "      <td>4e74cbafeab0bfd317a93e1aace6cf_jumbo.jpg</td>\n",
       "      <td>NaN</td>\n",
       "      <td>https://radiopaedia.org/cases/left-lower-lobe-...</td>\n",
       "      <td>CC BY-NC-SA</td>\n",
       "      <td>Shortness of breath, fever and rigors Opacity ...</td>\n",
       "      <td>Case courtesy of Dr Thuan Tzen, Koh, Radiopaed...</td>\n",
       "      <td>NaN</td>\n",
       "    </tr>\n",
       "    <tr>\n",
       "      <th>925</th>\n",
       "      <td>468</td>\n",
       "      <td>NaN</td>\n",
       "      <td>F</td>\n",
       "      <td>50.0</td>\n",
       "      <td>Pneumonia</td>\n",
       "      <td>NaN</td>\n",
       "      <td>NaN</td>\n",
       "      <td>NaN</td>\n",
       "      <td>NaN</td>\n",
       "      <td>NaN</td>\n",
       "      <td>...</td>\n",
       "      <td>NaN</td>\n",
       "      <td>Adelaide, Australia</td>\n",
       "      <td>images</td>\n",
       "      <td>e0e3a6526a3fecadfca2be13242798_jumbo.jpg</td>\n",
       "      <td>NaN</td>\n",
       "      <td>https://radiopaedia.org/cases/left-lower-lobe-...</td>\n",
       "      <td>CC BY-NC-SA</td>\n",
       "      <td>Shortness of breath, fever and rigors Opacity ...</td>\n",
       "      <td>Case courtesy of Dr Thuan Tzen, Koh, Radiopaed...</td>\n",
       "      <td>NaN</td>\n",
       "    </tr>\n",
       "    <tr>\n",
       "      <th>926</th>\n",
       "      <td>469</td>\n",
       "      <td>NaN</td>\n",
       "      <td>F</td>\n",
       "      <td>25.0</td>\n",
       "      <td>Pneumonia</td>\n",
       "      <td>NaN</td>\n",
       "      <td>NaN</td>\n",
       "      <td>NaN</td>\n",
       "      <td>NaN</td>\n",
       "      <td>NaN</td>\n",
       "      <td>...</td>\n",
       "      <td>NaN</td>\n",
       "      <td>Calgary, Canada</td>\n",
       "      <td>images</td>\n",
       "      <td>2264f643b18b1010ec10a850f17550_jumbo.jpeg</td>\n",
       "      <td>NaN</td>\n",
       "      <td>https://radiopaedia.org/cases/silhouette-sign-...</td>\n",
       "      <td>CC BY-NC-SA</td>\n",
       "      <td>A young woman is sent with a diagnosis of pneu...</td>\n",
       "      <td>Case courtesy of Dr Garth Kruger, Radiopaedia....</td>\n",
       "      <td>NaN</td>\n",
       "    </tr>\n",
       "    <tr>\n",
       "      <th>927</th>\n",
       "      <td>469</td>\n",
       "      <td>NaN</td>\n",
       "      <td>F</td>\n",
       "      <td>25.0</td>\n",
       "      <td>Pneumonia</td>\n",
       "      <td>NaN</td>\n",
       "      <td>NaN</td>\n",
       "      <td>NaN</td>\n",
       "      <td>NaN</td>\n",
       "      <td>NaN</td>\n",
       "      <td>...</td>\n",
       "      <td>NaN</td>\n",
       "      <td>Calgary, Canada</td>\n",
       "      <td>images</td>\n",
       "      <td>800f798a58d0cbcc72eb234f192461_jumbo.jpeg</td>\n",
       "      <td>NaN</td>\n",
       "      <td>https://radiopaedia.org/cases/silhouette-sign-...</td>\n",
       "      <td>CC BY-NC-SA</td>\n",
       "      <td>A young woman is sent with a diagnosis of pneu...</td>\n",
       "      <td>Case courtesy of Dr Garth Kruger, Radiopaedia....</td>\n",
       "      <td>NaN</td>\n",
       "    </tr>\n",
       "    <tr>\n",
       "      <th>928</th>\n",
       "      <td>470</td>\n",
       "      <td>NaN</td>\n",
       "      <td>M</td>\n",
       "      <td>55.0</td>\n",
       "      <td>Pneumonia</td>\n",
       "      <td>NaN</td>\n",
       "      <td>NaN</td>\n",
       "      <td>NaN</td>\n",
       "      <td>NaN</td>\n",
       "      <td>NaN</td>\n",
       "      <td>...</td>\n",
       "      <td>NaN</td>\n",
       "      <td>Melbourne, Australia</td>\n",
       "      <td>images</td>\n",
       "      <td>55f5189d2c23688ac8dc1d58eb65cf_jumbo.jpg</td>\n",
       "      <td>NaN</td>\n",
       "      <td>https://radiopaedia.org/cases/left-lower-lobe-...</td>\n",
       "      <td>CC BY-NC-SA</td>\n",
       "      <td>Productive cough and fever Region of consolida...</td>\n",
       "      <td>Case courtesy of Dr Andrew Dixon, Radiopaedia....</td>\n",
       "      <td>NaN</td>\n",
       "    </tr>\n",
       "    <tr>\n",
       "      <th>929</th>\n",
       "      <td>470</td>\n",
       "      <td>NaN</td>\n",
       "      <td>M</td>\n",
       "      <td>55.0</td>\n",
       "      <td>Pneumonia</td>\n",
       "      <td>NaN</td>\n",
       "      <td>NaN</td>\n",
       "      <td>NaN</td>\n",
       "      <td>NaN</td>\n",
       "      <td>NaN</td>\n",
       "      <td>...</td>\n",
       "      <td>NaN</td>\n",
       "      <td>Melbourne, Australia</td>\n",
       "      <td>images</td>\n",
       "      <td>d2cdf41a662113279d2ec21af3a4e2_jumbo.jpg</td>\n",
       "      <td>NaN</td>\n",
       "      <td>https://radiopaedia.org/cases/left-lower-lobe-...</td>\n",
       "      <td>CC BY-NC-SA</td>\n",
       "      <td>Productive cough and fever Region of consolida...</td>\n",
       "      <td>Case courtesy of Dr Andrew Dixon, Radiopaedia....</td>\n",
       "      <td>NaN</td>\n",
       "    </tr>\n",
       "    <tr>\n",
       "      <th>930</th>\n",
       "      <td>471</td>\n",
       "      <td>0.0</td>\n",
       "      <td>M</td>\n",
       "      <td>20.0</td>\n",
       "      <td>Pneumonia/Viral/COVID-19</td>\n",
       "      <td>Y</td>\n",
       "      <td>NaN</td>\n",
       "      <td>NaN</td>\n",
       "      <td>NaN</td>\n",
       "      <td>NaN</td>\n",
       "      <td>...</td>\n",
       "      <td>2020</td>\n",
       "      <td>United Kingdom</td>\n",
       "      <td>images</td>\n",
       "      <td>16953_1_1.jpg</td>\n",
       "      <td>NaN</td>\n",
       "      <td>https://www.eurorad.org/case/16953</td>\n",
       "      <td>CC BY-NC-SA 4.0</td>\n",
       "      <td>A 20-year-old male with a history of asthma pr...</td>\n",
       "      <td>NaN</td>\n",
       "      <td>NaN</td>\n",
       "    </tr>\n",
       "    <tr>\n",
       "      <th>931</th>\n",
       "      <td>471</td>\n",
       "      <td>30.0</td>\n",
       "      <td>M</td>\n",
       "      <td>20.0</td>\n",
       "      <td>Pneumonia/Viral/COVID-19</td>\n",
       "      <td>Y</td>\n",
       "      <td>NaN</td>\n",
       "      <td>NaN</td>\n",
       "      <td>NaN</td>\n",
       "      <td>NaN</td>\n",
       "      <td>...</td>\n",
       "      <td>2020</td>\n",
       "      <td>United Kingdom</td>\n",
       "      <td>images</td>\n",
       "      <td>16953_3_1.jpg</td>\n",
       "      <td>NaN</td>\n",
       "      <td>https://www.eurorad.org/case/16953</td>\n",
       "      <td>CC BY-NC-SA 4.0</td>\n",
       "      <td>A 20-year-old male with a history of asthma pr...</td>\n",
       "      <td>NaN</td>\n",
       "      <td>NaN</td>\n",
       "    </tr>\n",
       "    <tr>\n",
       "      <th>932</th>\n",
       "      <td>471</td>\n",
       "      <td>51.0</td>\n",
       "      <td>M</td>\n",
       "      <td>20.0</td>\n",
       "      <td>Pneumonia/Viral/COVID-19</td>\n",
       "      <td>Y</td>\n",
       "      <td>NaN</td>\n",
       "      <td>NaN</td>\n",
       "      <td>NaN</td>\n",
       "      <td>NaN</td>\n",
       "      <td>...</td>\n",
       "      <td>2020</td>\n",
       "      <td>United Kingdom</td>\n",
       "      <td>images</td>\n",
       "      <td>16953_4_1.jpg</td>\n",
       "      <td>NaN</td>\n",
       "      <td>https://www.eurorad.org/case/16953</td>\n",
       "      <td>CC BY-NC-SA 4.0</td>\n",
       "      <td>A 20-year-old male with a history of asthma pr...</td>\n",
       "      <td>NaN</td>\n",
       "      <td>NaN</td>\n",
       "    </tr>\n",
       "    <tr>\n",
       "      <th>933</th>\n",
       "      <td>471</td>\n",
       "      <td>72.0</td>\n",
       "      <td>M</td>\n",
       "      <td>20.0</td>\n",
       "      <td>Pneumonia/Viral/COVID-19</td>\n",
       "      <td>Y</td>\n",
       "      <td>NaN</td>\n",
       "      <td>NaN</td>\n",
       "      <td>NaN</td>\n",
       "      <td>NaN</td>\n",
       "      <td>...</td>\n",
       "      <td>2020</td>\n",
       "      <td>United Kingdom</td>\n",
       "      <td>images</td>\n",
       "      <td>16953_5_1.jpg</td>\n",
       "      <td>NaN</td>\n",
       "      <td>https://www.eurorad.org/case/16953</td>\n",
       "      <td>CC BY-NC-SA 4.0</td>\n",
       "      <td>A 20-year-old male with a history of asthma pr...</td>\n",
       "      <td>NaN</td>\n",
       "      <td>NaN</td>\n",
       "    </tr>\n",
       "    <tr>\n",
       "      <th>934</th>\n",
       "      <td>472</td>\n",
       "      <td>7.0</td>\n",
       "      <td>M</td>\n",
       "      <td>47.0</td>\n",
       "      <td>Pneumonia/Viral/COVID-19</td>\n",
       "      <td>Y</td>\n",
       "      <td>Y</td>\n",
       "      <td>N</td>\n",
       "      <td>N</td>\n",
       "      <td>N</td>\n",
       "      <td>...</td>\n",
       "      <td>2020</td>\n",
       "      <td>California, United States</td>\n",
       "      <td>images</td>\n",
       "      <td>16892_2_1.png</td>\n",
       "      <td>NaN</td>\n",
       "      <td>https://www.eurorad.org/case/16892</td>\n",
       "      <td>CC BY-NC-SA 4.0</td>\n",
       "      <td>A previously healthy 47-year-old male presente...</td>\n",
       "      <td>NaN</td>\n",
       "      <td>NaN</td>\n",
       "    </tr>\n",
       "    <tr>\n",
       "      <th>935</th>\n",
       "      <td>473</td>\n",
       "      <td>7.0</td>\n",
       "      <td>M</td>\n",
       "      <td>71.0</td>\n",
       "      <td>Pneumonia/Viral/COVID-19</td>\n",
       "      <td>Y</td>\n",
       "      <td>NaN</td>\n",
       "      <td>NaN</td>\n",
       "      <td>NaN</td>\n",
       "      <td>NaN</td>\n",
       "      <td>...</td>\n",
       "      <td>2020</td>\n",
       "      <td>California, United States</td>\n",
       "      <td>images</td>\n",
       "      <td>16883_1_1.png</td>\n",
       "      <td>NaN</td>\n",
       "      <td>https://www.eurorad.org/case/16883</td>\n",
       "      <td>CC BY-NC-SA 4.0</td>\n",
       "      <td>A 71-year-old male with no known past medical ...</td>\n",
       "      <td>NaN</td>\n",
       "      <td>NaN</td>\n",
       "    </tr>\n",
       "    <tr>\n",
       "      <th>936</th>\n",
       "      <td>474</td>\n",
       "      <td>NaN</td>\n",
       "      <td>M</td>\n",
       "      <td>55.0</td>\n",
       "      <td>Pneumonia/Viral/COVID-19</td>\n",
       "      <td>Unclear</td>\n",
       "      <td>NaN</td>\n",
       "      <td>NaN</td>\n",
       "      <td>NaN</td>\n",
       "      <td>NaN</td>\n",
       "      <td>...</td>\n",
       "      <td>2020</td>\n",
       "      <td>Al Hasa, Saudi Arabia</td>\n",
       "      <td>images</td>\n",
       "      <td>2edb88df42cab5e5fbc18b3965e0bd_jumbo.jpeg</td>\n",
       "      <td>NaN</td>\n",
       "      <td>https://radiopaedia.org/cases/covid-19-pneumon...</td>\n",
       "      <td>CC BY-NC-SA</td>\n",
       "      <td>Fever, abdominal pain and diarrhea. No cough o...</td>\n",
       "      <td>Case courtesy of Dr  Osama Rizk, Radiopaedia.o...</td>\n",
       "      <td>NaN</td>\n",
       "    </tr>\n",
       "    <tr>\n",
       "      <th>937</th>\n",
       "      <td>475</td>\n",
       "      <td>0.0</td>\n",
       "      <td>M</td>\n",
       "      <td>50.0</td>\n",
       "      <td>Pneumonia/Viral/COVID-19</td>\n",
       "      <td>Y</td>\n",
       "      <td>NaN</td>\n",
       "      <td>N</td>\n",
       "      <td>N</td>\n",
       "      <td>Y</td>\n",
       "      <td>...</td>\n",
       "      <td>2020</td>\n",
       "      <td>California, United States</td>\n",
       "      <td>images</td>\n",
       "      <td>16858_1_1.png</td>\n",
       "      <td>NaN</td>\n",
       "      <td>https://www.eurorad.org/case/16858</td>\n",
       "      <td>CC BY-NC-SA 4.0</td>\n",
       "      <td>A 50-year-old male with recent positive corona...</td>\n",
       "      <td>NaN</td>\n",
       "      <td>NaN</td>\n",
       "    </tr>\n",
       "    <tr>\n",
       "      <th>938</th>\n",
       "      <td>475</td>\n",
       "      <td>2.0</td>\n",
       "      <td>M</td>\n",
       "      <td>50.0</td>\n",
       "      <td>Pneumonia/Viral/COVID-19</td>\n",
       "      <td>Y</td>\n",
       "      <td>NaN</td>\n",
       "      <td>N</td>\n",
       "      <td>N</td>\n",
       "      <td>Y</td>\n",
       "      <td>...</td>\n",
       "      <td>2020</td>\n",
       "      <td>California, United States</td>\n",
       "      <td>images</td>\n",
       "      <td>16858_3_1.png</td>\n",
       "      <td>NaN</td>\n",
       "      <td>https://www.eurorad.org/case/16858</td>\n",
       "      <td>CC BY-NC-SA 4.0</td>\n",
       "      <td>A 50-year-old male with recent positive corona...</td>\n",
       "      <td>NaN</td>\n",
       "      <td>NaN</td>\n",
       "    </tr>\n",
       "    <tr>\n",
       "      <th>939</th>\n",
       "      <td>476</td>\n",
       "      <td>3.0</td>\n",
       "      <td>M</td>\n",
       "      <td>25.0</td>\n",
       "      <td>Pneumonia/Viral/COVID-19</td>\n",
       "      <td>Y</td>\n",
       "      <td>Y</td>\n",
       "      <td>NaN</td>\n",
       "      <td>NaN</td>\n",
       "      <td>NaN</td>\n",
       "      <td>...</td>\n",
       "      <td>2020</td>\n",
       "      <td>Hospital Universitario Severo Ochoa, Madrid, S...</td>\n",
       "      <td>images</td>\n",
       "      <td>16865_1_1.jpg</td>\n",
       "      <td>NaN</td>\n",
       "      <td>https://www.eurorad.org/case/16865</td>\n",
       "      <td>CC BY-NC-SA 4.0</td>\n",
       "      <td>A 25 year-old male resident presented with a 7...</td>\n",
       "      <td>NaN</td>\n",
       "      <td>NaN</td>\n",
       "    </tr>\n",
       "    <tr>\n",
       "      <th>940</th>\n",
       "      <td>476</td>\n",
       "      <td>3.0</td>\n",
       "      <td>M</td>\n",
       "      <td>25.0</td>\n",
       "      <td>Pneumonia/Viral/COVID-19</td>\n",
       "      <td>Y</td>\n",
       "      <td>Y</td>\n",
       "      <td>NaN</td>\n",
       "      <td>NaN</td>\n",
       "      <td>NaN</td>\n",
       "      <td>...</td>\n",
       "      <td>2020</td>\n",
       "      <td>Hospital Universitario Severo Ochoa, Madrid, S...</td>\n",
       "      <td>images</td>\n",
       "      <td>16865_1_2.jpg</td>\n",
       "      <td>NaN</td>\n",
       "      <td>https://www.eurorad.org/case/16865</td>\n",
       "      <td>CC BY-NC-SA 4.0</td>\n",
       "      <td>A 25 year-old male resident presented with a 7...</td>\n",
       "      <td>NaN</td>\n",
       "      <td>NaN</td>\n",
       "    </tr>\n",
       "    <tr>\n",
       "      <th>941</th>\n",
       "      <td>477</td>\n",
       "      <td>7.0</td>\n",
       "      <td>F</td>\n",
       "      <td>60.0</td>\n",
       "      <td>Pneumonia/Bacterial/Legionella</td>\n",
       "      <td>NaN</td>\n",
       "      <td>NaN</td>\n",
       "      <td>Y</td>\n",
       "      <td>NaN</td>\n",
       "      <td>Y</td>\n",
       "      <td>...</td>\n",
       "      <td>NaN</td>\n",
       "      <td>United Kingdom</td>\n",
       "      <td>images</td>\n",
       "      <td>bdc40f9ad2395d88c92479089f5d1b_jumbo-10.jpeg</td>\n",
       "      <td>NaN</td>\n",
       "      <td>https://radiopaedia.org/cases/legionella-pneum...</td>\n",
       "      <td>CC BY-NC-SA</td>\n",
       "      <td>Unwell. Low saturations. Pyrexic. Tachypneic, ...</td>\n",
       "      <td>Case courtesy of Dr Ian Bickle, Radiopaedia.or...</td>\n",
       "      <td>NaN</td>\n",
       "    </tr>\n",
       "    <tr>\n",
       "      <th>942</th>\n",
       "      <td>477</td>\n",
       "      <td>NaN</td>\n",
       "      <td>F</td>\n",
       "      <td>60.0</td>\n",
       "      <td>Pneumonia/Bacterial/Legionella</td>\n",
       "      <td>NaN</td>\n",
       "      <td>NaN</td>\n",
       "      <td>Y</td>\n",
       "      <td>Y</td>\n",
       "      <td>Y</td>\n",
       "      <td>...</td>\n",
       "      <td>NaN</td>\n",
       "      <td>United Kingdom</td>\n",
       "      <td>images</td>\n",
       "      <td>15d081345df9ca620ebe5e76023775_jumbo-10.jpeg</td>\n",
       "      <td>NaN</td>\n",
       "      <td>https://radiopaedia.org/cases/legionella-pneum...</td>\n",
       "      <td>CC BY-NC-SA</td>\n",
       "      <td>Unwell. Low saturations. Pyrexic. Tachypneic, ...</td>\n",
       "      <td>Case courtesy of Dr Ian Bickle, Radiopaedia.or...</td>\n",
       "      <td>NaN</td>\n",
       "    </tr>\n",
       "    <tr>\n",
       "      <th>943</th>\n",
       "      <td>478</td>\n",
       "      <td>NaN</td>\n",
       "      <td>F</td>\n",
       "      <td>75.0</td>\n",
       "      <td>No Finding</td>\n",
       "      <td>NaN</td>\n",
       "      <td>NaN</td>\n",
       "      <td>NaN</td>\n",
       "      <td>NaN</td>\n",
       "      <td>NaN</td>\n",
       "      <td>...</td>\n",
       "      <td>NaN</td>\n",
       "      <td>Hungary</td>\n",
       "      <td>images</td>\n",
       "      <td>02b973e10caa192fd4e6825ad4aeaf_jumbo-10.jpeg</td>\n",
       "      <td>NaN</td>\n",
       "      <td>https://radiopaedia.org/cases/right-middle-lob...</td>\n",
       "      <td>CC BY-NC-SA</td>\n",
       "      <td>Decreased SpO2, elevated CRP and WBC, diffuse ...</td>\n",
       "      <td>Case courtesy of Dr Balint Botz , Radiopaedia....</td>\n",
       "      <td>NaN</td>\n",
       "    </tr>\n",
       "    <tr>\n",
       "      <th>944</th>\n",
       "      <td>478</td>\n",
       "      <td>NaN</td>\n",
       "      <td>F</td>\n",
       "      <td>75.0</td>\n",
       "      <td>Pneumonia</td>\n",
       "      <td>NaN</td>\n",
       "      <td>NaN</td>\n",
       "      <td>NaN</td>\n",
       "      <td>NaN</td>\n",
       "      <td>NaN</td>\n",
       "      <td>...</td>\n",
       "      <td>NaN</td>\n",
       "      <td>Hungary</td>\n",
       "      <td>images</td>\n",
       "      <td>d2c8a74b37d8d1581ea2a8fe865ef3_jumbo-10.jpeg</td>\n",
       "      <td>NaN</td>\n",
       "      <td>https://radiopaedia.org/cases/right-middle-lob...</td>\n",
       "      <td>CC BY-NC-SA</td>\n",
       "      <td>Decreased SpO2, elevated CRP and WBC, diffuse ...</td>\n",
       "      <td>Case courtesy of Dr Balint Botz , Radiopaedia....</td>\n",
       "      <td>NaN</td>\n",
       "    </tr>\n",
       "    <tr>\n",
       "      <th>945</th>\n",
       "      <td>479</td>\n",
       "      <td>0.0</td>\n",
       "      <td>F</td>\n",
       "      <td>40.0</td>\n",
       "      <td>Pneumonia</td>\n",
       "      <td>NaN</td>\n",
       "      <td>NaN</td>\n",
       "      <td>NaN</td>\n",
       "      <td>NaN</td>\n",
       "      <td>NaN</td>\n",
       "      <td>...</td>\n",
       "      <td>NaN</td>\n",
       "      <td>United Kingdom</td>\n",
       "      <td>images</td>\n",
       "      <td>072ecaf8c60a81980abb57150a8016_jumbo-9.jpeg</td>\n",
       "      <td>NaN</td>\n",
       "      <td>https://radiopaedia.org/cases/multifocal-round...</td>\n",
       "      <td>CC BY-NC-SA</td>\n",
       "      <td>Asthmatic. Shortness of breath and wheeze. Rou...</td>\n",
       "      <td>Case courtesy of Dr Ian Bickle, Radiopaedia.or...</td>\n",
       "      <td>NaN</td>\n",
       "    </tr>\n",
       "    <tr>\n",
       "      <th>946</th>\n",
       "      <td>479</td>\n",
       "      <td>70.0</td>\n",
       "      <td>F</td>\n",
       "      <td>40.0</td>\n",
       "      <td>Pneumonia</td>\n",
       "      <td>NaN</td>\n",
       "      <td>NaN</td>\n",
       "      <td>NaN</td>\n",
       "      <td>NaN</td>\n",
       "      <td>NaN</td>\n",
       "      <td>...</td>\n",
       "      <td>NaN</td>\n",
       "      <td>United Kingdom</td>\n",
       "      <td>images</td>\n",
       "      <td>ff33c406392b968d483174c97eb857_jumbo-9.jpeg</td>\n",
       "      <td>NaN</td>\n",
       "      <td>https://radiopaedia.org/cases/multifocal-round...</td>\n",
       "      <td>CC BY-NC-SA</td>\n",
       "      <td>Asthmatic. Shortness of breath and wheeze. The...</td>\n",
       "      <td>Case courtesy of Dr Ian Bickle, Radiopaedia.or...</td>\n",
       "      <td>NaN</td>\n",
       "    </tr>\n",
       "    <tr>\n",
       "      <th>947</th>\n",
       "      <td>480</td>\n",
       "      <td>NaN</td>\n",
       "      <td>M</td>\n",
       "      <td>26.0</td>\n",
       "      <td>Pneumonia</td>\n",
       "      <td>NaN</td>\n",
       "      <td>NaN</td>\n",
       "      <td>NaN</td>\n",
       "      <td>NaN</td>\n",
       "      <td>NaN</td>\n",
       "      <td>...</td>\n",
       "      <td>NaN</td>\n",
       "      <td>NaN</td>\n",
       "      <td>images</td>\n",
       "      <td>000001-266.jpg</td>\n",
       "      <td>NaN</td>\n",
       "      <td>https://www.eurorad.org/case/947</td>\n",
       "      <td>CC BY-NC-SA 4.0</td>\n",
       "      <td>fire-eater accidentally ingested a paraffin mi...</td>\n",
       "      <td>NaN</td>\n",
       "      <td>NaN</td>\n",
       "    </tr>\n",
       "    <tr>\n",
       "      <th>948</th>\n",
       "      <td>481</td>\n",
       "      <td>NaN</td>\n",
       "      <td>M</td>\n",
       "      <td>50.0</td>\n",
       "      <td>Pneumonia</td>\n",
       "      <td>NaN</td>\n",
       "      <td>NaN</td>\n",
       "      <td>NaN</td>\n",
       "      <td>NaN</td>\n",
       "      <td>NaN</td>\n",
       "      <td>...</td>\n",
       "      <td>NaN</td>\n",
       "      <td>NaN</td>\n",
       "      <td>images</td>\n",
       "      <td>000001-272.jpg</td>\n",
       "      <td>NaN</td>\n",
       "      <td>https://www.eurorad.org/case/934</td>\n",
       "      <td>CC BY-NC-SA 4.0</td>\n",
       "      <td>The patient, a heavy smoker, was referred to t...</td>\n",
       "      <td>NaN</td>\n",
       "      <td>NaN</td>\n",
       "    </tr>\n",
       "    <tr>\n",
       "      <th>949</th>\n",
       "      <td>481</td>\n",
       "      <td>NaN</td>\n",
       "      <td>M</td>\n",
       "      <td>50.0</td>\n",
       "      <td>Pneumonia</td>\n",
       "      <td>NaN</td>\n",
       "      <td>NaN</td>\n",
       "      <td>NaN</td>\n",
       "      <td>NaN</td>\n",
       "      <td>NaN</td>\n",
       "      <td>...</td>\n",
       "      <td>NaN</td>\n",
       "      <td>NaN</td>\n",
       "      <td>images</td>\n",
       "      <td>000002-268.jpg</td>\n",
       "      <td>NaN</td>\n",
       "      <td>https://www.eurorad.org/case/934</td>\n",
       "      <td>CC BY-NC-SA 4.0</td>\n",
       "      <td>The patient, a heavy smoker, was referred to t...</td>\n",
       "      <td>NaN</td>\n",
       "      <td>NaN</td>\n",
       "    </tr>\n",
       "  </tbody>\n",
       "</table>\n",
       "<p>950 rows × 30 columns</p>\n",
       "</div>"
      ],
      "text/plain": [
       "      patientid  offset  sex   age                         finding  \\\n",
       "index                                                                \n",
       "0             2     0.0    M  65.0        Pneumonia/Viral/COVID-19   \n",
       "1             2     3.0    M  65.0        Pneumonia/Viral/COVID-19   \n",
       "2             2     5.0    M  65.0        Pneumonia/Viral/COVID-19   \n",
       "3             2     6.0    M  65.0        Pneumonia/Viral/COVID-19   \n",
       "4             4     0.0    F  52.0        Pneumonia/Viral/COVID-19   \n",
       "5             4     5.0    F  52.0        Pneumonia/Viral/COVID-19   \n",
       "6             5     NaN  NaN   NaN                       Pneumonia   \n",
       "7             6     0.0  NaN   NaN        Pneumonia/Viral/COVID-19   \n",
       "8             6     4.0  NaN   NaN        Pneumonia/Viral/COVID-19   \n",
       "9             3     4.0    M  74.0            Pneumonia/Viral/SARS   \n",
       "10            3     9.0    M  74.0            Pneumonia/Viral/SARS   \n",
       "11            3    10.0    M  74.0            Pneumonia/Viral/SARS   \n",
       "12            7     7.0    F  29.0            Pneumonia/Viral/SARS   \n",
       "13            7    12.0    F  29.0            Pneumonia/Viral/SARS   \n",
       "14            8     9.0    F  42.0            Pneumonia/Viral/SARS   \n",
       "15            9     5.0    F  46.0            Pneumonia/Viral/SARS   \n",
       "16            9    17.0    F  46.0            Pneumonia/Viral/SARS   \n",
       "17           10    19.0    F  73.0            Pneumonia/Viral/SARS   \n",
       "18           10    27.0    F  73.0            Pneumonia/Viral/SARS   \n",
       "19           10    35.0    F  73.0            Pneumonia/Viral/SARS   \n",
       "20           11     0.0    M  56.0        Pneumonia/Viral/COVID-19   \n",
       "21           12     7.0    M  42.0        Pneumonia/Viral/COVID-19   \n",
       "22           13     4.0    M  35.0        Pneumonia/Viral/COVID-19   \n",
       "23           13     4.0    M  35.0        Pneumonia/Viral/COVID-19   \n",
       "24           13     7.0    M  35.0        Pneumonia/Viral/COVID-19   \n",
       "25           13     7.0    M  35.0        Pneumonia/Viral/COVID-19   \n",
       "26           13     9.0    M  35.0        Pneumonia/Viral/COVID-19   \n",
       "27           13    10.0    M  35.0        Pneumonia/Viral/COVID-19   \n",
       "28           13    10.0    M  35.0        Pneumonia/Viral/COVID-19   \n",
       "29           14     0.0    F   NaN        Pneumonia/Viral/COVID-19   \n",
       "...         ...     ...  ...   ...                             ...   \n",
       "920         466     NaN    F  70.0                       Pneumonia   \n",
       "921         466     NaN    F  70.0                       Pneumonia   \n",
       "922         467     NaN    M  60.0                       Pneumonia   \n",
       "923         467     NaN    M  60.0                       Pneumonia   \n",
       "924         468     NaN    F  50.0                       Pneumonia   \n",
       "925         468     NaN    F  50.0                       Pneumonia   \n",
       "926         469     NaN    F  25.0                       Pneumonia   \n",
       "927         469     NaN    F  25.0                       Pneumonia   \n",
       "928         470     NaN    M  55.0                       Pneumonia   \n",
       "929         470     NaN    M  55.0                       Pneumonia   \n",
       "930         471     0.0    M  20.0        Pneumonia/Viral/COVID-19   \n",
       "931         471    30.0    M  20.0        Pneumonia/Viral/COVID-19   \n",
       "932         471    51.0    M  20.0        Pneumonia/Viral/COVID-19   \n",
       "933         471    72.0    M  20.0        Pneumonia/Viral/COVID-19   \n",
       "934         472     7.0    M  47.0        Pneumonia/Viral/COVID-19   \n",
       "935         473     7.0    M  71.0        Pneumonia/Viral/COVID-19   \n",
       "936         474     NaN    M  55.0        Pneumonia/Viral/COVID-19   \n",
       "937         475     0.0    M  50.0        Pneumonia/Viral/COVID-19   \n",
       "938         475     2.0    M  50.0        Pneumonia/Viral/COVID-19   \n",
       "939         476     3.0    M  25.0        Pneumonia/Viral/COVID-19   \n",
       "940         476     3.0    M  25.0        Pneumonia/Viral/COVID-19   \n",
       "941         477     7.0    F  60.0  Pneumonia/Bacterial/Legionella   \n",
       "942         477     NaN    F  60.0  Pneumonia/Bacterial/Legionella   \n",
       "943         478     NaN    F  75.0                      No Finding   \n",
       "944         478     NaN    F  75.0                       Pneumonia   \n",
       "945         479     0.0    F  40.0                       Pneumonia   \n",
       "946         479    70.0    F  40.0                       Pneumonia   \n",
       "947         480     NaN    M  26.0                       Pneumonia   \n",
       "948         481     NaN    M  50.0                       Pneumonia   \n",
       "949         481     NaN    M  50.0                       Pneumonia   \n",
       "\n",
       "      RT_PCR_positive survival intubated intubation_present went_icu  ...  \\\n",
       "index                                                                 ...   \n",
       "0                   Y        Y         N                  N        N  ...   \n",
       "1                   Y        Y         N                  N        N  ...   \n",
       "2                   Y        Y         N                  N        N  ...   \n",
       "3                   Y        Y         N                  N        N  ...   \n",
       "4                   Y      NaN         N                  N        N  ...   \n",
       "5                   Y      NaN         N                  N        N  ...   \n",
       "6                 NaN      NaN         Y                  Y        Y  ...   \n",
       "7                   Y      NaN         Y                  Y        Y  ...   \n",
       "8                   Y      NaN         Y                  Y        Y  ...   \n",
       "9                 NaN        N       NaN                NaN      NaN  ...   \n",
       "10                NaN        N       NaN                NaN      NaN  ...   \n",
       "11                NaN        N       NaN                NaN      NaN  ...   \n",
       "12                NaN        Y       NaN                NaN      NaN  ...   \n",
       "13                NaN        Y       NaN                NaN      NaN  ...   \n",
       "14                NaN      NaN       NaN                NaN      NaN  ...   \n",
       "15                NaN      NaN       NaN                NaN      NaN  ...   \n",
       "16                NaN      NaN       NaN                NaN      NaN  ...   \n",
       "17                NaN        N       NaN                NaN      NaN  ...   \n",
       "18                NaN        N       NaN                NaN      NaN  ...   \n",
       "19                NaN        N       NaN                NaN      NaN  ...   \n",
       "20                  Y        Y       NaN                NaN      NaN  ...   \n",
       "21                  Y        Y       NaN                NaN      NaN  ...   \n",
       "22                  Y        Y         N                  N        N  ...   \n",
       "23                  Y        Y         N                  N        N  ...   \n",
       "24                  Y        Y         N                  N        N  ...   \n",
       "25                  Y        Y         N                  N        N  ...   \n",
       "26                  Y        Y         N                  N        N  ...   \n",
       "27                  Y        Y         N                  N        N  ...   \n",
       "28                  Y        Y         N                  N        N  ...   \n",
       "29                  Y      NaN       NaN                NaN      NaN  ...   \n",
       "...               ...      ...       ...                ...      ...  ...   \n",
       "920               NaN      NaN       NaN                NaN      NaN  ...   \n",
       "921               NaN      NaN       NaN                NaN      NaN  ...   \n",
       "922               NaN      NaN       NaN                NaN      NaN  ...   \n",
       "923               NaN      NaN       NaN                NaN      NaN  ...   \n",
       "924               NaN      NaN       NaN                NaN      NaN  ...   \n",
       "925               NaN      NaN       NaN                NaN      NaN  ...   \n",
       "926               NaN      NaN       NaN                NaN      NaN  ...   \n",
       "927               NaN      NaN       NaN                NaN      NaN  ...   \n",
       "928               NaN      NaN       NaN                NaN      NaN  ...   \n",
       "929               NaN      NaN       NaN                NaN      NaN  ...   \n",
       "930                 Y      NaN       NaN                NaN      NaN  ...   \n",
       "931                 Y      NaN       NaN                NaN      NaN  ...   \n",
       "932                 Y      NaN       NaN                NaN      NaN  ...   \n",
       "933                 Y      NaN       NaN                NaN      NaN  ...   \n",
       "934                 Y        Y         N                  N        N  ...   \n",
       "935                 Y      NaN       NaN                NaN      NaN  ...   \n",
       "936           Unclear      NaN       NaN                NaN      NaN  ...   \n",
       "937                 Y      NaN         N                  N        Y  ...   \n",
       "938                 Y      NaN         N                  N        Y  ...   \n",
       "939                 Y        Y       NaN                NaN      NaN  ...   \n",
       "940                 Y        Y       NaN                NaN      NaN  ...   \n",
       "941               NaN      NaN         Y                NaN        Y  ...   \n",
       "942               NaN      NaN         Y                  Y        Y  ...   \n",
       "943               NaN      NaN       NaN                NaN      NaN  ...   \n",
       "944               NaN      NaN       NaN                NaN      NaN  ...   \n",
       "945               NaN      NaN       NaN                NaN      NaN  ...   \n",
       "946               NaN      NaN       NaN                NaN      NaN  ...   \n",
       "947               NaN      NaN       NaN                NaN      NaN  ...   \n",
       "948               NaN      NaN       NaN                NaN      NaN  ...   \n",
       "949               NaN      NaN       NaN                NaN      NaN  ...   \n",
       "\n",
       "                   date                                           location  \\\n",
       "index                                                                        \n",
       "0      January 22, 2020        Cho Ray Hospital, Ho Chi Minh City, Vietnam   \n",
       "1      January 25, 2020        Cho Ray Hospital, Ho Chi Minh City, Vietnam   \n",
       "2      January 27, 2020        Cho Ray Hospital, Ho Chi Minh City, Vietnam   \n",
       "3      January 28, 2020        Cho Ray Hospital, Ho Chi Minh City, Vietnam   \n",
       "4      January 25, 2020  Changhua Christian Hospital, Changhua City, Ta...   \n",
       "5      January 30, 2020  Changhua Christian Hospital, Changhua City, Ta...   \n",
       "6                  2017                                                NaN   \n",
       "7       January 6, 2020  Wuhan Jinyintan Hospital, Wuhan, Hubei Provinc...   \n",
       "8      January 10, 2020  Wuhan Jinyintan Hospital, Wuhan, Hubei Provinc...   \n",
       "9                  2004     Mount Sinai Hospital, Toronto, Ontario, Canada   \n",
       "10                 2004     Mount Sinai Hospital, Toronto, Ontario, Canada   \n",
       "11                 2004     Mount Sinai Hospital, Toronto, Ontario, Canada   \n",
       "12                 2004     Mount Sinai Hospital, Toronto, Ontario, Canada   \n",
       "13                 2004     Mount Sinai Hospital, Toronto, Ontario, Canada   \n",
       "14                 2004     Mount Sinai Hospital, Toronto, Ontario, Canada   \n",
       "15                 2004     Mount Sinai Hospital, Toronto, Ontario, Canada   \n",
       "16                 2004     Mount Sinai Hospital, Toronto, Ontario, Canada   \n",
       "17                 2004     Mount Sinai Hospital, Toronto, Ontario, Canada   \n",
       "18                 2004     Mount Sinai Hospital, Toronto, Ontario, Canada   \n",
       "19                 2004     Mount Sinai Hospital, Toronto, Ontario, Canada   \n",
       "20                 2020  Sunnybrook Health Sciences Centre, Toronto, On...   \n",
       "21      January 1, 2020  Tongji Medical College, Wuhan, Hubei Province,...   \n",
       "22     January 19, 2020        Snohomish County, Washington, United States   \n",
       "23     January 19, 2020        Snohomish County, Washington, United States   \n",
       "24     January 22, 2020        Snohomish County, Washington, United States   \n",
       "25     January 22, 2020        Snohomish County, Washington, United States   \n",
       "26     January 24, 2020        Snohomish County, Washington, United States   \n",
       "27     January 26, 2020        Snohomish County, Washington, United States   \n",
       "28     January 26, 2020        Snohomish County, Washington, United States   \n",
       "29                 2020                                          Hong Kong   \n",
       "...                 ...                                                ...   \n",
       "920                 NaN                               Melbourne, Australia   \n",
       "921                 NaN                               Melbourne, Australia   \n",
       "922                 NaN                                            Hungary   \n",
       "923                 NaN                                            Hungary   \n",
       "924                 NaN                                Adelaide, Australia   \n",
       "925                 NaN                                Adelaide, Australia   \n",
       "926                 NaN                                    Calgary, Canada   \n",
       "927                 NaN                                    Calgary, Canada   \n",
       "928                 NaN                               Melbourne, Australia   \n",
       "929                 NaN                               Melbourne, Australia   \n",
       "930                2020                                     United Kingdom   \n",
       "931                2020                                     United Kingdom   \n",
       "932                2020                                     United Kingdom   \n",
       "933                2020                                     United Kingdom   \n",
       "934                2020                          California, United States   \n",
       "935                2020                          California, United States   \n",
       "936                2020                              Al Hasa, Saudi Arabia   \n",
       "937                2020                          California, United States   \n",
       "938                2020                          California, United States   \n",
       "939                2020  Hospital Universitario Severo Ochoa, Madrid, S...   \n",
       "940                2020  Hospital Universitario Severo Ochoa, Madrid, S...   \n",
       "941                 NaN                                     United Kingdom   \n",
       "942                 NaN                                     United Kingdom   \n",
       "943                 NaN                                            Hungary   \n",
       "944                 NaN                                            Hungary   \n",
       "945                 NaN                                     United Kingdom   \n",
       "946                 NaN                                     United Kingdom   \n",
       "947                 NaN                                                NaN   \n",
       "948                 NaN                                                NaN   \n",
       "949                 NaN                                                NaN   \n",
       "\n",
       "       folder                                           filename  \\\n",
       "index                                                              \n",
       "0      images  auntminnie-a-2020_01_28_23_51_6665_2020_01_28_...   \n",
       "1      images  auntminnie-b-2020_01_28_23_51_6665_2020_01_28_...   \n",
       "2      images  auntminnie-c-2020_01_28_23_51_6665_2020_01_28_...   \n",
       "3      images  auntminnie-d-2020_01_28_23_51_6665_2020_01_28_...   \n",
       "4      images                              nejmc2001573_f1a.jpeg   \n",
       "5      images                              nejmc2001573_f1b.jpeg   \n",
       "6      images                                     ARDSSevere.png   \n",
       "7      images                                  lancet-case2a.jpg   \n",
       "8      images                                  lancet-case2b.jpg   \n",
       "9      images  SARS-10.1148rg.242035193-g04mr34g0-Fig8a-day0....   \n",
       "10     images  SARS-10.1148rg.242035193-g04mr34g0-Fig8b-day5....   \n",
       "11     images  SARS-10.1148rg.242035193-g04mr34g0-Fig8c-day10...   \n",
       "12     images  SARS-10.1148rg.242035193-g04mr34g04a-Fig4a-day...   \n",
       "13     images  SARS-10.1148rg.242035193-g04mr34g04b-Fig4b-day...   \n",
       "14     images  SARS-10.1148rg.242035193-g04mr34g05x-Fig5-day9...   \n",
       "15     images  SARS-10.1148rg.242035193-g04mr34g07a-Fig7a-day...   \n",
       "16     images  SARS-10.1148rg.242035193-g04mr34g07b-Fig7b-day...   \n",
       "17     images  SARS-10.1148rg.242035193-g04mr34g09a-Fig9a-day...   \n",
       "18     images  SARS-10.1148rg.242035193-g04mr34g09b-Fig9b-day...   \n",
       "19     images  SARS-10.1148rg.242035193-g04mr34g09c-Fig9c-day...   \n",
       "20     images               1-s2.0-S0140673620303706-fx1_lrg.jpg   \n",
       "21     images              nCoV-radiol.2020200269.fig1-day7.jpeg   \n",
       "22     images                           nejmoa2001191_f1-PA.jpeg   \n",
       "23     images                            nejmoa2001191_f1-L.jpeg   \n",
       "24     images                           nejmoa2001191_f3-PA.jpeg   \n",
       "25     images                            nejmoa2001191_f3-L.jpeg   \n",
       "26     images                              nejmoa2001191_f4.jpeg   \n",
       "27     images                           nejmoa2001191_f5-PA.jpeg   \n",
       "28     images                            nejmoa2001191_f5-L.jpeg   \n",
       "29     images                          ryct.2020200034.fig2.jpeg   \n",
       "...       ...                                                ...   \n",
       "920    images          1538fbfe9d0872739b00f5a51e4fdc_jumbo.jpeg   \n",
       "921    images          49eca411aa2d4ccd73df21a209a551_jumbo.jpeg   \n",
       "922    images          7a7044c64a87936f09fee9a7f5c5fa_jumbo.jpeg   \n",
       "923    images          2b4425e4afe32fa5e047fcac58f8e9_jumbo.jpeg   \n",
       "924    images           4e74cbafeab0bfd317a93e1aace6cf_jumbo.jpg   \n",
       "925    images           e0e3a6526a3fecadfca2be13242798_jumbo.jpg   \n",
       "926    images          2264f643b18b1010ec10a850f17550_jumbo.jpeg   \n",
       "927    images          800f798a58d0cbcc72eb234f192461_jumbo.jpeg   \n",
       "928    images           55f5189d2c23688ac8dc1d58eb65cf_jumbo.jpg   \n",
       "929    images           d2cdf41a662113279d2ec21af3a4e2_jumbo.jpg   \n",
       "930    images                                      16953_1_1.jpg   \n",
       "931    images                                      16953_3_1.jpg   \n",
       "932    images                                      16953_4_1.jpg   \n",
       "933    images                                      16953_5_1.jpg   \n",
       "934    images                                      16892_2_1.png   \n",
       "935    images                                      16883_1_1.png   \n",
       "936    images          2edb88df42cab5e5fbc18b3965e0bd_jumbo.jpeg   \n",
       "937    images                                      16858_1_1.png   \n",
       "938    images                                      16858_3_1.png   \n",
       "939    images                                      16865_1_1.jpg   \n",
       "940    images                                      16865_1_2.jpg   \n",
       "941    images       bdc40f9ad2395d88c92479089f5d1b_jumbo-10.jpeg   \n",
       "942    images       15d081345df9ca620ebe5e76023775_jumbo-10.jpeg   \n",
       "943    images       02b973e10caa192fd4e6825ad4aeaf_jumbo-10.jpeg   \n",
       "944    images       d2c8a74b37d8d1581ea2a8fe865ef3_jumbo-10.jpeg   \n",
       "945    images        072ecaf8c60a81980abb57150a8016_jumbo-9.jpeg   \n",
       "946    images        ff33c406392b968d483174c97eb857_jumbo-9.jpeg   \n",
       "947    images                                     000001-266.jpg   \n",
       "948    images                                     000001-272.jpg   \n",
       "949    images                                     000002-268.jpg   \n",
       "\n",
       "                                 doi  \\\n",
       "index                                  \n",
       "0               10.1056/nejmc2001272   \n",
       "1               10.1056/nejmc2001272   \n",
       "2               10.1056/nejmc2001272   \n",
       "3               10.1056/nejmc2001272   \n",
       "4               10.1056/NEJMc2001573   \n",
       "5               10.1056/NEJMc2001573   \n",
       "6                                NaN   \n",
       "7      10.1016/S0140-6736(20)30211-7   \n",
       "8      10.1016/S0140-6736(20)30211-7   \n",
       "9               10.1148/rg.242035193   \n",
       "10              10.1148/rg.242035193   \n",
       "11              10.1148/rg.242035193   \n",
       "12              10.1148/rg.242035193   \n",
       "13              10.1148/rg.242035193   \n",
       "14              10.1148/rg.242035193   \n",
       "15              10.1148/rg.242035193   \n",
       "16              10.1148/rg.242035193   \n",
       "17              10.1148/rg.242035193   \n",
       "18              10.1148/rg.242035193   \n",
       "19              10.1148/rg.242035193   \n",
       "20     10.1016/S0140-6736(20)30370-6   \n",
       "21         10.1148/radiol.2020200269   \n",
       "22             10.1056/NEJMoa2001191   \n",
       "23             10.1056/NEJMoa2001191   \n",
       "24             10.1056/NEJMoa2001191   \n",
       "25             10.1056/NEJMoa2001191   \n",
       "26             10.1056/NEJMoa2001191   \n",
       "27             10.1056/NEJMoa2001191   \n",
       "28             10.1056/NEJMoa2001191   \n",
       "29           10.1148/ryct.2020200034   \n",
       "...                              ...   \n",
       "920                              NaN   \n",
       "921                              NaN   \n",
       "922                              NaN   \n",
       "923                              NaN   \n",
       "924                              NaN   \n",
       "925                              NaN   \n",
       "926                              NaN   \n",
       "927                              NaN   \n",
       "928                              NaN   \n",
       "929                              NaN   \n",
       "930                              NaN   \n",
       "931                              NaN   \n",
       "932                              NaN   \n",
       "933                              NaN   \n",
       "934                              NaN   \n",
       "935                              NaN   \n",
       "936                              NaN   \n",
       "937                              NaN   \n",
       "938                              NaN   \n",
       "939                              NaN   \n",
       "940                              NaN   \n",
       "941                              NaN   \n",
       "942                              NaN   \n",
       "943                              NaN   \n",
       "944                              NaN   \n",
       "945                              NaN   \n",
       "946                              NaN   \n",
       "947                              NaN   \n",
       "948                              NaN   \n",
       "949                              NaN   \n",
       "\n",
       "                                                     url          license  \\\n",
       "index                                                                       \n",
       "0      https://www.nejm.org/doi/full/10.1056/NEJMc200...              NaN   \n",
       "1      https://www.nejm.org/doi/full/10.1056/NEJMc200...              NaN   \n",
       "2      https://www.nejm.org/doi/full/10.1056/NEJMc200...              NaN   \n",
       "3      https://www.nejm.org/doi/full/10.1056/NEJMc200...              NaN   \n",
       "4      https://www.nejm.org/doi/full/10.1056/NEJMc200...              NaN   \n",
       "5      https://www.nejm.org/doi/full/10.1056/NEJMc200...              NaN   \n",
       "6      https://en.wikipedia.org/wiki/File:ARDSSevere.png         CC BY-SA   \n",
       "7      https://www.thelancet.com/journals/lancet/arti...              NaN   \n",
       "8      https://www.thelancet.com/journals/lancet/arti...              NaN   \n",
       "9         https://pubs.rsna.org/doi/10.1148/rg.242035193              NaN   \n",
       "10        https://pubs.rsna.org/doi/10.1148/rg.242035193              NaN   \n",
       "11        https://pubs.rsna.org/doi/10.1148/rg.242035193              NaN   \n",
       "12        https://pubs.rsna.org/doi/10.1148/rg.242035193              NaN   \n",
       "13        https://pubs.rsna.org/doi/10.1148/rg.242035193              NaN   \n",
       "14        https://pubs.rsna.org/doi/10.1148/rg.242035193              NaN   \n",
       "15        https://pubs.rsna.org/doi/10.1148/rg.242035193              NaN   \n",
       "16        https://pubs.rsna.org/doi/10.1148/rg.242035193              NaN   \n",
       "17        https://pubs.rsna.org/doi/10.1148/rg.242035193              NaN   \n",
       "18        https://pubs.rsna.org/doi/10.1148/rg.242035193              NaN   \n",
       "19        https://pubs.rsna.org/doi/10.1148/rg.242035193              NaN   \n",
       "20     https://www.sciencedirect.com/science/article/...              NaN   \n",
       "21     https://pubs.rsna.org/doi/10.1148/radiol.20202...              NaN   \n",
       "22     https://www.nejm.org/doi/full/10.1056/NEJMoa20...              NaN   \n",
       "23     https://www.nejm.org/doi/full/10.1056/NEJMoa20...              NaN   \n",
       "24     https://www.nejm.org/doi/full/10.1056/NEJMoa20...              NaN   \n",
       "25     https://www.nejm.org/doi/full/10.1056/NEJMoa20...              NaN   \n",
       "26     https://www.nejm.org/doi/full/10.1056/NEJMoa20...              NaN   \n",
       "27     https://www.nejm.org/doi/full/10.1056/NEJMoa20...              NaN   \n",
       "28     https://www.nejm.org/doi/full/10.1056/NEJMoa20...              NaN   \n",
       "29     https://pubs.rsna.org/doi/full/10.1148/ryct.20...              NaN   \n",
       "...                                                  ...              ...   \n",
       "920    https://radiopaedia.org/cases/right-middle-lob...      CC BY-NC-SA   \n",
       "921    https://radiopaedia.org/cases/right-middle-lob...      CC BY-NC-SA   \n",
       "922    https://radiopaedia.org/cases/right-middle-lob...      CC BY-NC-SA   \n",
       "923    https://radiopaedia.org/cases/right-middle-lob...      CC BY-NC-SA   \n",
       "924    https://radiopaedia.org/cases/left-lower-lobe-...      CC BY-NC-SA   \n",
       "925    https://radiopaedia.org/cases/left-lower-lobe-...      CC BY-NC-SA   \n",
       "926    https://radiopaedia.org/cases/silhouette-sign-...      CC BY-NC-SA   \n",
       "927    https://radiopaedia.org/cases/silhouette-sign-...      CC BY-NC-SA   \n",
       "928    https://radiopaedia.org/cases/left-lower-lobe-...      CC BY-NC-SA   \n",
       "929    https://radiopaedia.org/cases/left-lower-lobe-...      CC BY-NC-SA   \n",
       "930                   https://www.eurorad.org/case/16953  CC BY-NC-SA 4.0   \n",
       "931                   https://www.eurorad.org/case/16953  CC BY-NC-SA 4.0   \n",
       "932                   https://www.eurorad.org/case/16953  CC BY-NC-SA 4.0   \n",
       "933                   https://www.eurorad.org/case/16953  CC BY-NC-SA 4.0   \n",
       "934                   https://www.eurorad.org/case/16892  CC BY-NC-SA 4.0   \n",
       "935                   https://www.eurorad.org/case/16883  CC BY-NC-SA 4.0   \n",
       "936    https://radiopaedia.org/cases/covid-19-pneumon...      CC BY-NC-SA   \n",
       "937                   https://www.eurorad.org/case/16858  CC BY-NC-SA 4.0   \n",
       "938                   https://www.eurorad.org/case/16858  CC BY-NC-SA 4.0   \n",
       "939                   https://www.eurorad.org/case/16865  CC BY-NC-SA 4.0   \n",
       "940                   https://www.eurorad.org/case/16865  CC BY-NC-SA 4.0   \n",
       "941    https://radiopaedia.org/cases/legionella-pneum...      CC BY-NC-SA   \n",
       "942    https://radiopaedia.org/cases/legionella-pneum...      CC BY-NC-SA   \n",
       "943    https://radiopaedia.org/cases/right-middle-lob...      CC BY-NC-SA   \n",
       "944    https://radiopaedia.org/cases/right-middle-lob...      CC BY-NC-SA   \n",
       "945    https://radiopaedia.org/cases/multifocal-round...      CC BY-NC-SA   \n",
       "946    https://radiopaedia.org/cases/multifocal-round...      CC BY-NC-SA   \n",
       "947                     https://www.eurorad.org/case/947  CC BY-NC-SA 4.0   \n",
       "948                     https://www.eurorad.org/case/934  CC BY-NC-SA 4.0   \n",
       "949                     https://www.eurorad.org/case/934  CC BY-NC-SA 4.0   \n",
       "\n",
       "                                          clinical_notes  \\\n",
       "index                                                      \n",
       "0      On January 22, 2020, a 65-year-old man with a ...   \n",
       "1      On January 22, 2020, a 65-year-old man with a ...   \n",
       "2      On January 22, 2020, a 65-year-old man with a ...   \n",
       "3      On January 22, 2020, a 65-year-old man with a ...   \n",
       "4       diffuse infiltrates in the bilateral lower lungs   \n",
       "5      progressive diffuse interstitial opacities and...   \n",
       "6      Severe ARDS. Person is intubated with an OG in...   \n",
       "7      Case 2: chest x-ray obtained on Jan 6 (2A). Th...   \n",
       "8      Case 2: chest x-ray obtained on Jan 6 (2A). Th...   \n",
       "9      SARS in a 74-year-old man who developed sympto...   \n",
       "10     SARS in a 74-year-old man who developed sympto...   \n",
       "11     SARS in a 74-year-old man who developed sympto...   \n",
       "12     SARS in a 29-year-old woman who presented 7 da...   \n",
       "13     SARS in a 29-year-old woman who presented 7 da...   \n",
       "14     SARS in a 42-year-old woman who presented 9 da...   \n",
       "15     SARS in a 46-year-old woman who presented 5 da...   \n",
       "16     SARS in a 46-year-old woman who presented 5 da...   \n",
       "17     SARS in a 73-year-old woman who presented 17 d...   \n",
       "18     SARS in a 73-year-old woman who presented 17 d...   \n",
       "19     SARS in a 73-year-old woman who presented 17 d...   \n",
       "20     A 56-year-old man presented to our Emergency D...   \n",
       "21     On January 1, 2020, a 42-year-old man was admi...   \n",
       "22     On January 19, 2020, a 35-year-old man present...   \n",
       "23     On January 19, 2020, a 35-year-old man present...   \n",
       "24     On January 19, 2020, a 35-year-old man present...   \n",
       "25     On January 19, 2020, a 35-year-old man present...   \n",
       "26     On January 19, 2020, a 35-year-old man present...   \n",
       "27     On January 19, 2020, a 35-year-old man present...   \n",
       "28     On January 19, 2020, a 35-year-old man present...   \n",
       "29                                                   NaN   \n",
       "...                                                  ...   \n",
       "920    Fevers, cough, dyspnea. Mild cardiomegaly. Rig...   \n",
       "921    Fevers, cough, dyspnea. Mild cardiomegaly. Rig...   \n",
       "922    Fever and dyspnea. Raised serum inflammatory m...   \n",
       "923    Fever and dyspnea. Raised serum inflammatory m...   \n",
       "924    Shortness of breath, fever and rigors Opacity ...   \n",
       "925    Shortness of breath, fever and rigors Opacity ...   \n",
       "926    A young woman is sent with a diagnosis of pneu...   \n",
       "927    A young woman is sent with a diagnosis of pneu...   \n",
       "928    Productive cough and fever Region of consolida...   \n",
       "929    Productive cough and fever Region of consolida...   \n",
       "930    A 20-year-old male with a history of asthma pr...   \n",
       "931    A 20-year-old male with a history of asthma pr...   \n",
       "932    A 20-year-old male with a history of asthma pr...   \n",
       "933    A 20-year-old male with a history of asthma pr...   \n",
       "934    A previously healthy 47-year-old male presente...   \n",
       "935    A 71-year-old male with no known past medical ...   \n",
       "936    Fever, abdominal pain and diarrhea. No cough o...   \n",
       "937    A 50-year-old male with recent positive corona...   \n",
       "938    A 50-year-old male with recent positive corona...   \n",
       "939    A 25 year-old male resident presented with a 7...   \n",
       "940    A 25 year-old male resident presented with a 7...   \n",
       "941    Unwell. Low saturations. Pyrexic. Tachypneic, ...   \n",
       "942    Unwell. Low saturations. Pyrexic. Tachypneic, ...   \n",
       "943    Decreased SpO2, elevated CRP and WBC, diffuse ...   \n",
       "944    Decreased SpO2, elevated CRP and WBC, diffuse ...   \n",
       "945    Asthmatic. Shortness of breath and wheeze. Rou...   \n",
       "946    Asthmatic. Shortness of breath and wheeze. The...   \n",
       "947    fire-eater accidentally ingested a paraffin mi...   \n",
       "948    The patient, a heavy smoker, was referred to t...   \n",
       "949    The patient, a heavy smoker, was referred to t...   \n",
       "\n",
       "                                             other_notes Unnamed: 29  \n",
       "index                                                                 \n",
       "0                                                    NaN         NaN  \n",
       "1                                                    NaN         NaN  \n",
       "2                                                    NaN         NaN  \n",
       "3                                                    NaN         NaN  \n",
       "4                                                    NaN         NaN  \n",
       "5                                                    NaN         NaN  \n",
       "6                                                    NaN         NaN  \n",
       "7                                                    NaN         NaN  \n",
       "8                                                    NaN         NaN  \n",
       "9                                                    NaN         NaN  \n",
       "10                                                   NaN         NaN  \n",
       "11                                                   NaN         NaN  \n",
       "12                                                   NaN         NaN  \n",
       "13                                                   NaN         NaN  \n",
       "14                                                   NaN         NaN  \n",
       "15                                                   NaN         NaN  \n",
       "16                                                   NaN         NaN  \n",
       "17                                                   NaN         NaN  \n",
       "18                                                   NaN         NaN  \n",
       "19                                                   NaN         NaN  \n",
       "20                                                   NaN         NaN  \n",
       "21                                                   NaN         NaN  \n",
       "22                                                   NaN         NaN  \n",
       "23                                                   NaN         NaN  \n",
       "24                                                   NaN         NaN  \n",
       "25                                                   NaN         NaN  \n",
       "26                                                   NaN         NaN  \n",
       "27                                                   NaN         NaN  \n",
       "28                                                   NaN         NaN  \n",
       "29                                                   NaN         NaN  \n",
       "...                                                  ...         ...  \n",
       "920    Case courtesy of RMH Core Conditions, Radiopae...         NaN  \n",
       "921    Case courtesy of RMH Core Conditions, Radiopae...         NaN  \n",
       "922    Case courtesy of Dr Kékkői László, Radiopaedia...         NaN  \n",
       "923    Case courtesy of Dr Kékkői László, Radiopaedia...         NaN  \n",
       "924    Case courtesy of Dr Thuan Tzen, Koh, Radiopaed...         NaN  \n",
       "925    Case courtesy of Dr Thuan Tzen, Koh, Radiopaed...         NaN  \n",
       "926    Case courtesy of Dr Garth Kruger, Radiopaedia....         NaN  \n",
       "927    Case courtesy of Dr Garth Kruger, Radiopaedia....         NaN  \n",
       "928    Case courtesy of Dr Andrew Dixon, Radiopaedia....         NaN  \n",
       "929    Case courtesy of Dr Andrew Dixon, Radiopaedia....         NaN  \n",
       "930                                                  NaN         NaN  \n",
       "931                                                  NaN         NaN  \n",
       "932                                                  NaN         NaN  \n",
       "933                                                  NaN         NaN  \n",
       "934                                                  NaN         NaN  \n",
       "935                                                  NaN         NaN  \n",
       "936    Case courtesy of Dr  Osama Rizk, Radiopaedia.o...         NaN  \n",
       "937                                                  NaN         NaN  \n",
       "938                                                  NaN         NaN  \n",
       "939                                                  NaN         NaN  \n",
       "940                                                  NaN         NaN  \n",
       "941    Case courtesy of Dr Ian Bickle, Radiopaedia.or...         NaN  \n",
       "942    Case courtesy of Dr Ian Bickle, Radiopaedia.or...         NaN  \n",
       "943    Case courtesy of Dr Balint Botz , Radiopaedia....         NaN  \n",
       "944    Case courtesy of Dr Balint Botz , Radiopaedia....         NaN  \n",
       "945    Case courtesy of Dr Ian Bickle, Radiopaedia.or...         NaN  \n",
       "946    Case courtesy of Dr Ian Bickle, Radiopaedia.or...         NaN  \n",
       "947                                                  NaN         NaN  \n",
       "948                                                  NaN         NaN  \n",
       "949                                                  NaN         NaN  \n",
       "\n",
       "[950 rows x 30 columns]"
      ]
     },
     "execution_count": 6,
     "metadata": {},
     "output_type": "execute_result"
    }
   ],
   "source": [
    "pd_reader.index.rename('index', inplace=True)\n",
    "# lines = pd_reader2['index']\n",
    "pd_reader"
   ]
  },
  {
   "cell_type": "code",
   "execution_count": 7,
   "metadata": {
    "id": "Lj0w4d1IccIr"
   },
   "outputs": [],
   "source": [
    "# # example 10\n",
    "# for i in range(10):\n",
    "#   num = img_num_set[i]\n",
    "#   print(\"Num#:\", num)\n",
    "#   print(image_name_all[num])\n",
    "#   temp_name = pd_reader['filename'][num]\n",
    "#   print(\"Current img:\", temp_name)\n",
    "#   main_grad('./covid-chestxray-dataset-master/images/' + temp_name)\n",
    "#   # main_grad('./covid-chestxray-dataset-master/images/' + image_name_all[num])\n",
    "#   print(i, PCR_result_all[num])"
   ]
  },
  {
   "cell_type": "markdown",
   "metadata": {
    "id": "go3uNbblVPgt"
   },
   "source": [
    "## Prepare graph model"
   ]
  },
  {
   "cell_type": "code",
   "execution_count": 8,
   "metadata": {
    "colab": {
     "base_uri": "https://localhost:8080/"
    },
    "id": "Od0nDMDgVTqO",
    "outputId": "1365c4bd-5b91-4ed6-e88d-defddd55029b"
   },
   "outputs": [
    {
     "name": "stdout",
     "output_type": "stream",
     "text": [
      "WARNING:tensorflow:From /mnt/iusers01/fse-ugpgt01/compsci01/f47825kl/.local/lib/python3.7/site-packages/tensorflow_core/python/compat/v2_compat.py:68: disable_resource_variables (from tensorflow.python.ops.variable_scope) is deprecated and will be removed in a future version.\n",
      "Instructions for updating:\n",
      "non-resource variables are not supported in the long term\n",
      "INFO:tensorflow:Restoring parameters from models/COVIDNet-CXR-Large/model-8485\n",
      "WARNING:tensorflow:From <ipython-input-2-388ea66ba684>:173: sparse_to_dense (from tensorflow.python.ops.sparse_ops) is deprecated and will be removed in a future version.\n",
      "Instructions for updating:\n",
      "Create a `tf.sparse.SparseTensor` and use `tf.sparse.to_dense` instead.\n",
      "WARNING:tensorflow:From <ipython-input-2-388ea66ba684>:179: div (from tensorflow.python.ops.math_ops) is deprecated and will be removed in a future version.\n",
      "Instructions for updating:\n",
      "Deprecated in favor of operator or tf.math.divide.\n",
      "GradCAM image is save in  ./\n"
     ]
    }
   ],
   "source": [
    "tf.disable_v2_behavior()\n",
    "weightspath = 'models/COVIDNet-CXR-Large/' \n",
    "  \n",
    "# arguments:\n",
    "IMAGE_PATH =\"assets/ex-covid.jpeg\"\n",
    "output_node_names = \"dense_3/Softmax:0\" #norm_dense_2/Softmax\n",
    "final_conv_name=\"conv5_block3_3_conv/BiasAdd:0\"  \n",
    "\n",
    "model_path = 'models/COVIDNet-CXR-Large/model' #models/COVIDNet-CXR-2/model\n",
    "model_path2 = 'models/COVIDNet-CXR-Large/model-8485'\n",
    "\n",
    "metaname = 'model.meta'\n",
    "ckptname = 'model'\n",
    "args_n_classes = 2\n",
    "\n",
    "args_testfolder = 'data/test'\n",
    "args_trainfile = 'labels/train_COVIDx9B.txt'\n",
    "args_testfile = 'labels/test_COVIDx9B.txt'\n",
    "\n",
    "args_out_tensorname = 'dense_3/Softmax:0' #norm_dense_2/Softmax:0\n",
    "args_logit_tensorname = 'norm_dense_2/MatMul:0'\n",
    "args_is_severity_model = False\n",
    "args_is_medusa_backbone = False\n",
    "\n",
    "args_in_tensorname = 'input_1:0'\n",
    "args_in_tensorname_medusa = 'input_1:0'\n",
    "args_input_size = 224 # 480\n",
    "args_input_size_medusa = 256\n",
    "args_top_percent = 0.08\n",
    "\n",
    "# save image\n",
    "args_impath = \"assets/ex-covid.jpeg\"\n",
    "args_pred_class = 'COVID-19'\n",
    "args_outdir = './'\n",
    "\n",
    "mapping = {'normal': 0, 'pneumonia': 1, 'COVID-19': 2}\n",
    "inv_mapping = {0: 'normal', 1: 'pneumonia', 2: 'COVID-19'}\n",
    "\n",
    "\n",
    "\n",
    "# if __name__ == '__main__':\n",
    "sess = tf.Session()\n",
    "\n",
    "saver = tf.train.import_meta_graph(model_path + '.meta')\n",
    "\n",
    "saver.restore(sess, model_path2)\n",
    "\n",
    "graph = tf.get_default_graph()\n",
    "\n",
    "image_tensor = graph.get_tensor_by_name(args_in_tensorname)\n",
    "gradCam = GradCAM(graph=graph, classes = [0,1,2], outLayer=args_out_tensorname, targetLayer=final_conv_name)\n",
    "\n",
    "grads = gradCam.compute_grads()\n",
    "\n",
    "x, origin_im = process_image_file(args_impath, args_top_percent, args_input_size)\n",
    "img_arr = np.asanyarray(x)\n",
    "size_upsample = (origin_im.shape[1],origin_im.shape[0]) # (w, h)\n",
    "\n",
    "x = x.astype('float32') / 255.0\n",
    "output, grads_val = sess.run([gradCam.target, grads[mapping[args_pred_class]]], feed_dict={image_tensor: np.expand_dims(x, axis=0)})\n",
    "\n",
    "cam3 = generate_cam(output[0],grads_val[0],size_upsample)\n",
    "\n",
    "\n",
    "# Overlay cam on image\n",
    "cam3 = np.uint8(255*cam3)\n",
    "cam3 = cv2.applyColorMap(cam3, cv2.COLORMAP_JET)\n",
    "\n",
    "new_im = cam3*0.3 + origin_im*0.5\n",
    "\n",
    "im_name = args_impath.split(\"/\")[-1]\n",
    "ext = im_name.split(\".\")[-1]\n",
    "\n",
    "# Save the GradCAM\n",
    "cv2.imwrite(os.path.join(args_outdir, \"{}_{}png\".format(args_pred_class, im_name.rstrip(ext))), new_im)\n",
    "\n",
    "print(\"GradCAM image is save in \", args_outdir)\n"
   ]
  },
  {
   "cell_type": "markdown",
   "metadata": {
    "id": "BGi5qmRlJfTZ"
   },
   "source": [
    "## Test once"
   ]
  },
  {
   "cell_type": "code",
   "execution_count": 14,
   "metadata": {
    "id": "kn4Rdu2dI9yh"
   },
   "outputs": [],
   "source": [
    "# # Test for example image\n",
    "\n",
    "\n",
    "# '''/////////////////////////main_grad use/////////////////////////////'''\n",
    "# temp_name = './assets/ex-covid.jpeg'\n",
    "# #     radiopaedia_org_covid-19-pneumonia-7_85703_0-dcm.nii.gz\n",
    "# print(\"Current img:\", temp_name)\n",
    "# img_m, new_im_2, cam3_resize = main_grad(temp_name)\n",
    "# '''/////////////////////////main_grad use/////////////////////////////'''\n",
    "\n",
    "\n",
    "# '''/////////////////////////show grad-cam area/////////////////////////////'''\n",
    "# img = cam3_resize\n",
    "# img2= img_m\n",
    "# gray = cv2.cvtColor(img,cv2.COLOR_BGR2GRAY)\n",
    "# gray2 = cv2.cvtColor(img2,cv2.COLOR_BGR2GRAY)\n",
    "\n",
    "# # ret, binary = cv2.threshold(gray,127,255,cv2.THRESH_BINARY)\n",
    "# # ret, binary = cv2.threshold(gray,120,255,cv2.THRESH_BINARY)\n",
    "# binary = cv2.inRange(gray,50,80)\n",
    "# # binary_lung = cv2.inRange(gray2,15,70)\n",
    "\n",
    "\n",
    "# # print(\"ret: \", ret)\n",
    "# cv2_imshow(binary)\n",
    "\n",
    "# # cv2_imshow(gray2)\n",
    "# # cv2_imshow(binary_lung)\n",
    "\n",
    "# print(\"cam_rec\")\n",
    "# contours, hierarchy = cv2.findContours(binary,cv2.RETR_EXTERNAL,cv2.CHAIN_APPROX_SIMPLE)\n",
    "# if len(contours) > 0  :\n",
    "#   cnt = contours[0]\n",
    "#   x, y, w, h = cv2.boundingRect(cnt)\n",
    "# else:\n",
    "#   x, y, w, h = 0, 0, 0, 0\n",
    "# img_new = cv2.rectangle(img, (x, y), (x + w, y + h), (0, 255, 255), 1)\n",
    "# cv2_imshow(img_new)\n",
    "\n",
    "# # print(\"lung_rec\")\n",
    "# # contours2, hierarchy2 = cv2.findContours(binary_lung,cv2.RETR_EXTERNAL,cv2.CHAIN_APPROX_SIMPLE)\n",
    "# # cnt2 = contours2[0]\n",
    "# # x2, y2, w2, h2 = cv2.boundingRect(cnt2)\n",
    "# # img_new2 = cv2.rectangle(img2, (x2, y2), (x2 + w2, y2 + h2), (0, 255, 255), 1)\n",
    "# # cv2_imshow(img_new2)\n",
    "# '''/////////////////////////show grad-cam area/////////////////////////////'''\n",
    "\n",
    "# '''/////////////////////////main-result/////////////////////////////'''\n",
    "\n",
    "# image = new_im_2\n",
    "# # draw the ground-truth bounding box along with the predicted\n",
    "\n",
    "# # bounding box\n",
    "\n",
    "# detection1 = [50, 50, 200, 150] #15, 15, 200, 200\n",
    "# # detection1 = [x2, y2, x2 + w2, y2 + h2]\n",
    "# detection2 = [x, y, x + w, y + h]\n",
    "# start_point1 = [50, 50]  #10,10\n",
    "# end_point1 = [200, 150]  #200,150\n",
    "# # start_point1 = [x2, y2]   # 137\n",
    "# # end_point1 = [x2+w2, y2+h2]  # 188\n",
    "\n",
    "\n",
    "# color1 = (0, 255, 0)\n",
    "# start_point2 = [x, y]   # 137\n",
    "# end_point2 = [x+w, y+h]  # 188\n",
    "# color2 = (0, 0, 255)\n",
    "# thickness = 2\n",
    "\n",
    "# cv2.rectangle(image, start_point1, end_point1, color1, thickness)\n",
    "# cv2.rectangle(image, start_point2, end_point2, color2, thickness)\n",
    "\n",
    "\n",
    "\n",
    "# # compute the intersection over union and display it\n",
    "# iou = bb_intersection_over_union(detection1, detection2)\n",
    "# # iou = bb_intersection_over_union(detection.gt, detection.pred)\n",
    "# cv2.putText(image, \"IoU: {:.4f}\".format(iou), (10, 30),\n",
    "#   cv2.FONT_HERSHEY_SIMPLEX, 0.6, (0, 255, 0), 2)\n",
    "\n",
    "# # show the output image\n",
    "# cv2_imshow(image)\n",
    "\n",
    "\n",
    "# '''/////////////////////////main-result/////////////////////////////'''\n"
   ]
  },
  {
   "cell_type": "markdown",
   "metadata": {
    "id": "URsOpMdVV-LI"
   },
   "source": [
    "## loop for all (10/30) images"
   ]
  },
  {
   "cell_type": "code",
   "execution_count": 15,
   "metadata": {
    "id": "iCWLPtEdfBB8"
   },
   "outputs": [],
   "source": [
    "# # create folder to save\n",
    "# !mkdir ./output_10/"
   ]
  },
  {
   "cell_type": "code",
   "execution_count": 16,
   "metadata": {
    "id": "QMboMRBzV68c"
   },
   "outputs": [],
   "source": [
    "# # change into loop\n",
    "\n",
    "# # for i in range(10):\n",
    "# #   num = img_num_set[i]\n",
    "# #   print(\"Num#:\", num)\n",
    "# #   print(image_name_all[num])\n",
    "# #   temp_name = pd_reader['filename'][num]\n",
    "# #   print(\"Current img:\", temp_name)\n",
    "# #   main_grad('./covid-chestxray-dataset-master/images/' + temp_name)\n",
    "# #   # main_grad('./covid-chestxray-dataset-master/images/' + image_name_all[num])\n",
    "# #   print(i, PCR_result_all[num])\n",
    "\n",
    "# iou_list = []\n",
    "# for i in range(len(img_num_set)):\n",
    "#   '''/////////////////////////main_grad use/////////////////////////////'''\n",
    "#   num = img_num_set[i]\n",
    "#   temp_name = pd_reader['filename'][num]\n",
    "#   # temp_name = './assets/ex-covid.jpeg'\n",
    "#   print(\"Current img:\", temp_name)\n",
    "#   # img_m = cv.imread(temp_name)\n",
    "#   # img_m = cv.resize(img_m, (224, 224))\n",
    "#   # cv2_imshow(img_m)\n",
    "#   img_m, new_im_2, cam3_resize = main_grad('./covid-chestxray-dataset-master/images/' + temp_name)\n",
    "#   cv2.imwrite(\"./output_10/no_\"+temp_name, new_im_2)\n",
    "#   # print(i, PCR_result_all[num])\n",
    "#   '''/////////////////////////main_grad use/////////////////////////////'''\n",
    "\n",
    "\n",
    "#   '''/////////////////////////show grad-cam area/////////////////////////////'''\n",
    "\n",
    "\n",
    "#   img = cam3_resize\n",
    "\n",
    "#   gray = cv2.cvtColor(img,cv2.COLOR_BGR2GRAY)\n",
    "\n",
    "#   binary = cv2.inRange(gray,45,80)\n",
    "# #   cv2_imshow(binary)\n",
    "#   contours, hierarchy = cv2.findContours(binary,cv2.RETR_EXTERNAL,cv2.CHAIN_APPROX_SIMPLE)\n",
    "#   # print(contours)\n",
    "#   if len(contours) > 0:\n",
    "#     cnt = contours[0]\n",
    "#     x, y, w, h = cv2.boundingRect(cnt)\n",
    "#     img_new = cv2.rectangle(img, (x, y), (x + w, y + h), (0, 255, 255), 1)\n",
    "# #     cv2_imshow(img_new)\n",
    "#   else:\n",
    "#     x, y, w, h = 0, 0, 0, 0\n",
    "#   '''/////////////////////////show grad-cam area/////////////////////////////'''\n",
    "\n",
    "#   '''/////////////////////////main-result/////////////////////////////'''\n",
    "\n",
    "#   image = new_im_2\n",
    "#   # draw the ground-truth bounding box along with the predicted\n",
    "\n",
    "#   # bounding box\n",
    "\n",
    "#   # # left lung\n",
    "#   # rect = plt.Rectangle((0.1,10), 20, 30, fill=False, edgecolor = 'red',linewidth=1)  \n",
    "#   # # right lung\n",
    "#   # rect2 = plt.Rectangle((25,10), 20, 30, fill=False, edgecolor = 'red',linewidth=1)  \n",
    "#   # rect = plt.Rectangle((0.1,10), 45, 30, fill=False, edgecolor = 'red',linewidth=1)\n",
    "#   detection1 = [50, 50, 200, 150] #15, 15, 200, 200\n",
    "#   detection2 = [x, y, x + w, y + h]\n",
    "#   start_point1 = [50, 50]  #10,10\n",
    "#   end_point1 = [200, 150]  #200,150\n",
    "#   color1 = (0, 255, 0)\n",
    "#   start_point2 = [x, y]   # 137\n",
    "#   end_point2 = [x+w, y+h]  # 188\n",
    "#   color2 = (0, 0, 255)\n",
    "#   thickness = 2\n",
    "\n",
    "#   cv2.rectangle(image, start_point1, end_point1, color1, thickness)\n",
    "#   cv2.rectangle(image, start_point2, end_point2, color2, thickness)\n",
    "\n",
    "\n",
    "\n",
    "#   # compute the intersection over union and display it\n",
    "#   iou = bb_intersection_over_union(detection1, detection2)\n",
    "#   # iou = bb_intersection_over_union(detection.gt, detection.pred)\n",
    "#   cv2.putText(image, \"IoU: {:.4f}\".format(iou), (10, 30),\n",
    "#     cv2.FONT_HERSHEY_SIMPLEX, 0.6, (0, 255, 0), 2)\n",
    "\n",
    "#   # show the output image\n",
    "# #   cv2_imshow(image)\n",
    "#   iou_list.append(iou)\n",
    "#   cv2.imwrite(\"./output_10/IOU_\"+temp_name, image)\n",
    "\n",
    "\n",
    "#   '''/////////////////////////main-result/////////////////////////////'''\n"
   ]
  },
  {
   "cell_type": "code",
   "execution_count": 17,
   "metadata": {
    "id": "GFwv9UWlF4iw"
   },
   "outputs": [],
   "source": [
    "# print(iou_list)\n",
    "# dict = {}\n",
    "# i = 0\n",
    "# for num in img_num_set:\n",
    "#   dict[num] = iou_list[i]\n",
    "#   i += 1\n",
    "# dict\n",
    "\n",
    "# df = pd.DataFrame.from_dict(dict,orient='index',columns=['IOU'])\n",
    "# df = df.reset_index().rename(columns = {'index':'num'})\n",
    "\n",
    "\n",
    "# # save into excel\n",
    "# df.to_excel(\"./output_10/10_org_iou.xlsx\", index=False)"
   ]
  },
  {
   "cell_type": "code",
   "execution_count": 18,
   "metadata": {
    "id": "pNoiUgMBfzE2"
   },
   "outputs": [],
   "source": [
    "# save\n",
    "# !cp -r ./output/ 'drive/MyDrive/covid/IOU_ex/'"
   ]
  },
  {
   "cell_type": "markdown",
   "metadata": {
    "id": "Ls4MTEWULEbG"
   },
   "source": [
    "## Loop All 900"
   ]
  },
  {
   "cell_type": "code",
   "execution_count": 43,
   "metadata": {
    "colab": {
     "base_uri": "https://localhost:8080/"
    },
    "id": "QUuBrn5QLDCK",
    "outputId": "c3005c4c-7309-429b-ff7c-b332651ee354"
   },
   "outputs": [],
   "source": [
    "# create folder to save\n",
    "!mkdir ./output_900_iou_bigger/"
   ]
  },
  {
   "cell_type": "code",
   "execution_count": 48,
   "metadata": {
    "colab": {
     "base_uri": "https://localhost:8080/"
    },
    "id": "EZzX9I3-LJfZ",
    "outputId": "813736d5-fbe8-4f91-e0e2-d02f0b1297c8"
   },
   "outputs": [
    {
     "name": "stdout",
     "output_type": "stream",
     "text": [
      "Current img: auntminnie-a-2020_01_28_23_51_6665_2020_01_28_Vietnam_coronavirus.jpeg\n",
      "pred [[4.8324199e-07 6.9753582e-06 9.9999249e-01]]\n",
      "Prediction: COVID-19\n",
      "Confidence\n",
      "Normal: 0.000 Pneumonia: 0.000 Covid-19: 1.000\n",
      "Current img: auntminnie-b-2020_01_28_23_51_6665_2020_01_28_Vietnam_coronavirus.jpeg\n",
      "pred [[6.5234033e-08 2.0346113e-06 9.9999785e-01]]\n",
      "Prediction: COVID-19\n",
      "Confidence\n",
      "Normal: 0.000 Pneumonia: 0.000 Covid-19: 1.000\n",
      "Current img: auntminnie-c-2020_01_28_23_51_6665_2020_01_28_Vietnam_coronavirus.jpeg\n",
      "pred [[5.8104629e-08 2.0348577e-06 9.9999785e-01]]\n",
      "Prediction: COVID-19\n",
      "Confidence\n",
      "Normal: 0.000 Pneumonia: 0.000 Covid-19: 1.000\n",
      "Current img: auntminnie-d-2020_01_28_23_51_6665_2020_01_28_Vietnam_coronavirus.jpeg\n",
      "pred [[2.1693018e-07 1.0585318e-05 9.9998915e-01]]\n",
      "Prediction: COVID-19\n",
      "Confidence\n",
      "Normal: 0.000 Pneumonia: 0.000 Covid-19: 1.000\n",
      "Current img: nejmc2001573_f1a.jpeg\n",
      "pred [[9.4741303e-04 7.6580606e-03 9.9139446e-01]]\n",
      "Prediction: COVID-19\n",
      "Confidence\n",
      "Normal: 0.001 Pneumonia: 0.008 Covid-19: 0.991\n",
      "Current img: nejmc2001573_f1b.jpeg\n",
      "pred [[1.58395744e-06 1.46173725e-05 9.99983788e-01]]\n",
      "Prediction: COVID-19\n",
      "Confidence\n",
      "Normal: 0.000 Pneumonia: 0.000 Covid-19: 1.000\n",
      "Current img: ARDSSevere.png\n",
      "pred [[7.5563739e-06 2.4952891e-03 9.9749714e-01]]\n",
      "Prediction: COVID-19\n",
      "Confidence\n",
      "Normal: 0.000 Pneumonia: 0.002 Covid-19: 0.997\n",
      "Current img: lancet-case2a.jpg\n",
      "pred [[9.1949834e-05 2.5650894e-03 9.9734300e-01]]\n",
      "Prediction: COVID-19\n",
      "Confidence\n",
      "Normal: 0.000 Pneumonia: 0.003 Covid-19: 0.997\n",
      "Current img: lancet-case2b.jpg\n",
      "pred [[2.3867784e-04 1.7420237e-03 9.9801934e-01]]\n",
      "Prediction: COVID-19\n",
      "Confidence\n",
      "Normal: 0.000 Pneumonia: 0.002 Covid-19: 0.998\n",
      "Current img: SARS-10.1148rg.242035193-g04mr34g0-Fig8a-day0.jpeg\n",
      "pred [[5.337259e-04 2.116790e-01 7.877873e-01]]\n",
      "Prediction: COVID-19\n",
      "Confidence\n",
      "Normal: 0.001 Pneumonia: 0.212 Covid-19: 0.788\n",
      "Current img: SARS-10.1148rg.242035193-g04mr34g0-Fig8b-day5.jpeg\n",
      "pred [[0.00243549 0.6793778  0.31818673]]\n",
      "Prediction: pneumonia\n",
      "Confidence\n",
      "Normal: 0.002 Pneumonia: 0.679 Covid-19: 0.318\n"
     ]
    },
    {
     "name": "stderr",
     "output_type": "stream",
     "text": [
      "/opt/apps/apps/binapps/anaconda3/2019.07-numpy-fix/lib/python3.7/site-packages/ipykernel_launcher.py:196: RuntimeWarning: invalid value encountered in true_divide\n"
     ]
    },
    {
     "name": "stdout",
     "output_type": "stream",
     "text": [
      "Current img: SARS-10.1148rg.242035193-g04mr34g0-Fig8c-day10.jpeg\n",
      "pred [[8.1919234e-06 9.9998522e-01 6.5975983e-06]]\n",
      "Prediction: pneumonia\n",
      "Confidence\n",
      "Normal: 0.000 Pneumonia: 1.000 Covid-19: 0.000\n"
     ]
    },
    {
     "name": "stderr",
     "output_type": "stream",
     "text": [
      "/opt/apps/apps/binapps/anaconda3/2019.07-numpy-fix/lib/python3.7/site-packages/ipykernel_launcher.py:196: RuntimeWarning: invalid value encountered in true_divide\n"
     ]
    },
    {
     "name": "stdout",
     "output_type": "stream",
     "text": [
      "Current img: SARS-10.1148rg.242035193-g04mr34g04a-Fig4a-day7.jpeg\n",
      "pred [[0.5552118  0.08515265 0.35963556]]\n",
      "Prediction: normal\n",
      "Confidence\n",
      "Normal: 0.555 Pneumonia: 0.085 Covid-19: 0.360\n"
     ]
    },
    {
     "name": "stderr",
     "output_type": "stream",
     "text": [
      "/opt/apps/apps/binapps/anaconda3/2019.07-numpy-fix/lib/python3.7/site-packages/ipykernel_launcher.py:196: RuntimeWarning: invalid value encountered in true_divide\n"
     ]
    },
    {
     "name": "stdout",
     "output_type": "stream",
     "text": [
      "Current img: SARS-10.1148rg.242035193-g04mr34g04b-Fig4b-day12.jpeg\n",
      "pred [[0.2959518  0.47581857 0.22822967]]\n",
      "Prediction: pneumonia\n",
      "Confidence\n",
      "Normal: 0.296 Pneumonia: 0.476 Covid-19: 0.228\n",
      "Current img: SARS-10.1148rg.242035193-g04mr34g05x-Fig5-day9.jpeg\n",
      "pred [[0.18839884 0.12089645 0.69070476]]\n",
      "Prediction: COVID-19\n",
      "Confidence\n",
      "Normal: 0.188 Pneumonia: 0.121 Covid-19: 0.691\n"
     ]
    },
    {
     "name": "stderr",
     "output_type": "stream",
     "text": [
      "/opt/apps/apps/binapps/anaconda3/2019.07-numpy-fix/lib/python3.7/site-packages/ipykernel_launcher.py:196: RuntimeWarning: invalid value encountered in true_divide\n"
     ]
    },
    {
     "name": "stdout",
     "output_type": "stream",
     "text": [
      "Current img: SARS-10.1148rg.242035193-g04mr34g07a-Fig7a-day5.jpeg\n",
      "pred [[0.00204777 0.9163652  0.08158692]]\n",
      "Prediction: pneumonia\n",
      "Confidence\n",
      "Normal: 0.002 Pneumonia: 0.916 Covid-19: 0.082\n"
     ]
    },
    {
     "name": "stderr",
     "output_type": "stream",
     "text": [
      "/opt/apps/apps/binapps/anaconda3/2019.07-numpy-fix/lib/python3.7/site-packages/ipykernel_launcher.py:196: RuntimeWarning: invalid value encountered in true_divide\n"
     ]
    },
    {
     "name": "stdout",
     "output_type": "stream",
     "text": [
      "Current img: SARS-10.1148rg.242035193-g04mr34g07b-Fig7b-day12.jpeg\n",
      "pred [[0.021215   0.66296774 0.3158172 ]]\n",
      "Prediction: pneumonia\n",
      "Confidence\n",
      "Normal: 0.021 Pneumonia: 0.663 Covid-19: 0.316\n"
     ]
    },
    {
     "name": "stderr",
     "output_type": "stream",
     "text": [
      "/opt/apps/apps/binapps/anaconda3/2019.07-numpy-fix/lib/python3.7/site-packages/ipykernel_launcher.py:196: RuntimeWarning: invalid value encountered in true_divide\n"
     ]
    },
    {
     "name": "stdout",
     "output_type": "stream",
     "text": [
      "Current img: SARS-10.1148rg.242035193-g04mr34g09a-Fig9a-day17.jpeg\n",
      "pred [[0.00146303 0.05829248 0.94024444]]\n",
      "Prediction: COVID-19\n",
      "Confidence\n",
      "Normal: 0.001 Pneumonia: 0.058 Covid-19: 0.940\n",
      "Current img: SARS-10.1148rg.242035193-g04mr34g09b-Fig9b-day19.jpeg\n",
      "pred [[1.2427885e-05 2.6157579e-01 7.3841184e-01]]\n",
      "Prediction: COVID-19\n",
      "Confidence\n",
      "Normal: 0.000 Pneumonia: 0.262 Covid-19: 0.738\n",
      "Current img: SARS-10.1148rg.242035193-g04mr34g09c-Fig9c-day27.jpeg\n",
      "pred [[7.5155112e-05 3.9351800e-01 6.0640687e-01]]\n",
      "Prediction: COVID-19\n",
      "Confidence\n",
      "Normal: 0.000 Pneumonia: 0.394 Covid-19: 0.606\n",
      "Current img: 1-s2.0-S0140673620303706-fx1_lrg.jpg\n",
      "pred [[1.9400433e-11 6.6771666e-10 1.0000000e+00]]\n",
      "Prediction: COVID-19\n",
      "Confidence\n",
      "Normal: 0.000 Pneumonia: 0.000 Covid-19: 1.000\n",
      "Current img: nCoV-radiol.2020200269.fig1-day7.jpeg\n",
      "pred [[9.0917367e-17 4.2364682e-14 1.0000000e+00]]\n",
      "Prediction: COVID-19\n",
      "Confidence\n",
      "Normal: 0.000 Pneumonia: 0.000 Covid-19: 1.000\n",
      "Current img: nejmoa2001191_f1-PA.jpeg\n",
      "pred [[1.3827269e-04 3.6022562e-04 9.9950147e-01]]\n",
      "Prediction: COVID-19\n",
      "Confidence\n",
      "Normal: 0.000 Pneumonia: 0.000 Covid-19: 1.000\n",
      "Current img: nejmoa2001191_f1-L.jpeg\n",
      "pred [[0.0030265  0.03264581 0.96432763]]\n",
      "Prediction: COVID-19\n",
      "Confidence\n",
      "Normal: 0.003 Pneumonia: 0.033 Covid-19: 0.964\n",
      "Current img: nejmoa2001191_f3-PA.jpeg\n",
      "pred [[1.8270895e-05 2.2832784e-05 9.9995887e-01]]\n",
      "Prediction: COVID-19\n",
      "Confidence\n",
      "Normal: 0.000 Pneumonia: 0.000 Covid-19: 1.000\n",
      "Current img: nejmoa2001191_f3-L.jpeg\n",
      "pred [[0.00137543 0.01851409 0.9801105 ]]\n",
      "Prediction: COVID-19\n",
      "Confidence\n",
      "Normal: 0.001 Pneumonia: 0.019 Covid-19: 0.980\n",
      "Current img: nejmoa2001191_f4.jpeg\n",
      "pred [[1.1197878e-05 1.9610276e-05 9.9996924e-01]]\n",
      "Prediction: COVID-19\n",
      "Confidence\n",
      "Normal: 0.000 Pneumonia: 0.000 Covid-19: 1.000\n",
      "Current img: nejmoa2001191_f5-PA.jpeg\n",
      "pred [[1.0889894e-06 6.0527782e-06 9.9999285e-01]]\n",
      "Prediction: COVID-19\n",
      "Confidence\n",
      "Normal: 0.000 Pneumonia: 0.000 Covid-19: 1.000\n",
      "Current img: nejmoa2001191_f5-L.jpeg\n",
      "pred [[1.3164004e-04 2.1309170e-03 9.9773741e-01]]\n",
      "Prediction: COVID-19\n",
      "Confidence\n",
      "Normal: 0.000 Pneumonia: 0.002 Covid-19: 0.998\n",
      "Current img: ryct.2020200034.fig2.jpeg\n",
      "pred [[2.5582545e-05 2.6369386e-05 9.9994802e-01]]\n",
      "Prediction: COVID-19\n",
      "Confidence\n",
      "Normal: 0.000 Pneumonia: 0.000 Covid-19: 1.000\n",
      "Current img: ryct.2020200034.fig5-day0.jpeg\n",
      "pred [[0.03169521 0.03495249 0.9333523 ]]\n",
      "Prediction: COVID-19\n",
      "Confidence\n",
      "Normal: 0.032 Pneumonia: 0.035 Covid-19: 0.933\n",
      "Current img: ryct.2020200034.fig5-day4.jpeg\n",
      "pred [[1.4178584e-06 7.1842503e-04 9.9928015e-01]]\n",
      "Prediction: COVID-19\n",
      "Confidence\n",
      "Normal: 0.000 Pneumonia: 0.001 Covid-19: 0.999\n",
      "Current img: ryct.2020200034.fig5-day7.jpeg\n",
      "pred [[6.2358063e-06 1.6544594e-03 9.9833930e-01]]\n",
      "Prediction: COVID-19\n",
      "Confidence\n",
      "Normal: 0.000 Pneumonia: 0.002 Covid-19: 0.998\n",
      "Current img: ryct.2020200028.fig1a.jpeg\n",
      "pred [[4.1358759e-05 4.6289389e-04 9.9949574e-01]]\n",
      "Prediction: COVID-19\n",
      "Confidence\n",
      "Normal: 0.000 Pneumonia: 0.000 Covid-19: 0.999\n",
      "Current img: jkms-35-e79-g001-l-a.jpg\n",
      "pred [[6.3257437e-05 1.9661244e-03 9.9797064e-01]]\n",
      "Prediction: COVID-19\n",
      "Confidence\n",
      "Normal: 0.000 Pneumonia: 0.002 Covid-19: 0.998\n",
      "Current img: jkms-35-e79-g001-l-b.jpg\n",
      "pred [[7.2728017e-06 2.3078303e-04 9.9976200e-01]]\n",
      "Prediction: COVID-19\n",
      "Confidence\n",
      "Normal: 0.000 Pneumonia: 0.000 Covid-19: 1.000\n",
      "Current img: jkms-35-e79-g001-l-c.jpg\n",
      "pred [[1.2718846e-07 1.0952611e-04 9.9989033e-01]]\n",
      "Prediction: COVID-19\n",
      "Confidence\n",
      "Normal: 0.000 Pneumonia: 0.000 Covid-19: 1.000\n",
      "Current img: jkms-35-e79-g001-l-d.jpg\n",
      "pred [[6.9617271e-01 3.0382732e-01 6.0847355e-10]]\n",
      "Prediction: normal\n",
      "Confidence\n",
      "Normal: 0.696 Pneumonia: 0.304 Covid-19: 0.000\n",
      "Current img: jkms-35-e79-g001-l-e.jpg\n"
     ]
    },
    {
     "name": "stderr",
     "output_type": "stream",
     "text": [
      "/opt/apps/apps/binapps/anaconda3/2019.07-numpy-fix/lib/python3.7/site-packages/ipykernel_launcher.py:196: RuntimeWarning: invalid value encountered in true_divide\n"
     ]
    },
    {
     "name": "stdout",
     "output_type": "stream",
     "text": [
      "pred [[5.4697412e-01 4.5302588e-01 7.7775679e-09]]\n",
      "Prediction: normal\n",
      "Confidence\n",
      "Normal: 0.547 Pneumonia: 0.453 Covid-19: 0.000\n",
      "Current img: radiol.2020200490.fig3.jpeg\n",
      "pred [[0. 0. 1.]]\n",
      "Prediction: COVID-19\n",
      "Confidence\n",
      "Normal: 0.000 Pneumonia: 0.000 Covid-19: 1.000\n"
     ]
    },
    {
     "name": "stderr",
     "output_type": "stream",
     "text": [
      "/opt/apps/apps/binapps/anaconda3/2019.07-numpy-fix/lib/python3.7/site-packages/ipykernel_launcher.py:196: RuntimeWarning: invalid value encountered in true_divide\n"
     ]
    },
    {
     "name": "stdout",
     "output_type": "stream",
     "text": [
      "Current img: 1-s2.0-S0929664620300449-gr2_lrg-a.jpg\n",
      "pred [[1.6197631e-05 1.5010028e-03 9.9848276e-01]]\n",
      "Prediction: COVID-19\n",
      "Confidence\n",
      "Normal: 0.000 Pneumonia: 0.002 Covid-19: 0.998\n",
      "Current img: 1-s2.0-S0929664620300449-gr2_lrg-b.jpg\n",
      "pred [[1.8853221e-05 7.7817854e-03 9.9219936e-01]]\n",
      "Prediction: COVID-19\n",
      "Confidence\n",
      "Normal: 0.000 Pneumonia: 0.008 Covid-19: 0.992\n",
      "Current img: 1-s2.0-S0929664620300449-gr2_lrg-c.jpg\n",
      "pred [[3.4745299e-05 2.0937305e-02 9.7902793e-01]]\n",
      "Prediction: COVID-19\n",
      "Confidence\n",
      "Normal: 0.000 Pneumonia: 0.021 Covid-19: 0.979\n",
      "Current img: 1-s2.0-S0929664620300449-gr2_lrg-d.jpg\n",
      "pred [[0.00807535 0.07136302 0.9205617 ]]\n",
      "Prediction: COVID-19\n",
      "Confidence\n",
      "Normal: 0.008 Pneumonia: 0.071 Covid-19: 0.921\n",
      "Current img: 1-s2.0-S0929664620300449-gr3_lrg-a.jpg\n",
      "pred [[3.9898545e-01 6.0101455e-01 2.2474648e-08]]\n",
      "Prediction: pneumonia\n",
      "Confidence\n",
      "Normal: 0.399 Pneumonia: 0.601 Covid-19: 0.000\n",
      "Current img: 1-s2.0-S0929664620300449-gr3_lrg-b.jpg\n",
      "pred [[2.9491213e-01 7.0508784e-01 3.3064591e-08]]\n",
      "Prediction: pneumonia\n",
      "Confidence\n",
      "Normal: 0.295 Pneumonia: 0.705 Covid-19: 0.000\n",
      "Current img: 1-s2.0-S0929664620300449-gr3_lrg-c.jpg\n"
     ]
    },
    {
     "name": "stderr",
     "output_type": "stream",
     "text": [
      "/opt/apps/apps/binapps/anaconda3/2019.07-numpy-fix/lib/python3.7/site-packages/ipykernel_launcher.py:196: RuntimeWarning: invalid value encountered in true_divide\n"
     ]
    },
    {
     "name": "stdout",
     "output_type": "stream",
     "text": [
      "pred [[3.2510263e-01 6.7489183e-01 5.5764604e-06]]\n",
      "Prediction: pneumonia\n",
      "Confidence\n",
      "Normal: 0.325 Pneumonia: 0.675 Covid-19: 0.000\n",
      "Current img: 1-s2.0-S0929664620300449-gr3_lrg-d.jpg\n",
      "pred [[1.19010955e-01 8.80989075e-01 4.17237160e-08]]\n",
      "Prediction: pneumonia\n",
      "Confidence\n",
      "Normal: 0.119 Pneumonia: 0.881 Covid-19: 0.000\n",
      "Current img: covid-19-pneumonia-15-PA.jpg\n"
     ]
    },
    {
     "name": "stderr",
     "output_type": "stream",
     "text": [
      "/opt/apps/apps/binapps/anaconda3/2019.07-numpy-fix/lib/python3.7/site-packages/ipykernel_launcher.py:196: RuntimeWarning: invalid value encountered in true_divide\n"
     ]
    },
    {
     "name": "stdout",
     "output_type": "stream",
     "text": [
      "pred [[2.7678825e-05 3.1452132e-03 9.9682707e-01]]\n",
      "Prediction: COVID-19\n",
      "Confidence\n",
      "Normal: 0.000 Pneumonia: 0.003 Covid-19: 0.997\n",
      "Current img: covid-19-pneumonia-15-L.jpg\n",
      "pred [[0.09881458 0.8507055  0.0504799 ]]\n",
      "Prediction: pneumonia\n",
      "Confidence\n",
      "Normal: 0.099 Pneumonia: 0.851 Covid-19: 0.050\n"
     ]
    },
    {
     "name": "stderr",
     "output_type": "stream",
     "text": [
      "/opt/apps/apps/binapps/anaconda3/2019.07-numpy-fix/lib/python3.7/site-packages/ipykernel_launcher.py:196: RuntimeWarning: invalid value encountered in true_divide\n"
     ]
    },
    {
     "name": "stdout",
     "output_type": "stream",
     "text": [
      "Current img: covid-19-pneumonia-2.jpg\n",
      "pred [[0.00150719 0.04063603 0.9578568 ]]\n",
      "Prediction: COVID-19\n",
      "Confidence\n",
      "Normal: 0.002 Pneumonia: 0.041 Covid-19: 0.958\n",
      "Current img: covid-19-pneumonia-7-PA.jpg\n",
      "pred [[0.00269029 0.00428314 0.9930266 ]]\n",
      "Prediction: COVID-19\n",
      "Confidence\n",
      "Normal: 0.003 Pneumonia: 0.004 Covid-19: 0.993\n",
      "Current img: covid-19-pneumonia-7-L.jpg\n",
      "pred [[0.00187885 0.03968578 0.9584354 ]]\n",
      "Prediction: COVID-19\n",
      "Confidence\n",
      "Normal: 0.002 Pneumonia: 0.040 Covid-19: 0.958\n",
      "Current img: radiopaedia_org_covid-19-pneumonia-7_85703_0-dcm.nii.gz\n",
      "pred [[0.2905914  0.6988258  0.01058283]]\n",
      "Prediction: pneumonia\n",
      "Confidence\n",
      "Normal: 0.291 Pneumonia: 0.699 Covid-19: 0.011\n",
      "Current img: covid-19-pneumonia-14-PA.png\n"
     ]
    },
    {
     "name": "stderr",
     "output_type": "stream",
     "text": [
      "/opt/apps/apps/binapps/anaconda3/2019.07-numpy-fix/lib/python3.7/site-packages/ipykernel_launcher.py:196: RuntimeWarning: invalid value encountered in true_divide\n"
     ]
    },
    {
     "name": "stdout",
     "output_type": "stream",
     "text": [
      "pred [[1.9954183e-07 4.2040433e-06 9.9999559e-01]]\n",
      "Prediction: COVID-19\n",
      "Confidence\n",
      "Normal: 0.000 Pneumonia: 0.000 Covid-19: 1.000\n",
      "Current img: covid-19-pneumonia-14-L.png\n",
      "pred [[1.5746731e-04 8.1604281e-03 9.9168211e-01]]\n",
      "Prediction: COVID-19\n",
      "Confidence\n",
      "Normal: 0.000 Pneumonia: 0.008 Covid-19: 0.992\n",
      "Current img: radiopaedia_org_covid-19-pneumonia-14_85914_0-dcm.nii.gz\n",
      "pred [[0.2905914  0.6988258  0.01058283]]\n",
      "Prediction: pneumonia\n",
      "Confidence\n",
      "Normal: 0.291 Pneumonia: 0.699 Covid-19: 0.011\n",
      "Current img: covid-19-pneumonia-12.jpg\n"
     ]
    },
    {
     "name": "stderr",
     "output_type": "stream",
     "text": [
      "/opt/apps/apps/binapps/anaconda3/2019.07-numpy-fix/lib/python3.7/site-packages/ipykernel_launcher.py:196: RuntimeWarning: invalid value encountered in true_divide\n"
     ]
    },
    {
     "name": "stdout",
     "output_type": "stream",
     "text": [
      "pred [[1.1874115e-06 3.8953840e-03 9.9610341e-01]]\n",
      "Prediction: COVID-19\n",
      "Confidence\n",
      "Normal: 0.000 Pneumonia: 0.004 Covid-19: 0.996\n",
      "Current img: acute-respiratory-distress-syndrome-ards-1.jpg\n",
      "pred [[5.982613e-04 2.872589e-02 9.706759e-01]]\n",
      "Prediction: COVID-19\n",
      "Confidence\n",
      "Normal: 0.001 Pneumonia: 0.029 Covid-19: 0.971\n",
      "Current img: acute-respiratory-distress-syndrome-ards.jpg\n",
      "pred [[6.3070055e-04 9.7656453e-01 2.2804733e-02]]\n",
      "Prediction: pneumonia\n",
      "Confidence\n",
      "Normal: 0.001 Pneumonia: 0.977 Covid-19: 0.023\n",
      "Current img: ards-secondary-to-tiger-snake-bite.png\n"
     ]
    },
    {
     "name": "stderr",
     "output_type": "stream",
     "text": [
      "/opt/apps/apps/binapps/anaconda3/2019.07-numpy-fix/lib/python3.7/site-packages/ipykernel_launcher.py:196: RuntimeWarning: invalid value encountered in true_divide\n"
     ]
    },
    {
     "name": "stdout",
     "output_type": "stream",
     "text": [
      "pred [[4.0890544e-04 9.9687272e-01 2.7184011e-03]]\n",
      "Prediction: pneumonia\n",
      "Confidence\n",
      "Normal: 0.000 Pneumonia: 0.997 Covid-19: 0.003\n",
      "Current img: pneumocystis-pneumonia-2-PA.png\n"
     ]
    },
    {
     "name": "stderr",
     "output_type": "stream",
     "text": [
      "/opt/apps/apps/binapps/anaconda3/2019.07-numpy-fix/lib/python3.7/site-packages/ipykernel_launcher.py:196: RuntimeWarning: invalid value encountered in true_divide\n"
     ]
    },
    {
     "name": "stdout",
     "output_type": "stream",
     "text": [
      "pred [[1.0019953e-04 6.9833006e-04 9.9920148e-01]]\n",
      "Prediction: COVID-19\n",
      "Confidence\n",
      "Normal: 0.000 Pneumonia: 0.001 Covid-19: 0.999\n",
      "Current img: pneumocystis-pneumonia-2-L.png\n",
      "pred [[0.04828516 0.16580032 0.78591454]]\n",
      "Prediction: COVID-19\n",
      "Confidence\n",
      "Normal: 0.048 Pneumonia: 0.166 Covid-19: 0.786\n",
      "Current img: streptococcus-pneumoniae-pneumonia-1.jpg\n",
      "pred [[0.01959476 0.13340674 0.8469985 ]]\n",
      "Prediction: COVID-19\n",
      "Confidence\n",
      "Normal: 0.020 Pneumonia: 0.133 Covid-19: 0.847\n",
      "Current img: pneumonia-7.jpg\n",
      "pred [[3.7836182e-07 9.9999964e-01 1.6658721e-08]]\n",
      "Prediction: pneumonia\n",
      "Confidence\n",
      "Normal: 0.000 Pneumonia: 1.000 Covid-19: 0.000\n",
      "Current img: streptococcus-pneumoniae-pneumonia-temporal-evolution-1-day0.jpg\n",
      "pred [[0.00260772 0.99588555 0.00150672]]\n",
      "Prediction: pneumonia\n",
      "Confidence\n",
      "Normal: 0.003 Pneumonia: 0.996 Covid-19: 0.002\n"
     ]
    },
    {
     "name": "stderr",
     "output_type": "stream",
     "text": [
      "/opt/apps/apps/binapps/anaconda3/2019.07-numpy-fix/lib/python3.7/site-packages/ipykernel_launcher.py:196: RuntimeWarning: invalid value encountered in true_divide\n"
     ]
    },
    {
     "name": "stdout",
     "output_type": "stream",
     "text": [
      "Current img: streptococcus-pneumoniae-pneumonia-temporal-evolution-1-day1.jpg\n",
      "pred [[2.7184957e-05 9.9997056e-01 2.2074703e-06]]\n",
      "Prediction: pneumonia\n",
      "Confidence\n",
      "Normal: 0.000 Pneumonia: 1.000 Covid-19: 0.000\n"
     ]
    },
    {
     "name": "stderr",
     "output_type": "stream",
     "text": [
      "/opt/apps/apps/binapps/anaconda3/2019.07-numpy-fix/lib/python3.7/site-packages/ipykernel_launcher.py:196: RuntimeWarning: invalid value encountered in true_divide\n"
     ]
    },
    {
     "name": "stdout",
     "output_type": "stream",
     "text": [
      "Current img: streptococcus-pneumoniae-pneumonia-temporal-evolution-1-day2.jpg\n",
      "pred [[4.6691226e-04 9.9951565e-01 1.7355977e-05]]\n",
      "Prediction: pneumonia\n",
      "Confidence\n",
      "Normal: 0.000 Pneumonia: 1.000 Covid-19: 0.000\n",
      "Current img: streptococcus-pneumoniae-pneumonia-temporal-evolution-1-day3.jpg\n",
      "pred [[2.4845533e-04 9.4689626e-01 5.2855302e-02]]\n",
      "Prediction: pneumonia\n",
      "Confidence\n",
      "Normal: 0.000 Pneumonia: 0.947 Covid-19: 0.053\n",
      "Current img: 39EE8E69-5801-48DE-B6E3-BE7D1BCF3092.jpeg\n",
      "pred [[0.00413139 0.06106877 0.93479985]]\n",
      "Prediction: COVID-19\n",
      "Confidence\n",
      "Normal: 0.004 Pneumonia: 0.061 Covid-19: 0.935\n",
      "Current img: 191F3B3A-2879-4EF3-BE56-EE0D2B5AAEE3.jpeg\n",
      "pred [[8.4468883e-01 1.5531117e-01 4.7444959e-09]]\n",
      "Prediction: normal\n",
      "Confidence\n",
      "Normal: 0.845 Pneumonia: 0.155 Covid-19: 0.000\n"
     ]
    },
    {
     "name": "stderr",
     "output_type": "stream",
     "text": [
      "/opt/apps/apps/binapps/anaconda3/2019.07-numpy-fix/lib/python3.7/site-packages/ipykernel_launcher.py:196: RuntimeWarning: invalid value encountered in true_divide\n"
     ]
    },
    {
     "name": "stdout",
     "output_type": "stream",
     "text": [
      "Current img: DE488FE1-0C44-428B-B67A-09741C1214C0.jpeg\n",
      "pred [[3.0218247e-02 9.6978170e-01 7.7116791e-10]]\n",
      "Prediction: pneumonia\n",
      "Confidence\n",
      "Normal: 0.030 Pneumonia: 0.970 Covid-19: 0.000\n",
      "Current img: 7C69C012-7479-493F-8722-ABC29C60A2DD.jpeg\n",
      "pred [[2.1691234e-03 9.2330633e-04 9.9690753e-01]]\n",
      "Prediction: COVID-19\n",
      "Confidence\n",
      "Normal: 0.002 Pneumonia: 0.001 Covid-19: 0.997\n",
      "Current img: 44C8E3D6-20DA-42E9-B33B-96FA6D6DE12F.jpeg\n",
      "pred [[0.010555   0.02829694 0.961148  ]]\n",
      "Prediction: COVID-19\n",
      "Confidence\n",
      "Normal: 0.011 Pneumonia: 0.028 Covid-19: 0.961\n",
      "Current img: 3ED3C0E1-4FE0-4238-8112-DDFF9E20B471.jpeg\n",
      "pred [[7.8881997e-01 2.1117981e-01 1.4918626e-07]]\n",
      "Prediction: normal\n",
      "Confidence\n",
      "Normal: 0.789 Pneumonia: 0.211 Covid-19: 0.000\n"
     ]
    },
    {
     "name": "stderr",
     "output_type": "stream",
     "text": [
      "/opt/apps/apps/binapps/anaconda3/2019.07-numpy-fix/lib/python3.7/site-packages/ipykernel_launcher.py:196: RuntimeWarning: invalid value encountered in true_divide\n"
     ]
    },
    {
     "name": "stdout",
     "output_type": "stream",
     "text": [
      "Current img: 2C10A413-AABE-4807-8CCE-6A2025594067.jpeg\n",
      "pred [[3.2440050e-07 5.5794168e-05 9.9994385e-01]]\n",
      "Prediction: COVID-19\n",
      "Confidence\n",
      "Normal: 0.000 Pneumonia: 0.000 Covid-19: 1.000\n",
      "Current img: FC230FE2-1DDF-40EB-AA0D-21F950933289.jpeg\n",
      "pred [[7.8210241e-01 2.1783023e-01 6.7361914e-05]]\n",
      "Prediction: normal\n",
      "Confidence\n",
      "Normal: 0.782 Pneumonia: 0.218 Covid-19: 0.000\n",
      "Current img: 66298CBF-6F10-42D5-A688-741F6AC84A76.jpeg\n",
      "pred [[4.0980372e-01 5.9019053e-01 5.6656413e-06]]\n",
      "Prediction: pneumonia\n",
      "Confidence\n",
      "Normal: 0.410 Pneumonia: 0.590 Covid-19: 0.000\n",
      "Current img: E1724330-1866-4581-8CD8-CEC9B8AFEDDE.jpeg\n",
      "pred [[0.00141132 0.00383613 0.9947525 ]]\n",
      "Prediction: COVID-19\n",
      "Confidence\n",
      "Normal: 0.001 Pneumonia: 0.004 Covid-19: 0.995\n",
      "Current img: 925446AE-B3C7-4C93-941B-AC4D2FE1F455.jpeg\n",
      "pred [[8.3546287e-01 1.6452220e-01 1.4956811e-05]]\n",
      "Prediction: normal\n",
      "Confidence\n",
      "Normal: 0.835 Pneumonia: 0.165 Covid-19: 0.000\n"
     ]
    },
    {
     "name": "stderr",
     "output_type": "stream",
     "text": [
      "/opt/apps/apps/binapps/anaconda3/2019.07-numpy-fix/lib/python3.7/site-packages/ipykernel_launcher.py:196: RuntimeWarning: invalid value encountered in true_divide\n"
     ]
    },
    {
     "name": "stdout",
     "output_type": "stream",
     "text": [
      "Current img: 6A7D4110-2BFC-4D9A-A2D6-E9226D91D25A.jpeg\n",
      "pred [[6.6230428e-01 3.3748433e-01 2.1144717e-04]]\n",
      "Prediction: normal\n",
      "Confidence\n",
      "Normal: 0.662 Pneumonia: 0.337 Covid-19: 0.000\n",
      "Current img: 8FDE8DBA-CFBD-4B4C-B1A4-6F36A93B7E87.jpeg\n"
     ]
    },
    {
     "name": "stderr",
     "output_type": "stream",
     "text": [
      "/opt/apps/apps/binapps/anaconda3/2019.07-numpy-fix/lib/python3.7/site-packages/ipykernel_launcher.py:196: RuntimeWarning: invalid value encountered in true_divide\n"
     ]
    },
    {
     "name": "stdout",
     "output_type": "stream",
     "text": [
      "pred [[9.7732258e-01 2.2576071e-02 1.0133087e-04]]\n",
      "Prediction: normal\n",
      "Confidence\n",
      "Normal: 0.977 Pneumonia: 0.023 Covid-19: 0.000\n",
      "Current img: 9C34AF49-E589-44D5-92D3-168B3B04E4A6.jpeg\n"
     ]
    },
    {
     "name": "stderr",
     "output_type": "stream",
     "text": [
      "/opt/apps/apps/binapps/anaconda3/2019.07-numpy-fix/lib/python3.7/site-packages/ipykernel_launcher.py:196: RuntimeWarning: invalid value encountered in true_divide\n"
     ]
    },
    {
     "name": "stdout",
     "output_type": "stream",
     "text": [
      "pred [[0.00931546 0.00581199 0.9848726 ]]\n",
      "Prediction: COVID-19\n",
      "Confidence\n",
      "Normal: 0.009 Pneumonia: 0.006 Covid-19: 0.985\n",
      "Current img: 21DDEBFD-7F16-4E3E-8F90-CB1B8EE82828.jpeg\n",
      "pred [[0.45849857 0.5055541  0.03594744]]\n",
      "Prediction: pneumonia\n",
      "Confidence\n",
      "Normal: 0.458 Pneumonia: 0.506 Covid-19: 0.036\n",
      "Current img: F2DE909F-E19C-4900-92F5-8F435B031AC6.jpeg\n",
      "pred [[1.3053779e-06 1.0139212e-03 9.9898475e-01]]\n",
      "Prediction: COVID-19\n",
      "Confidence\n",
      "Normal: 0.000 Pneumonia: 0.001 Covid-19: 0.999\n",
      "Current img: 31BA3780-2323-493F-8AED-62081B9C383B.jpeg\n",
      "pred [[1.2854499e-06 2.0683595e-04 9.9979192e-01]]\n",
      "Prediction: COVID-19\n",
      "Confidence\n",
      "Normal: 0.000 Pneumonia: 0.000 Covid-19: 1.000\n",
      "Current img: F051E018-DAD1-4506-AD43-BE4CA29E960B.jpeg\n",
      "pred [[9.6509683e-01 3.4896176e-02 7.0048718e-06]]\n",
      "Prediction: normal\n",
      "Confidence\n",
      "Normal: 0.965 Pneumonia: 0.035 Covid-19: 0.000\n",
      "Current img: 5083A6B7-8983-472E-A427-570A3E03DDEE.jpeg\n",
      "pred [[4.9263424e-01 5.0736576e-01 1.0736547e-08]]\n",
      "Prediction: pneumonia\n",
      "Confidence\n",
      "Normal: 0.493 Pneumonia: 0.507 Covid-19: 0.000\n"
     ]
    },
    {
     "name": "stderr",
     "output_type": "stream",
     "text": [
      "/opt/apps/apps/binapps/anaconda3/2019.07-numpy-fix/lib/python3.7/site-packages/ipykernel_launcher.py:196: RuntimeWarning: invalid value encountered in true_divide\n"
     ]
    },
    {
     "name": "stdout",
     "output_type": "stream",
     "text": [
      "Current img: 1312A392-67A3-4EBF-9319-810CF6DA5EF6.jpeg\n",
      "pred [[1.9833467e-04 1.9500195e-03 9.9785173e-01]]\n",
      "Prediction: COVID-19\n",
      "Confidence\n",
      "Normal: 0.000 Pneumonia: 0.002 Covid-19: 0.998\n",
      "Current img: 396A81A5-982C-44E9-A57E-9B1DC34E2C08.jpeg\n",
      "pred [[7.7499712e-01 2.2493626e-01 6.6596578e-05]]\n",
      "Prediction: normal\n",
      "Confidence\n",
      "Normal: 0.775 Pneumonia: 0.225 Covid-19: 0.000\n"
     ]
    },
    {
     "name": "stderr",
     "output_type": "stream",
     "text": [
      "/opt/apps/apps/binapps/anaconda3/2019.07-numpy-fix/lib/python3.7/site-packages/ipykernel_launcher.py:196: RuntimeWarning: invalid value encountered in true_divide\n"
     ]
    },
    {
     "name": "stdout",
     "output_type": "stream",
     "text": [
      "Current img: 23E99E2E-447C-46E5-8EB2-D35D12473C39.png\n",
      "pred [[0.00878708 0.00473165 0.9864813 ]]\n",
      "Prediction: COVID-19\n",
      "Confidence\n",
      "Normal: 0.009 Pneumonia: 0.005 Covid-19: 0.986\n",
      "Current img: 7AF6C1AF-D249-4BD2-8C26-449304105D03.jpeg\n",
      "pred [[0.00103007 0.12020387 0.8787661 ]]\n",
      "Prediction: COVID-19\n",
      "Confidence\n",
      "Normal: 0.001 Pneumonia: 0.120 Covid-19: 0.879\n",
      "Current img: 1B734A89-A1BF-49A8-A1D3-66FAFA4FAC5D.jpeg\n",
      "pred [[0.01669672 0.12318514 0.8601181 ]]\n",
      "Prediction: COVID-19\n",
      "Confidence\n",
      "Normal: 0.017 Pneumonia: 0.123 Covid-19: 0.860\n",
      "Current img: CD50BA96-6982-4C80-AE7B-5F67ACDBFA56.jpeg\n",
      "pred [[0.00541988 0.00233183 0.9922483 ]]\n",
      "Prediction: COVID-19\n",
      "Confidence\n",
      "Normal: 0.005 Pneumonia: 0.002 Covid-19: 0.992\n",
      "Current img: 85E52EB3-56E9-4D67-82DA-DEA247C82886.jpeg\n",
      "pred [[7.9359621e-04 7.6904036e-02 9.2230231e-01]]\n",
      "Prediction: COVID-19\n",
      "Confidence\n",
      "Normal: 0.001 Pneumonia: 0.077 Covid-19: 0.922\n",
      "Current img: 6CB4EFC6-68FA-4CD5-940C-BEFA8DAFE9A7.jpeg\n",
      "pred [[6.4905066e-06 1.9111240e-02 9.8088223e-01]]\n",
      "Prediction: COVID-19\n",
      "Confidence\n",
      "Normal: 0.000 Pneumonia: 0.019 Covid-19: 0.981\n",
      "Current img: 01E392EE-69F9-4E33-BFCE-E5C968654078.jpeg\n",
      "pred [[0.0014724  0.16211249 0.8364151 ]]\n",
      "Prediction: COVID-19\n",
      "Confidence\n",
      "Normal: 0.001 Pneumonia: 0.162 Covid-19: 0.836\n",
      "Current img: F63AB6CE-1968-4154-A70F-913AF154F53D.jpeg\n",
      "pred [[1.9261275e-05 5.2441284e-03 9.9473661e-01]]\n",
      "Prediction: COVID-19\n",
      "Confidence\n",
      "Normal: 0.000 Pneumonia: 0.005 Covid-19: 0.995\n",
      "Current img: 2C26F453-AF3B-4517-BB9E-802CF2179543.jpeg\n",
      "pred [[9.4259536e-04 3.2659851e-03 9.9579144e-01]]\n",
      "Prediction: COVID-19\n",
      "Confidence\n",
      "Normal: 0.001 Pneumonia: 0.003 Covid-19: 0.996\n",
      "Current img: 93FE0BB1-022D-4F24-9727-987A07975FFB.jpeg\n",
      "pred [[6.2335763e-05 2.6799733e-04 9.9966967e-01]]\n",
      "Prediction: COVID-19\n",
      "Confidence\n",
      "Normal: 0.000 Pneumonia: 0.000 Covid-19: 1.000\n",
      "Current img: B59DD164-51D5-40DF-A926-6A42DD52EBE8.jpeg\n",
      "pred [[1.424906e-04 8.100247e-03 9.917572e-01]]\n",
      "Prediction: COVID-19\n",
      "Confidence\n",
      "Normal: 0.000 Pneumonia: 0.008 Covid-19: 0.992\n",
      "Current img: F4341CE7-73C9-45C6-99C8-8567A5484B63.jpeg\n",
      "pred [[3.5171102e-05 1.3027781e-04 9.9983454e-01]]\n",
      "Prediction: COVID-19\n",
      "Confidence\n",
      "Normal: 0.000 Pneumonia: 0.000 Covid-19: 1.000\n",
      "Current img: D5ACAA93-C779-4E22-ADFA-6A220489F840.jpeg\n",
      "pred [[0.09055417 0.25172064 0.6577252 ]]\n",
      "Prediction: COVID-19\n",
      "Confidence\n",
      "Normal: 0.091 Pneumonia: 0.252 Covid-19: 0.658\n",
      "Current img: E63574A7-4188-4C8D-8D17-9D67A18A1AFA.jpeg\n",
      "pred [[6.3448148e-05 1.5836909e-04 9.9977821e-01]]\n",
      "Prediction: COVID-19\n",
      "Confidence\n",
      "Normal: 0.000 Pneumonia: 0.000 Covid-19: 1.000\n",
      "Current img: 35AF5C3B-D04D-4B4B-92B7-CB1F67D83085.jpeg\n",
      "pred [[0.14340825 0.22389145 0.63270026]]\n",
      "Prediction: COVID-19\n",
      "Confidence\n",
      "Normal: 0.143 Pneumonia: 0.224 Covid-19: 0.633\n",
      "Current img: 5CBC2E94-D358-401E-8928-965CCD965C5C.jpeg\n"
     ]
    },
    {
     "name": "stderr",
     "output_type": "stream",
     "text": [
      "/opt/apps/apps/binapps/anaconda3/2019.07-numpy-fix/lib/python3.7/site-packages/ipykernel_launcher.py:196: RuntimeWarning: invalid value encountered in true_divide\n"
     ]
    },
    {
     "name": "stdout",
     "output_type": "stream",
     "text": [
      "pred [[2.1473517e-05 2.0923379e-05 9.9995756e-01]]\n",
      "Prediction: COVID-19\n",
      "Confidence\n",
      "Normal: 0.000 Pneumonia: 0.000 Covid-19: 1.000\n",
      "Current img: 446B2CB6-B572-40AB-B01F-1910CA07086A.jpeg\n",
      "pred [[1.8262786e-05 5.9761656e-03 9.9400556e-01]]\n",
      "Prediction: COVID-19\n",
      "Confidence\n",
      "Normal: 0.000 Pneumonia: 0.006 Covid-19: 0.994\n",
      "Current img: 80446565-E090-4187-A031-9D3CEAA586C8.jpeg\n",
      "pred [[7.2913763e-06 1.4573161e-03 9.9853539e-01]]\n",
      "Prediction: COVID-19\n",
      "Confidence\n",
      "Normal: 0.000 Pneumonia: 0.001 Covid-19: 0.999\n",
      "Current img: 7E335538-2F86-424E-A0AB-6397783A38D0.jpeg\n",
      "pred [[3.4479427e-07 2.4020977e-04 9.9975950e-01]]\n",
      "Prediction: COVID-19\n",
      "Confidence\n",
      "Normal: 0.000 Pneumonia: 0.000 Covid-19: 1.000\n",
      "Current img: D7AF463C-2369-492D-908D-BE1911CCD74C.jpeg\n",
      "pred [[0.00470146 0.01090762 0.98439085]]\n",
      "Prediction: COVID-19\n",
      "Confidence\n",
      "Normal: 0.005 Pneumonia: 0.011 Covid-19: 0.984\n",
      "Current img: all14238-fig-0001-m-b.jpg\n",
      "pred [[7.0480139e-18 3.7246038e-15 1.0000000e+00]]\n",
      "Prediction: COVID-19\n",
      "Confidence\n",
      "Normal: 0.000 Pneumonia: 0.000 Covid-19: 1.000\n",
      "Current img: all14238-fig-0001-m-c.jpg\n",
      "pred [[2.1018432e-12 1.6230653e-10 1.0000000e+00]]\n",
      "Prediction: COVID-19\n",
      "Confidence\n",
      "Normal: 0.000 Pneumonia: 0.000 Covid-19: 1.000\n",
      "Current img: all14238-fig-0002-m-d.jpg\n",
      "pred [[0.00127494 0.0116897  0.98703533]]\n",
      "Prediction: COVID-19\n",
      "Confidence\n",
      "Normal: 0.001 Pneumonia: 0.012 Covid-19: 0.987\n",
      "Current img: all14238-fig-0002-m-e.jpg\n",
      "pred [[0.00393591 0.05107935 0.94498473]]\n",
      "Prediction: COVID-19\n",
      "Confidence\n",
      "Normal: 0.004 Pneumonia: 0.051 Covid-19: 0.945\n",
      "Current img: all14238-fig-0002-m-f.jpg\n",
      "pred [[0.00252726 0.01908205 0.97839063]]\n",
      "Prediction: COVID-19\n",
      "Confidence\n",
      "Normal: 0.003 Pneumonia: 0.019 Covid-19: 0.978\n",
      "Current img: 1-s2.0-S1684118220300608-main.pdf-001.jpg\n",
      "pred [[8.1768354e-07 9.3245489e-04 9.9906677e-01]]\n",
      "Prediction: COVID-19\n",
      "Confidence\n",
      "Normal: 0.000 Pneumonia: 0.001 Covid-19: 0.999\n",
      "Current img: 1-s2.0-S1684118220300608-main.pdf-002.jpg\n",
      "pred [[1.3301277e-04 4.0118988e-03 9.9585503e-01]]\n",
      "Prediction: COVID-19\n",
      "Confidence\n",
      "Normal: 0.000 Pneumonia: 0.004 Covid-19: 0.996\n",
      "Current img: ciaa199.pdf-001-a.png\n",
      "pred [[4.7768299e-07 5.9697282e-05 9.9993980e-01]]\n",
      "Prediction: COVID-19\n",
      "Confidence\n",
      "Normal: 0.000 Pneumonia: 0.000 Covid-19: 1.000\n",
      "Current img: ciaa199.pdf-001-b.png\n",
      "pred [[1.4570355e-04 3.8981382e-04 9.9946445e-01]]\n",
      "Prediction: COVID-19\n",
      "Confidence\n",
      "Normal: 0.000 Pneumonia: 0.000 Covid-19: 0.999\n",
      "Current img: kjr-21-e24-g001-l-a.jpg\n",
      "pred [[1.4623168e-06 8.1714714e-04 9.9918133e-01]]\n",
      "Prediction: COVID-19\n",
      "Confidence\n",
      "Normal: 0.000 Pneumonia: 0.001 Covid-19: 0.999\n",
      "Current img: kjr-21-e24-g001-l-b.jpg\n",
      "pred [[0.58065295 0.4129267  0.00642035]]\n",
      "Prediction: normal\n",
      "Confidence\n",
      "Normal: 0.581 Pneumonia: 0.413 Covid-19: 0.006\n",
      "Current img: kjr-21-e24-g001-l-c.jpg\n",
      "pred [[0.39305454 0.59416986 0.01277558]]\n",
      "Prediction: pneumonia\n",
      "Confidence\n",
      "Normal: 0.393 Pneumonia: 0.594 Covid-19: 0.013\n",
      "Current img: kjr-21-e24-g002-l-a.jpg\n",
      "pred [[5.0708327e-06 1.8360132e-03 9.9815887e-01]]\n",
      "Prediction: COVID-19\n",
      "Confidence\n",
      "Normal: 0.000 Pneumonia: 0.002 Covid-19: 0.998\n",
      "Current img: kjr-21-e24-g002-l-b.jpg\n",
      "pred [[4.9037047e-02 9.5096296e-01 6.7824061e-13]]\n",
      "Prediction: pneumonia\n",
      "Confidence\n",
      "Normal: 0.049 Pneumonia: 0.951 Covid-19: 0.000\n",
      "Current img: kjr-21-e24-g002-l-c.jpg\n",
      "pred [[9.0136224e-01 9.8637730e-02 7.9272597e-09]]\n",
      "Prediction: normal\n",
      "Confidence\n",
      "Normal: 0.901 Pneumonia: 0.099 Covid-19: 0.000\n",
      "Current img: kjr-21-e24-g003-l-a.jpg\n"
     ]
    },
    {
     "name": "stderr",
     "output_type": "stream",
     "text": [
      "/opt/apps/apps/binapps/anaconda3/2019.07-numpy-fix/lib/python3.7/site-packages/ipykernel_launcher.py:196: RuntimeWarning: invalid value encountered in true_divide\n"
     ]
    },
    {
     "name": "stdout",
     "output_type": "stream",
     "text": [
      "pred [[6.3408876e-08 1.3997509e-07 9.9999976e-01]]\n",
      "Prediction: COVID-19\n",
      "Confidence\n",
      "Normal: 0.000 Pneumonia: 0.000 Covid-19: 1.000\n",
      "Current img: kjr-21-e24-g003-l-b.jpg\n",
      "pred [[8.80088389e-01 1.19911656e-01 1.38504852e-08]]\n",
      "Prediction: normal\n",
      "Confidence\n",
      "Normal: 0.880 Pneumonia: 0.120 Covid-19: 0.000\n",
      "Current img: kjr-21-e24-g004-l-a.jpg\n"
     ]
    },
    {
     "name": "stderr",
     "output_type": "stream",
     "text": [
      "/opt/apps/apps/binapps/anaconda3/2019.07-numpy-fix/lib/python3.7/site-packages/ipykernel_launcher.py:196: RuntimeWarning: invalid value encountered in true_divide\n"
     ]
    },
    {
     "name": "stdout",
     "output_type": "stream",
     "text": [
      "pred [[2.9297680e-01 7.0702314e-01 4.6075382e-08]]\n",
      "Prediction: pneumonia\n",
      "Confidence\n",
      "Normal: 0.293 Pneumonia: 0.707 Covid-19: 0.000\n",
      "Current img: kjr-21-e24-g004-l-b.jpg\n",
      "pred [[5.0465745e-01 4.9534199e-01 5.2525331e-07]]\n",
      "Prediction: normal\n",
      "Confidence\n",
      "Normal: 0.505 Pneumonia: 0.495 Covid-19: 0.000\n",
      "Current img: 1-s2.0-S1684118220300682-main.pdf-002-a1.png\n"
     ]
    },
    {
     "name": "stderr",
     "output_type": "stream",
     "text": [
      "/opt/apps/apps/binapps/anaconda3/2019.07-numpy-fix/lib/python3.7/site-packages/ipykernel_launcher.py:196: RuntimeWarning: invalid value encountered in true_divide\n"
     ]
    },
    {
     "name": "stdout",
     "output_type": "stream",
     "text": [
      "pred [[5.0050748e-04 7.1955577e-04 9.9877995e-01]]\n",
      "Prediction: COVID-19\n",
      "Confidence\n",
      "Normal: 0.001 Pneumonia: 0.001 Covid-19: 0.999\n",
      "Current img: 1-s2.0-S1684118220300682-main.pdf-002-a2.png\n",
      "pred [[2.9201809e-04 1.0404310e-03 9.9866760e-01]]\n",
      "Prediction: COVID-19\n",
      "Confidence\n",
      "Normal: 0.000 Pneumonia: 0.001 Covid-19: 0.999\n",
      "Current img: 1-s2.0-S1684118220300682-main.pdf-003-b1.png\n",
      "pred [[7.7487557e-04 3.9330756e-04 9.9883181e-01]]\n",
      "Prediction: COVID-19\n",
      "Confidence\n",
      "Normal: 0.001 Pneumonia: 0.000 Covid-19: 0.999\n",
      "Current img: 1-s2.0-S1684118220300682-main.pdf-003-b2.png\n",
      "pred [[4.8957745e-06 3.4709767e-05 9.9996042e-01]]\n",
      "Prediction: COVID-19\n",
      "Confidence\n",
      "Normal: 0.000 Pneumonia: 0.000 Covid-19: 1.000\n",
      "Current img: gr1_lrg-a.jpg\n",
      "pred [[0. 0. 1.]]\n",
      "Prediction: COVID-19\n",
      "Confidence\n",
      "Normal: 0.000 Pneumonia: 0.000 Covid-19: 1.000\n",
      "Current img: gr1_lrg-b.jpg\n"
     ]
    },
    {
     "name": "stderr",
     "output_type": "stream",
     "text": [
      "/opt/apps/apps/binapps/anaconda3/2019.07-numpy-fix/lib/python3.7/site-packages/ipykernel_launcher.py:196: RuntimeWarning: invalid value encountered in true_divide\n"
     ]
    },
    {
     "name": "stdout",
     "output_type": "stream",
     "text": [
      "pred [[0. 0. 1.]]\n",
      "Prediction: COVID-19\n",
      "Confidence\n",
      "Normal: 0.000 Pneumonia: 0.000 Covid-19: 1.000\n",
      "Current img: 7D2CF6CE-F529-4470-8356-D33FFAF98600.jpeg\n"
     ]
    },
    {
     "name": "stderr",
     "output_type": "stream",
     "text": [
      "/opt/apps/apps/binapps/anaconda3/2019.07-numpy-fix/lib/python3.7/site-packages/ipykernel_launcher.py:196: RuntimeWarning: invalid value encountered in true_divide\n"
     ]
    },
    {
     "name": "stdout",
     "output_type": "stream",
     "text": [
      "pred [[0.08587477 0.07253898 0.8415863 ]]\n",
      "Prediction: COVID-19\n",
      "Confidence\n",
      "Normal: 0.086 Pneumonia: 0.073 Covid-19: 0.842\n",
      "Current img: FE9F9A5D-2830-46F9-851B-1FF4534959BE.jpeg\n",
      "pred [[8.055787e-24 4.817602e-24 1.000000e+00]]\n",
      "Prediction: COVID-19\n",
      "Confidence\n",
      "Normal: 0.000 Pneumonia: 0.000 Covid-19: 1.000\n",
      "Current img: 4C4DEFD8-F55D-4588-AAD6-C59017F55966.jpeg\n",
      "pred [[7.9528963e-22 1.6970012e-21 1.0000000e+00]]\n",
      "Prediction: COVID-19\n",
      "Confidence\n",
      "Normal: 0.000 Pneumonia: 0.000 Covid-19: 1.000\n",
      "Current img: 171CB377-62FF-4B76-906C-F3787A01CB2E.jpeg\n",
      "pred [[2.0948323e-06 9.8030595e-04 9.9901760e-01]]\n",
      "Prediction: COVID-19\n",
      "Confidence\n",
      "Normal: 0.000 Pneumonia: 0.001 Covid-19: 0.999\n",
      "Current img: 5931B64A-7B97-485D-BE60-3F1EA76BC4F0.jpeg\n",
      "pred [[4.1752464e-06 1.3111487e-04 9.9986470e-01]]\n",
      "Prediction: COVID-19\n",
      "Confidence\n",
      "Normal: 0.000 Pneumonia: 0.000 Covid-19: 1.000\n",
      "Current img: C6EA0BE5-B01E-4113-B194-18D956675E25.jpeg\n",
      "pred [[6.8074037e-06 2.6277010e-04 9.9973041e-01]]\n",
      "Prediction: COVID-19\n",
      "Confidence\n",
      "Normal: 0.000 Pneumonia: 0.000 Covid-19: 1.000\n",
      "Current img: 7EF28E12-F628-4BEC-A8C5-E6277C2E4F60.png\n",
      "pred [[2.0515552e-06 1.9210554e-06 9.9999607e-01]]\n",
      "Prediction: COVID-19\n",
      "Confidence\n",
      "Normal: 0.000 Pneumonia: 0.000 Covid-19: 1.000\n",
      "Current img: 41591_2020_819_Fig1_HTML.webp-day5.png\n",
      "pred [[1.9514386e-04 8.4448274e-04 9.9896038e-01]]\n",
      "Prediction: COVID-19\n",
      "Confidence\n",
      "Normal: 0.000 Pneumonia: 0.001 Covid-19: 0.999\n",
      "Current img: 41591_2020_819_Fig1_HTML.webp-day10.png\n",
      "pred [[0.00188286 0.00603096 0.9920861 ]]\n",
      "Prediction: COVID-19\n",
      "Confidence\n",
      "Normal: 0.002 Pneumonia: 0.006 Covid-19: 0.992\n",
      "Current img: 5e6dd879fde9502400e58b2f.jpeg\n",
      "pred [[3.2989806e-06 2.7379380e-03 9.9725878e-01]]\n",
      "Prediction: COVID-19\n",
      "Confidence\n",
      "Normal: 0.000 Pneumonia: 0.003 Covid-19: 0.997\n",
      "Current img: covid-19-pneumonia-19.jpg\n",
      "pred [[3.9422262e-05 6.2397183e-03 9.9372089e-01]]\n",
      "Prediction: COVID-19\n",
      "Confidence\n",
      "Normal: 0.000 Pneumonia: 0.006 Covid-19: 0.994\n",
      "Current img: kjr-21-e25-g001-l-a.jpg\n",
      "pred [[0.04117742 0.0106098  0.9482128 ]]\n",
      "Prediction: COVID-19\n",
      "Confidence\n",
      "Normal: 0.041 Pneumonia: 0.011 Covid-19: 0.948\n",
      "Current img: 03BF7561-A9BA-4C3C-B8A0-D3E585F73F3C.jpeg\n",
      "pred [[3.4107081e-06 6.0436822e-05 9.9993610e-01]]\n",
      "Prediction: COVID-19\n",
      "Confidence\n",
      "Normal: 0.000 Pneumonia: 0.000 Covid-19: 1.000\n",
      "Current img: 254B82FC-817D-4E2F-AB6E-1351341F0E38.jpeg\n",
      "pred [[0.0014645  0.01437398 0.9841615 ]]\n",
      "Prediction: COVID-19\n",
      "Confidence\n",
      "Normal: 0.001 Pneumonia: 0.014 Covid-19: 0.984\n",
      "Current img: 353889E0-A1E8-4F9E-A0B8-F24F36BCFBFB.jpeg\n",
      "pred [[9.0951804e-04 7.5230606e-02 9.2385989e-01]]\n",
      "Prediction: COVID-19\n",
      "Confidence\n",
      "Normal: 0.001 Pneumonia: 0.075 Covid-19: 0.924\n",
      "Current img: figure1-5e73d7ae897e27ff066a30cb-98.jpeg\n",
      "pred [[2.2264611e-07 3.1456025e-04 9.9968529e-01]]\n",
      "Prediction: COVID-19\n",
      "Confidence\n",
      "Normal: 0.000 Pneumonia: 0.000 Covid-19: 1.000\n",
      "Current img: figure1-5e75d0940b71e1b702629659-98-right.jpeg\n",
      "pred [[1.3161508e-05 2.0403722e-03 9.9794644e-01]]\n",
      "Prediction: COVID-19\n",
      "Confidence\n",
      "Normal: 0.000 Pneumonia: 0.002 Covid-19: 0.998\n",
      "Current img: figure1-5e71be566aa8714a04de3386-98-left.jpeg\n",
      "pred [[1.1650786e-18 1.3517409e-19 1.0000000e+00]]\n",
      "Prediction: COVID-19\n",
      "Confidence\n",
      "Normal: 0.000 Pneumonia: 0.000 Covid-19: 1.000\n",
      "Current img: 1F6343EE-AFEC-4B7D-97F5-62797EE18767.jpeg\n",
      "pred [[0.01245101 0.01053727 0.97701174]]\n",
      "Prediction: COVID-19\n",
      "Confidence\n",
      "Normal: 0.012 Pneumonia: 0.011 Covid-19: 0.977\n",
      "Current img: 5A78BCA9-5B7A-440D-8A4E-AE7710EA6EAD.jpeg\n",
      "pred [[4.0095716e-04 3.1330459e-02 9.6826851e-01]]\n",
      "Prediction: COVID-19\n",
      "Confidence\n",
      "Normal: 0.000 Pneumonia: 0.031 Covid-19: 0.968\n",
      "Current img: 2B8649B2-00C4-4233-85D5-1CE240CF233B.jpeg\n",
      "pred [[7.104209e-05 4.365759e-02 9.562714e-01]]\n",
      "Prediction: COVID-19\n",
      "Confidence\n",
      "Normal: 0.000 Pneumonia: 0.044 Covid-19: 0.956\n",
      "Current img: 2966893D-5DDF-4B68-9E2B-4979D5956C8E.jpeg\n",
      "pred [[1.2955114e-05 4.2601437e-03 9.9572694e-01]]\n",
      "Prediction: COVID-19\n",
      "Confidence\n",
      "Normal: 0.000 Pneumonia: 0.004 Covid-19: 0.996\n",
      "Current img: B2D20576-00B7-4519-A415-72DE29C90C34.jpeg\n",
      "pred [[1.7096203e-04 1.8186994e-02 9.8164201e-01]]\n",
      "Prediction: COVID-19\n",
      "Confidence\n",
      "Normal: 0.000 Pneumonia: 0.018 Covid-19: 0.982\n",
      "Current img: 6C94A287-C059-46A0-8600-AFB95F4727B7.jpeg\n",
      "pred [[6.9067610e-05 2.4300061e-02 9.7563088e-01]]\n",
      "Prediction: COVID-19\n",
      "Confidence\n",
      "Normal: 0.000 Pneumonia: 0.024 Covid-19: 0.976\n",
      "Current img: pneumococcal-pneumonia-day0.jpg\n",
      "pred [[0.00266058 0.99560285 0.00173666]]\n",
      "Prediction: pneumonia\n",
      "Confidence\n",
      "Normal: 0.003 Pneumonia: 0.996 Covid-19: 0.002\n"
     ]
    },
    {
     "name": "stderr",
     "output_type": "stream",
     "text": [
      "/opt/apps/apps/binapps/anaconda3/2019.07-numpy-fix/lib/python3.7/site-packages/ipykernel_launcher.py:196: RuntimeWarning: invalid value encountered in true_divide\n"
     ]
    },
    {
     "name": "stdout",
     "output_type": "stream",
     "text": [
      "Current img: pneumococcal-pneumonia-day7.jpg\n",
      "pred [[0.01054648 0.5241925  0.46526107]]\n",
      "Prediction: pneumonia\n",
      "Confidence\n",
      "Normal: 0.011 Pneumonia: 0.524 Covid-19: 0.465\n"
     ]
    },
    {
     "name": "stderr",
     "output_type": "stream",
     "text": [
      "/opt/apps/apps/binapps/anaconda3/2019.07-numpy-fix/lib/python3.7/site-packages/ipykernel_launcher.py:196: RuntimeWarning: invalid value encountered in true_divide\n"
     ]
    },
    {
     "name": "stdout",
     "output_type": "stream",
     "text": [
      "Current img: pneumococcal-pneumonia-day35.jpg\n",
      "pred [[0.37507978 0.3310337  0.29388657]]\n",
      "Prediction: normal\n",
      "Confidence\n",
      "Normal: 0.375 Pneumonia: 0.331 Covid-19: 0.294\n"
     ]
    },
    {
     "name": "stderr",
     "output_type": "stream",
     "text": [
      "/opt/apps/apps/binapps/anaconda3/2019.07-numpy-fix/lib/python3.7/site-packages/ipykernel_launcher.py:196: RuntimeWarning: invalid value encountered in true_divide\n"
     ]
    },
    {
     "name": "stdout",
     "output_type": "stream",
     "text": [
      "Current img: parapneumonic-effusion-1-PA.png\n",
      "pred [[0.01176788 0.11298143 0.87525064]]\n",
      "Prediction: COVID-19\n",
      "Confidence\n",
      "Normal: 0.012 Pneumonia: 0.113 Covid-19: 0.875\n",
      "Current img: parapneumonic-effusion-1-L.png\n",
      "pred [[0.02021638 0.0878384  0.8919452 ]]\n",
      "Prediction: COVID-19\n",
      "Confidence\n",
      "Normal: 0.020 Pneumonia: 0.088 Covid-19: 0.892\n",
      "Current img: right-upper-lobe-pneumonia-9-PA.jpg\n",
      "pred [[0.00179422 0.01972859 0.9784772 ]]\n",
      "Prediction: COVID-19\n",
      "Confidence\n",
      "Normal: 0.002 Pneumonia: 0.020 Covid-19: 0.978\n",
      "Current img: right-upper-lobe-pneumonia-9-L.jpg\n",
      "pred [[0.00380504 0.01136945 0.98482555]]\n",
      "Prediction: COVID-19\n",
      "Confidence\n",
      "Normal: 0.004 Pneumonia: 0.011 Covid-19: 0.985\n",
      "Current img: chlamydia-pneumonia-PA.png\n",
      "pred [[0.42047134 0.42148522 0.15804337]]\n",
      "Prediction: pneumonia\n",
      "Confidence\n",
      "Normal: 0.420 Pneumonia: 0.421 Covid-19: 0.158\n"
     ]
    },
    {
     "name": "stderr",
     "output_type": "stream",
     "text": [
      "/opt/apps/apps/binapps/anaconda3/2019.07-numpy-fix/lib/python3.7/site-packages/ipykernel_launcher.py:196: RuntimeWarning: invalid value encountered in true_divide\n"
     ]
    },
    {
     "name": "stdout",
     "output_type": "stream",
     "text": [
      "Current img: chlamydia-pneumonia-L.png\n",
      "pred [[0.00765289 0.03127549 0.9610716 ]]\n",
      "Prediction: COVID-19\n",
      "Confidence\n",
      "Normal: 0.008 Pneumonia: 0.031 Covid-19: 0.961\n",
      "Current img: aspiration-pneumonia-5-day0.jpg\n",
      "pred [[2.1235184e-07 7.6642777e-05 9.9992311e-01]]\n",
      "Prediction: COVID-19\n",
      "Confidence\n",
      "Normal: 0.000 Pneumonia: 0.000 Covid-19: 1.000\n",
      "Current img: aspiration-pneumonia-5-day3.jpg\n",
      "pred [[1.74411926e-11 1.13141066e-10 1.00000000e+00]]\n",
      "Prediction: COVID-19\n",
      "Confidence\n",
      "Normal: 0.000 Pneumonia: 0.000 Covid-19: 1.000\n",
      "Current img: aspiration-pneumonia-5-day10.jpg\n",
      "pred [[3.1143719e-07 9.2915698e-06 9.9999034e-01]]\n",
      "Prediction: COVID-19\n",
      "Confidence\n",
      "Normal: 0.000 Pneumonia: 0.000 Covid-19: 1.000\n",
      "Current img: aspiration-pneumonia-5-day27.jpg\n",
      "pred [[2.8109184e-07 6.4809033e-06 9.9999321e-01]]\n",
      "Prediction: COVID-19\n",
      "Confidence\n",
      "Normal: 0.000 Pneumonia: 0.000 Covid-19: 1.000\n",
      "Current img: cavitating-pneumonia-4-day0-PA.jpg\n",
      "pred [[0.00193978 0.03075287 0.9673073 ]]\n",
      "Prediction: COVID-19\n",
      "Confidence\n",
      "Normal: 0.002 Pneumonia: 0.031 Covid-19: 0.967\n",
      "Current img: cavitating-pneumonia-4-day0-L.jpg\n",
      "pred [[0.00451354 0.0365675  0.958919  ]]\n",
      "Prediction: COVID-19\n",
      "Confidence\n",
      "Normal: 0.005 Pneumonia: 0.037 Covid-19: 0.959\n",
      "Current img: cavitating-pneumonia-4-day28-PA.png\n",
      "pred [[0.0012117 0.7413415 0.2574468]]\n",
      "Prediction: pneumonia\n",
      "Confidence\n",
      "Normal: 0.001 Pneumonia: 0.741 Covid-19: 0.257\n",
      "Current img: cavitating-pneumonia-4-day28-L.png\n",
      "pred [[0.02177212 0.04088755 0.9373403 ]]\n",
      "Prediction: COVID-19\n",
      "Confidence\n",
      "Normal: 0.022 Pneumonia: 0.041 Covid-19: 0.937\n",
      "Current img: covid-19-pneumonia-30-PA.jpg\n",
      "pred [[4.8953170e-06 1.2618257e-04 9.9986887e-01]]\n",
      "Prediction: COVID-19\n",
      "Confidence\n",
      "Normal: 0.000 Pneumonia: 0.000 Covid-19: 1.000\n",
      "Current img: covid-19-pneumonia-30-L.jpg\n",
      "pred [[0.00104754 0.01259239 0.98636013]]\n",
      "Prediction: COVID-19\n",
      "Confidence\n",
      "Normal: 0.001 Pneumonia: 0.013 Covid-19: 0.986\n",
      "Current img: 6b44464d-73a7-4cf3-bbb6-ffe7168300e3.annot.original.jpeg\n",
      "pred [[0.41636172 0.05450338 0.5291349 ]]\n",
      "Prediction: COVID-19\n",
      "Confidence\n",
      "Normal: 0.416 Pneumonia: 0.055 Covid-19: 0.529\n"
     ]
    },
    {
     "name": "stderr",
     "output_type": "stream",
     "text": [
      "/opt/apps/apps/binapps/anaconda3/2019.07-numpy-fix/lib/python3.7/site-packages/ipykernel_launcher.py:196: RuntimeWarning: invalid value encountered in true_divide\n"
     ]
    },
    {
     "name": "stdout",
     "output_type": "stream",
     "text": [
      "Current img: 58cb9263f16e94305c730685358e4e_jumbo.jpeg\n",
      "pred [[7.3794527e-06 9.8019198e-05 9.9989462e-01]]\n",
      "Prediction: COVID-19\n",
      "Confidence\n",
      "Normal: 0.000 Pneumonia: 0.000 Covid-19: 1.000\n",
      "Current img: a1a7d22e66f6570df523e0077c6a5a_jumbo.jpeg\n",
      "pred [[0.02367043 0.13590176 0.84042776]]\n",
      "Prediction: COVID-19\n",
      "Confidence\n",
      "Normal: 0.024 Pneumonia: 0.136 Covid-19: 0.840\n",
      "Current img: 9fdd3c3032296fd04d2cad5d9070d4_jumbo.jpeg\n",
      "pred [[0.00655592 0.01076756 0.9826765 ]]\n",
      "Prediction: COVID-19\n",
      "Confidence\n",
      "Normal: 0.007 Pneumonia: 0.011 Covid-19: 0.983\n",
      "Current img: covid-19-pneumonia-rapidly-progressive-admission.jpg\n",
      "pred [[0.00479254 0.01906065 0.97614676]]\n",
      "Prediction: COVID-19\n",
      "Confidence\n",
      "Normal: 0.005 Pneumonia: 0.019 Covid-19: 0.976\n",
      "Current img: covid-19-pneumonia-rapidly-progressive-12-hours.jpg\n",
      "pred [[2.3397104e-06 6.5149921e-05 9.9993253e-01]]\n",
      "Prediction: COVID-19\n",
      "Confidence\n",
      "Normal: 0.000 Pneumonia: 0.000 Covid-19: 1.000\n",
      "Current img: covid-19-pneumonia-rapidly-progressive-3-days.jpg\n",
      "pred [[2.9052973e-07 4.7865735e-05 9.9995184e-01]]\n",
      "Prediction: COVID-19\n",
      "Confidence\n",
      "Normal: 0.000 Pneumonia: 0.000 Covid-19: 1.000\n",
      "Current img: covid-19-rapidly-progressive-acute-respiratory-distress-syndrome-ards-admission.jpg\n",
      "pred [[0.001099   0.5659353  0.43296567]]\n",
      "Prediction: pneumonia\n",
      "Confidence\n",
      "Normal: 0.001 Pneumonia: 0.566 Covid-19: 0.433\n",
      "Current img: covid-19-rapidly-progressive-acute-respiratory-distress-syndrome-ards-day-1.jpg\n"
     ]
    },
    {
     "name": "stderr",
     "output_type": "stream",
     "text": [
      "/opt/apps/apps/binapps/anaconda3/2019.07-numpy-fix/lib/python3.7/site-packages/ipykernel_launcher.py:196: RuntimeWarning: invalid value encountered in true_divide\n"
     ]
    },
    {
     "name": "stdout",
     "output_type": "stream",
     "text": [
      "pred [[1.0276714e-06 1.5670866e-04 9.9984229e-01]]\n",
      "Prediction: COVID-19\n",
      "Confidence\n",
      "Normal: 0.000 Pneumonia: 0.000 Covid-19: 1.000\n",
      "Current img: covid-19-rapidly-progressive-acute-respiratory-distress-syndrome-ards-day-2.jpg\n",
      "pred [[3.2932533e-06 3.1219355e-03 9.9687469e-01]]\n",
      "Prediction: COVID-19\n",
      "Confidence\n",
      "Normal: 0.000 Pneumonia: 0.003 Covid-19: 0.997\n",
      "Current img: covid-19-rapidly-progressive-acute-respiratory-distress-syndrome-ards-day-3.jpg\n",
      "pred [[0.00113051 0.06442832 0.93444115]]\n",
      "Prediction: COVID-19\n",
      "Confidence\n",
      "Normal: 0.001 Pneumonia: 0.064 Covid-19: 0.934\n",
      "Current img: covid-19-infection-exclusive-gastrointestinal-symptoms-pa.png\n",
      "pred [[1.0297627e-04 9.4914431e-04 9.9894792e-01]]\n",
      "Prediction: COVID-19\n",
      "Confidence\n",
      "Normal: 0.000 Pneumonia: 0.001 Covid-19: 0.999\n",
      "Current img: covid-19-infection-exclusive-gastrointestinal-symptoms-l.png\n",
      "pred [[3.4716813e-04 2.0868045e-03 9.9756610e-01]]\n",
      "Prediction: COVID-19\n",
      "Confidence\n",
      "Normal: 0.000 Pneumonia: 0.002 Covid-19: 0.998\n",
      "Current img: covid-19-pneumonia-28.png\n",
      "pred [[0.00477979 0.11961209 0.87560815]]\n",
      "Prediction: COVID-19\n",
      "Confidence\n",
      "Normal: 0.005 Pneumonia: 0.120 Covid-19: 0.876\n",
      "Current img: klebsiella-pneumonia-1.jpg\n",
      "pred [[0.15351096 0.7228734  0.12361568]]\n",
      "Prediction: pneumonia\n",
      "Confidence\n",
      "Normal: 0.154 Pneumonia: 0.723 Covid-19: 0.124\n",
      "Current img: pneumocystis-jirovecii-pneumonia-3-1.jpg\n"
     ]
    },
    {
     "name": "stderr",
     "output_type": "stream",
     "text": [
      "/opt/apps/apps/binapps/anaconda3/2019.07-numpy-fix/lib/python3.7/site-packages/ipykernel_launcher.py:196: RuntimeWarning: invalid value encountered in true_divide\n"
     ]
    },
    {
     "name": "stdout",
     "output_type": "stream",
     "text": [
      "pred [[0.03947209 0.6424436  0.3180843 ]]\n",
      "Prediction: pneumonia\n",
      "Confidence\n",
      "Normal: 0.039 Pneumonia: 0.642 Covid-19: 0.318\n"
     ]
    },
    {
     "name": "stderr",
     "output_type": "stream",
     "text": [
      "/opt/apps/apps/binapps/anaconda3/2019.07-numpy-fix/lib/python3.7/site-packages/ipykernel_launcher.py:196: RuntimeWarning: invalid value encountered in true_divide\n"
     ]
    },
    {
     "name": "stdout",
     "output_type": "stream",
     "text": [
      "Current img: pneumocystis-jirovecii-pneumonia-3-2.jpg\n",
      "pred [[2.8508966e-05 9.9997151e-01 8.8514758e-11]]\n",
      "Prediction: pneumonia\n",
      "Confidence\n",
      "Normal: 0.000 Pneumonia: 1.000 Covid-19: 0.000\n",
      "Current img: pneumocystis-jirovecii-pneumonia-3-3.jpg\n",
      "pred [[1.7698873e-02 9.8230112e-01 2.7627292e-08]]\n",
      "Prediction: pneumonia\n",
      "Confidence\n",
      "Normal: 0.018 Pneumonia: 0.982 Covid-19: 0.000\n"
     ]
    },
    {
     "name": "stderr",
     "output_type": "stream",
     "text": [
      "/opt/apps/apps/binapps/anaconda3/2019.07-numpy-fix/lib/python3.7/site-packages/ipykernel_launcher.py:196: RuntimeWarning: invalid value encountered in true_divide\n"
     ]
    },
    {
     "name": "stdout",
     "output_type": "stream",
     "text": [
      "Current img: pneumocystis-pneumonia-1.jpg\n",
      "pred [[0.04169782 0.11493887 0.84336334]]\n",
      "Prediction: COVID-19\n",
      "Confidence\n",
      "Normal: 0.042 Pneumonia: 0.115 Covid-19: 0.843\n",
      "Current img: X-ray_of_cyst_in_pneumocystis_pneumonia_1.jpg\n",
      "pred [[3.412637e-04 9.186101e-01 8.104865e-02]]\n",
      "Prediction: pneumonia\n",
      "Confidence\n",
      "Normal: 0.000 Pneumonia: 0.919 Covid-19: 0.081\n",
      "Current img: pneumocystis-pneumonia-8.jpg\n",
      "pred [[1.6619409e-04 9.9964356e-01 1.9024358e-04]]\n",
      "Prediction: pneumonia\n",
      "Confidence\n",
      "Normal: 0.000 Pneumonia: 1.000 Covid-19: 0.000\n"
     ]
    },
    {
     "name": "stderr",
     "output_type": "stream",
     "text": [
      "/opt/apps/apps/binapps/anaconda3/2019.07-numpy-fix/lib/python3.7/site-packages/ipykernel_launcher.py:196: RuntimeWarning: invalid value encountered in true_divide\n"
     ]
    },
    {
     "name": "stdout",
     "output_type": "stream",
     "text": [
      "Current img: pneumocystis-carinii-pneumonia-1-PA.jpg\n",
      "pred [[0. 0. 1.]]\n",
      "Prediction: COVID-19\n",
      "Confidence\n",
      "Normal: 0.000 Pneumonia: 0.000 Covid-19: 1.000\n",
      "Current img: pneumocystis-carinii-pneumonia-1-L.jpg\n"
     ]
    },
    {
     "name": "stderr",
     "output_type": "stream",
     "text": [
      "/opt/apps/apps/binapps/anaconda3/2019.07-numpy-fix/lib/python3.7/site-packages/ipykernel_launcher.py:196: RuntimeWarning: invalid value encountered in true_divide\n"
     ]
    },
    {
     "name": "stdout",
     "output_type": "stream",
     "text": [
      "pred [[0. 0. 1.]]\n",
      "Prediction: COVID-19\n",
      "Confidence\n",
      "Normal: 0.000 Pneumonia: 0.000 Covid-19: 1.000\n",
      "Current img: pneumocystis-pneumonia-12.png\n"
     ]
    },
    {
     "name": "stderr",
     "output_type": "stream",
     "text": [
      "/opt/apps/apps/binapps/anaconda3/2019.07-numpy-fix/lib/python3.7/site-packages/ipykernel_launcher.py:196: RuntimeWarning: invalid value encountered in true_divide\n"
     ]
    },
    {
     "name": "stdout",
     "output_type": "stream",
     "text": [
      "pred [[0.0135057  0.7376062  0.24888813]]\n",
      "Prediction: pneumonia\n",
      "Confidence\n",
      "Normal: 0.014 Pneumonia: 0.738 Covid-19: 0.249\n",
      "Current img: pneumocystis-jiroveci-pneumonia-2.png\n"
     ]
    },
    {
     "name": "stderr",
     "output_type": "stream",
     "text": [
      "/opt/apps/apps/binapps/anaconda3/2019.07-numpy-fix/lib/python3.7/site-packages/ipykernel_launcher.py:196: RuntimeWarning: invalid value encountered in true_divide\n"
     ]
    },
    {
     "name": "stdout",
     "output_type": "stream",
     "text": [
      "pred [[6.9663674e-04 2.0293586e-03 9.9727398e-01]]\n",
      "Prediction: COVID-19\n",
      "Confidence\n",
      "Normal: 0.001 Pneumonia: 0.002 Covid-19: 0.997\n",
      "Current img: pneumocystis-jirovecii-pneumonia-2.jpg\n",
      "pred [[0.00319768 0.01044093 0.9863614 ]]\n",
      "Prediction: COVID-19\n",
      "Confidence\n",
      "Normal: 0.003 Pneumonia: 0.010 Covid-19: 0.986\n",
      "Current img: pneumocystis-jiroveci-pneumonia-4-PA.png\n",
      "pred [[0.00262655 0.02678836 0.9705851 ]]\n",
      "Prediction: COVID-19\n",
      "Confidence\n",
      "Normal: 0.003 Pneumonia: 0.027 Covid-19: 0.971\n",
      "Current img: pneumocystis-jiroveci-pneumonia-4-L.png\n",
      "pred [[0.00579724 0.02223061 0.9719722 ]]\n",
      "Prediction: COVID-19\n",
      "Confidence\n",
      "Normal: 0.006 Pneumonia: 0.022 Covid-19: 0.972\n",
      "Current img: legionella-pneumonia-1.png\n",
      "pred [[0.00683286 0.379299   0.6138681 ]]\n",
      "Prediction: COVID-19\n",
      "Confidence\n",
      "Normal: 0.007 Pneumonia: 0.379 Covid-19: 0.614\n",
      "Current img: legionella-pneumonia-2.jpg\n"
     ]
    },
    {
     "name": "stderr",
     "output_type": "stream",
     "text": [
      "/opt/apps/apps/binapps/anaconda3/2019.07-numpy-fix/lib/python3.7/site-packages/ipykernel_launcher.py:196: RuntimeWarning: invalid value encountered in true_divide\n"
     ]
    },
    {
     "name": "stdout",
     "output_type": "stream",
     "text": [
      "pred [[4.634193e-04 6.163749e-02 9.378991e-01]]\n",
      "Prediction: COVID-19\n",
      "Confidence\n",
      "Normal: 0.000 Pneumonia: 0.062 Covid-19: 0.938\n",
      "Current img: 1.CXRCTThoraximagesofCOVID-19fromSingapore.pdf-000-fig1a.png\n",
      "pred [[1.0783306e-08 3.3506936e-07 9.9999964e-01]]\n",
      "Prediction: COVID-19\n",
      "Confidence\n",
      "Normal: 0.000 Pneumonia: 0.000 Covid-19: 1.000\n",
      "Current img: 1.CXRCTThoraximagesofCOVID-19fromSingapore.pdf-000-fig1b.png\n",
      "pred [[1.1768997e-07 2.6565792e-07 9.9999964e-01]]\n",
      "Prediction: COVID-19\n",
      "Confidence\n",
      "Normal: 0.000 Pneumonia: 0.000 Covid-19: 1.000\n",
      "Current img: 1.CXRCTThoraximagesofCOVID-19fromSingapore.pdf-001-fig2a.png\n",
      "pred [[4.0910859e-04 1.4439512e-04 9.9944645e-01]]\n",
      "Prediction: COVID-19\n",
      "Confidence\n",
      "Normal: 0.000 Pneumonia: 0.000 Covid-19: 0.999\n",
      "Current img: 1.CXRCTThoraximagesofCOVID-19fromSingapore.pdf-001-fig2b.png\n",
      "pred [[1.6759545e-10 1.6000162e-09 1.0000000e+00]]\n",
      "Prediction: COVID-19\n",
      "Confidence\n",
      "Normal: 0.000 Pneumonia: 0.000 Covid-19: 1.000\n",
      "Current img: 1.CXRCTThoraximagesofCOVID-19fromSingapore.pdf-002-fig3a.png\n",
      "pred [[1.7544870e-09 3.3919596e-07 9.9999964e-01]]\n",
      "Prediction: COVID-19\n",
      "Confidence\n",
      "Normal: 0.000 Pneumonia: 0.000 Covid-19: 1.000\n",
      "Current img: 1.CXRCTThoraximagesofCOVID-19fromSingapore.pdf-002-fig3b.png\n",
      "pred [[3.8939030e-09 3.4313442e-07 9.9999964e-01]]\n",
      "Prediction: COVID-19\n",
      "Confidence\n",
      "Normal: 0.000 Pneumonia: 0.000 Covid-19: 1.000\n",
      "Current img: 1.CXRCTThoraximagesofCOVID-19fromSingapore.pdf-003-fig4a.png\n",
      "pred [[3.9046397e-09 4.8463867e-06 9.9999511e-01]]\n",
      "Prediction: COVID-19\n",
      "Confidence\n",
      "Normal: 0.000 Pneumonia: 0.000 Covid-19: 1.000\n",
      "Current img: 1.CXRCTThoraximagesofCOVID-19fromSingapore.pdf-003-fig4b.png\n",
      "pred [[2.7098081e-06 2.3143388e-04 9.9976581e-01]]\n",
      "Prediction: COVID-19\n",
      "Confidence\n",
      "Normal: 0.000 Pneumonia: 0.000 Covid-19: 1.000\n",
      "Current img: covid-19-pneumonia-24-day6.jpg\n",
      "pred [[1.8530211e-05 2.5364573e-04 9.9972779e-01]]\n",
      "Prediction: COVID-19\n",
      "Confidence\n",
      "Normal: 0.000 Pneumonia: 0.000 Covid-19: 1.000\n",
      "Current img: covid-19-pneumonia-24-day7.jpg\n",
      "pred [[8.230727e-06 5.000699e-03 9.949911e-01]]\n",
      "Prediction: COVID-19\n",
      "Confidence\n",
      "Normal: 0.000 Pneumonia: 0.005 Covid-19: 0.995\n",
      "Current img: covid-19-pneumonia-24-day12.jpg\n",
      "pred [[0.00344094 0.10746226 0.8890968 ]]\n",
      "Prediction: COVID-19\n",
      "Confidence\n",
      "Normal: 0.003 Pneumonia: 0.107 Covid-19: 0.889\n",
      "Current img: covid-19-pneumonia-evolution-over-a-week-1-day0-PA.jpg\n",
      "pred [[1.9604801e-04 2.3038469e-03 9.9750012e-01]]\n",
      "Prediction: COVID-19\n",
      "Confidence\n",
      "Normal: 0.000 Pneumonia: 0.002 Covid-19: 0.998\n",
      "Current img: covid-19-pneumonia-evolution-over-a-week-1-day0-L.jpg\n",
      "pred [[0.00233566 0.00861015 0.9890542 ]]\n",
      "Prediction: COVID-19\n",
      "Confidence\n",
      "Normal: 0.002 Pneumonia: 0.009 Covid-19: 0.989\n",
      "Current img: covid-19-pneumonia-evolution-over-a-week-1-day3.jpg\n",
      "pred [[2.0152920e-05 1.7776226e-01 8.2221758e-01]]\n",
      "Prediction: COVID-19\n",
      "Confidence\n",
      "Normal: 0.000 Pneumonia: 0.178 Covid-19: 0.822\n",
      "Current img: covid-19-pneumonia-evolution-over-a-week-1-day4.jpg\n",
      "pred [[0.00170183 0.14701405 0.8512841 ]]\n",
      "Prediction: COVID-19\n",
      "Confidence\n",
      "Normal: 0.002 Pneumonia: 0.147 Covid-19: 0.851\n",
      "Current img: covid-19-pneumonia-evolution-over-a-week-1-day6.jpg\n",
      "pred [[1.9627944e-06 6.4767646e-03 9.9352127e-01]]\n",
      "Prediction: COVID-19\n",
      "Confidence\n",
      "Normal: 0.000 Pneumonia: 0.006 Covid-19: 0.994\n",
      "Current img: 53EC07C9-5CC6-4BE4-9B6F-D7B0D72AAA7E.jpeg\n",
      "pred [[5.5975921e-04 7.6896357e-03 9.9175054e-01]]\n",
      "Prediction: COVID-19\n",
      "Confidence\n",
      "Normal: 0.001 Pneumonia: 0.008 Covid-19: 0.992\n",
      "Current img: coronacases_org_001.nii.gz\n",
      "pred [[0.2905914  0.6988258  0.01058283]]\n",
      "Prediction: pneumonia\n",
      "Confidence\n",
      "Normal: 0.291 Pneumonia: 0.699 Covid-19: 0.011\n",
      "Current img: coronacases_org_002.nii.gz\n"
     ]
    },
    {
     "name": "stderr",
     "output_type": "stream",
     "text": [
      "/opt/apps/apps/binapps/anaconda3/2019.07-numpy-fix/lib/python3.7/site-packages/ipykernel_launcher.py:196: RuntimeWarning: invalid value encountered in true_divide\n"
     ]
    },
    {
     "name": "stdout",
     "output_type": "stream",
     "text": [
      "pred [[0.2905914  0.6988258  0.01058283]]\n",
      "Prediction: pneumonia\n",
      "Confidence\n",
      "Normal: 0.291 Pneumonia: 0.699 Covid-19: 0.011\n",
      "Current img: coronacases_org_003.nii.gz\n"
     ]
    },
    {
     "name": "stderr",
     "output_type": "stream",
     "text": [
      "/opt/apps/apps/binapps/anaconda3/2019.07-numpy-fix/lib/python3.7/site-packages/ipykernel_launcher.py:196: RuntimeWarning: invalid value encountered in true_divide\n"
     ]
    },
    {
     "name": "stdout",
     "output_type": "stream",
     "text": [
      "pred [[0.2905914  0.6988258  0.01058283]]\n",
      "Prediction: pneumonia\n",
      "Confidence\n",
      "Normal: 0.291 Pneumonia: 0.699 Covid-19: 0.011\n",
      "Current img: coronacases_org_004.nii.gz\n"
     ]
    },
    {
     "name": "stderr",
     "output_type": "stream",
     "text": [
      "/opt/apps/apps/binapps/anaconda3/2019.07-numpy-fix/lib/python3.7/site-packages/ipykernel_launcher.py:196: RuntimeWarning: invalid value encountered in true_divide\n"
     ]
    },
    {
     "name": "stdout",
     "output_type": "stream",
     "text": [
      "pred [[0.2905914  0.6988258  0.01058283]]\n",
      "Prediction: pneumonia\n",
      "Confidence\n",
      "Normal: 0.291 Pneumonia: 0.699 Covid-19: 0.011\n",
      "Current img: coronacases_org_005.nii.gz\n"
     ]
    },
    {
     "name": "stderr",
     "output_type": "stream",
     "text": [
      "/opt/apps/apps/binapps/anaconda3/2019.07-numpy-fix/lib/python3.7/site-packages/ipykernel_launcher.py:196: RuntimeWarning: invalid value encountered in true_divide\n"
     ]
    },
    {
     "name": "stdout",
     "output_type": "stream",
     "text": [
      "pred [[0.2905914  0.6988258  0.01058283]]\n",
      "Prediction: pneumonia\n",
      "Confidence\n",
      "Normal: 0.291 Pneumonia: 0.699 Covid-19: 0.011\n",
      "Current img: coronacases_org_006.nii.gz\n"
     ]
    },
    {
     "name": "stderr",
     "output_type": "stream",
     "text": [
      "/opt/apps/apps/binapps/anaconda3/2019.07-numpy-fix/lib/python3.7/site-packages/ipykernel_launcher.py:196: RuntimeWarning: invalid value encountered in true_divide\n"
     ]
    },
    {
     "name": "stdout",
     "output_type": "stream",
     "text": [
      "pred [[0.2905914  0.6988258  0.01058283]]\n",
      "Prediction: pneumonia\n",
      "Confidence\n",
      "Normal: 0.291 Pneumonia: 0.699 Covid-19: 0.011\n",
      "Current img: coronacases_org_007.nii.gz\n"
     ]
    },
    {
     "name": "stderr",
     "output_type": "stream",
     "text": [
      "/opt/apps/apps/binapps/anaconda3/2019.07-numpy-fix/lib/python3.7/site-packages/ipykernel_launcher.py:196: RuntimeWarning: invalid value encountered in true_divide\n"
     ]
    },
    {
     "name": "stdout",
     "output_type": "stream",
     "text": [
      "pred [[0.2905914  0.6988258  0.01058283]]\n",
      "Prediction: pneumonia\n",
      "Confidence\n",
      "Normal: 0.291 Pneumonia: 0.699 Covid-19: 0.011\n",
      "Current img: coronacases_org_008.nii.gz\n"
     ]
    },
    {
     "name": "stderr",
     "output_type": "stream",
     "text": [
      "/opt/apps/apps/binapps/anaconda3/2019.07-numpy-fix/lib/python3.7/site-packages/ipykernel_launcher.py:196: RuntimeWarning: invalid value encountered in true_divide\n"
     ]
    },
    {
     "name": "stdout",
     "output_type": "stream",
     "text": [
      "pred [[0.2905914  0.6988258  0.01058283]]\n",
      "Prediction: pneumonia\n",
      "Confidence\n",
      "Normal: 0.291 Pneumonia: 0.699 Covid-19: 0.011\n",
      "Current img: coronacases_org_009.nii.gz\n"
     ]
    },
    {
     "name": "stderr",
     "output_type": "stream",
     "text": [
      "/opt/apps/apps/binapps/anaconda3/2019.07-numpy-fix/lib/python3.7/site-packages/ipykernel_launcher.py:196: RuntimeWarning: invalid value encountered in true_divide\n"
     ]
    },
    {
     "name": "stdout",
     "output_type": "stream",
     "text": [
      "pred [[0.2905914  0.6988258  0.01058283]]\n",
      "Prediction: pneumonia\n",
      "Confidence\n",
      "Normal: 0.291 Pneumonia: 0.699 Covid-19: 0.011\n",
      "Current img: coronacases_org_010.nii.gz\n"
     ]
    },
    {
     "name": "stderr",
     "output_type": "stream",
     "text": [
      "/opt/apps/apps/binapps/anaconda3/2019.07-numpy-fix/lib/python3.7/site-packages/ipykernel_launcher.py:196: RuntimeWarning: invalid value encountered in true_divide\n"
     ]
    },
    {
     "name": "stdout",
     "output_type": "stream",
     "text": [
      "pred [[0.2905914  0.6988258  0.01058283]]\n",
      "Prediction: pneumonia\n",
      "Confidence\n",
      "Normal: 0.291 Pneumonia: 0.699 Covid-19: 0.011\n",
      "Current img: radiopaedia_org_covid-19-pneumonia-4_85506_1-dcm.nii.gz\n"
     ]
    },
    {
     "name": "stderr",
     "output_type": "stream",
     "text": [
      "/opt/apps/apps/binapps/anaconda3/2019.07-numpy-fix/lib/python3.7/site-packages/ipykernel_launcher.py:196: RuntimeWarning: invalid value encountered in true_divide\n"
     ]
    },
    {
     "name": "stdout",
     "output_type": "stream",
     "text": [
      "pred [[0.2905914  0.6988258  0.01058283]]\n",
      "Prediction: pneumonia\n",
      "Confidence\n",
      "Normal: 0.291 Pneumonia: 0.699 Covid-19: 0.011\n",
      "Current img: radiopaedia_org_covid-19-pneumonia-29_86490_1-dcm.nii.gz\n"
     ]
    },
    {
     "name": "stderr",
     "output_type": "stream",
     "text": [
      "/opt/apps/apps/binapps/anaconda3/2019.07-numpy-fix/lib/python3.7/site-packages/ipykernel_launcher.py:196: RuntimeWarning: invalid value encountered in true_divide\n"
     ]
    },
    {
     "name": "stdout",
     "output_type": "stream",
     "text": [
      "pred [[0.2905914  0.6988258  0.01058283]]\n",
      "Prediction: pneumonia\n",
      "Confidence\n",
      "Normal: 0.291 Pneumonia: 0.699 Covid-19: 0.011\n",
      "Current img: radiopaedia_org_covid-19-pneumonia-29_86491_1-dcm.nii.gz\n"
     ]
    },
    {
     "name": "stderr",
     "output_type": "stream",
     "text": [
      "/opt/apps/apps/binapps/anaconda3/2019.07-numpy-fix/lib/python3.7/site-packages/ipykernel_launcher.py:196: RuntimeWarning: invalid value encountered in true_divide\n"
     ]
    },
    {
     "name": "stdout",
     "output_type": "stream",
     "text": [
      "pred [[0.2905914  0.6988258  0.01058283]]\n",
      "Prediction: pneumonia\n",
      "Confidence\n",
      "Normal: 0.291 Pneumonia: 0.699 Covid-19: 0.011\n",
      "Current img: covid-19-pneumonia-23-day1.jpg\n"
     ]
    },
    {
     "name": "stderr",
     "output_type": "stream",
     "text": [
      "/opt/apps/apps/binapps/anaconda3/2019.07-numpy-fix/lib/python3.7/site-packages/ipykernel_launcher.py:196: RuntimeWarning: invalid value encountered in true_divide\n"
     ]
    },
    {
     "name": "stdout",
     "output_type": "stream",
     "text": [
      "pred [[0.00336642 0.02092535 0.9757082 ]]\n",
      "Prediction: COVID-19\n",
      "Confidence\n",
      "Normal: 0.003 Pneumonia: 0.021 Covid-19: 0.976\n",
      "Current img: covid-19-pneumonia-23-day3.jpg\n",
      "pred [[3.996976e-05 4.847375e-04 9.994753e-01]]\n",
      "Prediction: COVID-19\n",
      "Confidence\n",
      "Normal: 0.000 Pneumonia: 0.000 Covid-19: 0.999\n",
      "Current img: covid-19-pneumonia-23-day9.jpg\n",
      "pred [[6.1375925e-07 3.6536244e-04 9.9963403e-01]]\n",
      "Prediction: COVID-19\n",
      "Confidence\n",
      "Normal: 0.000 Pneumonia: 0.000 Covid-19: 1.000\n",
      "Current img: radiopaedia_org_covid-19-pneumonia-23_86359_0-dcm.nii.gz\n",
      "pred [[0.2905914  0.6988258  0.01058283]]\n",
      "Prediction: pneumonia\n",
      "Confidence\n",
      "Normal: 0.291 Pneumonia: 0.699 Covid-19: 0.011\n",
      "Current img: radiopaedia_org_covid-19-pneumonia-10_85902_1-dcm.nii.gz\n"
     ]
    },
    {
     "name": "stderr",
     "output_type": "stream",
     "text": [
      "/opt/apps/apps/binapps/anaconda3/2019.07-numpy-fix/lib/python3.7/site-packages/ipykernel_launcher.py:196: RuntimeWarning: invalid value encountered in true_divide\n"
     ]
    },
    {
     "name": "stdout",
     "output_type": "stream",
     "text": [
      "pred [[0.2905914  0.6988258  0.01058283]]\n",
      "Prediction: pneumonia\n",
      "Confidence\n",
      "Normal: 0.291 Pneumonia: 0.699 Covid-19: 0.011\n",
      "Current img: radiopaedia_org_covid-19-pneumonia-10_85902_3-dcm.nii.gz\n"
     ]
    },
    {
     "name": "stderr",
     "output_type": "stream",
     "text": [
      "/opt/apps/apps/binapps/anaconda3/2019.07-numpy-fix/lib/python3.7/site-packages/ipykernel_launcher.py:196: RuntimeWarning: invalid value encountered in true_divide\n"
     ]
    },
    {
     "name": "stdout",
     "output_type": "stream",
     "text": [
      "pred [[0.2905914  0.6988258  0.01058283]]\n",
      "Prediction: pneumonia\n",
      "Confidence\n",
      "Normal: 0.291 Pneumonia: 0.699 Covid-19: 0.011\n",
      "Current img: radiopaedia_org_covid-19-pneumonia-36_86526_0-dcm.nii.gz\n"
     ]
    },
    {
     "name": "stderr",
     "output_type": "stream",
     "text": [
      "/opt/apps/apps/binapps/anaconda3/2019.07-numpy-fix/lib/python3.7/site-packages/ipykernel_launcher.py:196: RuntimeWarning: invalid value encountered in true_divide\n"
     ]
    },
    {
     "name": "stdout",
     "output_type": "stream",
     "text": [
      "pred [[0.2905914  0.6988258  0.01058283]]\n",
      "Prediction: pneumonia\n",
      "Confidence\n",
      "Normal: 0.291 Pneumonia: 0.699 Covid-19: 0.011\n",
      "Current img: radiopaedia_org_covid-19-pneumonia-27_86410_0-dcm.nii.gz\n"
     ]
    },
    {
     "name": "stderr",
     "output_type": "stream",
     "text": [
      "/opt/apps/apps/binapps/anaconda3/2019.07-numpy-fix/lib/python3.7/site-packages/ipykernel_launcher.py:196: RuntimeWarning: invalid value encountered in true_divide\n"
     ]
    },
    {
     "name": "stdout",
     "output_type": "stream",
     "text": [
      "pred [[0.2905914  0.6988258  0.01058283]]\n",
      "Prediction: pneumonia\n",
      "Confidence\n",
      "Normal: 0.291 Pneumonia: 0.699 Covid-19: 0.011\n",
      "Current img: radiopaedia_org_covid-19-pneumonia-40_86625_0-dcm.nii.gz\n"
     ]
    },
    {
     "name": "stderr",
     "output_type": "stream",
     "text": [
      "/opt/apps/apps/binapps/anaconda3/2019.07-numpy-fix/lib/python3.7/site-packages/ipykernel_launcher.py:196: RuntimeWarning: invalid value encountered in true_divide\n"
     ]
    },
    {
     "name": "stdout",
     "output_type": "stream",
     "text": [
      "pred [[0.2905914  0.6988258  0.01058283]]\n",
      "Prediction: pneumonia\n",
      "Confidence\n",
      "Normal: 0.291 Pneumonia: 0.699 Covid-19: 0.011\n",
      "Current img: A7E260CE-8A00-4C5F-A7F5-27336527A981.jpeg\n"
     ]
    },
    {
     "name": "stderr",
     "output_type": "stream",
     "text": [
      "/opt/apps/apps/binapps/anaconda3/2019.07-numpy-fix/lib/python3.7/site-packages/ipykernel_launcher.py:196: RuntimeWarning: invalid value encountered in true_divide\n"
     ]
    },
    {
     "name": "stdout",
     "output_type": "stream",
     "text": [
      "pred [[1.3843200e-07 1.6859324e-06 9.9999821e-01]]\n",
      "Prediction: COVID-19\n",
      "Confidence\n",
      "Normal: 0.000 Pneumonia: 0.000 Covid-19: 1.000\n",
      "Current img: RX-torace-a-letto-del-paziente-in-unica-proiezione-AP-1-1.jpeg\n",
      "pred [[0.00144623 0.00188998 0.99666375]]\n",
      "Prediction: COVID-19\n",
      "Confidence\n",
      "Normal: 0.001 Pneumonia: 0.002 Covid-19: 0.997\n",
      "Current img: covid-19-caso-70-1-PA.jpg\n",
      "pred [[1.7682059e-05 3.4850482e-03 9.9649733e-01]]\n",
      "Prediction: COVID-19\n",
      "Confidence\n",
      "Normal: 0.000 Pneumonia: 0.003 Covid-19: 0.996\n",
      "Current img: covid-19-caso-70-1-L.jpg\n",
      "pred [[0.01895618 0.3559997  0.62504417]]\n",
      "Prediction: COVID-19\n",
      "Confidence\n",
      "Normal: 0.019 Pneumonia: 0.356 Covid-19: 0.625\n",
      "Current img: covid-19-caso-70-2-APS.jpg\n",
      "pred [[0.00396451 0.02165375 0.9743817 ]]\n",
      "Prediction: COVID-19\n",
      "Confidence\n",
      "Normal: 0.004 Pneumonia: 0.022 Covid-19: 0.974\n",
      "Current img: 4e43e48d52c9e2d4c6c1fb9bc1544f_jumbo.jpeg\n",
      "pred [[7.3774677e-04 1.3587965e-03 9.9790347e-01]]\n",
      "Prediction: COVID-19\n",
      "Confidence\n",
      "Normal: 0.001 Pneumonia: 0.001 Covid-19: 0.998\n",
      "Current img: covid-19-pneumonia-53.jpg\n",
      "pred [[0.00558593 0.00109428 0.99331987]]\n",
      "Prediction: COVID-19\n",
      "Confidence\n",
      "Normal: 0.006 Pneumonia: 0.001 Covid-19: 0.993\n",
      "Current img: post-intubuation-pneumomediastium-and-pneumothorax-background-covid-19-pneumonia-day1.jpg\n",
      "pred [[0.00323701 0.01010958 0.9866534 ]]\n",
      "Prediction: COVID-19\n",
      "Confidence\n",
      "Normal: 0.003 Pneumonia: 0.010 Covid-19: 0.987\n",
      "Current img: post-intubuation-pneumomediastium-and-pneumothorax-background-covid-19-pneumonia-day6-1.jpg\n",
      "pred [[9.3696744e-06 5.8067188e-05 9.9993253e-01]]\n",
      "Prediction: COVID-19\n",
      "Confidence\n",
      "Normal: 0.000 Pneumonia: 0.000 Covid-19: 1.000\n",
      "Current img: post-intubuation-pneumomediastium-and-pneumothorax-background-covid-19-pneumonia-day6-2.jpg\n",
      "pred [[2.1655542e-06 4.6517707e-05 9.9995136e-01]]\n",
      "Prediction: COVID-19\n",
      "Confidence\n",
      "Normal: 0.000 Pneumonia: 0.000 Covid-19: 1.000\n",
      "Current img: post-intubuation-pneumomediastium-and-pneumothorax-background-covid-19-pneumonia-day7.jpg\n",
      "pred [[3.9851730e-06 8.6428714e-05 9.9990952e-01]]\n",
      "Prediction: COVID-19\n",
      "Confidence\n",
      "Normal: 0.000 Pneumonia: 0.000 Covid-19: 1.000\n",
      "Current img: covid-19-pneumonia-49-day4.jpg\n",
      "pred [[8.8669197e-04 2.0141639e-03 9.9709916e-01]]\n",
      "Prediction: COVID-19\n",
      "Confidence\n",
      "Normal: 0.001 Pneumonia: 0.002 Covid-19: 0.997\n",
      "Current img: covid-19-pneumonia-49-day8.jpg\n",
      "pred [[4.3078677e-07 3.8484231e-05 9.9996114e-01]]\n",
      "Prediction: COVID-19\n",
      "Confidence\n",
      "Normal: 0.000 Pneumonia: 0.000 Covid-19: 1.000\n",
      "Current img: covid-19-pneumonia-43-day0.jpeg\n",
      "pred [[2.521931e-17 8.491594e-14 1.000000e+00]]\n",
      "Prediction: COVID-19\n",
      "Confidence\n",
      "Normal: 0.000 Pneumonia: 0.000 Covid-19: 1.000\n",
      "Current img: covid-19-pneumonia-43-day2.jpeg\n",
      "pred [[4.7338194e-06 2.6773874e-04 9.9972755e-01]]\n",
      "Prediction: COVID-19\n",
      "Confidence\n",
      "Normal: 0.000 Pneumonia: 0.000 Covid-19: 1.000\n",
      "Current img: covid-19-pneumonia-40.jpg\n",
      "pred [[5.9510480e-06 1.6559541e-04 9.9982846e-01]]\n",
      "Prediction: COVID-19\n",
      "Confidence\n",
      "Normal: 0.000 Pneumonia: 0.000 Covid-19: 1.000\n",
      "Current img: covid-19-pneumonia-42.jpeg\n",
      "pred [[2.0522111e-06 1.0072143e-03 9.9899071e-01]]\n",
      "Prediction: COVID-19\n",
      "Confidence\n",
      "Normal: 0.000 Pneumonia: 0.001 Covid-19: 0.999\n",
      "Current img: da9e9aac-de8c-44c7-ba57-e7cc8e4caaba.annot.original.jpeg\n",
      "pred [[9.5430971e-04 2.7942764e-02 9.7110295e-01]]\n",
      "Prediction: COVID-19\n",
      "Confidence\n",
      "Normal: 0.001 Pneumonia: 0.028 Covid-19: 0.971\n",
      "Current img: 4ad30bc6-2da0-4f84-bc9b-62acabfd518a.annot.original.png\n",
      "pred [[2.7599392e-04 3.2847701e-03 9.9643916e-01]]\n",
      "Prediction: COVID-19\n",
      "Confidence\n",
      "Normal: 0.000 Pneumonia: 0.003 Covid-19: 0.996\n",
      "Current img: fff49165-b22d-4bb4-b9d1-d5d62c52436c.annot.original.png\n",
      "pred [[2.8246778e-04 2.4932225e-03 9.9722433e-01]]\n",
      "Prediction: COVID-19\n",
      "Confidence\n",
      "Normal: 0.000 Pneumonia: 0.002 Covid-19: 0.997\n",
      "Current img: figure1-5e7c1b8d98c29ab001275405-98.jpeg\n",
      "pred [[4.9854745e-04 4.3452535e-02 9.5604885e-01]]\n",
      "Prediction: COVID-19\n",
      "Confidence\n",
      "Normal: 0.000 Pneumonia: 0.043 Covid-19: 0.956\n",
      "Current img: figure1-5e7c1b8d98c29ab001275405-98-later.jpeg\n",
      "pred [[1.2933936e-05 9.9808990e-04 9.9898893e-01]]\n",
      "Prediction: COVID-19\n",
      "Confidence\n",
      "Normal: 0.000 Pneumonia: 0.001 Covid-19: 0.999\n",
      "Current img: radiol.2020201160.fig2a.jpeg\n",
      "pred [[5.282575e-22 9.394592e-17 1.000000e+00]]\n",
      "Prediction: COVID-19\n",
      "Confidence\n",
      "Normal: 0.000 Pneumonia: 0.000 Covid-19: 1.000\n",
      "Current img: radiol.2020201160.fig2b.jpeg\n",
      "pred [[2.5095278e-05 4.5667306e-04 9.9951828e-01]]\n",
      "Prediction: COVID-19\n",
      "Confidence\n",
      "Normal: 0.000 Pneumonia: 0.000 Covid-19: 1.000\n",
      "Current img: radiol.2020201160.fig2c.jpeg\n",
      "pred [[0.000000e+00 9.883778e-35 1.000000e+00]]\n",
      "Prediction: COVID-19\n",
      "Confidence\n",
      "Normal: 0.000 Pneumonia: 0.000 Covid-19: 1.000\n",
      "Current img: radiol.2020201160.fig2d.jpeg\n",
      "pred [[4.2986501e-16 2.8363505e-12 1.0000000e+00]]\n",
      "Prediction: COVID-19\n",
      "Confidence\n",
      "Normal: 0.000 Pneumonia: 0.000 Covid-19: 1.000\n",
      "Current img: radiol.2020201160.fig3a.jpeg\n",
      "pred [[0.0000000e+00 2.4358534e-37 1.0000000e+00]]\n",
      "Prediction: COVID-19\n",
      "Confidence\n",
      "Normal: 0.000 Pneumonia: 0.000 Covid-19: 1.000\n",
      "Current img: radiol.2020201160.fig3b.jpeg\n"
     ]
    },
    {
     "name": "stderr",
     "output_type": "stream",
     "text": [
      "/opt/apps/apps/binapps/anaconda3/2019.07-numpy-fix/lib/python3.7/site-packages/ipykernel_launcher.py:196: RuntimeWarning: invalid value encountered in true_divide\n"
     ]
    },
    {
     "name": "stdout",
     "output_type": "stream",
     "text": [
      "pred [[0.01899096 0.05507554 0.92593354]]\n",
      "Prediction: COVID-19\n",
      "Confidence\n",
      "Normal: 0.019 Pneumonia: 0.055 Covid-19: 0.926\n",
      "Current img: radiol.2020201160.fig3c.jpeg\n",
      "pred [[1.1176712e-24 7.4510820e-20 1.0000000e+00]]\n",
      "Prediction: COVID-19\n",
      "Confidence\n",
      "Normal: 0.000 Pneumonia: 0.000 Covid-19: 1.000\n",
      "Current img: radiol.2020201160.fig3d.jpeg\n",
      "pred [[7.9389926e-09 1.6974647e-06 9.9999833e-01]]\n",
      "Prediction: COVID-19\n",
      "Confidence\n",
      "Normal: 0.000 Pneumonia: 0.000 Covid-19: 1.000\n",
      "Current img: radiol.2020201160.fig6b.jpeg\n",
      "pred [[0.00628985 0.00673658 0.9869735 ]]\n",
      "Prediction: COVID-19\n",
      "Confidence\n",
      "Normal: 0.006 Pneumonia: 0.007 Covid-19: 0.987\n",
      "Current img: ryct.2020003.fig2-a.png\n",
      "pred [[2.5066311e-07 1.2586529e-04 9.9987388e-01]]\n",
      "Prediction: COVID-19\n",
      "Confidence\n",
      "Normal: 0.000 Pneumonia: 0.000 Covid-19: 1.000\n",
      "Current img: ryct.2020003.fig2-b.png\n",
      "pred [[2.0386918e-07 4.7411584e-05 9.9995244e-01]]\n",
      "Prediction: COVID-19\n",
      "Confidence\n",
      "Normal: 0.000 Pneumonia: 0.000 Covid-19: 1.000\n",
      "Current img: ryct.2020003.fig2-c.png\n",
      "pred [[7.0519578e-13 6.3586647e-09 1.0000000e+00]]\n",
      "Prediction: COVID-19\n",
      "Confidence\n",
      "Normal: 0.000 Pneumonia: 0.000 Covid-19: 1.000\n",
      "Current img: radiol.2020200274.fig3d.png\n",
      "pred [[3.0750900e-07 4.8337748e-05 9.9995136e-01]]\n",
      "Prediction: COVID-19\n",
      "Confidence\n",
      "Normal: 0.000 Pneumonia: 0.000 Covid-19: 1.000\n",
      "Current img: covid-19-pneumonia-8.jpg\n",
      "pred [[3.7181595e-05 1.1133711e-03 9.9884939e-01]]\n",
      "Prediction: COVID-19\n",
      "Confidence\n",
      "Normal: 0.000 Pneumonia: 0.001 Covid-19: 0.999\n",
      "Current img: covid-19-pneumonia-20-pa-on-admission.jpg\n",
      "pred [[1.8223008e-04 3.4354092e-04 9.9947423e-01]]\n",
      "Prediction: COVID-19\n",
      "Confidence\n",
      "Normal: 0.000 Pneumonia: 0.000 Covid-19: 0.999\n",
      "Current img: covid-19-pneumonia-20-l-on-admission.jpg\n",
      "pred [[8.4297766e-04 1.6329218e-02 9.8282778e-01]]\n",
      "Prediction: COVID-19\n",
      "Confidence\n",
      "Normal: 0.001 Pneumonia: 0.016 Covid-19: 0.983\n",
      "Current img: covid-19-pneumonia-20.jpg\n",
      "pred [[3.6358103e-06 1.7127926e-03 9.9828362e-01]]\n",
      "Prediction: COVID-19\n",
      "Confidence\n",
      "Normal: 0.000 Pneumonia: 0.002 Covid-19: 0.998\n",
      "Current img: covid-19-pneumonia-22-day1-pa.png\n",
      "pred [[2.9910314e-06 5.8984058e-04 9.9940717e-01]]\n",
      "Prediction: COVID-19\n",
      "Confidence\n",
      "Normal: 0.000 Pneumonia: 0.001 Covid-19: 0.999\n",
      "Current img: covid-19-pneumonia-22-day1-l.png\n",
      "pred [[0.04913257 0.92318845 0.02767901]]\n",
      "Prediction: pneumonia\n",
      "Confidence\n",
      "Normal: 0.049 Pneumonia: 0.923 Covid-19: 0.028\n",
      "Current img: covid-19-pneumonia-22-day2-pa.png\n",
      "pred [[3.9171223e-07 1.4202560e-04 9.9985754e-01]]\n",
      "Prediction: COVID-19\n",
      "Confidence\n",
      "Normal: 0.000 Pneumonia: 0.000 Covid-19: 1.000\n",
      "Current img: covid-19-pneumonia-34.png\n",
      "pred [[1.7207583e-05 1.5369985e-03 9.9844581e-01]]\n",
      "Prediction: COVID-19\n",
      "Confidence\n",
      "Normal: 0.000 Pneumonia: 0.002 Covid-19: 0.998\n",
      "Current img: covid-19-pneumonia-38-pa.jpg\n",
      "pred [[7.2161079e-04 2.3745692e-03 9.9690384e-01]]\n",
      "Prediction: COVID-19\n",
      "Confidence\n",
      "Normal: 0.001 Pneumonia: 0.002 Covid-19: 0.997\n",
      "Current img: covid-19-pneumonia-38-l.jpg\n",
      "pred [[0.01532686 0.07857267 0.90610045]]\n",
      "Prediction: COVID-19\n",
      "Confidence\n",
      "Normal: 0.015 Pneumonia: 0.079 Covid-19: 0.906\n",
      "Current img: covid-19-pneumonia-35-1.jpg\n",
      "pred [[2.0120938e-04 2.8076991e-03 9.9699104e-01]]\n",
      "Prediction: COVID-19\n",
      "Confidence\n",
      "Normal: 0.000 Pneumonia: 0.003 Covid-19: 0.997\n",
      "Current img: covid-19-pneumonia-35-2.jpg\n",
      "pred [[0.00320649 0.04942565 0.94736785]]\n",
      "Prediction: COVID-19\n",
      "Confidence\n",
      "Normal: 0.003 Pneumonia: 0.049 Covid-19: 0.947\n",
      "Current img: covid-19-pneumonia-41-day-0.jpg\n",
      "pred [[1.0032919e-04 2.1513731e-03 9.9774832e-01]]\n",
      "Prediction: COVID-19\n",
      "Confidence\n",
      "Normal: 0.000 Pneumonia: 0.002 Covid-19: 0.998\n",
      "Current img: covid-19-pneumonia-41-day-2.jpg\n",
      "pred [[2.5567171e-05 7.5311499e-04 9.9922132e-01]]\n",
      "Prediction: COVID-19\n",
      "Confidence\n",
      "Normal: 0.000 Pneumonia: 0.001 Covid-19: 0.999\n",
      "Current img: covid-19-pneumonia-44-day-0.jpeg\n",
      "pred [[9.8444603e-04 9.3735725e-05 9.9892187e-01]]\n",
      "Prediction: COVID-19\n",
      "Confidence\n",
      "Normal: 0.001 Pneumonia: 0.000 Covid-19: 0.999\n",
      "Current img: covid-19-pneumonia-44-day-8.jpeg\n",
      "pred [[9.0984533e-05 1.0291793e-02 9.8961723e-01]]\n",
      "Prediction: COVID-19\n",
      "Confidence\n",
      "Normal: 0.000 Pneumonia: 0.010 Covid-19: 0.990\n",
      "Current img: wong-0000.jpg\n",
      "pred [[0.46435317 0.21603276 0.31961405]]\n",
      "Prediction: normal\n",
      "Confidence\n",
      "Normal: 0.464 Pneumonia: 0.216 Covid-19: 0.320\n",
      "Current img: wong-0002.jpg\n"
     ]
    },
    {
     "name": "stderr",
     "output_type": "stream",
     "text": [
      "/opt/apps/apps/binapps/anaconda3/2019.07-numpy-fix/lib/python3.7/site-packages/ipykernel_launcher.py:196: RuntimeWarning: invalid value encountered in true_divide\n"
     ]
    },
    {
     "name": "stdout",
     "output_type": "stream",
     "text": [
      "pred [[2.9429141e-04 9.9960846e-01 9.7200020e-05]]\n",
      "Prediction: pneumonia\n",
      "Confidence\n",
      "Normal: 0.000 Pneumonia: 1.000 Covid-19: 0.000\n",
      "Current img: wong-0003.jpg\n",
      "pred [[3.3974618e-04 2.0554947e-02 9.7910529e-01]]\n",
      "Prediction: COVID-19\n",
      "Confidence\n",
      "Normal: 0.000 Pneumonia: 0.021 Covid-19: 0.979\n",
      "Current img: wong-0004.jpg\n",
      "pred [[0.8034993  0.14013234 0.05636836]]\n",
      "Prediction: normal\n",
      "Confidence\n",
      "Normal: 0.803 Pneumonia: 0.140 Covid-19: 0.056\n",
      "Current img: wong-0005.jpg\n",
      "pred [[3.1671668e-06 2.1251272e-02 9.7874558e-01]]\n",
      "Prediction: COVID-19\n",
      "Confidence\n",
      "Normal: 0.000 Pneumonia: 0.021 Covid-19: 0.979\n",
      "Current img: covid-19-pneumonia-58-prior.jpg\n",
      "pred [[0.1870311 0.0352238 0.7777451]]\n",
      "Prediction: COVID-19\n",
      "Confidence\n",
      "Normal: 0.187 Pneumonia: 0.035 Covid-19: 0.778\n",
      "Current img: covid-19-pneumonia-58-day-3.jpg\n",
      "pred [[4.121791e-04 2.990107e-04 9.992888e-01]]\n",
      "Prediction: COVID-19\n",
      "Confidence\n",
      "Normal: 0.000 Pneumonia: 0.000 Covid-19: 0.999\n",
      "Current img: covid-19-pneumonia-58-day-7.jpg\n",
      "pred [[9.991550e-06 7.342561e-04 9.992557e-01]]\n",
      "Prediction: COVID-19\n",
      "Confidence\n",
      "Normal: 0.000 Pneumonia: 0.001 Covid-19: 0.999\n",
      "Current img: covid-19-pneumonia-58-day-9.jpg\n",
      "pred [[1.5460334e-06 4.4264663e-05 9.9995422e-01]]\n",
      "Prediction: COVID-19\n",
      "Confidence\n",
      "Normal: 0.000 Pneumonia: 0.000 Covid-19: 1.000\n",
      "Current img: covid-19-pneumonia-58-day-10.jpg\n",
      "pred [[1.3201826e-04 4.4492474e-03 9.9541879e-01]]\n",
      "Prediction: COVID-19\n",
      "Confidence\n",
      "Normal: 0.000 Pneumonia: 0.004 Covid-19: 0.995\n",
      "Current img: covid-19-pneumonia-mild.JPG\n",
      "pred [[0.8132983  0.07873476 0.10796705]]\n",
      "Prediction: normal\n",
      "Confidence\n",
      "Normal: 0.813 Pneumonia: 0.079 Covid-19: 0.108\n",
      "Current img: covid-19-pneumonia-67.jpeg\n"
     ]
    },
    {
     "name": "stderr",
     "output_type": "stream",
     "text": [
      "/opt/apps/apps/binapps/anaconda3/2019.07-numpy-fix/lib/python3.7/site-packages/ipykernel_launcher.py:196: RuntimeWarning: invalid value encountered in true_divide\n"
     ]
    },
    {
     "name": "stdout",
     "output_type": "stream",
     "text": [
      "pred [[2.4256749e-04 9.1677078e-04 9.9884063e-01]]\n",
      "Prediction: COVID-19\n",
      "Confidence\n",
      "Normal: 0.000 Pneumonia: 0.001 Covid-19: 0.999\n",
      "Current img: covid-19-pneumonia-bilateral.jpg\n",
      "pred [[2.5242200e-04 1.1896943e-02 9.8785061e-01]]\n",
      "Prediction: COVID-19\n",
      "Confidence\n",
      "Normal: 0.000 Pneumonia: 0.012 Covid-19: 0.988\n",
      "Current img: 16663_1_1.jpg\n",
      "pred [[3.8564235e-06 4.5917655e-04 9.9953699e-01]]\n",
      "Prediction: COVID-19\n",
      "Confidence\n",
      "Normal: 0.000 Pneumonia: 0.000 Covid-19: 1.000\n",
      "Current img: 16663_1_2.jpg\n",
      "pred [[0.00417491 0.07359626 0.9222288 ]]\n",
      "Prediction: COVID-19\n",
      "Confidence\n",
      "Normal: 0.004 Pneumonia: 0.074 Covid-19: 0.922\n",
      "Current img: 16660_1_1.jpg\n",
      "pred [[0.00200069 0.05645283 0.9415465 ]]\n",
      "Prediction: COVID-19\n",
      "Confidence\n",
      "Normal: 0.002 Pneumonia: 0.056 Covid-19: 0.942\n",
      "Current img: 16660_2_1.jpg\n",
      "pred [[0.0017665  0.67610765 0.32212588]]\n",
      "Prediction: pneumonia\n",
      "Confidence\n",
      "Normal: 0.002 Pneumonia: 0.676 Covid-19: 0.322\n",
      "Current img: 16660_3_1.jpg\n"
     ]
    },
    {
     "name": "stderr",
     "output_type": "stream",
     "text": [
      "/opt/apps/apps/binapps/anaconda3/2019.07-numpy-fix/lib/python3.7/site-packages/ipykernel_launcher.py:196: RuntimeWarning: invalid value encountered in true_divide\n"
     ]
    },
    {
     "name": "stdout",
     "output_type": "stream",
     "text": [
      "pred [[9.9651356e-07 1.6197165e-04 9.9983704e-01]]\n",
      "Prediction: COVID-19\n",
      "Confidence\n",
      "Normal: 0.000 Pneumonia: 0.000 Covid-19: 1.000\n",
      "Current img: 16660_4_1.jpg\n",
      "pred [[3.4175528e-06 3.8855060e-03 9.9611109e-01]]\n",
      "Prediction: COVID-19\n",
      "Confidence\n",
      "Normal: 0.000 Pneumonia: 0.004 Covid-19: 0.996\n",
      "Current img: 16660_5_1.jpg\n",
      "pred [[0.00117058 0.06655039 0.93227905]]\n",
      "Prediction: COVID-19\n",
      "Confidence\n",
      "Normal: 0.001 Pneumonia: 0.067 Covid-19: 0.932\n",
      "Current img: 16654_1_1.png\n",
      "pred [[0.5495009  0.37142715 0.07907196]]\n",
      "Prediction: normal\n",
      "Confidence\n",
      "Normal: 0.550 Pneumonia: 0.371 Covid-19: 0.079\n"
     ]
    },
    {
     "name": "stderr",
     "output_type": "stream",
     "text": [
      "/opt/apps/apps/binapps/anaconda3/2019.07-numpy-fix/lib/python3.7/site-packages/ipykernel_launcher.py:196: RuntimeWarning: invalid value encountered in true_divide\n"
     ]
    },
    {
     "name": "stdout",
     "output_type": "stream",
     "text": [
      "Current img: 16654_2_1.jpg\n",
      "pred [[0.04488122 0.6459503  0.30916846]]\n",
      "Prediction: pneumonia\n",
      "Confidence\n",
      "Normal: 0.045 Pneumonia: 0.646 Covid-19: 0.309\n"
     ]
    },
    {
     "name": "stderr",
     "output_type": "stream",
     "text": [
      "/opt/apps/apps/binapps/anaconda3/2019.07-numpy-fix/lib/python3.7/site-packages/ipykernel_launcher.py:196: RuntimeWarning: invalid value encountered in true_divide\n"
     ]
    },
    {
     "name": "stdout",
     "output_type": "stream",
     "text": [
      "Current img: 16654_4_1.jpg\n",
      "pred [[0.00662213 0.12236784 0.87101007]]\n",
      "Prediction: COVID-19\n",
      "Confidence\n",
      "Normal: 0.007 Pneumonia: 0.122 Covid-19: 0.871\n",
      "Current img: 16691_1_1.jpg\n",
      "pred [[0.09201048 0.29458725 0.6134023 ]]\n",
      "Prediction: COVID-19\n",
      "Confidence\n",
      "Normal: 0.092 Pneumonia: 0.295 Covid-19: 0.613\n",
      "Current img: 16674_1_1.jpg\n"
     ]
    },
    {
     "name": "stderr",
     "output_type": "stream",
     "text": [
      "/opt/apps/apps/binapps/anaconda3/2019.07-numpy-fix/lib/python3.7/site-packages/ipykernel_launcher.py:196: RuntimeWarning: invalid value encountered in true_divide\n"
     ]
    },
    {
     "name": "stdout",
     "output_type": "stream",
     "text": [
      "pred [[0.00461442 0.00703221 0.98835343]]\n",
      "Prediction: COVID-19\n",
      "Confidence\n",
      "Normal: 0.005 Pneumonia: 0.007 Covid-19: 0.988\n",
      "Current img: 16672_1_1.jpg\n",
      "pred [[5.5890938e-05 5.6833442e-04 9.9937576e-01]]\n",
      "Prediction: COVID-19\n",
      "Confidence\n",
      "Normal: 0.000 Pneumonia: 0.001 Covid-19: 0.999\n",
      "Current img: 16669_1_1.jpeg\n",
      "pred [[0.03050959 0.9665806  0.00290976]]\n",
      "Prediction: pneumonia\n",
      "Confidence\n",
      "Normal: 0.031 Pneumonia: 0.967 Covid-19: 0.003\n"
     ]
    },
    {
     "name": "stderr",
     "output_type": "stream",
     "text": [
      "/opt/apps/apps/binapps/anaconda3/2019.07-numpy-fix/lib/python3.7/site-packages/ipykernel_launcher.py:196: RuntimeWarning: invalid value encountered in true_divide\n"
     ]
    },
    {
     "name": "stdout",
     "output_type": "stream",
     "text": [
      "Current img: 16669_3_1.jpeg\n",
      "pred [[0.00258373 0.08699076 0.91042554]]\n",
      "Prediction: COVID-19\n",
      "Confidence\n",
      "Normal: 0.003 Pneumonia: 0.087 Covid-19: 0.910\n",
      "Current img: 16664_1_1.jpg\n",
      "pred [[0.23065871 0.74937373 0.01996757]]\n",
      "Prediction: pneumonia\n",
      "Confidence\n",
      "Normal: 0.231 Pneumonia: 0.749 Covid-19: 0.020\n"
     ]
    },
    {
     "name": "stderr",
     "output_type": "stream",
     "text": [
      "/opt/apps/apps/binapps/anaconda3/2019.07-numpy-fix/lib/python3.7/site-packages/ipykernel_launcher.py:196: RuntimeWarning: invalid value encountered in true_divide\n"
     ]
    },
    {
     "name": "stdout",
     "output_type": "stream",
     "text": [
      "Current img: 16664_2_1.jpg\n",
      "pred [[0.03274234 0.6188783  0.34837943]]\n",
      "Prediction: pneumonia\n",
      "Confidence\n",
      "Normal: 0.033 Pneumonia: 0.619 Covid-19: 0.348\n",
      "Current img: ajr.20.23034.pdf-001.png\n",
      "pred [[1.17030584e-04 4.63948352e-03 9.95243490e-01]]\n",
      "Prediction: COVID-19\n",
      "Confidence\n",
      "Normal: 0.000 Pneumonia: 0.005 Covid-19: 0.995\n",
      "Current img: ajr.20.23034.pdf-003.png\n",
      "pred [[2.0237174e-05 1.3446678e-04 9.9984527e-01]]\n",
      "Prediction: COVID-19\n",
      "Confidence\n",
      "Normal: 0.000 Pneumonia: 0.000 Covid-19: 1.000\n",
      "Current img: yxppt-2020-02-19_00-51-27_287214-day8.jpg\n",
      "pred [[0.00270903 0.05243941 0.94485164]]\n",
      "Prediction: COVID-19\n",
      "Confidence\n",
      "Normal: 0.003 Pneumonia: 0.052 Covid-19: 0.945\n",
      "Current img: yxppt-2020-02-19_00-51-27_287214-day10.jpg\n",
      "pred [[0.00347136 0.01885073 0.9776779 ]]\n",
      "Prediction: COVID-19\n",
      "Confidence\n",
      "Normal: 0.003 Pneumonia: 0.019 Covid-19: 0.978\n",
      "Current img: yxppt-2020-02-19_00-51-27_287214-day12.jpg\n",
      "pred [[0.01368524 0.07801197 0.90830284]]\n",
      "Prediction: COVID-19\n",
      "Confidence\n",
      "Normal: 0.014 Pneumonia: 0.078 Covid-19: 0.908\n",
      "Current img: ae6c954c0039de4b5edee53865ffee43-e6c8-0.jpg\n",
      "pred [[5.9153506e-04 3.2976404e-01 6.6964442e-01]]\n",
      "Prediction: COVID-19\n",
      "Confidence\n",
      "Normal: 0.001 Pneumonia: 0.330 Covid-19: 0.670\n",
      "Current img: 6b3bdbc31f65230b8cdcc3cef5f8ba8a-40ac-0.jpg\n",
      "pred [[1.7933664e-04 4.9706435e-01 5.0275636e-01]]\n",
      "Prediction: COVID-19\n",
      "Confidence\n",
      "Normal: 0.000 Pneumonia: 0.497 Covid-19: 0.503\n",
      "Current img: 88de9d8c39e946abd495b37cd07d89e5-0666-0.jpg\n",
      "pred [[0.08769715 0.1362461  0.7760567 ]]\n",
      "Prediction: COVID-19\n",
      "Confidence\n",
      "Normal: 0.088 Pneumonia: 0.136 Covid-19: 0.776\n",
      "Current img: 88de9d8c39e946abd495b37cd07d89e5-2ee6-0.jpg\n",
      "pred [[0.00614399 0.08152496 0.912331  ]]\n",
      "Prediction: COVID-19\n",
      "Confidence\n",
      "Normal: 0.006 Pneumonia: 0.082 Covid-19: 0.912\n",
      "Current img: 88de9d8c39e946abd495b37cd07d89e5-6531-0.jpg\n",
      "pred [[0.01389325 0.11424916 0.8718576 ]]\n",
      "Prediction: COVID-19\n",
      "Confidence\n",
      "Normal: 0.014 Pneumonia: 0.114 Covid-19: 0.872\n"
     ]
    },
    {
     "name": "stderr",
     "output_type": "stream",
     "text": [
      "/opt/apps/apps/binapps/anaconda3/2019.07-numpy-fix/lib/python3.7/site-packages/ipykernel_launcher.py:196: RuntimeWarning: invalid value encountered in true_divide\n"
     ]
    },
    {
     "name": "stdout",
     "output_type": "stream",
     "text": [
      "Current img: 67d668e570c242404ba82c7cbe2ca8f2-05be-0.jpg\n",
      "pred [[1.8177660e-04 1.3299453e-01 8.6682367e-01]]\n",
      "Prediction: COVID-19\n",
      "Confidence\n",
      "Normal: 0.000 Pneumonia: 0.133 Covid-19: 0.867\n",
      "Current img: 67d668e570c242404ba82c7cbe2ca8f2-0015-0.jpg\n",
      "pred [[0.00167645 0.35414273 0.6441808 ]]\n",
      "Prediction: COVID-19\n",
      "Confidence\n",
      "Normal: 0.002 Pneumonia: 0.354 Covid-19: 0.644\n",
      "Current img: AR-1.jpg\n",
      "pred [[9.152076e-05 4.979902e-04 9.994105e-01]]\n",
      "Prediction: COVID-19\n",
      "Confidence\n",
      "Normal: 0.000 Pneumonia: 0.000 Covid-19: 0.999\n",
      "Current img: AR-2.jpg\n",
      "pred [[9.9088684e-05 5.3829158e-04 9.9936265e-01]]\n",
      "Prediction: COVID-19\n",
      "Confidence\n",
      "Normal: 0.000 Pneumonia: 0.001 Covid-19: 0.999\n",
      "Current img: 2-chest-filmc.jpg\n",
      "pred [[3.8045707e-06 2.0999128e-03 9.9789631e-01]]\n",
      "Prediction: COVID-19\n",
      "Confidence\n",
      "Normal: 0.000 Pneumonia: 0.002 Covid-19: 0.998\n",
      "Current img: paving.jpg\n",
      "pred [[3.4389028e-05 1.7574847e-02 9.8239076e-01]]\n",
      "Prediction: COVID-19\n",
      "Confidence\n",
      "Normal: 0.000 Pneumonia: 0.018 Covid-19: 0.982\n",
      "Current img: 7-fatal-covid19.jpg\n",
      "pred [[3.6742327e-05 3.1186396e-03 9.9684465e-01]]\n",
      "Prediction: COVID-19\n",
      "Confidence\n",
      "Normal: 0.000 Pneumonia: 0.003 Covid-19: 0.997\n",
      "Current img: extubation-1.jpg\n",
      "pred [[2.8338209e-15 1.5577562e-12 1.0000000e+00]]\n",
      "Prediction: COVID-19\n",
      "Confidence\n",
      "Normal: 0.000 Pneumonia: 0.000 Covid-19: 1.000\n",
      "Current img: extubation-4.jpg\n",
      "pred [[0. 0. 1.]]\n",
      "Prediction: COVID-19\n",
      "Confidence\n",
      "Normal: 0.000 Pneumonia: 0.000 Covid-19: 1.000\n",
      "Current img: extubation-8.jpg\n"
     ]
    },
    {
     "name": "stderr",
     "output_type": "stream",
     "text": [
      "/opt/apps/apps/binapps/anaconda3/2019.07-numpy-fix/lib/python3.7/site-packages/ipykernel_launcher.py:196: RuntimeWarning: invalid value encountered in true_divide\n"
     ]
    },
    {
     "name": "stdout",
     "output_type": "stream",
     "text": [
      "pred [[1.4713418e-12 8.5227541e-09 1.0000000e+00]]\n",
      "Prediction: COVID-19\n",
      "Confidence\n",
      "Normal: 0.000 Pneumonia: 0.000 Covid-19: 1.000\n",
      "Current img: extubation-13.jpg\n",
      "pred [[0. 0. 1.]]\n",
      "Prediction: COVID-19\n",
      "Confidence\n",
      "Normal: 0.000 Pneumonia: 0.000 Covid-19: 1.000\n",
      "Current img: 16724_1_1.jpg\n"
     ]
    },
    {
     "name": "stderr",
     "output_type": "stream",
     "text": [
      "/opt/apps/apps/binapps/anaconda3/2019.07-numpy-fix/lib/python3.7/site-packages/ipykernel_launcher.py:196: RuntimeWarning: invalid value encountered in true_divide\n"
     ]
    },
    {
     "name": "stdout",
     "output_type": "stream",
     "text": [
      "pred [[1.8026926e-04 1.8135312e-01 8.1846660e-01]]\n",
      "Prediction: COVID-19\n",
      "Confidence\n",
      "Normal: 0.000 Pneumonia: 0.181 Covid-19: 0.818\n",
      "Current img: 16673_2_1.jpg\n",
      "pred [[1.9101253e-07 1.3755501e-04 9.9986219e-01]]\n",
      "Prediction: COVID-19\n",
      "Confidence\n",
      "Normal: 0.000 Pneumonia: 0.000 Covid-19: 1.000\n",
      "Current img: 16708_1_1.jpg\n",
      "pred [[0.2820118  0.06826468 0.64972353]]\n",
      "Prediction: COVID-19\n",
      "Confidence\n",
      "Normal: 0.282 Pneumonia: 0.068 Covid-19: 0.650\n",
      "Current img: 16708_4_1.jpg\n",
      "pred [[0.01849827 0.56645787 0.4150438 ]]\n",
      "Prediction: pneumonia\n",
      "Confidence\n",
      "Normal: 0.018 Pneumonia: 0.566 Covid-19: 0.415\n",
      "Current img: 16708_5_1.jpg\n",
      "pred [[0.44550496 0.5531378  0.00135732]]\n",
      "Prediction: pneumonia\n",
      "Confidence\n",
      "Normal: 0.446 Pneumonia: 0.553 Covid-19: 0.001\n"
     ]
    },
    {
     "name": "stderr",
     "output_type": "stream",
     "text": [
      "/opt/apps/apps/binapps/anaconda3/2019.07-numpy-fix/lib/python3.7/site-packages/ipykernel_launcher.py:196: RuntimeWarning: invalid value encountered in true_divide\n"
     ]
    },
    {
     "name": "stdout",
     "output_type": "stream",
     "text": [
      "Current img: 16706_1_1.png\n",
      "pred [[0.0523437  0.10958491 0.83807135]]\n",
      "Prediction: COVID-19\n",
      "Confidence\n",
      "Normal: 0.052 Pneumonia: 0.110 Covid-19: 0.838\n",
      "Current img: case_71_figura1.png\n",
      "pred [[0. 0. 1.]]\n",
      "Prediction: COVID-19\n",
      "Confidence\n",
      "Normal: 0.000 Pneumonia: 0.000 Covid-19: 1.000\n"
     ]
    },
    {
     "name": "stderr",
     "output_type": "stream",
     "text": [
      "/opt/apps/apps/binapps/anaconda3/2019.07-numpy-fix/lib/python3.7/site-packages/ipykernel_launcher.py:196: RuntimeWarning: invalid value encountered in true_divide\n"
     ]
    },
    {
     "name": "stdout",
     "output_type": "stream",
     "text": [
      "Current img: case_72_RX-TORACE1.jpg\n",
      "pred [[9.0951804e-04 7.5230606e-02 9.2385989e-01]]\n",
      "Prediction: COVID-19\n",
      "Confidence\n",
      "Normal: 0.001 Pneumonia: 0.075 Covid-19: 0.924\n",
      "Current img: case_76_1-3.png\n",
      "pred [[0. 0. 1.]]\n",
      "Prediction: COVID-19\n",
      "Confidence\n",
      "Normal: 0.000 Pneumonia: 0.000 Covid-19: 1.000\n",
      "Current img: covid-19-pneumonia-101.png\n"
     ]
    },
    {
     "name": "stderr",
     "output_type": "stream",
     "text": [
      "/opt/apps/apps/binapps/anaconda3/2019.07-numpy-fix/lib/python3.7/site-packages/ipykernel_launcher.py:196: RuntimeWarning: invalid value encountered in true_divide\n"
     ]
    },
    {
     "name": "stdout",
     "output_type": "stream",
     "text": [
      "pred [[3.1216217e-07 6.7339766e-05 9.9993229e-01]]\n",
      "Prediction: COVID-19\n",
      "Confidence\n",
      "Normal: 0.000 Pneumonia: 0.000 Covid-19: 1.000\n",
      "Current img: covid-19-pneumonia-93.png\n",
      "pred [[9.5839430e-05 2.0363715e-03 9.9786782e-01]]\n",
      "Prediction: COVID-19\n",
      "Confidence\n",
      "Normal: 0.000 Pneumonia: 0.002 Covid-19: 0.998\n",
      "Current img: covid-19-pneumonia-progression-and-regression-day1.jpg\n",
      "pred [[9.5906332e-09 2.3132534e-06 9.9999774e-01]]\n",
      "Prediction: COVID-19\n",
      "Confidence\n",
      "Normal: 0.000 Pneumonia: 0.000 Covid-19: 1.000\n",
      "Current img: covid-19-pneumonia-progression-and-regression-day6.jpg\n",
      "pred [[4.3923545e-09 7.5244657e-06 9.9999249e-01]]\n",
      "Prediction: COVID-19\n",
      "Confidence\n",
      "Normal: 0.000 Pneumonia: 0.000 Covid-19: 1.000\n",
      "Current img: covid-19-pneumonia-progression-and-regression-day11.jpg\n",
      "pred [[1.9002711e-05 4.1428567e-03 9.9583817e-01]]\n",
      "Prediction: COVID-19\n",
      "Confidence\n",
      "Normal: 0.000 Pneumonia: 0.004 Covid-19: 0.996\n",
      "Current img: covid-19-pneumonia-progression-and-regression-day13.jpg\n",
      "pred [[9.6697647e-08 2.9142075e-05 9.9997079e-01]]\n",
      "Prediction: COVID-19\n",
      "Confidence\n",
      "Normal: 0.000 Pneumonia: 0.000 Covid-19: 1.000\n",
      "Current img: covid-19-pneumonia-progression-and-regression-day20.jpg\n",
      "pred [[6.0013696e-07 5.6587945e-05 9.9994278e-01]]\n",
      "Prediction: COVID-19\n",
      "Confidence\n",
      "Normal: 0.000 Pneumonia: 0.000 Covid-19: 1.000\n",
      "Current img: covid-19-pneumonia-progression-and-regression-day24.jpg\n",
      "pred [[4.4560181e-07 1.8446384e-05 9.9998116e-01]]\n",
      "Prediction: COVID-19\n",
      "Confidence\n",
      "Normal: 0.000 Pneumonia: 0.000 Covid-19: 1.000\n",
      "Current img: covid-19-pneumonia-progression-and-regression-day28.jpg\n",
      "pred [[4.1779340e-06 2.3543388e-04 9.9976045e-01]]\n",
      "Prediction: COVID-19\n",
      "Confidence\n",
      "Normal: 0.000 Pneumonia: 0.000 Covid-19: 1.000\n",
      "Current img: 16747_1_1.jpg\n",
      "pred [[1.0311242e-09 6.0769918e-07 9.9999940e-01]]\n",
      "Prediction: COVID-19\n",
      "Confidence\n",
      "Normal: 0.000 Pneumonia: 0.000 Covid-19: 1.000\n",
      "Current img: 16747_2_1.jpg\n",
      "pred [[1.0507198e-09 3.8619430e-07 9.9999964e-01]]\n",
      "Prediction: COVID-19\n",
      "Confidence\n",
      "Normal: 0.000 Pneumonia: 0.000 Covid-19: 1.000\n",
      "Current img: 16747_3_1.jpg\n",
      "pred [[1.2624786e-09 3.5140764e-07 9.9999964e-01]]\n",
      "Prediction: COVID-19\n",
      "Confidence\n",
      "Normal: 0.000 Pneumonia: 0.000 Covid-19: 1.000\n",
      "Current img: 16751_2_1.jpg\n",
      "pred [[5.9482855e-01 4.0504628e-01 1.2510977e-04]]\n",
      "Prediction: normal\n",
      "Confidence\n",
      "Normal: 0.595 Pneumonia: 0.405 Covid-19: 0.000\n",
      "Current img: 16751_2_2.jpg\n"
     ]
    },
    {
     "name": "stderr",
     "output_type": "stream",
     "text": [
      "/opt/apps/apps/binapps/anaconda3/2019.07-numpy-fix/lib/python3.7/site-packages/ipykernel_launcher.py:196: RuntimeWarning: invalid value encountered in true_divide\n"
     ]
    },
    {
     "name": "stdout",
     "output_type": "stream",
     "text": [
      "pred [[2.2608675e-01 7.7391267e-01 5.8284979e-07]]\n",
      "Prediction: pneumonia\n",
      "Confidence\n",
      "Normal: 0.226 Pneumonia: 0.774 Covid-19: 0.000\n",
      "Current img: 16751_3_1.jpg\n"
     ]
    },
    {
     "name": "stderr",
     "output_type": "stream",
     "text": [
      "/opt/apps/apps/binapps/anaconda3/2019.07-numpy-fix/lib/python3.7/site-packages/ipykernel_launcher.py:196: RuntimeWarning: invalid value encountered in true_divide\n"
     ]
    },
    {
     "name": "stdout",
     "output_type": "stream",
     "text": [
      "pred [[0.2752188  0.17224042 0.5525407 ]]\n",
      "Prediction: COVID-19\n",
      "Confidence\n",
      "Normal: 0.275 Pneumonia: 0.172 Covid-19: 0.553\n",
      "Current img: 16751_3_2.jpg\n",
      "pred [[7.5154901e-01 2.4843663e-01 1.4349966e-05]]\n",
      "Prediction: normal\n",
      "Confidence\n",
      "Normal: 0.752 Pneumonia: 0.248 Covid-19: 0.000\n",
      "Current img: 16751_3_3.jpg\n"
     ]
    },
    {
     "name": "stderr",
     "output_type": "stream",
     "text": [
      "/opt/apps/apps/binapps/anaconda3/2019.07-numpy-fix/lib/python3.7/site-packages/ipykernel_launcher.py:196: RuntimeWarning: invalid value encountered in true_divide\n"
     ]
    },
    {
     "name": "stdout",
     "output_type": "stream",
     "text": [
      "pred [[9.7298098e-01 2.7018936e-02 1.4651967e-07]]\n",
      "Prediction: normal\n",
      "Confidence\n",
      "Normal: 0.973 Pneumonia: 0.027 Covid-19: 0.000\n",
      "Current img: 16689_1_1.jpg\n"
     ]
    },
    {
     "name": "stderr",
     "output_type": "stream",
     "text": [
      "/opt/apps/apps/binapps/anaconda3/2019.07-numpy-fix/lib/python3.7/site-packages/ipykernel_launcher.py:196: RuntimeWarning: invalid value encountered in true_divide\n"
     ]
    },
    {
     "name": "stdout",
     "output_type": "stream",
     "text": [
      "pred [[0.34839454 0.50559294 0.14601244]]\n",
      "Prediction: pneumonia\n",
      "Confidence\n",
      "Normal: 0.348 Pneumonia: 0.506 Covid-19: 0.146\n",
      "Current img: 16689_1_2.png\n",
      "pred [[1.6050130e-01 8.3949864e-01 7.7546705e-11]]\n",
      "Prediction: pneumonia\n",
      "Confidence\n",
      "Normal: 0.161 Pneumonia: 0.839 Covid-19: 0.000\n",
      "Current img: 16689_1_5.png\n"
     ]
    },
    {
     "name": "stderr",
     "output_type": "stream",
     "text": [
      "/opt/apps/apps/binapps/anaconda3/2019.07-numpy-fix/lib/python3.7/site-packages/ipykernel_launcher.py:196: RuntimeWarning: invalid value encountered in true_divide\n"
     ]
    },
    {
     "name": "stdout",
     "output_type": "stream",
     "text": [
      "pred [[4.3040693e-01 5.6959301e-01 4.0390953e-09]]\n",
      "Prediction: pneumonia\n",
      "Confidence\n",
      "Normal: 0.430 Pneumonia: 0.570 Covid-19: 0.000\n"
     ]
    },
    {
     "name": "stderr",
     "output_type": "stream",
     "text": [
      "/opt/apps/apps/binapps/anaconda3/2019.07-numpy-fix/lib/python3.7/site-packages/ipykernel_launcher.py:196: RuntimeWarning: invalid value encountered in true_divide\n"
     ]
    },
    {
     "name": "stdout",
     "output_type": "stream",
     "text": [
      "Current img: 16689_1_6.jpg\n",
      "pred [[1.8232414e-02 9.8176759e-01 1.4497338e-10]]\n",
      "Prediction: pneumonia\n",
      "Confidence\n",
      "Normal: 0.018 Pneumonia: 0.982 Covid-19: 0.000\n",
      "Current img: 16689_2_1.png\n",
      "pred [[3.5919243e-01 6.4075953e-01 4.8072015e-05]]\n",
      "Prediction: pneumonia\n",
      "Confidence\n",
      "Normal: 0.359 Pneumonia: 0.641 Covid-19: 0.000\n",
      "Current img: 16689_2_2.png\n",
      "pred [[0.06136288 0.08432088 0.85431623]]\n",
      "Prediction: COVID-19\n",
      "Confidence\n",
      "Normal: 0.061 Pneumonia: 0.084 Covid-19: 0.854\n",
      "Current img: 16689_2_4.png\n",
      "pred [[0.3978367  0.5690464  0.03311695]]\n",
      "Prediction: pneumonia\n",
      "Confidence\n",
      "Normal: 0.398 Pneumonia: 0.569 Covid-19: 0.033\n",
      "Current img: 16745_2_1.PNG\n"
     ]
    },
    {
     "name": "stderr",
     "output_type": "stream",
     "text": [
      "/opt/apps/apps/binapps/anaconda3/2019.07-numpy-fix/lib/python3.7/site-packages/ipykernel_launcher.py:196: RuntimeWarning: invalid value encountered in true_divide\n"
     ]
    },
    {
     "name": "stdout",
     "output_type": "stream",
     "text": [
      "pred [[0.05344624 0.09025791 0.8562958 ]]\n",
      "Prediction: COVID-19\n",
      "Confidence\n",
      "Normal: 0.053 Pneumonia: 0.090 Covid-19: 0.856\n",
      "Current img: 16745_2_2.PNG\n",
      "pred [[1.0117367e-24 4.3671946e-23 1.0000000e+00]]\n",
      "Prediction: COVID-19\n",
      "Confidence\n",
      "Normal: 0.000 Pneumonia: 0.000 Covid-19: 1.000\n",
      "Current img: 16745_2_3.PNG\n",
      "pred [[0.9406669  0.05677868 0.00255431]]\n",
      "Prediction: normal\n",
      "Confidence\n",
      "Normal: 0.941 Pneumonia: 0.057 Covid-19: 0.003\n",
      "Current img: 16745_3_1.png\n"
     ]
    },
    {
     "name": "stderr",
     "output_type": "stream",
     "text": [
      "/opt/apps/apps/binapps/anaconda3/2019.07-numpy-fix/lib/python3.7/site-packages/ipykernel_launcher.py:196: RuntimeWarning: invalid value encountered in true_divide\n"
     ]
    },
    {
     "name": "stdout",
     "output_type": "stream",
     "text": [
      "pred [[0.5853849  0.08362243 0.33099267]]\n",
      "Prediction: normal\n",
      "Confidence\n",
      "Normal: 0.585 Pneumonia: 0.084 Covid-19: 0.331\n",
      "Current img: 16745_3_2.png\n"
     ]
    },
    {
     "name": "stderr",
     "output_type": "stream",
     "text": [
      "/opt/apps/apps/binapps/anaconda3/2019.07-numpy-fix/lib/python3.7/site-packages/ipykernel_launcher.py:196: RuntimeWarning: invalid value encountered in true_divide\n"
     ]
    },
    {
     "name": "stdout",
     "output_type": "stream",
     "text": [
      "pred [[1.1393563e-21 1.7272221e-19 1.0000000e+00]]\n",
      "Prediction: COVID-19\n",
      "Confidence\n",
      "Normal: 0.000 Pneumonia: 0.000 Covid-19: 1.000\n",
      "Current img: 16745_4_1.png\n",
      "pred [[0.0192119  0.00843268 0.97235537]]\n",
      "Prediction: COVID-19\n",
      "Confidence\n",
      "Normal: 0.019 Pneumonia: 0.008 Covid-19: 0.972\n",
      "Current img: 16745_4_2.png\n",
      "pred [[4.373371e-27 5.412132e-25 1.000000e+00]]\n",
      "Prediction: COVID-19\n",
      "Confidence\n",
      "Normal: 0.000 Pneumonia: 0.000 Covid-19: 1.000\n",
      "Current img: 16745_4_3.png\n",
      "pred [[5.8818340e-01 4.1124043e-01 5.7625095e-04]]\n",
      "Prediction: normal\n",
      "Confidence\n",
      "Normal: 0.588 Pneumonia: 0.411 Covid-19: 0.001\n",
      "Current img: 16745_5_1.png\n"
     ]
    },
    {
     "name": "stderr",
     "output_type": "stream",
     "text": [
      "/opt/apps/apps/binapps/anaconda3/2019.07-numpy-fix/lib/python3.7/site-packages/ipykernel_launcher.py:196: RuntimeWarning: invalid value encountered in true_divide\n"
     ]
    },
    {
     "name": "stdout",
     "output_type": "stream",
     "text": [
      "pred [[4.447979e-05 5.087581e-04 9.994468e-01]]\n",
      "Prediction: COVID-19\n",
      "Confidence\n",
      "Normal: 0.000 Pneumonia: 0.001 Covid-19: 0.999\n",
      "Current img: 16745_5_2.png\n",
      "pred [[6.2882912e-01 3.7116897e-01 1.9173694e-06]]\n",
      "Prediction: normal\n",
      "Confidence\n",
      "Normal: 0.629 Pneumonia: 0.371 Covid-19: 0.000\n",
      "Current img: 16745_5_3.png\n",
      "pred [[6.4075685e-01 3.5924268e-01 4.6703704e-07]]\n",
      "Prediction: normal\n",
      "Confidence\n",
      "Normal: 0.641 Pneumonia: 0.359 Covid-19: 0.000\n",
      "Current img: 16745_6_1.png\n"
     ]
    },
    {
     "name": "stderr",
     "output_type": "stream",
     "text": [
      "/opt/apps/apps/binapps/anaconda3/2019.07-numpy-fix/lib/python3.7/site-packages/ipykernel_launcher.py:196: RuntimeWarning: invalid value encountered in true_divide\n"
     ]
    },
    {
     "name": "stdout",
     "output_type": "stream",
     "text": [
      "pred [[2.0174624e-05 8.9667687e-05 9.9989009e-01]]\n",
      "Prediction: COVID-19\n",
      "Confidence\n",
      "Normal: 0.000 Pneumonia: 0.000 Covid-19: 1.000\n",
      "Current img: 16745_6_2.png\n",
      "pred [[3.0421394e-36 1.3312926e-33 1.0000000e+00]]\n",
      "Prediction: COVID-19\n",
      "Confidence\n",
      "Normal: 0.000 Pneumonia: 0.000 Covid-19: 1.000\n",
      "Current img: 16745_6_3.png\n",
      "pred [[8.9838219e-01 1.0156476e-01 5.3006366e-05]]\n",
      "Prediction: normal\n",
      "Confidence\n",
      "Normal: 0.898 Pneumonia: 0.102 Covid-19: 0.000\n",
      "Current img: 16745_7_1.png\n",
      "pred [[3.5073761e-05 3.1071363e-04 9.9965417e-01]]\n",
      "Prediction: COVID-19\n",
      "Confidence\n",
      "Normal: 0.000 Pneumonia: 0.000 Covid-19: 1.000\n",
      "Current img: 16745_7_2.png\n",
      "pred [[5.211586e-27 9.467513e-25 1.000000e+00]]\n",
      "Prediction: COVID-19\n",
      "Confidence\n",
      "Normal: 0.000 Pneumonia: 0.000 Covid-19: 1.000\n",
      "Current img: 16745_7_3.png\n",
      "pred [[2.6646900e-05 4.4517513e-04 9.9952817e-01]]\n",
      "Prediction: COVID-19\n",
      "Confidence\n",
      "Normal: 0.000 Pneumonia: 0.000 Covid-19: 1.000\n",
      "Current img: 16745_7_4.png\n",
      "pred [[8.1208316e-05 1.9363845e-02 9.8055488e-01]]\n",
      "Prediction: COVID-19\n",
      "Confidence\n",
      "Normal: 0.000 Pneumonia: 0.019 Covid-19: 0.981\n",
      "Current img: 16745_7_5.PNG\n",
      "pred [[9.5273375e-05 1.7405610e-03 9.9816424e-01]]\n",
      "Prediction: COVID-19\n",
      "Confidence\n",
      "Normal: 0.000 Pneumonia: 0.002 Covid-19: 0.998\n",
      "Current img: 16744_1_1.jpg\n",
      "pred [[4.2863885e-08 4.5212473e-05 9.9995470e-01]]\n",
      "Prediction: COVID-19\n",
      "Confidence\n",
      "Normal: 0.000 Pneumonia: 0.000 Covid-19: 1.000\n",
      "Current img: 16744_2_1.jpg\n",
      "pred [[7.8724885e-01 2.1275118e-01 2.4714666e-10]]\n",
      "Prediction: normal\n",
      "Confidence\n",
      "Normal: 0.787 Pneumonia: 0.213 Covid-19: 0.000\n",
      "Current img: 16744_2_2.jpg\n"
     ]
    },
    {
     "name": "stderr",
     "output_type": "stream",
     "text": [
      "/opt/apps/apps/binapps/anaconda3/2019.07-numpy-fix/lib/python3.7/site-packages/ipykernel_launcher.py:196: RuntimeWarning: invalid value encountered in true_divide\n"
     ]
    },
    {
     "name": "stdout",
     "output_type": "stream",
     "text": [
      "pred [[8.5748088e-01 1.4251910e-01 1.3227143e-09]]\n",
      "Prediction: normal\n",
      "Confidence\n",
      "Normal: 0.857 Pneumonia: 0.143 Covid-19: 0.000\n",
      "Current img: 16744_2_3.jpg\n"
     ]
    },
    {
     "name": "stderr",
     "output_type": "stream",
     "text": [
      "/opt/apps/apps/binapps/anaconda3/2019.07-numpy-fix/lib/python3.7/site-packages/ipykernel_launcher.py:196: RuntimeWarning: invalid value encountered in true_divide\n"
     ]
    },
    {
     "name": "stdout",
     "output_type": "stream",
     "text": [
      "pred [[1.13707736e-01 8.86292219e-01 1.52665365e-08]]\n",
      "Prediction: pneumonia\n",
      "Confidence\n",
      "Normal: 0.114 Pneumonia: 0.886 Covid-19: 0.000\n",
      "Current img: 16744_2_4.jpg\n"
     ]
    },
    {
     "name": "stderr",
     "output_type": "stream",
     "text": [
      "/opt/apps/apps/binapps/anaconda3/2019.07-numpy-fix/lib/python3.7/site-packages/ipykernel_launcher.py:196: RuntimeWarning: invalid value encountered in true_divide\n"
     ]
    },
    {
     "name": "stdout",
     "output_type": "stream",
     "text": [
      "pred [[9.2460626e-01 7.5393662e-02 2.7434938e-08]]\n",
      "Prediction: normal\n",
      "Confidence\n",
      "Normal: 0.925 Pneumonia: 0.075 Covid-19: 0.000\n",
      "Current img: 16630_1_1.jpg\n",
      "pred [[2.9722556e-01 7.0277441e-01 8.7393587e-10]]\n",
      "Prediction: pneumonia\n",
      "Confidence\n",
      "Normal: 0.297 Pneumonia: 0.703 Covid-19: 0.000\n"
     ]
    },
    {
     "name": "stderr",
     "output_type": "stream",
     "text": [
      "/opt/apps/apps/binapps/anaconda3/2019.07-numpy-fix/lib/python3.7/site-packages/ipykernel_launcher.py:196: RuntimeWarning: invalid value encountered in true_divide\n"
     ]
    },
    {
     "name": "stdout",
     "output_type": "stream",
     "text": [
      "Current img: 16630_2_1.jpg\n",
      "pred [[5.8243281e-01 4.1756713e-01 6.2611683e-08]]\n",
      "Prediction: normal\n",
      "Confidence\n",
      "Normal: 0.582 Pneumonia: 0.418 Covid-19: 0.000\n"
     ]
    },
    {
     "name": "stderr",
     "output_type": "stream",
     "text": [
      "/opt/apps/apps/binapps/anaconda3/2019.07-numpy-fix/lib/python3.7/site-packages/ipykernel_launcher.py:196: RuntimeWarning: invalid value encountered in true_divide\n"
     ]
    },
    {
     "name": "stdout",
     "output_type": "stream",
     "text": [
      "Current img: 16630_2_2.jpg\n",
      "pred [[1.9761033e-01 8.0235970e-01 2.9958865e-05]]\n",
      "Prediction: pneumonia\n",
      "Confidence\n",
      "Normal: 0.198 Pneumonia: 0.802 Covid-19: 0.000\n",
      "Current img: 16630_3_1.jpg\n",
      "pred [[6.034193e-01 3.965806e-01 9.194469e-08]]\n",
      "Prediction: normal\n",
      "Confidence\n",
      "Normal: 0.603 Pneumonia: 0.397 Covid-19: 0.000\n"
     ]
    },
    {
     "name": "stderr",
     "output_type": "stream",
     "text": [
      "/opt/apps/apps/binapps/anaconda3/2019.07-numpy-fix/lib/python3.7/site-packages/ipykernel_launcher.py:196: RuntimeWarning: invalid value encountered in true_divide\n"
     ]
    },
    {
     "name": "stdout",
     "output_type": "stream",
     "text": [
      "Current img: 16630_4_1.jpg\n",
      "pred [[5.9281600e-01 4.0718397e-01 7.2343166e-11]]\n",
      "Prediction: normal\n",
      "Confidence\n",
      "Normal: 0.593 Pneumonia: 0.407 Covid-19: 0.000\n"
     ]
    },
    {
     "name": "stderr",
     "output_type": "stream",
     "text": [
      "/opt/apps/apps/binapps/anaconda3/2019.07-numpy-fix/lib/python3.7/site-packages/ipykernel_launcher.py:196: RuntimeWarning: invalid value encountered in true_divide\n"
     ]
    },
    {
     "name": "stdout",
     "output_type": "stream",
     "text": [
      "Current img: 16630_5_1.jpg\n",
      "pred [[4.3172714e-01 5.6827289e-01 2.6011542e-11]]\n",
      "Prediction: pneumonia\n",
      "Confidence\n",
      "Normal: 0.432 Pneumonia: 0.568 Covid-19: 0.000\n"
     ]
    },
    {
     "name": "stderr",
     "output_type": "stream",
     "text": [
      "/opt/apps/apps/binapps/anaconda3/2019.07-numpy-fix/lib/python3.7/site-packages/ipykernel_launcher.py:196: RuntimeWarning: invalid value encountered in true_divide\n"
     ]
    },
    {
     "name": "stdout",
     "output_type": "stream",
     "text": [
      "Current img: 16630_6_1.jpg\n",
      "pred [[7.3327875e-01 2.6672119e-01 1.7657700e-12]]\n",
      "Prediction: normal\n",
      "Confidence\n",
      "Normal: 0.733 Pneumonia: 0.267 Covid-19: 0.000\n"
     ]
    },
    {
     "name": "stderr",
     "output_type": "stream",
     "text": [
      "/opt/apps/apps/binapps/anaconda3/2019.07-numpy-fix/lib/python3.7/site-packages/ipykernel_launcher.py:196: RuntimeWarning: invalid value encountered in true_divide\n"
     ]
    },
    {
     "name": "stdout",
     "output_type": "stream",
     "text": [
      "Current img: 16631_1_1.jpg\n",
      "pred [[7.5331199e-01 2.4663112e-01 5.6903871e-05]]\n",
      "Prediction: normal\n",
      "Confidence\n",
      "Normal: 0.753 Pneumonia: 0.247 Covid-19: 0.000\n",
      "Current img: 16631_1_2.jpg\n"
     ]
    },
    {
     "name": "stderr",
     "output_type": "stream",
     "text": [
      "/opt/apps/apps/binapps/anaconda3/2019.07-numpy-fix/lib/python3.7/site-packages/ipykernel_launcher.py:196: RuntimeWarning: invalid value encountered in true_divide\n"
     ]
    },
    {
     "name": "stdout",
     "output_type": "stream",
     "text": [
      "pred [[7.6084739e-01 2.3896480e-01 1.8783082e-04]]\n",
      "Prediction: normal\n",
      "Confidence\n",
      "Normal: 0.761 Pneumonia: 0.239 Covid-19: 0.000\n",
      "Current img: 16631_1_3.jpg\n"
     ]
    },
    {
     "name": "stderr",
     "output_type": "stream",
     "text": [
      "/opt/apps/apps/binapps/anaconda3/2019.07-numpy-fix/lib/python3.7/site-packages/ipykernel_launcher.py:196: RuntimeWarning: invalid value encountered in true_divide\n"
     ]
    },
    {
     "name": "stdout",
     "output_type": "stream",
     "text": [
      "pred [[6.7106378e-01 3.2867062e-01 2.6556858e-04]]\n",
      "Prediction: normal\n",
      "Confidence\n",
      "Normal: 0.671 Pneumonia: 0.329 Covid-19: 0.000\n",
      "Current img: 16631_1_4.jpg\n"
     ]
    },
    {
     "name": "stderr",
     "output_type": "stream",
     "text": [
      "/opt/apps/apps/binapps/anaconda3/2019.07-numpy-fix/lib/python3.7/site-packages/ipykernel_launcher.py:196: RuntimeWarning: invalid value encountered in true_divide\n"
     ]
    },
    {
     "name": "stdout",
     "output_type": "stream",
     "text": [
      "pred [[8.3208323e-01 1.6712286e-01 7.9391379e-04]]\n",
      "Prediction: normal\n",
      "Confidence\n",
      "Normal: 0.832 Pneumonia: 0.167 Covid-19: 0.001\n",
      "Current img: b343e657.jpg\n"
     ]
    },
    {
     "name": "stderr",
     "output_type": "stream",
     "text": [
      "/opt/apps/apps/binapps/anaconda3/2019.07-numpy-fix/lib/python3.7/site-packages/ipykernel_launcher.py:196: RuntimeWarning: invalid value encountered in true_divide\n"
     ]
    },
    {
     "name": "stdout",
     "output_type": "stream",
     "text": [
      "pred [[3.595106e-08 5.445538e-06 9.999945e-01]]\n",
      "Prediction: COVID-19\n",
      "Confidence\n",
      "Normal: 0.000 Pneumonia: 0.000 Covid-19: 1.000\n",
      "Current img: 53c9be49.jpg\n",
      "pred [[2.7884054e-04 7.3884269e-03 9.9233270e-01]]\n",
      "Prediction: COVID-19\n",
      "Confidence\n",
      "Normal: 0.000 Pneumonia: 0.007 Covid-19: 0.992\n",
      "Current img: a4318ac9.jpg\n",
      "pred [[7.385329e-09 9.750365e-05 9.999025e-01]]\n",
      "Prediction: COVID-19\n",
      "Confidence\n",
      "Normal: 0.000 Pneumonia: 0.000 Covid-19: 1.000\n",
      "Current img: bd3ceeb6.jpg\n",
      "pred [[1.5140694e-08 4.1195144e-05 9.9995875e-01]]\n",
      "Prediction: COVID-19\n",
      "Confidence\n",
      "Normal: 0.000 Pneumonia: 0.000 Covid-19: 1.000\n",
      "Current img: 2168a917.jpg\n",
      "pred [[0.1770768  0.23196286 0.59096026]]\n",
      "Prediction: COVID-19\n",
      "Confidence\n",
      "Normal: 0.177 Pneumonia: 0.232 Covid-19: 0.591\n"
     ]
    },
    {
     "name": "stderr",
     "output_type": "stream",
     "text": [
      "/opt/apps/apps/binapps/anaconda3/2019.07-numpy-fix/lib/python3.7/site-packages/ipykernel_launcher.py:196: RuntimeWarning: invalid value encountered in true_divide\n"
     ]
    },
    {
     "name": "stdout",
     "output_type": "stream",
     "text": [
      "Current img: 61bc50d1.jpg\n",
      "pred [[2.4709192e-07 1.7661760e-05 9.9998212e-01]]\n",
      "Prediction: COVID-19\n",
      "Confidence\n",
      "Normal: 0.000 Pneumonia: 0.000 Covid-19: 1.000\n",
      "Current img: 87d50e40.jpg\n",
      "pred [[1.8159326e-06 4.2280508e-04 9.9957544e-01]]\n",
      "Prediction: COVID-19\n",
      "Confidence\n",
      "Normal: 0.000 Pneumonia: 0.000 Covid-19: 1.000\n",
      "Current img: 5f619d7e.jpg\n",
      "pred [[0.30896246 0.17232998 0.5187076 ]]\n",
      "Prediction: COVID-19\n",
      "Confidence\n",
      "Normal: 0.309 Pneumonia: 0.172 Covid-19: 0.519\n"
     ]
    },
    {
     "name": "stderr",
     "output_type": "stream",
     "text": [
      "/opt/apps/apps/binapps/anaconda3/2019.07-numpy-fix/lib/python3.7/site-packages/ipykernel_launcher.py:196: RuntimeWarning: invalid value encountered in true_divide\n"
     ]
    },
    {
     "name": "stdout",
     "output_type": "stream",
     "text": [
      "Current img: a38e1877.jpg\n",
      "pred [[2.4960054e-05 2.8459739e-04 9.9969041e-01]]\n",
      "Prediction: COVID-19\n",
      "Confidence\n",
      "Normal: 0.000 Pneumonia: 0.000 Covid-19: 1.000\n",
      "Current img: 4d98e1de.jpg\n",
      "pred [[0.10402163 0.27528134 0.62069696]]\n",
      "Prediction: COVID-19\n",
      "Confidence\n",
      "Normal: 0.104 Pneumonia: 0.275 Covid-19: 0.621\n",
      "Current img: 80b5f00f.jpg\n",
      "pred [[0.03004164 0.02270944 0.9472489 ]]\n",
      "Prediction: COVID-19\n",
      "Confidence\n",
      "Normal: 0.030 Pneumonia: 0.023 Covid-19: 0.947\n",
      "Current img: 00870a9c.jpg\n",
      "pred [[7.7624026e-07 2.7385927e-04 9.9972540e-01]]\n",
      "Prediction: COVID-19\n",
      "Confidence\n",
      "Normal: 0.000 Pneumonia: 0.000 Covid-19: 1.000\n",
      "Current img: 35b446ce.jpg\n",
      "pred [[4.0916912e-06 4.1914263e-04 9.9957675e-01]]\n",
      "Prediction: COVID-19\n",
      "Confidence\n",
      "Normal: 0.000 Pneumonia: 0.000 Covid-19: 1.000\n",
      "Current img: 90070cbc.jpg\n",
      "pred [[2.8497604e-06 9.1636257e-04 9.9908078e-01]]\n",
      "Prediction: COVID-19\n",
      "Confidence\n",
      "Normal: 0.000 Pneumonia: 0.001 Covid-19: 0.999\n",
      "Current img: c0f74558.jpg\n",
      "pred [[6.3807136e-05 1.0227797e-01 8.9765823e-01]]\n",
      "Prediction: COVID-19\n",
      "Confidence\n",
      "Normal: 0.000 Pneumonia: 0.102 Covid-19: 0.898\n",
      "Current img: f6575117.jpg\n",
      "pred [[0.8245927  0.17229423 0.00311305]]\n",
      "Prediction: normal\n",
      "Confidence\n",
      "Normal: 0.825 Pneumonia: 0.172 Covid-19: 0.003\n"
     ]
    },
    {
     "name": "stderr",
     "output_type": "stream",
     "text": [
      "/opt/apps/apps/binapps/anaconda3/2019.07-numpy-fix/lib/python3.7/site-packages/ipykernel_launcher.py:196: RuntimeWarning: invalid value encountered in true_divide\n"
     ]
    },
    {
     "name": "stdout",
     "output_type": "stream",
     "text": [
      "Current img: ac4f6e4e.jpg\n",
      "pred [[0.04140352 0.01094904 0.9476474 ]]\n",
      "Prediction: COVID-19\n",
      "Confidence\n",
      "Normal: 0.041 Pneumonia: 0.011 Covid-19: 0.948\n",
      "Current img: 2cd63b76.jpg\n",
      "pred [[0.90254414 0.07054002 0.0269159 ]]\n",
      "Prediction: normal\n",
      "Confidence\n",
      "Normal: 0.903 Pneumonia: 0.071 Covid-19: 0.027\n"
     ]
    },
    {
     "name": "stderr",
     "output_type": "stream",
     "text": [
      "/opt/apps/apps/binapps/anaconda3/2019.07-numpy-fix/lib/python3.7/site-packages/ipykernel_launcher.py:196: RuntimeWarning: invalid value encountered in true_divide\n"
     ]
    },
    {
     "name": "stdout",
     "output_type": "stream",
     "text": [
      "Current img: 262a70ca.jpg\n",
      "pred [[3.2211610e-05 1.7839364e-03 9.9818379e-01]]\n",
      "Prediction: COVID-19\n",
      "Confidence\n",
      "Normal: 0.000 Pneumonia: 0.002 Covid-19: 0.998\n",
      "Current img: 19abe1f3.jpg\n",
      "pred [[2.8326735e-05 1.3712496e-01 8.6284673e-01]]\n",
      "Prediction: COVID-19\n",
      "Confidence\n",
      "Normal: 0.000 Pneumonia: 0.137 Covid-19: 0.863\n",
      "Current img: bb0e626a.jpg\n",
      "pred [[1.6249706e-04 4.0220269e-03 9.9581546e-01]]\n",
      "Prediction: COVID-19\n",
      "Confidence\n",
      "Normal: 0.000 Pneumonia: 0.004 Covid-19: 0.996\n",
      "Current img: 441c9cdd.jpg\n",
      "pred [[0.03259807 0.12014315 0.84725875]]\n",
      "Prediction: COVID-19\n",
      "Confidence\n",
      "Normal: 0.033 Pneumonia: 0.120 Covid-19: 0.847\n",
      "Current img: f64132c8.jpg\n",
      "pred [[0.10592636 0.89048225 0.00359139]]\n",
      "Prediction: pneumonia\n",
      "Confidence\n",
      "Normal: 0.106 Pneumonia: 0.890 Covid-19: 0.004\n"
     ]
    },
    {
     "name": "stderr",
     "output_type": "stream",
     "text": [
      "/opt/apps/apps/binapps/anaconda3/2019.07-numpy-fix/lib/python3.7/site-packages/ipykernel_launcher.py:196: RuntimeWarning: invalid value encountered in true_divide\n"
     ]
    },
    {
     "name": "stdout",
     "output_type": "stream",
     "text": [
      "Current img: bfefde5d.jpg\n",
      "pred [[4.2629504e-09 4.2159045e-06 9.9999583e-01]]\n",
      "Prediction: COVID-19\n",
      "Confidence\n",
      "Normal: 0.000 Pneumonia: 0.000 Covid-19: 1.000\n",
      "Current img: 9d36404d.jpg\n",
      "pred [[2.0991752e-06 7.1194198e-04 9.9928600e-01]]\n",
      "Prediction: COVID-19\n",
      "Confidence\n",
      "Normal: 0.000 Pneumonia: 0.001 Covid-19: 0.999\n",
      "Current img: 3dedeb92.jpg\n",
      "pred [[7.9133484e-04 1.1569439e-02 9.8763925e-01]]\n",
      "Prediction: COVID-19\n",
      "Confidence\n",
      "Normal: 0.001 Pneumonia: 0.012 Covid-19: 0.988\n",
      "Current img: 483f2ad8.jpg\n",
      "pred [[1.5151121e-04 3.3325285e-03 9.9651599e-01]]\n",
      "Prediction: COVID-19\n",
      "Confidence\n",
      "Normal: 0.000 Pneumonia: 0.003 Covid-19: 0.997\n",
      "Current img: bd10d5e2.jpg\n",
      "pred [[0.00150832 0.01075106 0.9877407 ]]\n",
      "Prediction: COVID-19\n",
      "Confidence\n",
      "Normal: 0.002 Pneumonia: 0.011 Covid-19: 0.988\n",
      "Current img: a2eba651.jpg\n",
      "pred [[0.27605712 0.11745334 0.60648954]]\n",
      "Prediction: COVID-19\n",
      "Confidence\n",
      "Normal: 0.276 Pneumonia: 0.117 Covid-19: 0.606\n"
     ]
    },
    {
     "name": "stderr",
     "output_type": "stream",
     "text": [
      "/opt/apps/apps/binapps/anaconda3/2019.07-numpy-fix/lib/python3.7/site-packages/ipykernel_launcher.py:196: RuntimeWarning: invalid value encountered in true_divide\n"
     ]
    },
    {
     "name": "stdout",
     "output_type": "stream",
     "text": [
      "Current img: f8335316.jpg\n",
      "pred [[1.0359969e-07 8.0180842e-05 9.9991965e-01]]\n",
      "Prediction: COVID-19\n",
      "Confidence\n",
      "Normal: 0.000 Pneumonia: 0.000 Covid-19: 1.000\n",
      "Current img: 4fed5061.jpg\n",
      "pred [[8.1470193e-07 2.1334842e-04 9.9978584e-01]]\n",
      "Prediction: COVID-19\n",
      "Confidence\n",
      "Normal: 0.000 Pneumonia: 0.000 Covid-19: 1.000\n",
      "Current img: 3b46de94.jpg\n",
      "pred [[0.06376992 0.01692612 0.91930395]]\n",
      "Prediction: COVID-19\n",
      "Confidence\n",
      "Normal: 0.064 Pneumonia: 0.017 Covid-19: 0.919\n",
      "Current img: d9d6ca9a.jpg\n",
      "pred [[4.4506692e-04 9.2557818e-03 9.9029911e-01]]\n",
      "Prediction: COVID-19\n",
      "Confidence\n",
      "Normal: 0.000 Pneumonia: 0.009 Covid-19: 0.990\n",
      "Current img: a361d7b7.jpg\n",
      "pred [[0.10218835 0.13906391 0.7587478 ]]\n",
      "Prediction: COVID-19\n",
      "Confidence\n",
      "Normal: 0.102 Pneumonia: 0.139 Covid-19: 0.759\n"
     ]
    },
    {
     "name": "stderr",
     "output_type": "stream",
     "text": [
      "/opt/apps/apps/binapps/anaconda3/2019.07-numpy-fix/lib/python3.7/site-packages/ipykernel_launcher.py:196: RuntimeWarning: invalid value encountered in true_divide\n"
     ]
    },
    {
     "name": "stdout",
     "output_type": "stream",
     "text": [
      "Current img: d680397c.jpg\n",
      "pred [[3.3709955e-06 7.0800750e-05 9.9992585e-01]]\n",
      "Prediction: COVID-19\n",
      "Confidence\n",
      "Normal: 0.000 Pneumonia: 0.000 Covid-19: 1.000\n",
      "Current img: d6494b39.jpg\n",
      "pred [[1.9667004e-06 1.8763650e-04 9.9981040e-01]]\n",
      "Prediction: COVID-19\n",
      "Confidence\n",
      "Normal: 0.000 Pneumonia: 0.000 Covid-19: 1.000\n",
      "Current img: 4fcafe41.jpg\n",
      "pred [[4.9562878e-08 3.7206104e-05 9.9996269e-01]]\n",
      "Prediction: COVID-19\n",
      "Confidence\n",
      "Normal: 0.000 Pneumonia: 0.000 Covid-19: 1.000\n",
      "Current img: 1880e301.jpg\n",
      "pred [[4.2919664e-06 2.4742165e-04 9.9974829e-01]]\n",
      "Prediction: COVID-19\n",
      "Confidence\n",
      "Normal: 0.000 Pneumonia: 0.000 Covid-19: 1.000\n",
      "Current img: ee2d1bf6.jpg\n",
      "pred [[3.4204609e-06 3.7787863e-04 9.9961865e-01]]\n",
      "Prediction: COVID-19\n",
      "Confidence\n",
      "Normal: 0.000 Pneumonia: 0.000 Covid-19: 1.000\n",
      "Current img: 3248cc61.jpg\n",
      "pred [[8.5804871e-08 1.0614335e-04 9.9989378e-01]]\n",
      "Prediction: COVID-19\n",
      "Confidence\n",
      "Normal: 0.000 Pneumonia: 0.000 Covid-19: 1.000\n",
      "Current img: 3fd337c1.jpg\n",
      "pred [[5.9731917e-07 1.3656926e-04 9.9986279e-01]]\n",
      "Prediction: COVID-19\n",
      "Confidence\n",
      "Normal: 0.000 Pneumonia: 0.000 Covid-19: 1.000\n",
      "Current img: 887db78f.jpg\n",
      "pred [[2.1772645e-07 1.2322898e-04 9.9987650e-01]]\n",
      "Prediction: COVID-19\n",
      "Confidence\n",
      "Normal: 0.000 Pneumonia: 0.000 Covid-19: 1.000\n",
      "Current img: 527321ee.jpg\n",
      "pred [[9.3141203e-08 6.5987675e-05 9.9993396e-01]]\n",
      "Prediction: COVID-19\n",
      "Confidence\n",
      "Normal: 0.000 Pneumonia: 0.000 Covid-19: 1.000\n",
      "Current img: 333932bd.jpg\n",
      "pred [[0.003272   0.02690524 0.96982276]]\n",
      "Prediction: COVID-19\n",
      "Confidence\n",
      "Normal: 0.003 Pneumonia: 0.027 Covid-19: 0.970\n",
      "Current img: e1446fe8.jpg\n",
      "pred [[5.4394099e-04 2.3292152e-03 9.9712688e-01]]\n",
      "Prediction: COVID-19\n",
      "Confidence\n",
      "Normal: 0.001 Pneumonia: 0.002 Covid-19: 0.997\n",
      "Current img: c828e894.jpg\n",
      "pred [[2.4996477e-04 1.4976504e-03 9.9825233e-01]]\n",
      "Prediction: COVID-19\n",
      "Confidence\n",
      "Normal: 0.000 Pneumonia: 0.001 Covid-19: 0.998\n",
      "Current img: 24035bda.jpg\n",
      "pred [[3.4672139e-06 4.2647971e-05 9.9995387e-01]]\n",
      "Prediction: COVID-19\n",
      "Confidence\n",
      "Normal: 0.000 Pneumonia: 0.000 Covid-19: 1.000\n",
      "Current img: 08d780ae.jpg\n",
      "pred [[1.0322159e-06 7.1662153e-06 9.9999177e-01]]\n",
      "Prediction: COVID-19\n",
      "Confidence\n",
      "Normal: 0.000 Pneumonia: 0.000 Covid-19: 1.000\n",
      "Current img: cb706009.jpg\n",
      "pred [[7.9726497e-08 1.1560138e-05 9.9998832e-01]]\n",
      "Prediction: COVID-19\n",
      "Confidence\n",
      "Normal: 0.000 Pneumonia: 0.000 Covid-19: 1.000\n",
      "Current img: e1a4f870.jpg\n",
      "pred [[1.1613089e-05 2.1650478e-04 9.9977189e-01]]\n",
      "Prediction: COVID-19\n",
      "Confidence\n",
      "Normal: 0.000 Pneumonia: 0.000 Covid-19: 1.000\n",
      "Current img: 1663b242.jpg\n",
      "pred [[2.0132116e-09 1.7457315e-06 9.9999821e-01]]\n",
      "Prediction: COVID-19\n",
      "Confidence\n",
      "Normal: 0.000 Pneumonia: 0.000 Covid-19: 1.000\n",
      "Current img: 4c0fcf57.jpg\n",
      "pred [[8.850178e-08 8.746411e-06 9.999912e-01]]\n",
      "Prediction: COVID-19\n",
      "Confidence\n",
      "Normal: 0.000 Pneumonia: 0.000 Covid-19: 1.000\n",
      "Current img: a47dc73e.jpg\n",
      "pred [[1.4875019e-07 4.3767063e-06 9.9999547e-01]]\n",
      "Prediction: COVID-19\n",
      "Confidence\n",
      "Normal: 0.000 Pneumonia: 0.000 Covid-19: 1.000\n",
      "Current img: d7f2ee0f.jpg\n",
      "pred [[5.6835052e-08 5.4735541e-05 9.9994516e-01]]\n",
      "Prediction: COVID-19\n",
      "Confidence\n",
      "Normal: 0.000 Pneumonia: 0.000 Covid-19: 1.000\n",
      "Current img: db96a050.jpg\n",
      "pred [[7.0024440e-09 1.0048438e-05 9.9998999e-01]]\n",
      "Prediction: COVID-19\n",
      "Confidence\n",
      "Normal: 0.000 Pneumonia: 0.000 Covid-19: 1.000\n",
      "Current img: 2c35005f.jpg\n",
      "pred [[0.801294   0.1304022  0.06830373]]\n",
      "Prediction: normal\n",
      "Confidence\n",
      "Normal: 0.801 Pneumonia: 0.130 Covid-19: 0.068\n"
     ]
    },
    {
     "name": "stderr",
     "output_type": "stream",
     "text": [
      "/opt/apps/apps/binapps/anaconda3/2019.07-numpy-fix/lib/python3.7/site-packages/ipykernel_launcher.py:196: RuntimeWarning: invalid value encountered in true_divide\n"
     ]
    },
    {
     "name": "stdout",
     "output_type": "stream",
     "text": [
      "Current img: d009d61f.jpg\n",
      "pred [[0.00105556 0.02171515 0.97722936]]\n",
      "Prediction: COVID-19\n",
      "Confidence\n",
      "Normal: 0.001 Pneumonia: 0.022 Covid-19: 0.977\n",
      "Current img: 7afaaccc.jpg\n",
      "pred [[0.01682973 0.05232907 0.9308412 ]]\n",
      "Prediction: COVID-19\n",
      "Confidence\n",
      "Normal: 0.017 Pneumonia: 0.052 Covid-19: 0.931\n",
      "Current img: ec083e35.jpg\n",
      "pred [[0.00774518 0.06545936 0.9267954 ]]\n",
      "Prediction: COVID-19\n",
      "Confidence\n",
      "Normal: 0.008 Pneumonia: 0.065 Covid-19: 0.927\n",
      "Current img: c601f50d.jpg\n",
      "pred [[0.00626334 0.06017162 0.933565  ]]\n",
      "Prediction: COVID-19\n",
      "Confidence\n",
      "Normal: 0.006 Pneumonia: 0.060 Covid-19: 0.934\n",
      "Current img: ada8c494.jpg\n",
      "pred [[0.5256737  0.42895862 0.04536767]]\n",
      "Prediction: normal\n",
      "Confidence\n",
      "Normal: 0.526 Pneumonia: 0.429 Covid-19: 0.045\n"
     ]
    },
    {
     "name": "stderr",
     "output_type": "stream",
     "text": [
      "/opt/apps/apps/binapps/anaconda3/2019.07-numpy-fix/lib/python3.7/site-packages/ipykernel_launcher.py:196: RuntimeWarning: invalid value encountered in true_divide\n"
     ]
    },
    {
     "name": "stdout",
     "output_type": "stream",
     "text": [
      "Current img: 8da14fff.jpg\n",
      "pred [[0.21685433 0.25780132 0.5253443 ]]\n",
      "Prediction: COVID-19\n",
      "Confidence\n",
      "Normal: 0.217 Pneumonia: 0.258 Covid-19: 0.525\n"
     ]
    },
    {
     "name": "stderr",
     "output_type": "stream",
     "text": [
      "/opt/apps/apps/binapps/anaconda3/2019.07-numpy-fix/lib/python3.7/site-packages/ipykernel_launcher.py:196: RuntimeWarning: invalid value encountered in true_divide\n"
     ]
    },
    {
     "name": "stdout",
     "output_type": "stream",
     "text": [
      "Current img: 1052b0fe.jpg\n",
      "pred [[0.05833621 0.34188733 0.59977645]]\n",
      "Prediction: COVID-19\n",
      "Confidence\n",
      "Normal: 0.058 Pneumonia: 0.342 Covid-19: 0.600\n"
     ]
    },
    {
     "name": "stderr",
     "output_type": "stream",
     "text": [
      "/opt/apps/apps/binapps/anaconda3/2019.07-numpy-fix/lib/python3.7/site-packages/ipykernel_launcher.py:196: RuntimeWarning: invalid value encountered in true_divide\n"
     ]
    },
    {
     "name": "stdout",
     "output_type": "stream",
     "text": [
      "Current img: 1f8a4a54.jpg\n",
      "pred [[4.0093841e-05 3.5489467e-03 9.9641091e-01]]\n",
      "Prediction: COVID-19\n",
      "Confidence\n",
      "Normal: 0.000 Pneumonia: 0.004 Covid-19: 0.996\n",
      "Current img: 21982772.jpg\n",
      "pred [[3.1000624e-07 1.1138100e-05 9.9998856e-01]]\n",
      "Prediction: COVID-19\n",
      "Confidence\n",
      "Normal: 0.000 Pneumonia: 0.000 Covid-19: 1.000\n",
      "Current img: 19073f37.jpg\n",
      "pred [[8.9642256e-08 1.6275628e-05 9.9998367e-01]]\n",
      "Prediction: COVID-19\n",
      "Confidence\n",
      "Normal: 0.000 Pneumonia: 0.000 Covid-19: 1.000\n",
      "Current img: 8fc103ca.jpg\n",
      "pred [[0.00340066 0.00121082 0.9953885 ]]\n",
      "Prediction: COVID-19\n",
      "Confidence\n",
      "Normal: 0.003 Pneumonia: 0.001 Covid-19: 0.995\n",
      "Current img: 86d19bba.jpg\n",
      "pred [[1.5881054e-06 1.1349392e-05 9.9998701e-01]]\n",
      "Prediction: COVID-19\n",
      "Confidence\n",
      "Normal: 0.000 Pneumonia: 0.000 Covid-19: 1.000\n",
      "Current img: f6d980a0.jpg\n",
      "pred [[0.6365023  0.30873117 0.05476652]]\n",
      "Prediction: normal\n",
      "Confidence\n",
      "Normal: 0.637 Pneumonia: 0.309 Covid-19: 0.055\n"
     ]
    },
    {
     "name": "stderr",
     "output_type": "stream",
     "text": [
      "/opt/apps/apps/binapps/anaconda3/2019.07-numpy-fix/lib/python3.7/site-packages/ipykernel_launcher.py:196: RuntimeWarning: invalid value encountered in true_divide\n"
     ]
    },
    {
     "name": "stdout",
     "output_type": "stream",
     "text": [
      "Current img: b9673e89.jpg\n",
      "pred [[0.0222225  0.01067915 0.96709836]]\n",
      "Prediction: COVID-19\n",
      "Confidence\n",
      "Normal: 0.022 Pneumonia: 0.011 Covid-19: 0.967\n",
      "Current img: 1d435a4b.jpg\n",
      "pred [[6.6641223e-06 2.1707948e-04 9.9977630e-01]]\n",
      "Prediction: COVID-19\n",
      "Confidence\n",
      "Normal: 0.000 Pneumonia: 0.000 Covid-19: 1.000\n",
      "Current img: 0a7faa2a.jpg\n",
      "pred [[1.4845210e-06 4.6819438e-05 9.9995172e-01]]\n",
      "Prediction: COVID-19\n",
      "Confidence\n",
      "Normal: 0.000 Pneumonia: 0.000 Covid-19: 1.000\n",
      "Current img: b39f5cf9.jpg\n",
      "pred [[5.1249167e-06 1.5936195e-03 9.9840122e-01]]\n",
      "Prediction: COVID-19\n",
      "Confidence\n",
      "Normal: 0.000 Pneumonia: 0.002 Covid-19: 0.998\n",
      "Current img: 5782ae15.jpg\n",
      "pred [[0.00249766 0.00638001 0.99112236]]\n",
      "Prediction: COVID-19\n",
      "Confidence\n",
      "Normal: 0.002 Pneumonia: 0.006 Covid-19: 0.991\n",
      "Current img: 865336ed.jpg\n",
      "pred [[3.9226641e-08 1.6807977e-04 9.9983180e-01]]\n",
      "Prediction: COVID-19\n",
      "Confidence\n",
      "Normal: 0.000 Pneumonia: 0.000 Covid-19: 1.000\n",
      "Current img: 436a6348.jpg\n",
      "pred [[3.9643211e-08 1.6355308e-04 9.9983633e-01]]\n",
      "Prediction: COVID-19\n",
      "Confidence\n",
      "Normal: 0.000 Pneumonia: 0.000 Covid-19: 1.000\n",
      "Current img: 48c4542c.jpg\n",
      "pred [[3.1707963e-04 3.0769229e-01 6.9199061e-01]]\n",
      "Prediction: COVID-19\n",
      "Confidence\n",
      "Normal: 0.000 Pneumonia: 0.308 Covid-19: 0.692\n",
      "Current img: c3829ecb.jpg\n",
      "pred [[0.00389203 0.00392005 0.992188  ]]\n",
      "Prediction: COVID-19\n",
      "Confidence\n",
      "Normal: 0.004 Pneumonia: 0.004 Covid-19: 0.992\n",
      "Current img: 5acb8ac5.jpg\n",
      "pred [[7.8435305e-06 1.3743583e-04 9.9985468e-01]]\n",
      "Prediction: COVID-19\n",
      "Confidence\n",
      "Normal: 0.000 Pneumonia: 0.000 Covid-19: 1.000\n",
      "Current img: a8ac1969.jpg\n",
      "pred [[0.6571924  0.21749566 0.12531199]]\n",
      "Prediction: normal\n",
      "Confidence\n",
      "Normal: 0.657 Pneumonia: 0.217 Covid-19: 0.125\n"
     ]
    },
    {
     "name": "stderr",
     "output_type": "stream",
     "text": [
      "/opt/apps/apps/binapps/anaconda3/2019.07-numpy-fix/lib/python3.7/site-packages/ipykernel_launcher.py:196: RuntimeWarning: invalid value encountered in true_divide\n"
     ]
    },
    {
     "name": "stdout",
     "output_type": "stream",
     "text": [
      "Current img: 82a78c13.jpg\n",
      "pred [[0.5522235  0.36142293 0.0863536 ]]\n",
      "Prediction: normal\n",
      "Confidence\n",
      "Normal: 0.552 Pneumonia: 0.361 Covid-19: 0.086\n"
     ]
    },
    {
     "name": "stderr",
     "output_type": "stream",
     "text": [
      "/opt/apps/apps/binapps/anaconda3/2019.07-numpy-fix/lib/python3.7/site-packages/ipykernel_launcher.py:196: RuntimeWarning: invalid value encountered in true_divide\n"
     ]
    },
    {
     "name": "stdout",
     "output_type": "stream",
     "text": [
      "Current img: 90986ce4.jpg\n",
      "pred [[3.5520320e-04 1.2594794e-03 9.9838531e-01]]\n",
      "Prediction: COVID-19\n",
      "Confidence\n",
      "Normal: 0.000 Pneumonia: 0.001 Covid-19: 0.998\n",
      "Current img: 16646_1_1.jpg\n",
      "pred [[0.00538365 0.8186896  0.17592672]]\n",
      "Prediction: pneumonia\n",
      "Confidence\n",
      "Normal: 0.005 Pneumonia: 0.819 Covid-19: 0.176\n",
      "Current img: 16646_1_2.jpg\n"
     ]
    },
    {
     "name": "stderr",
     "output_type": "stream",
     "text": [
      "/opt/apps/apps/binapps/anaconda3/2019.07-numpy-fix/lib/python3.7/site-packages/ipykernel_launcher.py:196: RuntimeWarning: invalid value encountered in true_divide\n"
     ]
    },
    {
     "name": "stdout",
     "output_type": "stream",
     "text": [
      "pred [[0. 0. 1.]]\n",
      "Prediction: COVID-19\n",
      "Confidence\n",
      "Normal: 0.000 Pneumonia: 0.000 Covid-19: 1.000\n",
      "Current img: 16583_1_1.jpg\n"
     ]
    },
    {
     "name": "stderr",
     "output_type": "stream",
     "text": [
      "/opt/apps/apps/binapps/anaconda3/2019.07-numpy-fix/lib/python3.7/site-packages/ipykernel_launcher.py:196: RuntimeWarning: invalid value encountered in true_divide\n"
     ]
    },
    {
     "name": "stdout",
     "output_type": "stream",
     "text": [
      "pred [[0.7561066  0.1629756  0.08091778]]\n",
      "Prediction: normal\n",
      "Confidence\n",
      "Normal: 0.756 Pneumonia: 0.163 Covid-19: 0.081\n",
      "Current img: 16583_3_1.jpg\n"
     ]
    },
    {
     "name": "stderr",
     "output_type": "stream",
     "text": [
      "/opt/apps/apps/binapps/anaconda3/2019.07-numpy-fix/lib/python3.7/site-packages/ipykernel_launcher.py:196: RuntimeWarning: invalid value encountered in true_divide\n"
     ]
    },
    {
     "name": "stdout",
     "output_type": "stream",
     "text": [
      "pred [[1.8052851e-05 4.4333923e-08 9.9998188e-01]]\n",
      "Prediction: COVID-19\n",
      "Confidence\n",
      "Normal: 0.000 Pneumonia: 0.000 Covid-19: 1.000\n",
      "Current img: 000001-2.jpg\n",
      "pred [[7.5187881e-33 1.9105453e-22 1.0000000e+00]]\n",
      "Prediction: COVID-19\n",
      "Confidence\n",
      "Normal: 0.000 Pneumonia: 0.000 Covid-19: 1.000\n",
      "Current img: 000002-2.jpg\n",
      "pred [[1.6352690e-20 1.0000000e+00 1.2730724e-13]]\n",
      "Prediction: pneumonia\n",
      "Confidence\n",
      "Normal: 0.000 Pneumonia: 1.000 Covid-19: 0.000\n",
      "Current img: 000005-5-a.jpg\n",
      "pred [[0. 0. 1.]]\n",
      "Prediction: COVID-19\n",
      "Confidence\n",
      "Normal: 0.000 Pneumonia: 0.000 Covid-19: 1.000\n",
      "Current img: 000005-5-b.jpg\n"
     ]
    },
    {
     "name": "stderr",
     "output_type": "stream",
     "text": [
      "/opt/apps/apps/binapps/anaconda3/2019.07-numpy-fix/lib/python3.7/site-packages/ipykernel_launcher.py:196: RuntimeWarning: invalid value encountered in true_divide\n"
     ]
    },
    {
     "name": "stdout",
     "output_type": "stream",
     "text": [
      "pred [[0. 0. 1.]]\n",
      "Prediction: COVID-19\n",
      "Confidence\n",
      "Normal: 0.000 Pneumonia: 0.000 Covid-19: 1.000\n",
      "Current img: 000002-3.png\n"
     ]
    },
    {
     "name": "stderr",
     "output_type": "stream",
     "text": [
      "/opt/apps/apps/binapps/anaconda3/2019.07-numpy-fix/lib/python3.7/site-packages/ipykernel_launcher.py:196: RuntimeWarning: invalid value encountered in true_divide\n"
     ]
    },
    {
     "name": "stdout",
     "output_type": "stream",
     "text": [
      "pred [[0.076687   0.92081946 0.00249355]]\n",
      "Prediction: pneumonia\n",
      "Confidence\n",
      "Normal: 0.077 Pneumonia: 0.921 Covid-19: 0.002\n",
      "Current img: 000005-3.png\n"
     ]
    },
    {
     "name": "stderr",
     "output_type": "stream",
     "text": [
      "/opt/apps/apps/binapps/anaconda3/2019.07-numpy-fix/lib/python3.7/site-packages/ipykernel_launcher.py:196: RuntimeWarning: invalid value encountered in true_divide\n"
     ]
    },
    {
     "name": "stdout",
     "output_type": "stream",
     "text": [
      "pred [[0.01681436 0.8631054  0.12008031]]\n",
      "Prediction: pneumonia\n",
      "Confidence\n",
      "Normal: 0.017 Pneumonia: 0.863 Covid-19: 0.120\n",
      "Current img: 000006-2.png\n"
     ]
    },
    {
     "name": "stderr",
     "output_type": "stream",
     "text": [
      "/opt/apps/apps/binapps/anaconda3/2019.07-numpy-fix/lib/python3.7/site-packages/ipykernel_launcher.py:196: RuntimeWarning: invalid value encountered in true_divide\n"
     ]
    },
    {
     "name": "stdout",
     "output_type": "stream",
     "text": [
      "pred [[0.02351221 0.03227158 0.94421625]]\n",
      "Prediction: COVID-19\n",
      "Confidence\n",
      "Normal: 0.024 Pneumonia: 0.032 Covid-19: 0.944\n",
      "Current img: 000007-2.png\n",
      "pred [[0.9053489  0.02313852 0.07151259]]\n",
      "Prediction: normal\n",
      "Confidence\n",
      "Normal: 0.905 Pneumonia: 0.023 Covid-19: 0.072\n",
      "Current img: 000010-2.png\n",
      "pred [[3.3259239e-05 5.9831790e-03 9.9398357e-01]]\n",
      "Prediction: COVID-19\n",
      "Confidence\n",
      "Normal: 0.000 Pneumonia: 0.006 Covid-19: 0.994\n",
      "Current img: 000001-9-a.jpg\n",
      "pred [[0.00149869 0.01136612 0.98713523]]\n",
      "Prediction: COVID-19\n",
      "Confidence\n",
      "Normal: 0.001 Pneumonia: 0.011 Covid-19: 0.987\n",
      "Current img: 000001-9-b.jpg\n",
      "pred [[0.01939533 0.2583716  0.72223306]]\n",
      "Prediction: COVID-19\n",
      "Confidence\n",
      "Normal: 0.019 Pneumonia: 0.258 Covid-19: 0.722\n",
      "Current img: 000002-11-a.jpg\n",
      "pred [[0.61671245 0.04426145 0.33902612]]\n",
      "Prediction: normal\n",
      "Confidence\n",
      "Normal: 0.617 Pneumonia: 0.044 Covid-19: 0.339\n",
      "Current img: 000002-11-b.jpg\n"
     ]
    },
    {
     "name": "stderr",
     "output_type": "stream",
     "text": [
      "/opt/apps/apps/binapps/anaconda3/2019.07-numpy-fix/lib/python3.7/site-packages/ipykernel_launcher.py:196: RuntimeWarning: invalid value encountered in true_divide\n"
     ]
    },
    {
     "name": "stdout",
     "output_type": "stream",
     "text": [
      "pred [[0.04813061 0.07331017 0.8785592 ]]\n",
      "Prediction: COVID-19\n",
      "Confidence\n",
      "Normal: 0.048 Pneumonia: 0.073 Covid-19: 0.879\n",
      "Current img: 000001-3.png\n",
      "pred [[0.20287928 0.7776729  0.0194478 ]]\n",
      "Prediction: pneumonia\n",
      "Confidence\n",
      "Normal: 0.203 Pneumonia: 0.778 Covid-19: 0.019\n",
      "Current img: 000002-4.png\n"
     ]
    },
    {
     "name": "stderr",
     "output_type": "stream",
     "text": [
      "/opt/apps/apps/binapps/anaconda3/2019.07-numpy-fix/lib/python3.7/site-packages/ipykernel_launcher.py:196: RuntimeWarning: invalid value encountered in true_divide\n"
     ]
    },
    {
     "name": "stdout",
     "output_type": "stream",
     "text": [
      "pred [[1.7675254e-03 9.9770433e-01 5.2817824e-04]]\n",
      "Prediction: pneumonia\n",
      "Confidence\n",
      "Normal: 0.002 Pneumonia: 0.998 Covid-19: 0.001\n",
      "Current img: 000003-4.png\n"
     ]
    },
    {
     "name": "stderr",
     "output_type": "stream",
     "text": [
      "/opt/apps/apps/binapps/anaconda3/2019.07-numpy-fix/lib/python3.7/site-packages/ipykernel_launcher.py:196: RuntimeWarning: invalid value encountered in true_divide\n"
     ]
    },
    {
     "name": "stdout",
     "output_type": "stream",
     "text": [
      "pred [[0.08117487 0.8851722  0.0336529 ]]\n",
      "Prediction: pneumonia\n",
      "Confidence\n",
      "Normal: 0.081 Pneumonia: 0.885 Covid-19: 0.034\n",
      "Current img: 000004-3.png\n",
      "pred [[0.08247821 0.83927715 0.0782446 ]]\n",
      "Prediction: pneumonia\n",
      "Confidence\n",
      "Normal: 0.082 Pneumonia: 0.839 Covid-19: 0.078\n",
      "Current img: 000001-12.jpg\n",
      "pred [[0.01780805 0.01096128 0.9712307 ]]\n",
      "Prediction: COVID-19\n",
      "Confidence\n",
      "Normal: 0.018 Pneumonia: 0.011 Covid-19: 0.971\n",
      "Current img: 000002-14.jpg\n",
      "pred [[0.00832225 0.14977841 0.8418994 ]]\n",
      "Prediction: COVID-19\n",
      "Confidence\n",
      "Normal: 0.008 Pneumonia: 0.150 Covid-19: 0.842\n",
      "Current img: 000001.jpg\n",
      "pred [[0.61336833 0.04808628 0.33854538]]\n",
      "Prediction: normal\n",
      "Confidence\n",
      "Normal: 0.613 Pneumonia: 0.048 Covid-19: 0.339\n",
      "Current img: 000002-16.jpg\n"
     ]
    },
    {
     "name": "stderr",
     "output_type": "stream",
     "text": [
      "/opt/apps/apps/binapps/anaconda3/2019.07-numpy-fix/lib/python3.7/site-packages/ipykernel_launcher.py:196: RuntimeWarning: invalid value encountered in true_divide\n"
     ]
    },
    {
     "name": "stdout",
     "output_type": "stream",
     "text": [
      "pred [[0.10138246 0.5027375  0.39587995]]\n",
      "Prediction: pneumonia\n",
      "Confidence\n",
      "Normal: 0.101 Pneumonia: 0.503 Covid-19: 0.396\n",
      "Current img: 000008-8.jpg\n"
     ]
    },
    {
     "name": "stderr",
     "output_type": "stream",
     "text": [
      "/opt/apps/apps/binapps/anaconda3/2019.07-numpy-fix/lib/python3.7/site-packages/ipykernel_launcher.py:196: RuntimeWarning: invalid value encountered in true_divide\n"
     ]
    },
    {
     "name": "stdout",
     "output_type": "stream",
     "text": [
      "pred [[5.4835393e-08 6.7010046e-07 9.9999928e-01]]\n",
      "Prediction: COVID-19\n",
      "Confidence\n",
      "Normal: 0.000 Pneumonia: 0.000 Covid-19: 1.000\n",
      "Current img: 000009-5.jpg\n",
      "pred [[3.7332859e-02 9.6174884e-01 9.1835449e-04]]\n",
      "Prediction: pneumonia\n",
      "Confidence\n",
      "Normal: 0.037 Pneumonia: 0.962 Covid-19: 0.001\n",
      "Current img: 000016.jpg\n"
     ]
    },
    {
     "name": "stderr",
     "output_type": "stream",
     "text": [
      "/opt/apps/apps/binapps/anaconda3/2019.07-numpy-fix/lib/python3.7/site-packages/ipykernel_launcher.py:196: RuntimeWarning: invalid value encountered in true_divide\n"
     ]
    },
    {
     "name": "stdout",
     "output_type": "stream",
     "text": [
      "pred [[0.01637821 0.05044271 0.9331791 ]]\n",
      "Prediction: COVID-19\n",
      "Confidence\n",
      "Normal: 0.016 Pneumonia: 0.050 Covid-19: 0.933\n",
      "Current img: 000017-1.jpg\n",
      "pred [[0.21093239 0.7738484  0.01521921]]\n",
      "Prediction: pneumonia\n",
      "Confidence\n",
      "Normal: 0.211 Pneumonia: 0.774 Covid-19: 0.015\n",
      "Current img: 000024-1.jpg\n"
     ]
    },
    {
     "name": "stderr",
     "output_type": "stream",
     "text": [
      "/opt/apps/apps/binapps/anaconda3/2019.07-numpy-fix/lib/python3.7/site-packages/ipykernel_launcher.py:196: RuntimeWarning: invalid value encountered in true_divide\n"
     ]
    },
    {
     "name": "stdout",
     "output_type": "stream",
     "text": [
      "pred [[2.0617030e-04 4.0032176e-04 9.9939346e-01]]\n",
      "Prediction: COVID-19\n",
      "Confidence\n",
      "Normal: 0.000 Pneumonia: 0.000 Covid-19: 0.999\n",
      "Current img: 000025-1.jpg\n",
      "pred [[0.33818877 0.66089374 0.00091756]]\n",
      "Prediction: pneumonia\n",
      "Confidence\n",
      "Normal: 0.338 Pneumonia: 0.661 Covid-19: 0.001\n",
      "Current img: 000001-17.jpg\n",
      "pred [[8.5623113e-05 1.2344354e-02 9.8756999e-01]]\n",
      "Prediction: COVID-19\n",
      "Confidence\n",
      "Normal: 0.000 Pneumonia: 0.012 Covid-19: 0.988\n",
      "Current img: 000002-19-a.jpg\n",
      "pred [[7.5536896e-04 2.0756355e-01 7.9168111e-01]]\n",
      "Prediction: COVID-19\n",
      "Confidence\n",
      "Normal: 0.001 Pneumonia: 0.208 Covid-19: 0.792\n",
      "Current img: 000002-19-b.jpg\n",
      "pred [[0.3174861  0.6138129  0.06870095]]\n",
      "Prediction: pneumonia\n",
      "Confidence\n",
      "Normal: 0.317 Pneumonia: 0.614 Covid-19: 0.069\n",
      "Current img: 000001-19.jpg\n",
      "pred [[0.01282822 0.20543231 0.7817394 ]]\n",
      "Prediction: COVID-19\n",
      "Confidence\n",
      "Normal: 0.013 Pneumonia: 0.205 Covid-19: 0.782\n",
      "Current img: 000006-12.jpg\n"
     ]
    },
    {
     "name": "stderr",
     "output_type": "stream",
     "text": [
      "/opt/apps/apps/binapps/anaconda3/2019.07-numpy-fix/lib/python3.7/site-packages/ipykernel_launcher.py:196: RuntimeWarning: invalid value encountered in true_divide\n"
     ]
    },
    {
     "name": "stdout",
     "output_type": "stream",
     "text": [
      "pred [[2.4059202e-04 5.1856242e-02 9.4790310e-01]]\n",
      "Prediction: COVID-19\n",
      "Confidence\n",
      "Normal: 0.000 Pneumonia: 0.052 Covid-19: 0.948\n",
      "Current img: 000010-5.jpg\n",
      "pred [[4.324899e-04 5.312356e-01 4.683319e-01]]\n",
      "Prediction: pneumonia\n",
      "Confidence\n",
      "Normal: 0.000 Pneumonia: 0.531 Covid-19: 0.468\n",
      "Current img: 000011-6.jpg\n"
     ]
    },
    {
     "name": "stderr",
     "output_type": "stream",
     "text": [
      "/opt/apps/apps/binapps/anaconda3/2019.07-numpy-fix/lib/python3.7/site-packages/ipykernel_launcher.py:196: RuntimeWarning: invalid value encountered in true_divide\n"
     ]
    },
    {
     "name": "stdout",
     "output_type": "stream",
     "text": [
      "pred [[0.00306138 0.7599957  0.2369429 ]]\n",
      "Prediction: pneumonia\n",
      "Confidence\n",
      "Normal: 0.003 Pneumonia: 0.760 Covid-19: 0.237\n",
      "Current img: 000012-3.jpg\n"
     ]
    },
    {
     "name": "stderr",
     "output_type": "stream",
     "text": [
      "/opt/apps/apps/binapps/anaconda3/2019.07-numpy-fix/lib/python3.7/site-packages/ipykernel_launcher.py:196: RuntimeWarning: invalid value encountered in true_divide\n"
     ]
    },
    {
     "name": "stdout",
     "output_type": "stream",
     "text": [
      "pred [[9.8935363e-04 2.7922986e-03 9.9621838e-01]]\n",
      "Prediction: COVID-19\n",
      "Confidence\n",
      "Normal: 0.001 Pneumonia: 0.003 Covid-19: 0.996\n",
      "Current img: 000001-6.png\n",
      "pred [[0.80722463 0.04994929 0.14282604]]\n",
      "Prediction: normal\n",
      "Confidence\n",
      "Normal: 0.807 Pneumonia: 0.050 Covid-19: 0.143\n",
      "Current img: 000002-7.png\n"
     ]
    },
    {
     "name": "stderr",
     "output_type": "stream",
     "text": [
      "/opt/apps/apps/binapps/anaconda3/2019.07-numpy-fix/lib/python3.7/site-packages/ipykernel_launcher.py:196: RuntimeWarning: invalid value encountered in true_divide\n"
     ]
    },
    {
     "name": "stdout",
     "output_type": "stream",
     "text": [
      "pred [[0.01958151 0.04749713 0.9329214 ]]\n",
      "Prediction: COVID-19\n",
      "Confidence\n",
      "Normal: 0.020 Pneumonia: 0.047 Covid-19: 0.933\n",
      "Current img: nejmoa2001017_f1-a.png\n",
      "pred [[4.697091e-07 2.113036e-03 9.978865e-01]]\n",
      "Prediction: COVID-19\n",
      "Confidence\n",
      "Normal: 0.000 Pneumonia: 0.002 Covid-19: 0.998\n",
      "Current img: nejmoa2001017_f1-b.png\n",
      "pred [[3.6701433e-09 2.3717807e-06 9.9999762e-01]]\n",
      "Prediction: COVID-19\n",
      "Confidence\n",
      "Normal: 0.000 Pneumonia: 0.000 Covid-19: 1.000\n",
      "Current img: 68_2020_1364_Fig1_HTML-a.png\n",
      "pred [[6.2346138e-04 1.3600084e-01 8.6337566e-01]]\n",
      "Prediction: COVID-19\n",
      "Confidence\n",
      "Normal: 0.001 Pneumonia: 0.136 Covid-19: 0.863\n",
      "Current img: 68_2020_1364_Fig1_HTML-b.png\n",
      "pred [[0.00069058 0.5478949  0.45141453]]\n",
      "Prediction: pneumonia\n",
      "Confidence\n",
      "Normal: 0.001 Pneumonia: 0.548 Covid-19: 0.451\n",
      "Current img: 68_2020_1364_Fig1_HTML-c.png\n",
      "pred [[7.743771e-05 3.257768e-02 9.673449e-01]]\n",
      "Prediction: COVID-19\n",
      "Confidence\n",
      "Normal: 0.000 Pneumonia: 0.033 Covid-19: 0.967\n",
      "Current img: 270_2020_2470_Fig1_HTML-a.png\n",
      "pred [[3.5351212e-04 9.8416317e-01 1.5483421e-02]]\n",
      "Prediction: pneumonia\n",
      "Confidence\n",
      "Normal: 0.000 Pneumonia: 0.984 Covid-19: 0.015\n",
      "Current img: 270_2020_2470_Fig1_HTML-b.png\n"
     ]
    },
    {
     "name": "stderr",
     "output_type": "stream",
     "text": [
      "/opt/apps/apps/binapps/anaconda3/2019.07-numpy-fix/lib/python3.7/site-packages/ipykernel_launcher.py:196: RuntimeWarning: invalid value encountered in true_divide\n"
     ]
    },
    {
     "name": "stdout",
     "output_type": "stream",
     "text": [
      "pred [[0.00166794 0.17317262 0.82515943]]\n",
      "Prediction: COVID-19\n",
      "Confidence\n",
      "Normal: 0.002 Pneumonia: 0.173 Covid-19: 0.825\n",
      "Current img: 296_2020_4584_Fig2_HTML-a.png\n",
      "pred [[1.1238571e-10 6.6601511e-09 1.0000000e+00]]\n",
      "Prediction: COVID-19\n",
      "Confidence\n",
      "Normal: 0.000 Pneumonia: 0.000 Covid-19: 1.000\n",
      "Current img: 296_2020_4584_Fig2_HTML-b.png\n",
      "pred [[9.3364201e-07 1.3901013e-06 9.9999774e-01]]\n",
      "Prediction: COVID-19\n",
      "Confidence\n",
      "Normal: 0.000 Pneumonia: 0.000 Covid-19: 1.000\n",
      "Current img: 296_2020_4584_Fig2_HTML-c.png\n",
      "pred [[2.7428578e-07 1.3560990e-06 9.9999833e-01]]\n",
      "Prediction: COVID-19\n",
      "Confidence\n",
      "Normal: 0.000 Pneumonia: 0.000 Covid-19: 1.000\n",
      "Current img: 701_2020_4374_Fig2_HTML.png\n",
      "pred [[6.7852228e-04 2.5239611e-02 9.7408187e-01]]\n",
      "Prediction: COVID-19\n",
      "Confidence\n",
      "Normal: 0.001 Pneumonia: 0.025 Covid-19: 0.974\n",
      "Current img: nejmoa2004500_f1-a.png\n",
      "pred [[1.3570849e-09 5.9319284e-08 9.9999988e-01]]\n",
      "Prediction: COVID-19\n",
      "Confidence\n",
      "Normal: 0.000 Pneumonia: 0.000 Covid-19: 1.000\n",
      "Current img: nejmoa2004500_f1-b.png\n",
      "pred [[7.202813e-12 3.901612e-10 1.000000e+00]]\n",
      "Prediction: COVID-19\n",
      "Confidence\n",
      "Normal: 0.000 Pneumonia: 0.000 Covid-19: 1.000\n",
      "Current img: 11547_2020_1200_Fig3_HTML-a.png\n",
      "pred [[1.8965753e-21 1.9023903e-17 1.0000000e+00]]\n",
      "Prediction: COVID-19\n",
      "Confidence\n",
      "Normal: 0.000 Pneumonia: 0.000 Covid-19: 1.000\n",
      "Current img: 11547_2020_1200_Fig3_HTML-b.png\n",
      "pred [[1.6789590e-21 2.4795113e-16 1.0000000e+00]]\n",
      "Prediction: COVID-19\n",
      "Confidence\n",
      "Normal: 0.000 Pneumonia: 0.000 Covid-19: 1.000\n",
      "Current img: 11547_2020_1200_Fig3_HTML-c.png\n",
      "pred [[1.5527175e-09 2.5888305e-06 9.9999738e-01]]\n",
      "Prediction: COVID-19\n",
      "Confidence\n",
      "Normal: 0.000 Pneumonia: 0.000 Covid-19: 1.000\n",
      "Current img: 11547_2020_1200_Fig2_HTML-a.png\n",
      "pred [[0.0000000e+00 1.1470994e-32 1.0000000e+00]]\n",
      "Prediction: COVID-19\n",
      "Confidence\n",
      "Normal: 0.000 Pneumonia: 0.000 Covid-19: 1.000\n",
      "Current img: 11547_2020_1200_Fig2_HTML-b.png\n",
      "pred [[6.9402423e-36 4.7799348e-29 1.0000000e+00]]\n",
      "Prediction: COVID-19\n",
      "Confidence\n",
      "Normal: 0.000 Pneumonia: 0.000 Covid-19: 1.000\n",
      "Current img: 11547_2020_1202_Fig1_HTML-a.png\n",
      "pred [[2.3261154e-12 6.4536664e-08 9.9999988e-01]]\n",
      "Prediction: COVID-19\n",
      "Confidence\n",
      "Normal: 0.000 Pneumonia: 0.000 Covid-19: 1.000\n",
      "Current img: 11547_2020_1202_Fig1_HTML-b.png\n",
      "pred [[1.01698786e-16 5.22435231e-13 1.00000000e+00]]\n",
      "Prediction: COVID-19\n",
      "Confidence\n",
      "Normal: 0.000 Pneumonia: 0.000 Covid-19: 1.000\n",
      "Current img: 11547_2020_1203_Fig1_HTML-a.png\n",
      "pred [[1.600587e-05 5.166315e-03 9.948177e-01]]\n",
      "Prediction: COVID-19\n",
      "Confidence\n",
      "Normal: 0.000 Pneumonia: 0.005 Covid-19: 0.995\n",
      "Current img: 11547_2020_1203_Fig1_HTML-b.png\n",
      "pred [[2.0738084e-05 1.2690351e-02 9.8728895e-01]]\n",
      "Prediction: COVID-19\n",
      "Confidence\n",
      "Normal: 0.000 Pneumonia: 0.013 Covid-19: 0.987\n",
      "Current img: 11547_2020_1203_Fig1_HTML-c.png\n",
      "pred [[0.0118445  0.19813092 0.79002464]]\n",
      "Prediction: COVID-19\n",
      "Confidence\n",
      "Normal: 0.012 Pneumonia: 0.198 Covid-19: 0.790\n",
      "Current img: 11547_2020_1203_Fig1_HTML-d.png\n"
     ]
    },
    {
     "name": "stderr",
     "output_type": "stream",
     "text": [
      "/opt/apps/apps/binapps/anaconda3/2019.07-numpy-fix/lib/python3.7/site-packages/ipykernel_launcher.py:196: RuntimeWarning: invalid value encountered in true_divide\n"
     ]
    },
    {
     "name": "stdout",
     "output_type": "stream",
     "text": [
      "pred [[8.7733427e-04 5.7829566e-02 9.4129306e-01]]\n",
      "Prediction: COVID-19\n",
      "Confidence\n",
      "Normal: 0.001 Pneumonia: 0.058 Covid-19: 0.941\n",
      "Current img: 11547_2020_1203_Fig2_HTML-a.png\n",
      "pred [[0.1054121  0.27856174 0.61602616]]\n",
      "Prediction: COVID-19\n",
      "Confidence\n",
      "Normal: 0.105 Pneumonia: 0.279 Covid-19: 0.616\n",
      "Current img: 11547_2020_1203_Fig2_HTML-b.png\n"
     ]
    },
    {
     "name": "stderr",
     "output_type": "stream",
     "text": [
      "/opt/apps/apps/binapps/anaconda3/2019.07-numpy-fix/lib/python3.7/site-packages/ipykernel_launcher.py:196: RuntimeWarning: invalid value encountered in true_divide\n"
     ]
    },
    {
     "name": "stdout",
     "output_type": "stream",
     "text": [
      "pred [[1.5654352e-04 8.0237351e-03 9.9181974e-01]]\n",
      "Prediction: COVID-19\n",
      "Confidence\n",
      "Normal: 0.000 Pneumonia: 0.008 Covid-19: 0.992\n",
      "Current img: 11547_2020_1203_Fig2_HTML-c.png\n",
      "pred [[0.00116771 0.0060121  0.9928202 ]]\n",
      "Prediction: COVID-19\n",
      "Confidence\n",
      "Normal: 0.001 Pneumonia: 0.006 Covid-19: 0.993\n",
      "Current img: 11547_2020_1203_Fig2_HTML-d.png\n",
      "pred [[0.00500525 0.02125558 0.97373915]]\n",
      "Prediction: COVID-19\n",
      "Confidence\n",
      "Normal: 0.005 Pneumonia: 0.021 Covid-19: 0.974\n",
      "Current img: 1-s2.0-S0735675720302746-gr1_lrg.jpg\n",
      "pred [[5.3624276e-06 7.6266803e-04 9.9923193e-01]]\n",
      "Prediction: COVID-19\n",
      "Confidence\n",
      "Normal: 0.000 Pneumonia: 0.001 Covid-19: 0.999\n",
      "Current img: 1-s2.0-S0196070920301691-gr3_lrg.jpg\n",
      "pred [[1.8325873e-04 1.5019106e-02 9.8479766e-01]]\n",
      "Prediction: COVID-19\n",
      "Confidence\n",
      "Normal: 0.000 Pneumonia: 0.015 Covid-19: 0.985\n",
      "Current img: 10.1016-slash-j.anl.2020.04.002-a.png\n",
      "pred [[9.5269132e-01 4.6487577e-02 8.2109380e-04]]\n",
      "Prediction: normal\n",
      "Confidence\n",
      "Normal: 0.953 Pneumonia: 0.046 Covid-19: 0.001\n",
      "Current img: 10.1016-slash-j.anl.2020.04.002-b.png\n",
      "pred [[0.00085403 0.83037263 0.16877326]]\n",
      "Prediction: pneumonia\n",
      "Confidence\n",
      "Normal: 0.001 Pneumonia: 0.830 Covid-19: 0.169\n",
      "Current img: 10.1016-slash-j.anl.2020.04.002-c.png\n"
     ]
    },
    {
     "name": "stderr",
     "output_type": "stream",
     "text": [
      "/opt/apps/apps/binapps/anaconda3/2019.07-numpy-fix/lib/python3.7/site-packages/ipykernel_launcher.py:196: RuntimeWarning: invalid value encountered in true_divide\n"
     ]
    },
    {
     "name": "stdout",
     "output_type": "stream",
     "text": [
      "pred [[2.8694671e-04 6.4534026e-01 3.5437283e-01]]\n",
      "Prediction: pneumonia\n",
      "Confidence\n",
      "Normal: 0.000 Pneumonia: 0.645 Covid-19: 0.354\n",
      "Current img: 1-s2.0-S0889159120306851-gr2b_lrg.jpg\n"
     ]
    },
    {
     "name": "stderr",
     "output_type": "stream",
     "text": [
      "/opt/apps/apps/binapps/anaconda3/2019.07-numpy-fix/lib/python3.7/site-packages/ipykernel_launcher.py:196: RuntimeWarning: invalid value encountered in true_divide\n"
     ]
    },
    {
     "name": "stdout",
     "output_type": "stream",
     "text": [
      "pred [[1.9221668e-04 3.7775666e-01 6.2205118e-01]]\n",
      "Prediction: COVID-19\n",
      "Confidence\n",
      "Normal: 0.000 Pneumonia: 0.378 Covid-19: 0.622\n",
      "Current img: 10.1016-slash-j.cardfail.2020.04.007-a.png\n"
     ]
    },
    {
     "name": "stderr",
     "output_type": "stream",
     "text": [
      "/opt/apps/apps/binapps/anaconda3/2019.07-numpy-fix/lib/python3.7/site-packages/ipykernel_launcher.py:196: RuntimeWarning: invalid value encountered in true_divide\n"
     ]
    },
    {
     "name": "stdout",
     "output_type": "stream",
     "text": [
      "pred [[6.7816320e-04 2.0177890e-01 7.9754287e-01]]\n",
      "Prediction: COVID-19\n",
      "Confidence\n",
      "Normal: 0.001 Pneumonia: 0.202 Covid-19: 0.798\n",
      "Current img: 10.1016-slash-j.cardfail.2020.04.007-b.png\n",
      "pred [[7.4959052e-04 1.3177767e-02 9.8607266e-01]]\n",
      "Prediction: COVID-19\n",
      "Confidence\n",
      "Normal: 0.001 Pneumonia: 0.013 Covid-19: 0.986\n",
      "Current img: 10.1016-slash-j.chest.2020.04.024.png\n",
      "pred [[1.6999076e-05 7.4549825e-03 9.9252808e-01]]\n",
      "Prediction: COVID-19\n",
      "Confidence\n",
      "Normal: 0.000 Pneumonia: 0.007 Covid-19: 0.993\n",
      "Current img: 1-s2.0-S1931312820301852-gr1_lrg-a.png\n",
      "pred [[1.4133632e-05 9.1930717e-04 9.9906653e-01]]\n",
      "Prediction: COVID-19\n",
      "Confidence\n",
      "Normal: 0.000 Pneumonia: 0.001 Covid-19: 0.999\n",
      "Current img: 1-s2.0-S1931312820301852-gr1_lrg-b.png\n",
      "pred [[0.741739   0.07458112 0.18367988]]\n",
      "Prediction: normal\n",
      "Confidence\n",
      "Normal: 0.742 Pneumonia: 0.075 Covid-19: 0.184\n",
      "Current img: 1-s2.0-S1931312820301852-gr1_lrg-c.png\n"
     ]
    },
    {
     "name": "stderr",
     "output_type": "stream",
     "text": [
      "/opt/apps/apps/binapps/anaconda3/2019.07-numpy-fix/lib/python3.7/site-packages/ipykernel_launcher.py:196: RuntimeWarning: invalid value encountered in true_divide\n"
     ]
    },
    {
     "name": "stdout",
     "output_type": "stream",
     "text": [
      "pred [[0.9454795  0.01368196 0.04083852]]\n",
      "Prediction: normal\n",
      "Confidence\n",
      "Normal: 0.945 Pneumonia: 0.014 Covid-19: 0.041\n",
      "Current img: 1-s2.0-S1521661620303314-gr1_lrg-a.png\n"
     ]
    },
    {
     "name": "stderr",
     "output_type": "stream",
     "text": [
      "/opt/apps/apps/binapps/anaconda3/2019.07-numpy-fix/lib/python3.7/site-packages/ipykernel_launcher.py:196: RuntimeWarning: invalid value encountered in true_divide\n"
     ]
    },
    {
     "name": "stdout",
     "output_type": "stream",
     "text": [
      "pred [[2.156517e-08 6.614372e-06 9.999933e-01]]\n",
      "Prediction: COVID-19\n",
      "Confidence\n",
      "Normal: 0.000 Pneumonia: 0.000 Covid-19: 1.000\n",
      "Current img: 1-s2.0-S1521661620303314-gr1_lrg-b.png\n",
      "pred [[4.9022124e-06 4.1325500e-05 9.9995375e-01]]\n",
      "Prediction: COVID-19\n",
      "Confidence\n",
      "Normal: 0.000 Pneumonia: 0.000 Covid-19: 1.000\n",
      "Current img: 10.1016-slash-j.crad.2020.04.002-a.png\n",
      "pred [[1.5267477e-04 3.4141954e-02 9.6570534e-01]]\n",
      "Prediction: COVID-19\n",
      "Confidence\n",
      "Normal: 0.000 Pneumonia: 0.034 Covid-19: 0.966\n",
      "Current img: 10.1016-slash-j.crad.2020.04.002-b.png\n",
      "pred [[0.00732304 0.0336591  0.9590179 ]]\n",
      "Prediction: COVID-19\n",
      "Confidence\n",
      "Normal: 0.007 Pneumonia: 0.034 Covid-19: 0.959\n",
      "Current img: 10.1016-slash-j.healun.2020.04.004.jpg\n",
      "pred [[0.01509222 0.25194547 0.73296225]]\n",
      "Prediction: COVID-19\n",
      "Confidence\n",
      "Normal: 0.015 Pneumonia: 0.252 Covid-19: 0.733\n",
      "Current img: 10.1016-slash-j.hrcr.2020.04.015-a.png\n",
      "pred [[0.02627256 0.8349746  0.13875288]]\n",
      "Prediction: pneumonia\n",
      "Confidence\n",
      "Normal: 0.026 Pneumonia: 0.835 Covid-19: 0.139\n",
      "Current img: 10.1016-slash-j.hrcr.2020.04.015-b.png\n"
     ]
    },
    {
     "name": "stderr",
     "output_type": "stream",
     "text": [
      "/opt/apps/apps/binapps/anaconda3/2019.07-numpy-fix/lib/python3.7/site-packages/ipykernel_launcher.py:196: RuntimeWarning: invalid value encountered in true_divide\n"
     ]
    },
    {
     "name": "stdout",
     "output_type": "stream",
     "text": [
      "pred [[0.04186794 0.9433012  0.01483089]]\n",
      "Prediction: pneumonia\n",
      "Confidence\n",
      "Normal: 0.042 Pneumonia: 0.943 Covid-19: 0.015\n",
      "Current img: 10.1016-slash-j.hrcr.2020.04.015-fig3-a.png\n"
     ]
    },
    {
     "name": "stderr",
     "output_type": "stream",
     "text": [
      "/opt/apps/apps/binapps/anaconda3/2019.07-numpy-fix/lib/python3.7/site-packages/ipykernel_launcher.py:196: RuntimeWarning: invalid value encountered in true_divide\n"
     ]
    },
    {
     "name": "stdout",
     "output_type": "stream",
     "text": [
      "pred [[9.2386204e-01 7.6097995e-02 3.9961487e-05]]\n",
      "Prediction: normal\n",
      "Confidence\n",
      "Normal: 0.924 Pneumonia: 0.076 Covid-19: 0.000\n",
      "Current img: 10.1016-slash-j.hrcr.2020.04.015-fig3-b.png\n"
     ]
    },
    {
     "name": "stderr",
     "output_type": "stream",
     "text": [
      "/opt/apps/apps/binapps/anaconda3/2019.07-numpy-fix/lib/python3.7/site-packages/ipykernel_launcher.py:196: RuntimeWarning: invalid value encountered in true_divide\n"
     ]
    },
    {
     "name": "stdout",
     "output_type": "stream",
     "text": [
      "pred [[0.7340647  0.19984642 0.06608886]]\n",
      "Prediction: normal\n",
      "Confidence\n",
      "Normal: 0.734 Pneumonia: 0.200 Covid-19: 0.066\n",
      "Current img: 1-s2.0-S2214250920300706-gr1_lrg.jpg\n"
     ]
    },
    {
     "name": "stderr",
     "output_type": "stream",
     "text": [
      "/opt/apps/apps/binapps/anaconda3/2019.07-numpy-fix/lib/python3.7/site-packages/ipykernel_launcher.py:196: RuntimeWarning: invalid value encountered in true_divide\n"
     ]
    },
    {
     "name": "stdout",
     "output_type": "stream",
     "text": [
      "pred [[0.82872784 0.11398173 0.05729042]]\n",
      "Prediction: normal\n",
      "Confidence\n",
      "Normal: 0.829 Pneumonia: 0.114 Covid-19: 0.057\n",
      "Current img: 1-s2.0-S2214250920300706-gr2_lrg.jpg\n"
     ]
    },
    {
     "name": "stderr",
     "output_type": "stream",
     "text": [
      "/opt/apps/apps/binapps/anaconda3/2019.07-numpy-fix/lib/python3.7/site-packages/ipykernel_launcher.py:196: RuntimeWarning: invalid value encountered in true_divide\n"
     ]
    },
    {
     "name": "stdout",
     "output_type": "stream",
     "text": [
      "pred [[8.5761130e-05 1.9126564e-03 9.9800152e-01]]\n",
      "Prediction: COVID-19\n",
      "Confidence\n",
      "Normal: 0.000 Pneumonia: 0.002 Covid-19: 0.998\n",
      "Current img: 1-s2.0-S2214250920300706-gr5_lrg.jpg\n",
      "pred [[0.01128124 0.9643966  0.02432216]]\n",
      "Prediction: pneumonia\n",
      "Confidence\n",
      "Normal: 0.011 Pneumonia: 0.964 Covid-19: 0.024\n",
      "Current img: 1-s2.0-S2214250920300834-gr1_lrg-b.png\n"
     ]
    },
    {
     "name": "stderr",
     "output_type": "stream",
     "text": [
      "/opt/apps/apps/binapps/anaconda3/2019.07-numpy-fix/lib/python3.7/site-packages/ipykernel_launcher.py:196: RuntimeWarning: invalid value encountered in true_divide\n"
     ]
    },
    {
     "name": "stdout",
     "output_type": "stream",
     "text": [
      "pred [[0.08225166 0.07696482 0.8407835 ]]\n",
      "Prediction: COVID-19\n",
      "Confidence\n",
      "Normal: 0.082 Pneumonia: 0.077 Covid-19: 0.841\n",
      "Current img: 1-s2.0-S2214250920300834-gr1_lrg-c.png\n"
     ]
    },
    {
     "name": "stderr",
     "output_type": "stream",
     "text": [
      "/opt/apps/apps/binapps/anaconda3/2019.07-numpy-fix/lib/python3.7/site-packages/ipykernel_launcher.py:196: RuntimeWarning: invalid value encountered in true_divide\n"
     ]
    },
    {
     "name": "stdout",
     "output_type": "stream",
     "text": [
      "pred [[0.00531357 0.00673685 0.9879496 ]]\n",
      "Prediction: COVID-19\n",
      "Confidence\n",
      "Normal: 0.005 Pneumonia: 0.007 Covid-19: 0.988\n",
      "Current img: 1-s2.0-S2214250920300834-gr1_lrg-d.png\n",
      "pred [[0.640071   0.04529406 0.31463495]]\n",
      "Prediction: normal\n",
      "Confidence\n",
      "Normal: 0.640 Pneumonia: 0.045 Covid-19: 0.315\n",
      "Current img: 1-s2.0-S2213716520301168-gr1_lrg-a.png\n",
      "pred [[1.3163142e-04 9.1837958e-02 9.0803039e-01]]\n",
      "Prediction: COVID-19\n",
      "Confidence\n",
      "Normal: 0.000 Pneumonia: 0.092 Covid-19: 0.908\n",
      "Current img: 1-s2.0-S2213716520301168-gr1_lrg-b.png\n",
      "pred [[2.635977e-04 4.238609e-03 9.954978e-01]]\n",
      "Prediction: COVID-19\n",
      "Confidence\n",
      "Normal: 0.000 Pneumonia: 0.004 Covid-19: 0.995\n",
      "Current img: 1-s2.0-S2213716520301168-gr1_lrg-c.png\n",
      "pred [[1.2946768e-04 2.3078620e-01 7.6908433e-01]]\n",
      "Prediction: COVID-19\n",
      "Confidence\n",
      "Normal: 0.000 Pneumonia: 0.231 Covid-19: 0.769\n",
      "Current img: 10.1016-slash-j.jhin.2020.03.036.png\n",
      "pred [[1.1551064e-07 1.3099404e-04 9.9986887e-01]]\n",
      "Prediction: COVID-19\n",
      "Confidence\n",
      "Normal: 0.000 Pneumonia: 0.000 Covid-19: 1.000\n",
      "Current img: 1-s2.0-S1341321X20301124-gr3_lrg-a.png\n",
      "pred [[1.2752520e-05 1.1547716e-02 9.8843956e-01]]\n",
      "Prediction: COVID-19\n",
      "Confidence\n",
      "Normal: 0.000 Pneumonia: 0.012 Covid-19: 0.988\n",
      "Current img: 1-s2.0-S1341321X20301124-gr3_lrg-b.png\n",
      "pred [[0.02539434 0.24906379 0.72554183]]\n",
      "Prediction: COVID-19\n",
      "Confidence\n",
      "Normal: 0.025 Pneumonia: 0.249 Covid-19: 0.726\n",
      "Current img: 1-s2.0-S1341321X20301124-gr3_lrg-c.png\n"
     ]
    },
    {
     "name": "stderr",
     "output_type": "stream",
     "text": [
      "/opt/apps/apps/binapps/anaconda3/2019.07-numpy-fix/lib/python3.7/site-packages/ipykernel_launcher.py:196: RuntimeWarning: invalid value encountered in true_divide\n"
     ]
    },
    {
     "name": "stdout",
     "output_type": "stream",
     "text": [
      "pred [[8.3294179e-04 1.3226563e-01 8.6690140e-01]]\n",
      "Prediction: COVID-19\n",
      "Confidence\n",
      "Normal: 0.001 Pneumonia: 0.132 Covid-19: 0.867\n",
      "Current img: 1-s2.0-S1341321X20301124-gr3_lrg-d.png\n",
      "pred [[2.8143153e-05 2.4017643e-02 9.7595429e-01]]\n",
      "Prediction: COVID-19\n",
      "Confidence\n",
      "Normal: 0.000 Pneumonia: 0.024 Covid-19: 0.976\n",
      "Current img: 1-s2.0-S1341321X20301124-gr3_lrg-e.png\n",
      "pred [[3.5272230e-04 2.0788160e-01 7.9176563e-01]]\n",
      "Prediction: COVID-19\n",
      "Confidence\n",
      "Normal: 0.000 Pneumonia: 0.208 Covid-19: 0.792\n",
      "Current img: 1-s2.0-S1684118220300372-gr1_lrg-a.png\n",
      "pred [[0.01643918 0.01906371 0.96449715]]\n",
      "Prediction: COVID-19\n",
      "Confidence\n",
      "Normal: 0.016 Pneumonia: 0.019 Covid-19: 0.964\n",
      "Current img: 1-s2.0-S1684118220300372-gr1_lrg-b.png\n",
      "pred [[0.03352207 0.95642036 0.01005754]]\n",
      "Prediction: pneumonia\n",
      "Confidence\n",
      "Normal: 0.034 Pneumonia: 0.956 Covid-19: 0.010\n"
     ]
    },
    {
     "name": "stderr",
     "output_type": "stream",
     "text": [
      "/opt/apps/apps/binapps/anaconda3/2019.07-numpy-fix/lib/python3.7/site-packages/ipykernel_launcher.py:196: RuntimeWarning: invalid value encountered in true_divide\n"
     ]
    },
    {
     "name": "stdout",
     "output_type": "stream",
     "text": [
      "Current img: 1-s2.0-S0085253820303616-gr1_lrg-a.png\n",
      "pred [[8.0496080e-05 9.9948537e-01 4.3401192e-04]]\n",
      "Prediction: pneumonia\n",
      "Confidence\n",
      "Normal: 0.000 Pneumonia: 0.999 Covid-19: 0.000\n",
      "Current img: 1-s2.0-S0085253820303616-gr1_lrg-b.png\n",
      "pred [[0.7491066  0.20134622 0.04954719]]\n",
      "Prediction: normal\n",
      "Confidence\n",
      "Normal: 0.749 Pneumonia: 0.201 Covid-19: 0.050\n",
      "Current img: 1-s2.0-S2387020620301959-gr4_lrg-a.png\n"
     ]
    },
    {
     "name": "stderr",
     "output_type": "stream",
     "text": [
      "/opt/apps/apps/binapps/anaconda3/2019.07-numpy-fix/lib/python3.7/site-packages/ipykernel_launcher.py:196: RuntimeWarning: invalid value encountered in true_divide\n"
     ]
    },
    {
     "name": "stdout",
     "output_type": "stream",
     "text": [
      "pred [[0.10496963 0.13369848 0.7613319 ]]\n",
      "Prediction: COVID-19\n",
      "Confidence\n",
      "Normal: 0.105 Pneumonia: 0.134 Covid-19: 0.761\n",
      "Current img: 1-s2.0-S2387020620301959-gr4_lrg-b.png\n",
      "pred [[1.5412779e-07 3.5290652e-06 9.9999630e-01]]\n",
      "Prediction: COVID-19\n",
      "Confidence\n",
      "Normal: 0.000 Pneumonia: 0.000 Covid-19: 1.000\n",
      "Current img: 1-s2.0-S2387020620301959-gr4_lrg-c.png\n",
      "pred [[1.1459507e-07 2.2488800e-04 9.9977499e-01]]\n",
      "Prediction: COVID-19\n",
      "Confidence\n",
      "Normal: 0.000 Pneumonia: 0.000 Covid-19: 1.000\n",
      "Current img: 1-s2.0-S2531043720300921-gr1.png\n",
      "pred [[0.00628184 0.08321721 0.91050094]]\n",
      "Prediction: COVID-19\n",
      "Confidence\n",
      "Normal: 0.006 Pneumonia: 0.083 Covid-19: 0.911\n",
      "Current img: fx1_lrg.jpg\n",
      "pred [[1.1330397e-05 3.1308348e-03 9.9685788e-01]]\n",
      "Prediction: COVID-19\n",
      "Confidence\n",
      "Normal: 0.000 Pneumonia: 0.003 Covid-19: 0.997\n",
      "Current img: gr2_lrg-a.png\n",
      "pred [[1.0722874e-02 9.8831290e-01 9.6418883e-04]]\n",
      "Prediction: pneumonia\n",
      "Confidence\n",
      "Normal: 0.011 Pneumonia: 0.988 Covid-19: 0.001\n",
      "Current img: gr2_lrg-b.png\n",
      "pred [[0.00243304 0.994334   0.00323305]]\n",
      "Prediction: pneumonia\n",
      "Confidence\n",
      "Normal: 0.002 Pneumonia: 0.994 Covid-19: 0.003\n",
      "Current img: gr2_lrg-c.png\n"
     ]
    },
    {
     "name": "stderr",
     "output_type": "stream",
     "text": [
      "/opt/apps/apps/binapps/anaconda3/2019.07-numpy-fix/lib/python3.7/site-packages/ipykernel_launcher.py:196: RuntimeWarning: invalid value encountered in true_divide\n"
     ]
    },
    {
     "name": "stdout",
     "output_type": "stream",
     "text": [
      "pred [[6.0190592e-04 9.9939811e-01 5.3221598e-08]]\n",
      "Prediction: pneumonia\n",
      "Confidence\n",
      "Normal: 0.001 Pneumonia: 0.999 Covid-19: 0.000\n",
      "Current img: 1-s2.0-S1059131120301151-gr2-e.png\n",
      "pred [[7.3001146e-01 2.6943579e-01 5.5266218e-04]]\n",
      "Prediction: normal\n",
      "Confidence\n",
      "Normal: 0.730 Pneumonia: 0.269 Covid-19: 0.001\n",
      "Current img: 1-s2.0-S1059131120301151-gr2-f.png\n",
      "pred [[0.87039375 0.12839368 0.00121251]]\n",
      "Prediction: normal\n",
      "Confidence\n",
      "Normal: 0.870 Pneumonia: 0.128 Covid-19: 0.001\n",
      "Current img: 41379_2020_536_Fig2_HTML-c1.png\n"
     ]
    },
    {
     "name": "stderr",
     "output_type": "stream",
     "text": [
      "/opt/apps/apps/binapps/anaconda3/2019.07-numpy-fix/lib/python3.7/site-packages/ipykernel_launcher.py:196: RuntimeWarning: invalid value encountered in true_divide\n"
     ]
    },
    {
     "name": "stdout",
     "output_type": "stream",
     "text": [
      "pred [[1.5010360e-04 9.8693591e-01 1.2913949e-02]]\n",
      "Prediction: pneumonia\n",
      "Confidence\n",
      "Normal: 0.000 Pneumonia: 0.987 Covid-19: 0.013\n",
      "Current img: 41379_2020_536_Fig2_HTML-c2.png\n",
      "pred [[0.00145664 0.70480585 0.2937375 ]]\n",
      "Prediction: pneumonia\n",
      "Confidence\n",
      "Normal: 0.001 Pneumonia: 0.705 Covid-19: 0.294\n",
      "Current img: afaa068f1.png\n",
      "pred [[8.401213e-08 3.276277e-04 9.996723e-01]]\n",
      "Prediction: COVID-19\n",
      "Confidence\n",
      "Normal: 0.000 Pneumonia: 0.000 Covid-19: 1.000\n",
      "Current img: 12941_2020_358_Fig1_HTML.jpg\n",
      "pred [[0.01206625 0.42431408 0.5636197 ]]\n",
      "Prediction: COVID-19\n",
      "Confidence\n",
      "Normal: 0.012 Pneumonia: 0.424 Covid-19: 0.564\n",
      "Current img: 40779_2020_233_Fig2_HTML-a.png\n",
      "pred [[1.8244214e-34 3.9296419e-17 1.0000000e+00]]\n",
      "Prediction: COVID-19\n",
      "Confidence\n",
      "Normal: 0.000 Pneumonia: 0.000 Covid-19: 1.000\n",
      "Current img: 41182_2020_203_Fig3_HTML.jpg\n",
      "pred [[6.3546554e-34 5.3391441e-35 1.0000000e+00]]\n",
      "Prediction: COVID-19\n",
      "Confidence\n",
      "Normal: 0.000 Pneumonia: 0.000 Covid-19: 1.000\n",
      "Current img: 41182_2020_203_Fig4_HTML.jpg\n",
      "pred [[1.2256497e-17 7.1845361e-16 1.0000000e+00]]\n",
      "Prediction: COVID-19\n",
      "Confidence\n",
      "Normal: 0.000 Pneumonia: 0.000 Covid-19: 1.000\n",
      "Current img: 41182_2020_203_Fig5_HTML.jpg\n",
      "pred [[6.9664279e-12 1.0847769e-09 1.0000000e+00]]\n",
      "Prediction: COVID-19\n",
      "Confidence\n",
      "Normal: 0.000 Pneumonia: 0.000 Covid-19: 1.000\n",
      "Current img: tpmd200203f2-a.png\n",
      "pred [[0. 0. 1.]]\n",
      "Prediction: COVID-19\n",
      "Confidence\n",
      "Normal: 0.000 Pneumonia: 0.000 Covid-19: 1.000\n"
     ]
    },
    {
     "name": "stderr",
     "output_type": "stream",
     "text": [
      "/opt/apps/apps/binapps/anaconda3/2019.07-numpy-fix/lib/python3.7/site-packages/ipykernel_launcher.py:196: RuntimeWarning: invalid value encountered in true_divide\n"
     ]
    },
    {
     "name": "stdout",
     "output_type": "stream",
     "text": [
      "Current img: tpmd200203f2-b.png\n",
      "pred [[0. 0. 1.]]\n",
      "Prediction: COVID-19\n",
      "Confidence\n",
      "Normal: 0.000 Pneumonia: 0.000 Covid-19: 1.000\n"
     ]
    },
    {
     "name": "stderr",
     "output_type": "stream",
     "text": [
      "/opt/apps/apps/binapps/anaconda3/2019.07-numpy-fix/lib/python3.7/site-packages/ipykernel_launcher.py:196: RuntimeWarning: invalid value encountered in true_divide\n"
     ]
    },
    {
     "name": "stdout",
     "output_type": "stream",
     "text": [
      "Current img: tpmd200203f2-c.png\n",
      "pred [[0. 0. 1.]]\n",
      "Prediction: COVID-19\n",
      "Confidence\n",
      "Normal: 0.000 Pneumonia: 0.000 Covid-19: 1.000\n"
     ]
    },
    {
     "name": "stderr",
     "output_type": "stream",
     "text": [
      "/opt/apps/apps/binapps/anaconda3/2019.07-numpy-fix/lib/python3.7/site-packages/ipykernel_launcher.py:196: RuntimeWarning: invalid value encountered in true_divide\n"
     ]
    },
    {
     "name": "stdout",
     "output_type": "stream",
     "text": [
      "Current img: BMJ-37-163-g1.jpg\n",
      "pred [[0.9442943  0.05409115 0.00161457]]\n",
      "Prediction: normal\n",
      "Confidence\n",
      "Normal: 0.944 Pneumonia: 0.054 Covid-19: 0.002\n",
      "Current img: thnov10p5641g006-c.png\n",
      "pred [[2.6639695e-05 3.1920034e-03 9.9678135e-01]]\n",
      "Prediction: COVID-19\n",
      "Confidence\n",
      "Normal: 0.000 Pneumonia: 0.003 Covid-19: 0.997\n",
      "Current img: lightbox_78f27a80685411ea93cde791fb7cd172-CXR.png\n",
      "pred [[0.01066957 0.98806816 0.00126219]]\n",
      "Prediction: pneumonia\n",
      "Confidence\n",
      "Normal: 0.011 Pneumonia: 0.988 Covid-19: 0.001\n"
     ]
    },
    {
     "name": "stderr",
     "output_type": "stream",
     "text": [
      "/opt/apps/apps/binapps/anaconda3/2019.07-numpy-fix/lib/python3.7/site-packages/ipykernel_launcher.py:196: RuntimeWarning: invalid value encountered in true_divide\n"
     ]
    },
    {
     "name": "stdout",
     "output_type": "stream",
     "text": [
      "Current img: article_river_e4d185c06e3511eaa2321d8ab357a1de-c1mn.png\n",
      "pred [[0. 0. 1.]]\n",
      "Prediction: COVID-19\n",
      "Confidence\n",
      "Normal: 0.000 Pneumonia: 0.000 Covid-19: 1.000\n"
     ]
    },
    {
     "name": "stderr",
     "output_type": "stream",
     "text": [
      "/opt/apps/apps/binapps/anaconda3/2019.07-numpy-fix/lib/python3.7/site-packages/ipykernel_launcher.py:196: RuntimeWarning: invalid value encountered in true_divide\n"
     ]
    },
    {
     "name": "stdout",
     "output_type": "stream",
     "text": [
      "Current img: article_river_c79329e06dff11eab69c95940c7c0d00-CXR-D1-COVID19.png\n",
      "pred [[0. 0. 1.]]\n",
      "Prediction: COVID-19\n",
      "Confidence\n",
      "Normal: 0.000 Pneumonia: 0.000 Covid-19: 1.000\n"
     ]
    },
    {
     "name": "stderr",
     "output_type": "stream",
     "text": [
      "/opt/apps/apps/binapps/anaconda3/2019.07-numpy-fix/lib/python3.7/site-packages/ipykernel_launcher.py:196: RuntimeWarning: invalid value encountered in true_divide\n"
     ]
    },
    {
     "name": "stdout",
     "output_type": "stream",
     "text": [
      "Current img: article_river_de7471906e0011eabe5f9363acaf45c4-covid-cxr-2.png\n",
      "pred [[0. 0. 1.]]\n",
      "Prediction: COVID-19\n",
      "Confidence\n",
      "Normal: 0.000 Pneumonia: 0.000 Covid-19: 1.000\n"
     ]
    },
    {
     "name": "stderr",
     "output_type": "stream",
     "text": [
      "/opt/apps/apps/binapps/anaconda3/2019.07-numpy-fix/lib/python3.7/site-packages/ipykernel_launcher.py:196: RuntimeWarning: invalid value encountered in true_divide\n"
     ]
    },
    {
     "name": "stdout",
     "output_type": "stream",
     "text": [
      "Current img: article_river_1a00a3c07ea311eab70491c6fb93d336-figure-2.png\n",
      "pred [[0.000000e+00 1.439278e-26 1.000000e+00]]\n",
      "Prediction: COVID-19\n",
      "Confidence\n",
      "Normal: 0.000 Pneumonia: 0.000 Covid-19: 1.000\n",
      "Current img: article_river_2a361d607ea311ea95dbcf0c95d13492-figure-4.png\n",
      "pred [[0. 0. 1.]]\n",
      "Prediction: COVID-19\n",
      "Confidence\n",
      "Normal: 0.000 Pneumonia: 0.000 Covid-19: 1.000\n"
     ]
    },
    {
     "name": "stderr",
     "output_type": "stream",
     "text": [
      "/opt/apps/apps/binapps/anaconda3/2019.07-numpy-fix/lib/python3.7/site-packages/ipykernel_launcher.py:196: RuntimeWarning: invalid value encountered in true_divide\n"
     ]
    },
    {
     "name": "stdout",
     "output_type": "stream",
     "text": [
      "Current img: 000001-24.jpg\n",
      "pred [[1.3077899e-06 9.9963450e-01 3.6418473e-04]]\n",
      "Prediction: pneumonia\n",
      "Confidence\n",
      "Normal: 0.000 Pneumonia: 1.000 Covid-19: 0.000\n",
      "Current img: 000006-17.jpg\n",
      "pred [[0.7822196  0.10821322 0.10956722]]\n",
      "Prediction: normal\n",
      "Confidence\n",
      "Normal: 0.782 Pneumonia: 0.108 Covid-19: 0.110\n",
      "Current img: 000007-15.jpg\n"
     ]
    },
    {
     "name": "stderr",
     "output_type": "stream",
     "text": [
      "/opt/apps/apps/binapps/anaconda3/2019.07-numpy-fix/lib/python3.7/site-packages/ipykernel_launcher.py:196: RuntimeWarning: invalid value encountered in true_divide\n"
     ]
    },
    {
     "name": "stdout",
     "output_type": "stream",
     "text": [
      "pred [[7.1598268e-05 5.5871580e-02 9.4405687e-01]]\n",
      "Prediction: COVID-19\n",
      "Confidence\n",
      "Normal: 0.000 Pneumonia: 0.056 Covid-19: 0.944\n",
      "Current img: 000001-27.jpg\n",
      "pred [[2.8399066e-03 9.9715352e-01 6.4807186e-06]]\n",
      "Prediction: pneumonia\n",
      "Confidence\n",
      "Normal: 0.003 Pneumonia: 0.997 Covid-19: 0.000\n",
      "Current img: 000002-29.jpg\n"
     ]
    },
    {
     "name": "stderr",
     "output_type": "stream",
     "text": [
      "/opt/apps/apps/binapps/anaconda3/2019.07-numpy-fix/lib/python3.7/site-packages/ipykernel_launcher.py:196: RuntimeWarning: invalid value encountered in true_divide\n"
     ]
    },
    {
     "name": "stdout",
     "output_type": "stream",
     "text": [
      "pred [[0.02559469 0.2079834  0.7664219 ]]\n",
      "Prediction: COVID-19\n",
      "Confidence\n",
      "Normal: 0.026 Pneumonia: 0.208 Covid-19: 0.766\n",
      "Current img: covid-19-caso-82-1-8.png\n",
      "pred [[2.3197697e-05 1.3570656e-03 9.9861979e-01]]\n",
      "Prediction: COVID-19\n",
      "Confidence\n",
      "Normal: 0.000 Pneumonia: 0.001 Covid-19: 0.999\n",
      "Current img: covid-19-caso-85-1-9.png\n",
      "pred [[0.00187649 0.21549115 0.7826324 ]]\n",
      "Prediction: COVID-19\n",
      "Confidence\n",
      "Normal: 0.002 Pneumonia: 0.215 Covid-19: 0.783\n",
      "Current img: covid-19-caso-85-4-6.png\n"
     ]
    },
    {
     "name": "stderr",
     "output_type": "stream",
     "text": [
      "/opt/apps/apps/binapps/anaconda3/2019.07-numpy-fix/lib/python3.7/site-packages/ipykernel_launcher.py:196: RuntimeWarning: invalid value encountered in true_divide\n"
     ]
    },
    {
     "name": "stdout",
     "output_type": "stream",
     "text": [
      "pred [[0.00251968 0.14125502 0.8562253 ]]\n",
      "Prediction: COVID-19\n",
      "Confidence\n",
      "Normal: 0.003 Pneumonia: 0.141 Covid-19: 0.856\n",
      "Current img: covid-19-caso-85-5-4.png\n",
      "pred [[0.00542755 0.11801847 0.876554  ]]\n",
      "Prediction: COVID-19\n",
      "Confidence\n",
      "Normal: 0.005 Pneumonia: 0.118 Covid-19: 0.877\n",
      "Current img: covid-19-caso-86-Rx-torace-1.jpg\n",
      "pred [[5.4322234e-05 1.0992880e-03 9.9884641e-01]]\n",
      "Prediction: COVID-19\n",
      "Confidence\n",
      "Normal: 0.000 Pneumonia: 0.001 Covid-19: 0.999\n",
      "Current img: covid-19-caso-86-RX-Torace-2.jpg\n",
      "pred [[6.8232526e-05 5.0310384e-02 9.4962144e-01]]\n",
      "Prediction: COVID-19\n",
      "Confidence\n",
      "Normal: 0.000 Pneumonia: 0.050 Covid-19: 0.950\n",
      "Current img: covid-19-caso-91-1-12.png\n",
      "pred [[0.9845836  0.00886742 0.00654902]]\n",
      "Prediction: normal\n",
      "Confidence\n",
      "Normal: 0.985 Pneumonia: 0.009 Covid-19: 0.007\n",
      "Current img: covid-19-caso-91-2-13.png\n",
      "pred [[0.00451419 0.03252912 0.9629566 ]]\n",
      "Prediction: COVID-19\n",
      "Confidence\n",
      "Normal: 0.005 Pneumonia: 0.033 Covid-19: 0.963\n",
      "Current img: covid-19-caso-94-1-14.png\n",
      "pred [[6.3524749e-07 3.7879076e-05 9.9996150e-01]]\n",
      "Prediction: COVID-19\n",
      "Confidence\n",
      "Normal: 0.000 Pneumonia: 0.000 Covid-19: 1.000\n",
      "Current img: covid-19-caso-95-1-15.png\n",
      "pred [[2.4734574e-11 1.4149842e-15 1.0000000e+00]]\n",
      "Prediction: COVID-19\n",
      "Confidence\n",
      "Normal: 0.000 Pneumonia: 0.000 Covid-19: 1.000\n",
      "Current img: covid-19-caso-95-2-16.png\n",
      "pred [[1.2910709e-19 8.1253060e-20 1.0000000e+00]]\n",
      "Prediction: COVID-19\n",
      "Confidence\n",
      "Normal: 0.000 Pneumonia: 0.000 Covid-19: 1.000\n",
      "Current img: covid-19-caso-95-3-14.png\n",
      "pred [[8.8642262e-12 1.4933138e-14 1.0000000e+00]]\n",
      "Prediction: COVID-19\n",
      "Confidence\n",
      "Normal: 0.000 Pneumonia: 0.000 Covid-19: 1.000\n",
      "Current img: covid-19-caso-95-4-12.png\n",
      "pred [[3.1195457e-23 1.2315237e-22 1.0000000e+00]]\n",
      "Prediction: COVID-19\n",
      "Confidence\n",
      "Normal: 0.000 Pneumonia: 0.000 Covid-19: 1.000\n",
      "Current img: covid-19-caso-99-1-19.png\n",
      "pred [[0.00323397 0.7448779  0.2518882 ]]\n",
      "Prediction: pneumonia\n",
      "Confidence\n",
      "Normal: 0.003 Pneumonia: 0.745 Covid-19: 0.252\n",
      "Current img: covid-19-caso-111-1-21.png\n",
      "pred [[2.9614154e-04 2.9689202e-01 7.0281190e-01]]\n",
      "Prediction: COVID-19\n",
      "Confidence\n",
      "Normal: 0.000 Pneumonia: 0.297 Covid-19: 0.703\n",
      "Current img: 08ed451c576ee00935ee178ec85c57_jumbo-1.jpeg\n",
      "pred [[5.24925554e-06 1.22946575e-02 9.87700105e-01]]\n",
      "Prediction: COVID-19\n",
      "Confidence\n",
      "Normal: 0.000 Pneumonia: 0.012 Covid-19: 0.988\n",
      "Current img: e73d6e89fcd781b8afd159cf533358_jumbo-1.jpeg\n",
      "pred [[3.2483865e-07 7.9822680e-04 9.9920148e-01]]\n",
      "Prediction: COVID-19\n",
      "Confidence\n",
      "Normal: 0.000 Pneumonia: 0.001 Covid-19: 0.999\n",
      "Current img: 1141cc2b8b9cc394becce5d978b5a7_jumbo.jpeg\n",
      "pred [[0.0189187  0.05919225 0.92188907]]\n",
      "Prediction: COVID-19\n",
      "Confidence\n",
      "Normal: 0.019 Pneumonia: 0.059 Covid-19: 0.922\n",
      "Current img: 6770dac454c45c86bc6c2d6193b177_jumbo.jpeg\n",
      "pred [[1.6380362e-07 8.0543739e-04 9.9919444e-01]]\n",
      "Prediction: COVID-19\n",
      "Confidence\n",
      "Normal: 0.000 Pneumonia: 0.001 Covid-19: 0.999\n",
      "Current img: 665f7ed5dcf52f235d8abed8cc200c_jumbo.jpeg\n",
      "pred [[0.8264518  0.01967334 0.1538749 ]]\n",
      "Prediction: normal\n",
      "Confidence\n",
      "Normal: 0.826 Pneumonia: 0.020 Covid-19: 0.154\n",
      "Current img: 071d06607edf81d70c940e043bce34_jumbo.jpeg\n",
      "pred [[2.4444742e-09 2.3427876e-06 9.9999762e-01]]\n",
      "Prediction: COVID-19\n",
      "Confidence\n",
      "Normal: 0.000 Pneumonia: 0.000 Covid-19: 1.000\n",
      "Current img: 0a6c60063b4bae4de001caaba306d1_jumbo.jpeg\n",
      "pred [[0.00651946 0.26854187 0.7249387 ]]\n",
      "Prediction: COVID-19\n",
      "Confidence\n",
      "Normal: 0.007 Pneumonia: 0.269 Covid-19: 0.725\n",
      "Current img: 5ed7d0109672bdd3d58a7db7841f6a_jumbo.jpeg\n",
      "pred [[6.3217530e-04 1.1395554e-02 9.8797232e-01]]\n",
      "Prediction: COVID-19\n",
      "Confidence\n",
      "Normal: 0.001 Pneumonia: 0.011 Covid-19: 0.988\n",
      "Current img: fedd6c94d5dbd12d88c81a1020a3e4_jumbo.jpeg\n",
      "pred [[0.01180822 0.00874906 0.9794428 ]]\n",
      "Prediction: COVID-19\n",
      "Confidence\n",
      "Normal: 0.012 Pneumonia: 0.009 Covid-19: 0.979\n",
      "Current img: 14d81f378173b86cc53f21d2d67040_jumbo.jpeg\n",
      "pred [[0.00306732 0.00805333 0.9888793 ]]\n",
      "Prediction: COVID-19\n",
      "Confidence\n",
      "Normal: 0.003 Pneumonia: 0.008 Covid-19: 0.989\n",
      "Current img: 3eaf15de91d4ff55e6fb0e04cadb81_jumbo.jpeg\n",
      "pred [[8.0615976e-09 1.5196518e-05 9.9998474e-01]]\n",
      "Prediction: COVID-19\n",
      "Confidence\n",
      "Normal: 0.000 Pneumonia: 0.000 Covid-19: 1.000\n",
      "Current img: a1fec23b293dfe7876660cb7acce43_jumbo.jpeg\n",
      "pred [[0.0677914  0.06480101 0.8674075 ]]\n",
      "Prediction: COVID-19\n",
      "Confidence\n",
      "Normal: 0.068 Pneumonia: 0.065 Covid-19: 0.867\n",
      "Current img: 78b60346d1b3bce85353b6dc462d75_jumbo.jpeg\n",
      "pred [[0.00407903 0.81440914 0.18151188]]\n",
      "Prediction: pneumonia\n",
      "Confidence\n",
      "Normal: 0.004 Pneumonia: 0.814 Covid-19: 0.182\n",
      "Current img: c17cdd3972b233b97770bb57f7bba6_jumbo.jpeg\n",
      "pred [[4.769331e-04 2.631503e-01 7.363727e-01]]\n",
      "Prediction: COVID-19\n",
      "Confidence\n",
      "Normal: 0.000 Pneumonia: 0.263 Covid-19: 0.736\n",
      "Current img: f44373474437c99b2740062c914438_jumbo.jpeg\n",
      "pred [[5.2435986e-05 5.1159608e-01 4.8835149e-01]]\n",
      "Prediction: pneumonia\n",
      "Confidence\n",
      "Normal: 0.000 Pneumonia: 0.512 Covid-19: 0.488\n",
      "Current img: a8ef731d274b273f1526d8d0ffbe3b_jumbo.jpeg\n",
      "pred [[0.05045177 0.29567194 0.6538762 ]]\n",
      "Prediction: COVID-19\n",
      "Confidence\n",
      "Normal: 0.050 Pneumonia: 0.296 Covid-19: 0.654\n",
      "Current img: b0f1684d1ee90dc09deef015e29dae_jumbo.jpeg\n"
     ]
    },
    {
     "name": "stderr",
     "output_type": "stream",
     "text": [
      "/opt/apps/apps/binapps/anaconda3/2019.07-numpy-fix/lib/python3.7/site-packages/ipykernel_launcher.py:196: RuntimeWarning: invalid value encountered in true_divide\n"
     ]
    },
    {
     "name": "stdout",
     "output_type": "stream",
     "text": [
      "pred [[0.65152013 0.34163344 0.0068465 ]]\n",
      "Prediction: normal\n",
      "Confidence\n",
      "Normal: 0.652 Pneumonia: 0.342 Covid-19: 0.007\n",
      "Current img: 3b66f98f30636b2e1fb42c1d0f18a8_jumbo.jpeg\n"
     ]
    },
    {
     "name": "stderr",
     "output_type": "stream",
     "text": [
      "/opt/apps/apps/binapps/anaconda3/2019.07-numpy-fix/lib/python3.7/site-packages/ipykernel_launcher.py:196: RuntimeWarning: invalid value encountered in true_divide\n"
     ]
    },
    {
     "name": "stdout",
     "output_type": "stream",
     "text": [
      "pred [[1.2006439e-08 1.0131101e-06 9.9999893e-01]]\n",
      "Prediction: COVID-19\n",
      "Confidence\n",
      "Normal: 0.000 Pneumonia: 0.000 Covid-19: 1.000\n",
      "Current img: 50e51fcefaa760d0757eeae6eb0858_jumbo.jpeg\n",
      "pred [[3.0123030e-05 9.2632027e-04 9.9904352e-01]]\n",
      "Prediction: COVID-19\n",
      "Confidence\n",
      "Normal: 0.000 Pneumonia: 0.001 Covid-19: 0.999\n",
      "Current img: 8eda8be6369c87e0899f6d1642e97b_jumbo.jpeg\n",
      "pred [[4.6008574e-07 9.5579788e-05 9.9990392e-01]]\n",
      "Prediction: COVID-19\n",
      "Confidence\n",
      "Normal: 0.000 Pneumonia: 0.000 Covid-19: 1.000\n",
      "Current img: 2d8a60a26381b256a5a6373708950e_jumbo.jpeg\n",
      "pred [[2.118308e-09 7.313594e-06 9.999927e-01]]\n",
      "Prediction: COVID-19\n",
      "Confidence\n",
      "Normal: 0.000 Pneumonia: 0.000 Covid-19: 1.000\n",
      "Current img: 2eadbbb367a0366d8c34350d083a83_jumbo.jpeg\n",
      "pred [[8.2888690e-10 1.0755076e-06 9.9999893e-01]]\n",
      "Prediction: COVID-19\n",
      "Confidence\n",
      "Normal: 0.000 Pneumonia: 0.000 Covid-19: 1.000\n",
      "Current img: 7867b1aa2d1241045c917f07a9e683_jumbo.jpeg\n",
      "pred [[3.38135777e-08 1.13652575e-04 9.99886274e-01]]\n",
      "Prediction: COVID-19\n",
      "Confidence\n",
      "Normal: 0.000 Pneumonia: 0.000 Covid-19: 1.000\n",
      "Current img: 5f8aaa4e85af075412849ebf8ebb54_jumbo-1.jpg\n",
      "pred [[5.0186612e-05 9.9916482e-01 7.8504765e-04]]\n",
      "Prediction: pneumonia\n",
      "Confidence\n",
      "Normal: 0.000 Pneumonia: 0.999 Covid-19: 0.001\n",
      "Current img: 13cd850b02d1afe48c113a73eed882_jumbo-1.jpg\n",
      "pred [[0.02974532 0.02506738 0.9451873 ]]\n",
      "Prediction: COVID-19\n",
      "Confidence\n",
      "Normal: 0.030 Pneumonia: 0.025 Covid-19: 0.945\n",
      "Current img: b50c02b92f2b98f5e1477ff759ce94_jumbo-1.jpg\n"
     ]
    },
    {
     "name": "stderr",
     "output_type": "stream",
     "text": [
      "/opt/apps/apps/binapps/anaconda3/2019.07-numpy-fix/lib/python3.7/site-packages/ipykernel_launcher.py:196: RuntimeWarning: invalid value encountered in true_divide\n"
     ]
    },
    {
     "name": "stdout",
     "output_type": "stream",
     "text": [
      "pred [[1.8429790e-05 2.3144174e-02 9.7683740e-01]]\n",
      "Prediction: COVID-19\n",
      "Confidence\n",
      "Normal: 0.000 Pneumonia: 0.023 Covid-19: 0.977\n",
      "Current img: 94c6945194a265ae1301bec234a7e0_jumbo-1.jpg\n",
      "pred [[0.82928187 0.15648279 0.0142354 ]]\n",
      "Prediction: normal\n",
      "Confidence\n",
      "Normal: 0.829 Pneumonia: 0.156 Covid-19: 0.014\n",
      "Current img: 52a8b6bf730b648d37b37d2aa51fd3_jumbo-1.jpg\n"
     ]
    },
    {
     "name": "stderr",
     "output_type": "stream",
     "text": [
      "/opt/apps/apps/binapps/anaconda3/2019.07-numpy-fix/lib/python3.7/site-packages/ipykernel_launcher.py:196: RuntimeWarning: invalid value encountered in true_divide\n"
     ]
    },
    {
     "name": "stdout",
     "output_type": "stream",
     "text": [
      "pred [[0.17844033 0.7406134  0.08094623]]\n",
      "Prediction: pneumonia\n",
      "Confidence\n",
      "Normal: 0.178 Pneumonia: 0.741 Covid-19: 0.081\n",
      "Current img: 4e1dc09c3abe03a3efb72d494ddb6f_jumbo-2.jpeg\n"
     ]
    },
    {
     "name": "stderr",
     "output_type": "stream",
     "text": [
      "/opt/apps/apps/binapps/anaconda3/2019.07-numpy-fix/lib/python3.7/site-packages/ipykernel_launcher.py:196: RuntimeWarning: invalid value encountered in true_divide\n"
     ]
    },
    {
     "name": "stdout",
     "output_type": "stream",
     "text": [
      "pred [[0.01540156 0.8182752  0.16632326]]\n",
      "Prediction: pneumonia\n",
      "Confidence\n",
      "Normal: 0.015 Pneumonia: 0.818 Covid-19: 0.166\n",
      "Current img: 9a4e0141fd7681c4026b55b4e13914_jumbo-2.jpeg\n",
      "pred [[0.00213101 0.5877273  0.41014174]]\n",
      "Prediction: pneumonia\n",
      "Confidence\n",
      "Normal: 0.002 Pneumonia: 0.588 Covid-19: 0.410\n",
      "Current img: 959dea122c905d6581f71b4a000bbb_jumbo-2.jpeg\n",
      "pred [[0.11953037 0.13275257 0.7477171 ]]\n",
      "Prediction: COVID-19\n",
      "Confidence\n",
      "Normal: 0.120 Pneumonia: 0.133 Covid-19: 0.748\n",
      "Current img: e9cc806fc1c90195d999dc8d022d28_jumbo-2.jpeg\n",
      "pred [[0.00203687 0.6200114  0.37795177]]\n",
      "Prediction: pneumonia\n",
      "Confidence\n",
      "Normal: 0.002 Pneumonia: 0.620 Covid-19: 0.378\n",
      "Current img: bb25b35e1cc5cb0984ead37363db0e_jumbo-2.jpeg\n",
      "pred [[0.10907348 0.28679094 0.60413563]]\n",
      "Prediction: COVID-19\n",
      "Confidence\n",
      "Normal: 0.109 Pneumonia: 0.287 Covid-19: 0.604\n",
      "Current img: f6ece95b172eadba762bf3daef7441_jumbo-1.jpeg\n"
     ]
    },
    {
     "name": "stderr",
     "output_type": "stream",
     "text": [
      "/opt/apps/apps/binapps/anaconda3/2019.07-numpy-fix/lib/python3.7/site-packages/ipykernel_launcher.py:196: RuntimeWarning: invalid value encountered in true_divide\n"
     ]
    },
    {
     "name": "stdout",
     "output_type": "stream",
     "text": [
      "pred [[1.4695146e-25 2.2865163e-24 1.0000000e+00]]\n",
      "Prediction: COVID-19\n",
      "Confidence\n",
      "Normal: 0.000 Pneumonia: 0.000 Covid-19: 1.000\n",
      "Current img: 582f068ae16494e015cf2b2ed90388_jumbo-1.jpeg\n",
      "pred [[6.500822e-04 3.040086e-02 9.689491e-01]]\n",
      "Prediction: COVID-19\n",
      "Confidence\n",
      "Normal: 0.001 Pneumonia: 0.030 Covid-19: 0.969\n",
      "Current img: 3d4364c0e44859e86017ee1660112e_jumbo-1.jpeg\n",
      "pred [[0.29752824 0.25618938 0.44628236]]\n",
      "Prediction: COVID-19\n",
      "Confidence\n",
      "Normal: 0.298 Pneumonia: 0.256 Covid-19: 0.446\n",
      "Current img: f7ea5303f5e3ea16bdd4fd93df84fb_jumbo-1.jpeg\n",
      "pred [[0.00265552 0.01483211 0.98251235]]\n",
      "Prediction: COVID-19\n",
      "Confidence\n",
      "Normal: 0.003 Pneumonia: 0.015 Covid-19: 0.983\n",
      "Current img: 487354e56da5b0363458d0297446f0_jumbo-1.jpeg\n",
      "pred [[0.19027479 0.49042788 0.31929728]]\n",
      "Prediction: pneumonia\n",
      "Confidence\n",
      "Normal: 0.190 Pneumonia: 0.490 Covid-19: 0.319\n",
      "Current img: 946b48f8564d681eb8950ea8a659e0_jumbo-1.jpeg\n"
     ]
    },
    {
     "name": "stderr",
     "output_type": "stream",
     "text": [
      "/opt/apps/apps/binapps/anaconda3/2019.07-numpy-fix/lib/python3.7/site-packages/ipykernel_launcher.py:196: RuntimeWarning: invalid value encountered in true_divide\n"
     ]
    },
    {
     "name": "stdout",
     "output_type": "stream",
     "text": [
      "pred [[0.00569093 0.5486432  0.44566584]]\n",
      "Prediction: pneumonia\n",
      "Confidence\n",
      "Normal: 0.006 Pneumonia: 0.549 Covid-19: 0.446\n",
      "Current img: f410057190635755d60158d1595d67_jumbo-1.jpeg\n"
     ]
    },
    {
     "name": "stderr",
     "output_type": "stream",
     "text": [
      "/opt/apps/apps/binapps/anaconda3/2019.07-numpy-fix/lib/python3.7/site-packages/ipykernel_launcher.py:196: RuntimeWarning: invalid value encountered in true_divide\n"
     ]
    },
    {
     "name": "stdout",
     "output_type": "stream",
     "text": [
      "pred [[0.12070215 0.8783555  0.00094236]]\n",
      "Prediction: pneumonia\n",
      "Confidence\n",
      "Normal: 0.121 Pneumonia: 0.878 Covid-19: 0.001\n",
      "Current img: ab63c1bdd7b06525e3537fa83e2a70_jumbo-1.jpeg\n",
      "pred [[3.5426714e-02 9.6454233e-01 3.0978576e-05]]\n",
      "Prediction: pneumonia\n",
      "Confidence\n",
      "Normal: 0.035 Pneumonia: 0.965 Covid-19: 0.000\n",
      "Current img: 56bc74129531580d3c40b1f8ae77ab_jumbo.jpeg\n"
     ]
    },
    {
     "name": "stderr",
     "output_type": "stream",
     "text": [
      "/opt/apps/apps/binapps/anaconda3/2019.07-numpy-fix/lib/python3.7/site-packages/ipykernel_launcher.py:196: RuntimeWarning: invalid value encountered in true_divide\n"
     ]
    },
    {
     "name": "stdout",
     "output_type": "stream",
     "text": [
      "pred [[0.9718086  0.02705666 0.00113475]]\n",
      "Prediction: normal\n",
      "Confidence\n",
      "Normal: 0.972 Pneumonia: 0.027 Covid-19: 0.001\n",
      "Current img: d84789f9ece74ea65e7ec2c4faaaf3_jumbo.jpeg\n",
      "pred [[5.2937507e-06 5.8924807e-03 9.9410218e-01]]\n",
      "Prediction: COVID-19\n",
      "Confidence\n",
      "Normal: 0.000 Pneumonia: 0.006 Covid-19: 0.994\n",
      "Current img: 981f82325fcc645a78a1732ab783f1_jumbo.jpeg\n",
      "pred [[0.09450369 0.11140008 0.79409623]]\n",
      "Prediction: COVID-19\n",
      "Confidence\n",
      "Normal: 0.095 Pneumonia: 0.111 Covid-19: 0.794\n",
      "Current img: 26eecee1e498237cc3ea3274b79ff0_jumbo.jpg\n",
      "pred [[1.1751067e-04 9.9643692e-04 9.9888605e-01]]\n",
      "Prediction: COVID-19\n",
      "Confidence\n",
      "Normal: 0.000 Pneumonia: 0.001 Covid-19: 0.999\n",
      "Current img: 21f0cfca1c3d5d11e9eb8f6c670f73_jumbo.jpg\n",
      "pred [[3.3929609e-04 4.3275718e-02 9.5638502e-01]]\n",
      "Prediction: COVID-19\n",
      "Confidence\n",
      "Normal: 0.000 Pneumonia: 0.043 Covid-19: 0.956\n",
      "Current img: b85b6449f7c3bfc841a973cca0ada7_jumbo.jpg\n",
      "pred [[1.8155076e-02 9.8182386e-01 2.1056498e-05]]\n",
      "Prediction: pneumonia\n",
      "Confidence\n",
      "Normal: 0.018 Pneumonia: 0.982 Covid-19: 0.000\n",
      "Current img: f72b17e863d0f958b65379b3669238_jumbo.jpg\n"
     ]
    },
    {
     "name": "stderr",
     "output_type": "stream",
     "text": [
      "/opt/apps/apps/binapps/anaconda3/2019.07-numpy-fix/lib/python3.7/site-packages/ipykernel_launcher.py:196: RuntimeWarning: invalid value encountered in true_divide\n"
     ]
    },
    {
     "name": "stdout",
     "output_type": "stream",
     "text": [
      "pred [[1.4895882e-04 3.1324741e-01 6.8660361e-01]]\n",
      "Prediction: COVID-19\n",
      "Confidence\n",
      "Normal: 0.000 Pneumonia: 0.313 Covid-19: 0.687\n",
      "Current img: 19876b357ac5c998a06d9614b6148a_jumbo.jpeg\n",
      "pred [[1.1410093e-04 4.0381342e-01 5.9607249e-01]]\n",
      "Prediction: COVID-19\n",
      "Confidence\n",
      "Normal: 0.000 Pneumonia: 0.404 Covid-19: 0.596\n",
      "Current img: 22ebbc464e16ea1217228e3c9f4935_jumbo.jpeg\n",
      "pred [[0.00364376 0.13582526 0.860531  ]]\n",
      "Prediction: COVID-19\n",
      "Confidence\n",
      "Normal: 0.004 Pneumonia: 0.136 Covid-19: 0.861\n",
      "Current img: b3bf8a2639dc735c8b5c9d75be18a7_jumbo.jpeg\n",
      "pred [[0.06887965 0.46999332 0.46112704]]\n",
      "Prediction: pneumonia\n",
      "Confidence\n",
      "Normal: 0.069 Pneumonia: 0.470 Covid-19: 0.461\n",
      "Current img: cdf5605e45874c28262c81b7ab80b3_jumbo.jpeg\n",
      "pred [[0.08253898 0.21568279 0.70177823]]\n",
      "Prediction: COVID-19\n",
      "Confidence\n",
      "Normal: 0.083 Pneumonia: 0.216 Covid-19: 0.702\n",
      "Current img: f5c69a3d9dcf2d5d4e54d0d080b666_jumbo.jpeg\n"
     ]
    },
    {
     "name": "stderr",
     "output_type": "stream",
     "text": [
      "/opt/apps/apps/binapps/anaconda3/2019.07-numpy-fix/lib/python3.7/site-packages/ipykernel_launcher.py:196: RuntimeWarning: invalid value encountered in true_divide\n"
     ]
    },
    {
     "name": "stdout",
     "output_type": "stream",
     "text": [
      "pred [[0.01798728 0.9642455  0.01776719]]\n",
      "Prediction: pneumonia\n",
      "Confidence\n",
      "Normal: 0.018 Pneumonia: 0.964 Covid-19: 0.018\n",
      "Current img: 82cb30b7678c6da229c6dc222c39c9_jumbo.jpeg\n",
      "pred [[1.6984025e-06 6.0714112e-04 9.9939120e-01]]\n",
      "Prediction: COVID-19\n",
      "Confidence\n",
      "Normal: 0.000 Pneumonia: 0.001 Covid-19: 0.999\n",
      "Current img: 84da526d0453b9b9e7896631e6b366_jumbo.jpeg\n",
      "pred [[4.0750642e-06 2.6442204e-03 9.9735177e-01]]\n",
      "Prediction: COVID-19\n",
      "Confidence\n",
      "Normal: 0.000 Pneumonia: 0.003 Covid-19: 0.997\n",
      "Current img: defc5c87e473bdaf4f57e4c4c22e3b_jumbo.jpeg\n",
      "pred [[2.3439537e-04 1.2473624e-03 9.9851829e-01]]\n",
      "Prediction: COVID-19\n",
      "Confidence\n",
      "Normal: 0.000 Pneumonia: 0.001 Covid-19: 0.999\n",
      "Current img: 503d2fbe68cd143b0f15749b4f816b_jumbo.jpeg\n",
      "pred [[0.0044759  0.7562626  0.23926142]]\n",
      "Prediction: pneumonia\n",
      "Confidence\n",
      "Normal: 0.004 Pneumonia: 0.756 Covid-19: 0.239\n",
      "Current img: a24181c437aca166f7aeccc62ba28a_jumbo.jpg\n"
     ]
    },
    {
     "name": "stderr",
     "output_type": "stream",
     "text": [
      "/opt/apps/apps/binapps/anaconda3/2019.07-numpy-fix/lib/python3.7/site-packages/ipykernel_launcher.py:196: RuntimeWarning: invalid value encountered in true_divide\n"
     ]
    },
    {
     "name": "stdout",
     "output_type": "stream",
     "text": [
      "pred [[8.9397319e-05 7.8844614e-02 9.2106593e-01]]\n",
      "Prediction: COVID-19\n",
      "Confidence\n",
      "Normal: 0.000 Pneumonia: 0.079 Covid-19: 0.921\n",
      "Current img: 0b1cb8905fd8839a001d7a707f0c3f_jumbo.jpg\n",
      "pred [[0.03667332 0.74936426 0.21396247]]\n",
      "Prediction: pneumonia\n",
      "Confidence\n",
      "Normal: 0.037 Pneumonia: 0.749 Covid-19: 0.214\n",
      "Current img: 1e64990d1b40c1758a2aaa9c7f7a85_jumbo.jpeg\n"
     ]
    },
    {
     "name": "stderr",
     "output_type": "stream",
     "text": [
      "/opt/apps/apps/binapps/anaconda3/2019.07-numpy-fix/lib/python3.7/site-packages/ipykernel_launcher.py:196: RuntimeWarning: invalid value encountered in true_divide\n"
     ]
    },
    {
     "name": "stdout",
     "output_type": "stream",
     "text": [
      "pred [[5.6534546e-04 9.4554877e-01 5.3885791e-02]]\n",
      "Prediction: pneumonia\n",
      "Confidence\n",
      "Normal: 0.001 Pneumonia: 0.946 Covid-19: 0.054\n",
      "Current img: 7223b8ad031187d9a142d7f7ca02c9_jumbo.jpeg\n",
      "pred [[1.5534144e-06 1.0516744e-04 9.9989331e-01]]\n",
      "Prediction: COVID-19\n",
      "Confidence\n",
      "Normal: 0.000 Pneumonia: 0.000 Covid-19: 1.000\n",
      "Current img: 3392dc7d262e28423caca517f98c2e_jumbo.jpeg\n",
      "pred [[0.00113514 0.06116439 0.93770045]]\n",
      "Prediction: COVID-19\n",
      "Confidence\n",
      "Normal: 0.001 Pneumonia: 0.061 Covid-19: 0.938\n",
      "Current img: 83cfee622ebe92fd5c14ce5b4da35e_jumbo.jpeg\n",
      "pred [[0.00573567 0.00628932 0.987975  ]]\n",
      "Prediction: COVID-19\n",
      "Confidence\n",
      "Normal: 0.006 Pneumonia: 0.006 Covid-19: 0.988\n",
      "Current img: ec3a480c0926ded74429df416cfb05_jumbo.jpeg\n",
      "pred [[0.00646019 0.12228141 0.8712584 ]]\n",
      "Prediction: COVID-19\n",
      "Confidence\n",
      "Normal: 0.006 Pneumonia: 0.122 Covid-19: 0.871\n",
      "Current img: 076d9f1ab85d17bcf0f4f207891974_jumbo.jpg\n",
      "pred [[4.7775634e-04 2.7887594e-02 9.7163469e-01]]\n",
      "Prediction: COVID-19\n",
      "Confidence\n",
      "Normal: 0.000 Pneumonia: 0.028 Covid-19: 0.972\n",
      "Current img: a72aeb349a63c79ed24e473c434efe_jumbo.jpg\n",
      "pred [[1.2365793e-01 8.7633890e-01 3.1672953e-06]]\n",
      "Prediction: pneumonia\n",
      "Confidence\n",
      "Normal: 0.124 Pneumonia: 0.876 Covid-19: 0.000\n",
      "Current img: c98c6fce880dbec0d1eb3045cec103_jumbo.jpg\n",
      "pred [[0.18524796 0.5531243  0.26162776]]\n",
      "Prediction: pneumonia\n",
      "Confidence\n",
      "Normal: 0.185 Pneumonia: 0.553 Covid-19: 0.262\n",
      "Current img: ba45a47c3ef5060ec39891046be7ca_jumbo.jpg\n"
     ]
    },
    {
     "name": "stderr",
     "output_type": "stream",
     "text": [
      "/opt/apps/apps/binapps/anaconda3/2019.07-numpy-fix/lib/python3.7/site-packages/ipykernel_launcher.py:196: RuntimeWarning: invalid value encountered in true_divide\n"
     ]
    },
    {
     "name": "stdout",
     "output_type": "stream",
     "text": [
      "pred [[9.9951422e-01 4.8583845e-04 2.6123148e-10]]\n",
      "Prediction: normal\n",
      "Confidence\n",
      "Normal: 1.000 Pneumonia: 0.000 Covid-19: 0.000\n",
      "Current img: 65a95c1d86c9a79e3bf88d654c517c_jumbo.jpg\n",
      "pred [[0.03114722 0.06406896 0.9047838 ]]\n",
      "Prediction: COVID-19\n",
      "Confidence\n",
      "Normal: 0.031 Pneumonia: 0.064 Covid-19: 0.905\n",
      "Current img: 6f36c4ad54047bc52b38fd8c9d1e22_jumbo.jpg\n",
      "pred [[0.08321096 0.54194826 0.37484077]]\n",
      "Prediction: pneumonia\n",
      "Confidence\n",
      "Normal: 0.083 Pneumonia: 0.542 Covid-19: 0.375\n",
      "Current img: a459fb990719792f31ae2ece5665e6_jumbo.jpg\n"
     ]
    },
    {
     "name": "stderr",
     "output_type": "stream",
     "text": [
      "/opt/apps/apps/binapps/anaconda3/2019.07-numpy-fix/lib/python3.7/site-packages/ipykernel_launcher.py:196: RuntimeWarning: invalid value encountered in true_divide\n"
     ]
    },
    {
     "name": "stdout",
     "output_type": "stream",
     "text": [
      "pred [[0.17673726 0.32837632 0.49488643]]\n",
      "Prediction: COVID-19\n",
      "Confidence\n",
      "Normal: 0.177 Pneumonia: 0.328 Covid-19: 0.495\n",
      "Current img: 621f53af15cf08e6e13cb6812eead9_jumbo.jpg\n",
      "pred [[0.87582755 0.12317097 0.00100144]]\n",
      "Prediction: normal\n",
      "Confidence\n",
      "Normal: 0.876 Pneumonia: 0.123 Covid-19: 0.001\n",
      "Current img: facc859f173d0ae052a1a52997c6b5_jumbo.jpg\n",
      "pred [[0.00883382 0.03706999 0.95409614]]\n",
      "Prediction: COVID-19\n",
      "Confidence\n",
      "Normal: 0.009 Pneumonia: 0.037 Covid-19: 0.954\n",
      "Current img: 6646071b.jpg\n",
      "pred [[0.02356802 0.42091292 0.55551904]]\n",
      "Prediction: COVID-19\n",
      "Confidence\n",
      "Normal: 0.024 Pneumonia: 0.421 Covid-19: 0.556\n"
     ]
    },
    {
     "name": "stderr",
     "output_type": "stream",
     "text": [
      "/opt/apps/apps/binapps/anaconda3/2019.07-numpy-fix/lib/python3.7/site-packages/ipykernel_launcher.py:196: RuntimeWarning: invalid value encountered in true_divide\n"
     ]
    },
    {
     "name": "stdout",
     "output_type": "stream",
     "text": [
      "Current img: 5359825d.jpg\n",
      "pred [[0.02669631 0.8698977  0.10340598]]\n",
      "Prediction: pneumonia\n",
      "Confidence\n",
      "Normal: 0.027 Pneumonia: 0.870 Covid-19: 0.103\n"
     ]
    },
    {
     "name": "stderr",
     "output_type": "stream",
     "text": [
      "/opt/apps/apps/binapps/anaconda3/2019.07-numpy-fix/lib/python3.7/site-packages/ipykernel_launcher.py:196: RuntimeWarning: invalid value encountered in true_divide\n"
     ]
    },
    {
     "name": "stdout",
     "output_type": "stream",
     "text": [
      "Current img: 0cd9fcb6.jpg\n",
      "pred [[0.00621565 0.99032646 0.00345792]]\n",
      "Prediction: pneumonia\n",
      "Confidence\n",
      "Normal: 0.006 Pneumonia: 0.990 Covid-19: 0.003\n"
     ]
    },
    {
     "name": "stderr",
     "output_type": "stream",
     "text": [
      "/opt/apps/apps/binapps/anaconda3/2019.07-numpy-fix/lib/python3.7/site-packages/ipykernel_launcher.py:196: RuntimeWarning: invalid value encountered in true_divide\n"
     ]
    },
    {
     "name": "stdout",
     "output_type": "stream",
     "text": [
      "Current img: ce09cfab.jpg\n",
      "pred [[0.12603815 0.86649334 0.00746844]]\n",
      "Prediction: pneumonia\n",
      "Confidence\n",
      "Normal: 0.126 Pneumonia: 0.866 Covid-19: 0.007\n"
     ]
    },
    {
     "name": "stderr",
     "output_type": "stream",
     "text": [
      "/opt/apps/apps/binapps/anaconda3/2019.07-numpy-fix/lib/python3.7/site-packages/ipykernel_launcher.py:196: RuntimeWarning: invalid value encountered in true_divide\n"
     ]
    },
    {
     "name": "stdout",
     "output_type": "stream",
     "text": [
      "Current img: b0500187.jpg\n",
      "pred [[0.15276283 0.72792155 0.11931562]]\n",
      "Prediction: pneumonia\n",
      "Confidence\n",
      "Normal: 0.153 Pneumonia: 0.728 Covid-19: 0.119\n"
     ]
    },
    {
     "name": "stderr",
     "output_type": "stream",
     "text": [
      "/opt/apps/apps/binapps/anaconda3/2019.07-numpy-fix/lib/python3.7/site-packages/ipykernel_launcher.py:196: RuntimeWarning: invalid value encountered in true_divide\n"
     ]
    },
    {
     "name": "stdout",
     "output_type": "stream",
     "text": [
      "Current img: 40f355ec.jpg\n",
      "pred [[0.07710547 0.6211558  0.30173868]]\n",
      "Prediction: pneumonia\n",
      "Confidence\n",
      "Normal: 0.077 Pneumonia: 0.621 Covid-19: 0.302\n"
     ]
    },
    {
     "name": "stderr",
     "output_type": "stream",
     "text": [
      "/opt/apps/apps/binapps/anaconda3/2019.07-numpy-fix/lib/python3.7/site-packages/ipykernel_launcher.py:196: RuntimeWarning: invalid value encountered in true_divide\n"
     ]
    },
    {
     "name": "stdout",
     "output_type": "stream",
     "text": [
      "Current img: e6eaadf0.jpg\n",
      "pred [[0.00433681 0.21398394 0.7816793 ]]\n",
      "Prediction: COVID-19\n",
      "Confidence\n",
      "Normal: 0.004 Pneumonia: 0.214 Covid-19: 0.782\n"
     ]
    },
    {
     "name": "stderr",
     "output_type": "stream",
     "text": [
      "/opt/apps/apps/binapps/anaconda3/2019.07-numpy-fix/lib/python3.7/site-packages/ipykernel_launcher.py:196: RuntimeWarning: invalid value encountered in true_divide\n"
     ]
    },
    {
     "name": "stdout",
     "output_type": "stream",
     "text": [
      "Current img: 34d999a9.jpg\n",
      "pred [[0.01118548 0.46673805 0.5220765 ]]\n",
      "Prediction: COVID-19\n",
      "Confidence\n",
      "Normal: 0.011 Pneumonia: 0.467 Covid-19: 0.522\n"
     ]
    },
    {
     "name": "stderr",
     "output_type": "stream",
     "text": [
      "/opt/apps/apps/binapps/anaconda3/2019.07-numpy-fix/lib/python3.7/site-packages/ipykernel_launcher.py:196: RuntimeWarning: invalid value encountered in true_divide\n"
     ]
    },
    {
     "name": "stdout",
     "output_type": "stream",
     "text": [
      "Current img: fbb18dc0.jpg\n",
      "pred [[1.8479002e-05 1.3375224e-02 9.8660630e-01]]\n",
      "Prediction: COVID-19\n",
      "Confidence\n",
      "Normal: 0.000 Pneumonia: 0.013 Covid-19: 0.987\n",
      "Current img: 54d57e77.jpg\n",
      "pred [[0.01237142 0.12137072 0.86625785]]\n",
      "Prediction: COVID-19\n",
      "Confidence\n",
      "Normal: 0.012 Pneumonia: 0.121 Covid-19: 0.866\n",
      "Current img: a7e0a141.jpg\n",
      "pred [[0.01468428 0.13871956 0.8465961 ]]\n",
      "Prediction: COVID-19\n",
      "Confidence\n",
      "Normal: 0.015 Pneumonia: 0.139 Covid-19: 0.847\n",
      "Current img: d806f9a1.jpg\n",
      "pred [[0.04948625 0.2147478  0.73576593]]\n",
      "Prediction: COVID-19\n",
      "Confidence\n",
      "Normal: 0.049 Pneumonia: 0.215 Covid-19: 0.736\n"
     ]
    },
    {
     "name": "stderr",
     "output_type": "stream",
     "text": [
      "/opt/apps/apps/binapps/anaconda3/2019.07-numpy-fix/lib/python3.7/site-packages/ipykernel_launcher.py:196: RuntimeWarning: invalid value encountered in true_divide\n"
     ]
    },
    {
     "name": "stdout",
     "output_type": "stream",
     "text": [
      "Current img: 19a01707.jpg\n",
      "pred [[0.1384637  0.7803463  0.08119008]]\n",
      "Prediction: pneumonia\n",
      "Confidence\n",
      "Normal: 0.138 Pneumonia: 0.780 Covid-19: 0.081\n"
     ]
    },
    {
     "name": "stderr",
     "output_type": "stream",
     "text": [
      "/opt/apps/apps/binapps/anaconda3/2019.07-numpy-fix/lib/python3.7/site-packages/ipykernel_launcher.py:196: RuntimeWarning: invalid value encountered in true_divide\n"
     ]
    },
    {
     "name": "stdout",
     "output_type": "stream",
     "text": [
      "Current img: bf551b8b.jpg\n",
      "pred [[0.00536812 0.3512645  0.6433674 ]]\n",
      "Prediction: COVID-19\n",
      "Confidence\n",
      "Normal: 0.005 Pneumonia: 0.351 Covid-19: 0.643\n",
      "Current img: 1e534853.jpg\n",
      "pred [[0.00609159 0.343222   0.6506864 ]]\n",
      "Prediction: COVID-19\n",
      "Confidence\n",
      "Normal: 0.006 Pneumonia: 0.343 Covid-19: 0.651\n"
     ]
    },
    {
     "name": "stderr",
     "output_type": "stream",
     "text": [
      "/opt/apps/apps/binapps/anaconda3/2019.07-numpy-fix/lib/python3.7/site-packages/ipykernel_launcher.py:196: RuntimeWarning: invalid value encountered in true_divide\n"
     ]
    },
    {
     "name": "stdout",
     "output_type": "stream",
     "text": [
      "Current img: aa9655de.jpg\n",
      "pred [[0.00374822 0.07266027 0.92359155]]\n",
      "Prediction: COVID-19\n",
      "Confidence\n",
      "Normal: 0.004 Pneumonia: 0.073 Covid-19: 0.924\n",
      "Current img: 073a8f93.jpg\n",
      "pred [[0.01825941 0.9705108  0.0112298 ]]\n",
      "Prediction: pneumonia\n",
      "Confidence\n",
      "Normal: 0.018 Pneumonia: 0.971 Covid-19: 0.011\n"
     ]
    },
    {
     "name": "stderr",
     "output_type": "stream",
     "text": [
      "/opt/apps/apps/binapps/anaconda3/2019.07-numpy-fix/lib/python3.7/site-packages/ipykernel_launcher.py:196: RuntimeWarning: invalid value encountered in true_divide\n"
     ]
    },
    {
     "name": "stdout",
     "output_type": "stream",
     "text": [
      "Current img: 7a9ec606.jpg\n",
      "pred [[0.00884131 0.97541475 0.01574383]]\n",
      "Prediction: pneumonia\n",
      "Confidence\n",
      "Normal: 0.009 Pneumonia: 0.975 Covid-19: 0.016\n"
     ]
    },
    {
     "name": "stderr",
     "output_type": "stream",
     "text": [
      "/opt/apps/apps/binapps/anaconda3/2019.07-numpy-fix/lib/python3.7/site-packages/ipykernel_launcher.py:196: RuntimeWarning: invalid value encountered in true_divide\n"
     ]
    },
    {
     "name": "stdout",
     "output_type": "stream",
     "text": [
      "Current img: 88859dc1.jpg\n",
      "pred [[0.20200564 0.07114661 0.72684777]]\n",
      "Prediction: COVID-19\n",
      "Confidence\n",
      "Normal: 0.202 Pneumonia: 0.071 Covid-19: 0.727\n"
     ]
    },
    {
     "name": "stderr",
     "output_type": "stream",
     "text": [
      "/opt/apps/apps/binapps/anaconda3/2019.07-numpy-fix/lib/python3.7/site-packages/ipykernel_launcher.py:196: RuntimeWarning: invalid value encountered in true_divide\n"
     ]
    },
    {
     "name": "stdout",
     "output_type": "stream",
     "text": [
      "Current img: 3a81faf3.jpg\n",
      "pred [[0.36212572 0.57810545 0.0597689 ]]\n",
      "Prediction: pneumonia\n",
      "Confidence\n",
      "Normal: 0.362 Pneumonia: 0.578 Covid-19: 0.060\n",
      "Current img: bcb814aa.jpg\n",
      "pred [[0.25294653 0.7395323  0.00752117]]\n",
      "Prediction: pneumonia\n",
      "Confidence\n",
      "Normal: 0.253 Pneumonia: 0.740 Covid-19: 0.008\n",
      "Current img: 76093afc.jpg\n",
      "pred [[1.0885642e-04 8.5684821e-02 9.1420633e-01]]\n",
      "Prediction: COVID-19\n",
      "Confidence\n",
      "Normal: 0.000 Pneumonia: 0.086 Covid-19: 0.914\n",
      "Current img: 000012.jpg\n",
      "pred [[0. 0. 1.]]\n",
      "Prediction: COVID-19\n",
      "Confidence\n",
      "Normal: 0.000 Pneumonia: 0.000 Covid-19: 1.000\n",
      "Current img: 16755_1_1.jpg\n"
     ]
    },
    {
     "name": "stderr",
     "output_type": "stream",
     "text": [
      "/opt/apps/apps/binapps/anaconda3/2019.07-numpy-fix/lib/python3.7/site-packages/ipykernel_launcher.py:196: RuntimeWarning: invalid value encountered in true_divide\n"
     ]
    },
    {
     "name": "stdout",
     "output_type": "stream",
     "text": [
      "pred [[0.00333198 0.02734467 0.9693234 ]]\n",
      "Prediction: COVID-19\n",
      "Confidence\n",
      "Normal: 0.003 Pneumonia: 0.027 Covid-19: 0.969\n",
      "Current img: 16755_3_1.jpg\n",
      "pred [[0.00089726 0.65241927 0.34668344]]\n",
      "Prediction: pneumonia\n",
      "Confidence\n",
      "Normal: 0.001 Pneumonia: 0.652 Covid-19: 0.347\n",
      "Current img: 000001-1.jpg\n",
      "pred [[0.00108953 0.38860878 0.61030173]]\n",
      "Prediction: COVID-19\n",
      "Confidence\n",
      "Normal: 0.001 Pneumonia: 0.389 Covid-19: 0.610\n",
      "Current img: 000002.jpg\n",
      "pred [[0.0057712  0.06723356 0.9269952 ]]\n",
      "Prediction: COVID-19\n",
      "Confidence\n",
      "Normal: 0.006 Pneumonia: 0.067 Covid-19: 0.927\n",
      "Current img: 000004.jpg\n",
      "pred [[2.5334482e-06 1.2811360e-02 9.8718613e-01]]\n",
      "Prediction: COVID-19\n",
      "Confidence\n",
      "Normal: 0.000 Pneumonia: 0.013 Covid-19: 0.987\n",
      "Current img: 000005.jpg\n",
      "pred [[6.4962423e-06 9.7101855e-01 2.8974941e-02]]\n",
      "Prediction: pneumonia\n",
      "Confidence\n",
      "Normal: 0.000 Pneumonia: 0.971 Covid-19: 0.029\n",
      "Current img: 000003.jpg\n",
      "pred [[3.8573713e-04 1.3872822e-01 8.6088604e-01]]\n",
      "Prediction: COVID-19\n",
      "Confidence\n",
      "Normal: 0.000 Pneumonia: 0.139 Covid-19: 0.861\n",
      "Current img: 000001-3.jpg\n",
      "pred [[0.05694062 0.012309   0.9307503 ]]\n",
      "Prediction: COVID-19\n",
      "Confidence\n",
      "Normal: 0.057 Pneumonia: 0.012 Covid-19: 0.931\n",
      "Current img: 000002-1.jpg\n",
      "pred [[0.39684904 0.51051146 0.09263954]]\n",
      "Prediction: pneumonia\n",
      "Confidence\n",
      "Normal: 0.397 Pneumonia: 0.511 Covid-19: 0.093\n",
      "Current img: 000003-1.jpg\n",
      "pred [[0.6959593  0.2592529  0.04478774]]\n",
      "Prediction: normal\n",
      "Confidence\n",
      "Normal: 0.696 Pneumonia: 0.259 Covid-19: 0.045\n",
      "Current img: 000004-1.jpg\n"
     ]
    },
    {
     "name": "stderr",
     "output_type": "stream",
     "text": [
      "/opt/apps/apps/binapps/anaconda3/2019.07-numpy-fix/lib/python3.7/site-packages/ipykernel_launcher.py:196: RuntimeWarning: invalid value encountered in true_divide\n"
     ]
    },
    {
     "name": "stdout",
     "output_type": "stream",
     "text": [
      "pred [[0.02412574 0.19058204 0.78529227]]\n",
      "Prediction: COVID-19\n",
      "Confidence\n",
      "Normal: 0.024 Pneumonia: 0.191 Covid-19: 0.785\n",
      "Current img: 000003-2.jpg\n",
      "pred [[0.00635193 0.3056198  0.6880283 ]]\n",
      "Prediction: COVID-19\n",
      "Confidence\n",
      "Normal: 0.006 Pneumonia: 0.306 Covid-19: 0.688\n",
      "Current img: 000001-4.jpg\n",
      "pred [[3.1300175e-08 1.0000000e+00 1.2836963e-09]]\n",
      "Prediction: pneumonia\n",
      "Confidence\n",
      "Normal: 0.000 Pneumonia: 1.000 Covid-19: 0.000\n",
      "Current img: 000002-3.jpg\n",
      "pred [[1.3041314e-04 1.8823245e-01 8.1163710e-01]]\n",
      "Prediction: COVID-19\n",
      "Confidence\n",
      "Normal: 0.000 Pneumonia: 0.188 Covid-19: 0.812\n",
      "Current img: 000003-3.jpg\n",
      "pred [[1.3061803e-05 1.3043803e-02 9.8694313e-01]]\n",
      "Prediction: COVID-19\n",
      "Confidence\n",
      "Normal: 0.000 Pneumonia: 0.013 Covid-19: 0.987\n",
      "Current img: 000001-6.jpg\n",
      "pred [[0.5554214  0.10665317 0.3379254 ]]\n",
      "Prediction: normal\n",
      "Confidence\n",
      "Normal: 0.555 Pneumonia: 0.107 Covid-19: 0.338\n",
      "Current img: 000002-4.jpg\n"
     ]
    },
    {
     "name": "stderr",
     "output_type": "stream",
     "text": [
      "/opt/apps/apps/binapps/anaconda3/2019.07-numpy-fix/lib/python3.7/site-packages/ipykernel_launcher.py:196: RuntimeWarning: invalid value encountered in true_divide\n"
     ]
    },
    {
     "name": "stdout",
     "output_type": "stream",
     "text": [
      "pred [[2.1460228e-05 9.9963224e-01 3.4624682e-04]]\n",
      "Prediction: pneumonia\n",
      "Confidence\n",
      "Normal: 0.000 Pneumonia: 1.000 Covid-19: 0.000\n",
      "Current img: 000001-7.jpg\n",
      "pred [[0.76843995 0.20273732 0.02882272]]\n",
      "Prediction: normal\n",
      "Confidence\n",
      "Normal: 0.768 Pneumonia: 0.203 Covid-19: 0.029\n",
      "Current img: 000003-4.jpg\n"
     ]
    },
    {
     "name": "stderr",
     "output_type": "stream",
     "text": [
      "/opt/apps/apps/binapps/anaconda3/2019.07-numpy-fix/lib/python3.7/site-packages/ipykernel_launcher.py:196: RuntimeWarning: invalid value encountered in true_divide\n"
     ]
    },
    {
     "name": "stdout",
     "output_type": "stream",
     "text": [
      "pred [[0.06875791 0.8840052  0.04723692]]\n",
      "Prediction: pneumonia\n",
      "Confidence\n",
      "Normal: 0.069 Pneumonia: 0.884 Covid-19: 0.047\n",
      "Current img: 000001-8.jpg\n"
     ]
    },
    {
     "name": "stderr",
     "output_type": "stream",
     "text": [
      "/opt/apps/apps/binapps/anaconda3/2019.07-numpy-fix/lib/python3.7/site-packages/ipykernel_launcher.py:196: RuntimeWarning: invalid value encountered in true_divide\n"
     ]
    },
    {
     "name": "stdout",
     "output_type": "stream",
     "text": [
      "pred [[9.8832256e-01 1.1677314e-02 1.3949393e-07]]\n",
      "Prediction: normal\n",
      "Confidence\n",
      "Normal: 0.988 Pneumonia: 0.012 Covid-19: 0.000\n",
      "Current img: 000002-5.jpg\n"
     ]
    },
    {
     "name": "stderr",
     "output_type": "stream",
     "text": [
      "/opt/apps/apps/binapps/anaconda3/2019.07-numpy-fix/lib/python3.7/site-packages/ipykernel_launcher.py:196: RuntimeWarning: invalid value encountered in true_divide\n"
     ]
    },
    {
     "name": "stdout",
     "output_type": "stream",
     "text": [
      "pred [[0.8011188  0.1256176  0.07326367]]\n",
      "Prediction: normal\n",
      "Confidence\n",
      "Normal: 0.801 Pneumonia: 0.126 Covid-19: 0.073\n",
      "Current img: 000001-9.jpg\n"
     ]
    },
    {
     "name": "stderr",
     "output_type": "stream",
     "text": [
      "/opt/apps/apps/binapps/anaconda3/2019.07-numpy-fix/lib/python3.7/site-packages/ipykernel_launcher.py:196: RuntimeWarning: invalid value encountered in true_divide\n"
     ]
    },
    {
     "name": "stdout",
     "output_type": "stream",
     "text": [
      "pred [[4.5763946e-01 5.4203910e-01 3.2148763e-04]]\n",
      "Prediction: pneumonia\n",
      "Confidence\n",
      "Normal: 0.458 Pneumonia: 0.542 Covid-19: 0.000\n",
      "Current img: 000001-10.jpg\n"
     ]
    },
    {
     "name": "stderr",
     "output_type": "stream",
     "text": [
      "/opt/apps/apps/binapps/anaconda3/2019.07-numpy-fix/lib/python3.7/site-packages/ipykernel_launcher.py:196: RuntimeWarning: invalid value encountered in true_divide\n"
     ]
    },
    {
     "name": "stdout",
     "output_type": "stream",
     "text": [
      "pred [[0.06799736 0.03086704 0.90113556]]\n",
      "Prediction: COVID-19\n",
      "Confidence\n",
      "Normal: 0.068 Pneumonia: 0.031 Covid-19: 0.901\n",
      "Current img: 000001-11.jpg\n",
      "pred [[0.36396238 0.06558405 0.5704536 ]]\n",
      "Prediction: COVID-19\n",
      "Confidence\n",
      "Normal: 0.364 Pneumonia: 0.066 Covid-19: 0.570\n",
      "Current img: 000001-13.jpg\n",
      "pred [[0.09989838 0.12249247 0.77760917]]\n",
      "Prediction: COVID-19\n",
      "Confidence\n",
      "Normal: 0.100 Pneumonia: 0.122 Covid-19: 0.778\n",
      "Current img: 000004.png\n",
      "pred [[0.03808686 0.9583431  0.0035701 ]]\n",
      "Prediction: pneumonia\n",
      "Confidence\n",
      "Normal: 0.038 Pneumonia: 0.958 Covid-19: 0.004\n",
      "Current img: 000001.png\n"
     ]
    },
    {
     "name": "stderr",
     "output_type": "stream",
     "text": [
      "/opt/apps/apps/binapps/anaconda3/2019.07-numpy-fix/lib/python3.7/site-packages/ipykernel_launcher.py:196: RuntimeWarning: invalid value encountered in true_divide\n"
     ]
    },
    {
     "name": "stdout",
     "output_type": "stream",
     "text": [
      "pred [[0.00111073 0.0317726  0.9671166 ]]\n",
      "Prediction: COVID-19\n",
      "Confidence\n",
      "Normal: 0.001 Pneumonia: 0.032 Covid-19: 0.967\n",
      "Current img: 000002.png\n",
      "pred [[0.00839686 0.9808013  0.01080179]]\n",
      "Prediction: pneumonia\n",
      "Confidence\n",
      "Normal: 0.008 Pneumonia: 0.981 Covid-19: 0.011\n",
      "Current img: 000007.png\n",
      "pred [[0.12592945 0.13344936 0.74062127]]\n",
      "Prediction: COVID-19\n",
      "Confidence\n",
      "Normal: 0.126 Pneumonia: 0.133 Covid-19: 0.741\n",
      "Current img: 000008.png\n",
      "pred [[0.02505074 0.3718749  0.6030744 ]]\n",
      "Prediction: COVID-19\n",
      "Confidence\n",
      "Normal: 0.025 Pneumonia: 0.372 Covid-19: 0.603\n",
      "Current img: 16497_1_1.png\n"
     ]
    },
    {
     "name": "stderr",
     "output_type": "stream",
     "text": [
      "/opt/apps/apps/binapps/anaconda3/2019.07-numpy-fix/lib/python3.7/site-packages/ipykernel_launcher.py:196: RuntimeWarning: invalid value encountered in true_divide\n"
     ]
    },
    {
     "name": "stdout",
     "output_type": "stream",
     "text": [
      "pred [[0.00461793 0.13108675 0.8642953 ]]\n",
      "Prediction: COVID-19\n",
      "Confidence\n",
      "Normal: 0.005 Pneumonia: 0.131 Covid-19: 0.864\n",
      "Current img: 000001-14.jpg\n"
     ]
    },
    {
     "name": "stderr",
     "output_type": "stream",
     "text": [
      "/opt/apps/apps/binapps/anaconda3/2019.07-numpy-fix/lib/python3.7/site-packages/ipykernel_launcher.py:196: RuntimeWarning: invalid value encountered in true_divide\n"
     ]
    },
    {
     "name": "stdout",
     "output_type": "stream",
     "text": [
      "pred [[7.3435585e-05 9.9980754e-01 1.1908637e-04]]\n",
      "Prediction: pneumonia\n",
      "Confidence\n",
      "Normal: 0.000 Pneumonia: 1.000 Covid-19: 0.000\n",
      "Current img: 000002-6.jpg\n",
      "pred [[0.00372419 0.15845828 0.83781755]]\n",
      "Prediction: COVID-19\n",
      "Confidence\n",
      "Normal: 0.004 Pneumonia: 0.158 Covid-19: 0.838\n",
      "Current img: 000001-15.jpg\n",
      "pred [[9.8940164e-01 1.0589124e-02 9.1511965e-06]]\n",
      "Prediction: normal\n",
      "Confidence\n",
      "Normal: 0.989 Pneumonia: 0.011 Covid-19: 0.000\n",
      "Current img: 000002-7.jpg\n"
     ]
    },
    {
     "name": "stderr",
     "output_type": "stream",
     "text": [
      "/opt/apps/apps/binapps/anaconda3/2019.07-numpy-fix/lib/python3.7/site-packages/ipykernel_launcher.py:196: RuntimeWarning: invalid value encountered in true_divide\n"
     ]
    },
    {
     "name": "stdout",
     "output_type": "stream",
     "text": [
      "pred [[0.00359679 0.9368578  0.05954534]]\n",
      "Prediction: pneumonia\n",
      "Confidence\n",
      "Normal: 0.004 Pneumonia: 0.937 Covid-19: 0.060\n",
      "Current img: 000003-5.jpg\n",
      "pred [[0.0006975  0.523553   0.47574943]]\n",
      "Prediction: pneumonia\n",
      "Confidence\n",
      "Normal: 0.001 Pneumonia: 0.524 Covid-19: 0.476\n",
      "Current img: untitled.001_0.jpeg\n",
      "pred [[6.2324518e-01 3.7645039e-01 3.0446568e-04]]\n",
      "Prediction: normal\n",
      "Confidence\n",
      "Normal: 0.623 Pneumonia: 0.376 Covid-19: 0.000\n",
      "Current img: 000001-1.png\n",
      "pred [[0.04857613 0.03487995 0.91654396]]\n",
      "Prediction: COVID-19\n",
      "Confidence\n",
      "Normal: 0.049 Pneumonia: 0.035 Covid-19: 0.917\n",
      "Current img: 000001-2.png\n",
      "pred [[0.11897692 0.2512609  0.62976223]]\n",
      "Prediction: COVID-19\n",
      "Confidence\n",
      "Normal: 0.119 Pneumonia: 0.251 Covid-19: 0.630\n",
      "Current img: 000003-6.jpg\n"
     ]
    },
    {
     "name": "stderr",
     "output_type": "stream",
     "text": [
      "/opt/apps/apps/binapps/anaconda3/2019.07-numpy-fix/lib/python3.7/site-packages/ipykernel_launcher.py:196: RuntimeWarning: invalid value encountered in true_divide\n"
     ]
    },
    {
     "name": "stdout",
     "output_type": "stream",
     "text": [
      "pred [[0.09496214 0.03021087 0.874827  ]]\n",
      "Prediction: COVID-19\n",
      "Confidence\n",
      "Normal: 0.095 Pneumonia: 0.030 Covid-19: 0.875\n",
      "Current img: 000003-7.jpg\n"
     ]
    },
    {
     "name": "stderr",
     "output_type": "stream",
     "text": [
      "/opt/apps/apps/binapps/anaconda3/2019.07-numpy-fix/lib/python3.7/site-packages/ipykernel_launcher.py:196: RuntimeWarning: invalid value encountered in true_divide\n"
     ]
    },
    {
     "name": "stdout",
     "output_type": "stream",
     "text": [
      "pred [[0.35333553 0.29584688 0.3508176 ]]\n",
      "Prediction: normal\n",
      "Confidence\n",
      "Normal: 0.353 Pneumonia: 0.296 Covid-19: 0.351\n",
      "Current img: 000001-4.png\n",
      "pred [[0.49686596 0.19300203 0.31013203]]\n",
      "Prediction: normal\n",
      "Confidence\n",
      "Normal: 0.497 Pneumonia: 0.193 Covid-19: 0.310\n",
      "Current img: 000001-18.jpg\n",
      "pred [[0.00904898 0.42678013 0.56417084]]\n",
      "Prediction: COVID-19\n",
      "Confidence\n",
      "Normal: 0.009 Pneumonia: 0.427 Covid-19: 0.564\n",
      "Current img: 000002-8.jpg\n"
     ]
    },
    {
     "name": "stderr",
     "output_type": "stream",
     "text": [
      "/opt/apps/apps/binapps/anaconda3/2019.07-numpy-fix/lib/python3.7/site-packages/ipykernel_launcher.py:196: RuntimeWarning: invalid value encountered in true_divide\n"
     ]
    },
    {
     "name": "stdout",
     "output_type": "stream",
     "text": [
      "pred [[0.00318037 0.0240912  0.9727285 ]]\n",
      "Prediction: COVID-19\n",
      "Confidence\n",
      "Normal: 0.003 Pneumonia: 0.024 Covid-19: 0.973\n",
      "Current img: 000010.jpg\n",
      "pred [[8.0752559e-04 9.4222173e-02 9.0497035e-01]]\n",
      "Prediction: COVID-19\n",
      "Confidence\n",
      "Normal: 0.001 Pneumonia: 0.094 Covid-19: 0.905\n",
      "Current img: 000009.jpg\n",
      "pred [[0.10934987 0.69134575 0.19930442]]\n",
      "Prediction: pneumonia\n",
      "Confidence\n",
      "Normal: 0.109 Pneumonia: 0.691 Covid-19: 0.199\n",
      "Current img: 000001-20.jpg\n",
      "pred [[0.8909776  0.07183012 0.0371922 ]]\n",
      "Prediction: normal\n",
      "Confidence\n",
      "Normal: 0.891 Pneumonia: 0.072 Covid-19: 0.037\n",
      "Current img: 000002-9.jpg\n"
     ]
    },
    {
     "name": "stderr",
     "output_type": "stream",
     "text": [
      "/opt/apps/apps/binapps/anaconda3/2019.07-numpy-fix/lib/python3.7/site-packages/ipykernel_launcher.py:196: RuntimeWarning: invalid value encountered in true_divide\n"
     ]
    },
    {
     "name": "stdout",
     "output_type": "stream",
     "text": [
      "pred [[0.16136819 0.5798578  0.25877407]]\n",
      "Prediction: pneumonia\n",
      "Confidence\n",
      "Normal: 0.161 Pneumonia: 0.580 Covid-19: 0.259\n",
      "Current img: 000005-1.jpg\n"
     ]
    },
    {
     "name": "stderr",
     "output_type": "stream",
     "text": [
      "/opt/apps/apps/binapps/anaconda3/2019.07-numpy-fix/lib/python3.7/site-packages/ipykernel_launcher.py:196: RuntimeWarning: invalid value encountered in true_divide\n"
     ]
    },
    {
     "name": "stdout",
     "output_type": "stream",
     "text": [
      "pred [[0.8477568  0.14709318 0.00515007]]\n",
      "Prediction: normal\n",
      "Confidence\n",
      "Normal: 0.848 Pneumonia: 0.147 Covid-19: 0.005\n",
      "Current img: 000006.jpg\n"
     ]
    },
    {
     "name": "stderr",
     "output_type": "stream",
     "text": [
      "/opt/apps/apps/binapps/anaconda3/2019.07-numpy-fix/lib/python3.7/site-packages/ipykernel_launcher.py:196: RuntimeWarning: invalid value encountered in true_divide\n"
     ]
    },
    {
     "name": "stdout",
     "output_type": "stream",
     "text": [
      "pred [[0.06210633 0.15892014 0.77897346]]\n",
      "Prediction: COVID-19\n",
      "Confidence\n",
      "Normal: 0.062 Pneumonia: 0.159 Covid-19: 0.779\n",
      "Current img: 000007.jpg\n",
      "pred [[0.9140991  0.08441164 0.00148925]]\n",
      "Prediction: normal\n",
      "Confidence\n",
      "Normal: 0.914 Pneumonia: 0.084 Covid-19: 0.001\n",
      "Current img: 000008.jpg\n"
     ]
    },
    {
     "name": "stderr",
     "output_type": "stream",
     "text": [
      "/opt/apps/apps/binapps/anaconda3/2019.07-numpy-fix/lib/python3.7/site-packages/ipykernel_launcher.py:196: RuntimeWarning: invalid value encountered in true_divide\n"
     ]
    },
    {
     "name": "stdout",
     "output_type": "stream",
     "text": [
      "pred [[0.16235533 0.19720978 0.6404349 ]]\n",
      "Prediction: COVID-19\n",
      "Confidence\n",
      "Normal: 0.162 Pneumonia: 0.197 Covid-19: 0.640\n",
      "Current img: 000012-1.jpg\n",
      "pred [[0.7616054  0.09605967 0.14233495]]\n",
      "Prediction: normal\n",
      "Confidence\n",
      "Normal: 0.762 Pneumonia: 0.096 Covid-19: 0.142\n",
      "Current img: 000013.jpg\n"
     ]
    },
    {
     "name": "stderr",
     "output_type": "stream",
     "text": [
      "/opt/apps/apps/binapps/anaconda3/2019.07-numpy-fix/lib/python3.7/site-packages/ipykernel_launcher.py:196: RuntimeWarning: invalid value encountered in true_divide\n"
     ]
    },
    {
     "name": "stdout",
     "output_type": "stream",
     "text": [
      "pred [[0.00611694 0.0184367  0.9754464 ]]\n",
      "Prediction: COVID-19\n",
      "Confidence\n",
      "Normal: 0.006 Pneumonia: 0.018 Covid-19: 0.975\n",
      "Current img: 000001-5.png\n",
      "pred [[0.03461142 0.8853586  0.08002993]]\n",
      "Prediction: pneumonia\n",
      "Confidence\n",
      "Normal: 0.035 Pneumonia: 0.885 Covid-19: 0.080\n",
      "Current img: 1-s2.0-S2387020620301959-gr3_lrg-a.png\n",
      "pred [[3.4650926e-05 2.0350857e-02 9.7961444e-01]]\n",
      "Prediction: COVID-19\n",
      "Confidence\n",
      "Normal: 0.000 Pneumonia: 0.020 Covid-19: 0.980\n",
      "Current img: MERS-CoV-1-s2.0-S0378603X1500248X-gr4e.jpg\n",
      "pred [[0.00212054 0.06950098 0.92837846]]\n",
      "Prediction: COVID-19\n",
      "Confidence\n",
      "Normal: 0.002 Pneumonia: 0.070 Covid-19: 0.928\n",
      "Current img: 1-s2.0-S0378603X1500248X-gr2a.jpg\n",
      "pred [[0.9929825  0.0060002  0.00101729]]\n",
      "Prediction: normal\n",
      "Confidence\n",
      "Normal: 0.993 Pneumonia: 0.006 Covid-19: 0.001\n",
      "Current img: 1-s2.0-S0378603X1500248X-gr2b.jpg\n"
     ]
    },
    {
     "name": "stderr",
     "output_type": "stream",
     "text": [
      "/opt/apps/apps/binapps/anaconda3/2019.07-numpy-fix/lib/python3.7/site-packages/ipykernel_launcher.py:196: RuntimeWarning: invalid value encountered in true_divide\n"
     ]
    },
    {
     "name": "stdout",
     "output_type": "stream",
     "text": [
      "pred [[0.00097714 0.96116346 0.03785943]]\n",
      "Prediction: pneumonia\n",
      "Confidence\n",
      "Normal: 0.001 Pneumonia: 0.961 Covid-19: 0.038\n",
      "Current img: 1-s2.0-S0378603X1500248X-gr2c.jpg\n"
     ]
    },
    {
     "name": "stderr",
     "output_type": "stream",
     "text": [
      "/opt/apps/apps/binapps/anaconda3/2019.07-numpy-fix/lib/python3.7/site-packages/ipykernel_launcher.py:196: RuntimeWarning: invalid value encountered in true_divide\n"
     ]
    },
    {
     "name": "stdout",
     "output_type": "stream",
     "text": [
      "pred [[5.2437501e-04 9.8119915e-01 1.8276453e-02]]\n",
      "Prediction: pneumonia\n",
      "Confidence\n",
      "Normal: 0.001 Pneumonia: 0.981 Covid-19: 0.018\n",
      "Current img: 1-s2.0-S0378603X1500248X-gr2d.jpg\n"
     ]
    },
    {
     "name": "stderr",
     "output_type": "stream",
     "text": [
      "/opt/apps/apps/binapps/anaconda3/2019.07-numpy-fix/lib/python3.7/site-packages/ipykernel_launcher.py:196: RuntimeWarning: invalid value encountered in true_divide\n"
     ]
    },
    {
     "name": "stdout",
     "output_type": "stream",
     "text": [
      "pred [[2.8272530e-06 4.8460602e-03 9.9515104e-01]]\n",
      "Prediction: COVID-19\n",
      "Confidence\n",
      "Normal: 0.000 Pneumonia: 0.005 Covid-19: 0.995\n",
      "Current img: 1-s2.0-S0378603X1500248X-gr3a.jpg\n",
      "pred [[0.8292525  0.0896771  0.08107033]]\n",
      "Prediction: normal\n",
      "Confidence\n",
      "Normal: 0.829 Pneumonia: 0.090 Covid-19: 0.081\n",
      "Current img: 1-s2.0-S0378603X1500248X-gr3b.jpg\n"
     ]
    },
    {
     "name": "stderr",
     "output_type": "stream",
     "text": [
      "/opt/apps/apps/binapps/anaconda3/2019.07-numpy-fix/lib/python3.7/site-packages/ipykernel_launcher.py:196: RuntimeWarning: invalid value encountered in true_divide\n"
     ]
    },
    {
     "name": "stdout",
     "output_type": "stream",
     "text": [
      "pred [[0.67389524 0.14432596 0.18177882]]\n",
      "Prediction: normal\n",
      "Confidence\n",
      "Normal: 0.674 Pneumonia: 0.144 Covid-19: 0.182\n",
      "Current img: 1-s2.0-S0378603X1500248X-gr3d.jpg\n"
     ]
    },
    {
     "name": "stderr",
     "output_type": "stream",
     "text": [
      "/opt/apps/apps/binapps/anaconda3/2019.07-numpy-fix/lib/python3.7/site-packages/ipykernel_launcher.py:196: RuntimeWarning: invalid value encountered in true_divide\n"
     ]
    },
    {
     "name": "stdout",
     "output_type": "stream",
     "text": [
      "pred [[1.9939169e-03 9.9756575e-01 4.4031956e-04]]\n",
      "Prediction: pneumonia\n",
      "Confidence\n",
      "Normal: 0.002 Pneumonia: 0.998 Covid-19: 0.000\n",
      "Current img: 1-s2.0-S0378603X1500248X-gr4a.jpg\n"
     ]
    },
    {
     "name": "stderr",
     "output_type": "stream",
     "text": [
      "/opt/apps/apps/binapps/anaconda3/2019.07-numpy-fix/lib/python3.7/site-packages/ipykernel_launcher.py:196: RuntimeWarning: invalid value encountered in true_divide\n"
     ]
    },
    {
     "name": "stdout",
     "output_type": "stream",
     "text": [
      "pred [[0.15684329 0.08775889 0.7553978 ]]\n",
      "Prediction: COVID-19\n",
      "Confidence\n",
      "Normal: 0.157 Pneumonia: 0.088 Covid-19: 0.755\n",
      "Current img: 1-s2.0-S0378603X1500248X-gr4c.jpg\n"
     ]
    },
    {
     "name": "stderr",
     "output_type": "stream",
     "text": [
      "/opt/apps/apps/binapps/anaconda3/2019.07-numpy-fix/lib/python3.7/site-packages/ipykernel_launcher.py:196: RuntimeWarning: invalid value encountered in true_divide\n"
     ]
    },
    {
     "name": "stdout",
     "output_type": "stream",
     "text": [
      "pred [[2.6392940e-04 3.6766972e-02 9.6296912e-01]]\n",
      "Prediction: COVID-19\n",
      "Confidence\n",
      "Normal: 0.000 Pneumonia: 0.037 Covid-19: 0.963\n",
      "Current img: 1-s2.0-S0378603X1500248X-gr4e.jpg\n",
      "pred [[0.00212054 0.06950098 0.92837846]]\n",
      "Prediction: COVID-19\n",
      "Confidence\n",
      "Normal: 0.002 Pneumonia: 0.070 Covid-19: 0.928\n",
      "Current img: ansu-publish-ahead-of-print-10.1097.sla.0000000000003955-g001-a.png\n",
      "pred [[4.3538163e-04 9.9956399e-01 5.3729462e-07]]\n",
      "Prediction: pneumonia\n",
      "Confidence\n",
      "Normal: 0.000 Pneumonia: 1.000 Covid-19: 0.000\n",
      "Current img: ansu-publish-ahead-of-print-10.1097.sla.0000000000003955-g001-c.png\n"
     ]
    },
    {
     "name": "stderr",
     "output_type": "stream",
     "text": [
      "/opt/apps/apps/binapps/anaconda3/2019.07-numpy-fix/lib/python3.7/site-packages/ipykernel_launcher.py:196: RuntimeWarning: invalid value encountered in true_divide\n"
     ]
    },
    {
     "name": "stdout",
     "output_type": "stream",
     "text": [
      "pred [[9.7307833e-03 9.9024665e-01 2.2554872e-05]]\n",
      "Prediction: pneumonia\n",
      "Confidence\n",
      "Normal: 0.010 Pneumonia: 0.990 Covid-19: 0.000\n",
      "Current img: ansu-publish-ahead-of-print-10.1097.sla.0000000000003955-g001-d.png\n"
     ]
    },
    {
     "name": "stderr",
     "output_type": "stream",
     "text": [
      "/opt/apps/apps/binapps/anaconda3/2019.07-numpy-fix/lib/python3.7/site-packages/ipykernel_launcher.py:196: RuntimeWarning: invalid value encountered in true_divide\n"
     ]
    },
    {
     "name": "stdout",
     "output_type": "stream",
     "text": [
      "pred [[2.3731061e-04 9.9975985e-01 2.9004809e-06]]\n",
      "Prediction: pneumonia\n",
      "Confidence\n",
      "Normal: 0.000 Pneumonia: 1.000 Covid-19: 0.000\n",
      "Current img: ansu-publish-ahead-of-print-10.1097.sla.0000000000003955-g001-f.png\n"
     ]
    },
    {
     "name": "stderr",
     "output_type": "stream",
     "text": [
      "/opt/apps/apps/binapps/anaconda3/2019.07-numpy-fix/lib/python3.7/site-packages/ipykernel_launcher.py:196: RuntimeWarning: invalid value encountered in true_divide\n"
     ]
    },
    {
     "name": "stdout",
     "output_type": "stream",
     "text": [
      "pred [[0.11742269 0.5022849  0.38029236]]\n",
      "Prediction: pneumonia\n",
      "Confidence\n",
      "Normal: 0.117 Pneumonia: 0.502 Covid-19: 0.380\n",
      "Current img: aqaa062i0002-a.png\n",
      "pred [[1.8901616e-07 1.2573565e-05 9.9998724e-01]]\n",
      "Prediction: COVID-19\n",
      "Confidence\n",
      "Normal: 0.000 Pneumonia: 0.000 Covid-19: 1.000\n",
      "Current img: aqaa062i0002-b.png\n",
      "pred [[0.00439671 0.01279533 0.982808  ]]\n",
      "Prediction: COVID-19\n",
      "Confidence\n",
      "Normal: 0.004 Pneumonia: 0.013 Covid-19: 0.983\n",
      "Current img: fff13f3a.jpg\n",
      "pred [[9.3489271e-01 6.5094016e-02 1.3214202e-05]]\n",
      "Prediction: normal\n",
      "Confidence\n",
      "Normal: 0.935 Pneumonia: 0.065 Covid-19: 0.000\n",
      "Current img: c4a0e11a.jpg\n",
      "pred [[0.00430357 0.0312862  0.96441025]]\n",
      "Prediction: COVID-19\n",
      "Confidence\n",
      "Normal: 0.004 Pneumonia: 0.031 Covid-19: 0.964\n",
      "Current img: 33ad0dcb.jpg\n",
      "pred [[0.00159192 0.03231152 0.9660966 ]]\n",
      "Prediction: COVID-19\n",
      "Confidence\n",
      "Normal: 0.002 Pneumonia: 0.032 Covid-19: 0.966\n",
      "Current img: 26e8db49.jpg\n",
      "pred [[0.00103331 0.01138509 0.9875816 ]]\n",
      "Prediction: COVID-19\n",
      "Confidence\n",
      "Normal: 0.001 Pneumonia: 0.011 Covid-19: 0.988\n",
      "Current img: d2af569b.jpg\n",
      "pred [[2.1807890e-04 1.5785882e-02 9.8399609e-01]]\n",
      "Prediction: COVID-19\n",
      "Confidence\n",
      "Normal: 0.000 Pneumonia: 0.016 Covid-19: 0.984\n",
      "Current img: 2ecd360d.jpg\n",
      "pred [[1.7928655e-04 1.0970616e-02 9.8885006e-01]]\n",
      "Prediction: COVID-19\n",
      "Confidence\n",
      "Normal: 0.000 Pneumonia: 0.011 Covid-19: 0.989\n",
      "Current img: 26b79d0d.jpg\n",
      "pred [[0.03903981 0.42575124 0.53520894]]\n",
      "Prediction: COVID-19\n",
      "Confidence\n",
      "Normal: 0.039 Pneumonia: 0.426 Covid-19: 0.535\n"
     ]
    },
    {
     "name": "stderr",
     "output_type": "stream",
     "text": [
      "/opt/apps/apps/binapps/anaconda3/2019.07-numpy-fix/lib/python3.7/site-packages/ipykernel_launcher.py:196: RuntimeWarning: invalid value encountered in true_divide\n"
     ]
    },
    {
     "name": "stdout",
     "output_type": "stream",
     "text": [
      "Current img: 2086b9e1.jpg\n",
      "pred [[0.02023015 0.31040373 0.66936606]]\n",
      "Prediction: COVID-19\n",
      "Confidence\n",
      "Normal: 0.020 Pneumonia: 0.310 Covid-19: 0.669\n"
     ]
    },
    {
     "name": "stderr",
     "output_type": "stream",
     "text": [
      "/opt/apps/apps/binapps/anaconda3/2019.07-numpy-fix/lib/python3.7/site-packages/ipykernel_launcher.py:196: RuntimeWarning: invalid value encountered in true_divide\n"
     ]
    },
    {
     "name": "stdout",
     "output_type": "stream",
     "text": [
      "Current img: 3309d07c.jpg\n",
      "pred [[0.01392165 0.2068663  0.77921206]]\n",
      "Prediction: COVID-19\n",
      "Confidence\n",
      "Normal: 0.014 Pneumonia: 0.207 Covid-19: 0.779\n",
      "Current img: 341e2287.jpg\n",
      "pred [[0.01705915 0.7546431  0.22829783]]\n",
      "Prediction: pneumonia\n",
      "Confidence\n",
      "Normal: 0.017 Pneumonia: 0.755 Covid-19: 0.228\n"
     ]
    },
    {
     "name": "stderr",
     "output_type": "stream",
     "text": [
      "/opt/apps/apps/binapps/anaconda3/2019.07-numpy-fix/lib/python3.7/site-packages/ipykernel_launcher.py:196: RuntimeWarning: invalid value encountered in true_divide\n"
     ]
    },
    {
     "name": "stdout",
     "output_type": "stream",
     "text": [
      "Current img: 0ac7580d.jpg\n",
      "pred [[0.02865127 0.2912062  0.6801425 ]]\n",
      "Prediction: COVID-19\n",
      "Confidence\n",
      "Normal: 0.029 Pneumonia: 0.291 Covid-19: 0.680\n"
     ]
    },
    {
     "name": "stderr",
     "output_type": "stream",
     "text": [
      "/opt/apps/apps/binapps/anaconda3/2019.07-numpy-fix/lib/python3.7/site-packages/ipykernel_launcher.py:196: RuntimeWarning: invalid value encountered in true_divide\n"
     ]
    },
    {
     "name": "stdout",
     "output_type": "stream",
     "text": [
      "Current img: 86ee6e6c.jpg\n",
      "pred [[0.00892778 0.07281434 0.9182579 ]]\n",
      "Prediction: COVID-19\n",
      "Confidence\n",
      "Normal: 0.009 Pneumonia: 0.073 Covid-19: 0.918\n"
     ]
    },
    {
     "name": "stderr",
     "output_type": "stream",
     "text": [
      "/opt/apps/apps/binapps/anaconda3/2019.07-numpy-fix/lib/python3.7/site-packages/ipykernel_launcher.py:196: RuntimeWarning: invalid value encountered in true_divide\n"
     ]
    },
    {
     "name": "stdout",
     "output_type": "stream",
     "text": [
      "Current img: b03ef875.jpg\n",
      "pred [[0.00959183 0.15225056 0.8381576 ]]\n",
      "Prediction: COVID-19\n",
      "Confidence\n",
      "Normal: 0.010 Pneumonia: 0.152 Covid-19: 0.838\n"
     ]
    },
    {
     "name": "stderr",
     "output_type": "stream",
     "text": [
      "/opt/apps/apps/binapps/anaconda3/2019.07-numpy-fix/lib/python3.7/site-packages/ipykernel_launcher.py:196: RuntimeWarning: invalid value encountered in true_divide\n"
     ]
    },
    {
     "name": "stdout",
     "output_type": "stream",
     "text": [
      "Current img: f875007a.jpg\n",
      "pred [[0.12629896 0.13067521 0.74302584]]\n",
      "Prediction: COVID-19\n",
      "Confidence\n",
      "Normal: 0.126 Pneumonia: 0.131 Covid-19: 0.743\n"
     ]
    },
    {
     "name": "stderr",
     "output_type": "stream",
     "text": [
      "/opt/apps/apps/binapps/anaconda3/2019.07-numpy-fix/lib/python3.7/site-packages/ipykernel_launcher.py:196: RuntimeWarning: invalid value encountered in true_divide\n"
     ]
    },
    {
     "name": "stdout",
     "output_type": "stream",
     "text": [
      "Current img: cb60786c.jpg\n",
      "pred [[0.09258346 0.86272323 0.04469332]]\n",
      "Prediction: pneumonia\n",
      "Confidence\n",
      "Normal: 0.093 Pneumonia: 0.863 Covid-19: 0.045\n"
     ]
    },
    {
     "name": "stderr",
     "output_type": "stream",
     "text": [
      "/opt/apps/apps/binapps/anaconda3/2019.07-numpy-fix/lib/python3.7/site-packages/ipykernel_launcher.py:196: RuntimeWarning: invalid value encountered in true_divide\n"
     ]
    },
    {
     "name": "stdout",
     "output_type": "stream",
     "text": [
      "Current img: 1d40779e.jpg\n",
      "pred [[0.00294996 0.23281619 0.7642338 ]]\n",
      "Prediction: COVID-19\n",
      "Confidence\n",
      "Normal: 0.003 Pneumonia: 0.233 Covid-19: 0.764\n"
     ]
    },
    {
     "name": "stderr",
     "output_type": "stream",
     "text": [
      "/opt/apps/apps/binapps/anaconda3/2019.07-numpy-fix/lib/python3.7/site-packages/ipykernel_launcher.py:196: RuntimeWarning: invalid value encountered in true_divide\n"
     ]
    },
    {
     "name": "stdout",
     "output_type": "stream",
     "text": [
      "Current img: 0cea09eb.jpg\n",
      "pred [[0.00190012 0.12348341 0.87461644]]\n",
      "Prediction: COVID-19\n",
      "Confidence\n",
      "Normal: 0.002 Pneumonia: 0.123 Covid-19: 0.875\n",
      "Current img: 27a70642.jpg\n",
      "pred [[0.01066826 0.97424865 0.01508317]]\n",
      "Prediction: pneumonia\n",
      "Confidence\n",
      "Normal: 0.011 Pneumonia: 0.974 Covid-19: 0.015\n"
     ]
    },
    {
     "name": "stderr",
     "output_type": "stream",
     "text": [
      "/opt/apps/apps/binapps/anaconda3/2019.07-numpy-fix/lib/python3.7/site-packages/ipykernel_launcher.py:196: RuntimeWarning: invalid value encountered in true_divide\n"
     ]
    },
    {
     "name": "stdout",
     "output_type": "stream",
     "text": [
      "Current img: e53ea41a.jpg\n",
      "pred [[0.0124935  0.03436995 0.9531365 ]]\n",
      "Prediction: COVID-19\n",
      "Confidence\n",
      "Normal: 0.012 Pneumonia: 0.034 Covid-19: 0.953\n",
      "Current img: ce68550a.jpg\n",
      "pred [[0.00299004 0.21453394 0.78247607]]\n",
      "Prediction: COVID-19\n",
      "Confidence\n",
      "Normal: 0.003 Pneumonia: 0.215 Covid-19: 0.782\n",
      "Current img: 2fdd55b8.jpg\n",
      "pred [[0.02178832 0.50388694 0.47432473]]\n",
      "Prediction: pneumonia\n",
      "Confidence\n",
      "Normal: 0.022 Pneumonia: 0.504 Covid-19: 0.474\n"
     ]
    },
    {
     "name": "stderr",
     "output_type": "stream",
     "text": [
      "/opt/apps/apps/binapps/anaconda3/2019.07-numpy-fix/lib/python3.7/site-packages/ipykernel_launcher.py:196: RuntimeWarning: invalid value encountered in true_divide\n"
     ]
    },
    {
     "name": "stdout",
     "output_type": "stream",
     "text": [
      "Current img: f722466f.jpg\n",
      "pred [[0.31193864 0.5361031  0.15195823]]\n",
      "Prediction: pneumonia\n",
      "Confidence\n",
      "Normal: 0.312 Pneumonia: 0.536 Covid-19: 0.152\n"
     ]
    },
    {
     "name": "stderr",
     "output_type": "stream",
     "text": [
      "/opt/apps/apps/binapps/anaconda3/2019.07-numpy-fix/lib/python3.7/site-packages/ipykernel_launcher.py:196: RuntimeWarning: invalid value encountered in true_divide\n"
     ]
    },
    {
     "name": "stdout",
     "output_type": "stream",
     "text": [
      "Current img: 3964b961.jpg\n",
      "pred [[0.00253703 0.20866314 0.78879976]]\n",
      "Prediction: COVID-19\n",
      "Confidence\n",
      "Normal: 0.003 Pneumonia: 0.209 Covid-19: 0.789\n",
      "Current img: 7b68340a.jpg\n",
      "pred [[0.01905587 0.79276973 0.18817438]]\n",
      "Prediction: pneumonia\n",
      "Confidence\n",
      "Normal: 0.019 Pneumonia: 0.793 Covid-19: 0.188\n"
     ]
    },
    {
     "name": "stderr",
     "output_type": "stream",
     "text": [
      "/opt/apps/apps/binapps/anaconda3/2019.07-numpy-fix/lib/python3.7/site-packages/ipykernel_launcher.py:196: RuntimeWarning: invalid value encountered in true_divide\n"
     ]
    },
    {
     "name": "stdout",
     "output_type": "stream",
     "text": [
      "Current img: 90c1e3ef.jpg\n",
      "pred [[0.02235329 0.7192838  0.25836286]]\n",
      "Prediction: pneumonia\n",
      "Confidence\n",
      "Normal: 0.022 Pneumonia: 0.719 Covid-19: 0.258\n"
     ]
    },
    {
     "name": "stderr",
     "output_type": "stream",
     "text": [
      "/opt/apps/apps/binapps/anaconda3/2019.07-numpy-fix/lib/python3.7/site-packages/ipykernel_launcher.py:196: RuntimeWarning: invalid value encountered in true_divide\n"
     ]
    },
    {
     "name": "stdout",
     "output_type": "stream",
     "text": [
      "Current img: 0957ce54.jpg\n",
      "pred [[0.5289528  0.4121     0.05894717]]\n",
      "Prediction: normal\n",
      "Confidence\n",
      "Normal: 0.529 Pneumonia: 0.412 Covid-19: 0.059\n",
      "Current img: cfcdf8d9.jpg\n",
      "pred [[0.0385489  0.26586384 0.6955873 ]]\n",
      "Prediction: COVID-19\n",
      "Confidence\n",
      "Normal: 0.039 Pneumonia: 0.266 Covid-19: 0.696\n"
     ]
    },
    {
     "name": "stderr",
     "output_type": "stream",
     "text": [
      "/opt/apps/apps/binapps/anaconda3/2019.07-numpy-fix/lib/python3.7/site-packages/ipykernel_launcher.py:196: RuntimeWarning: invalid value encountered in true_divide\n"
     ]
    },
    {
     "name": "stdout",
     "output_type": "stream",
     "text": [
      "Current img: 24de8686.jpg\n",
      "pred [[0.02007241 0.7233691  0.25655845]]\n",
      "Prediction: pneumonia\n",
      "Confidence\n",
      "Normal: 0.020 Pneumonia: 0.723 Covid-19: 0.257\n"
     ]
    },
    {
     "name": "stderr",
     "output_type": "stream",
     "text": [
      "/opt/apps/apps/binapps/anaconda3/2019.07-numpy-fix/lib/python3.7/site-packages/ipykernel_launcher.py:196: RuntimeWarning: invalid value encountered in true_divide\n"
     ]
    },
    {
     "name": "stdout",
     "output_type": "stream",
     "text": [
      "Current img: a228e110.jpg\n",
      "pred [[0.02348806 0.34871414 0.62779784]]\n",
      "Prediction: COVID-19\n",
      "Confidence\n",
      "Normal: 0.023 Pneumonia: 0.349 Covid-19: 0.628\n"
     ]
    },
    {
     "name": "stderr",
     "output_type": "stream",
     "text": [
      "/opt/apps/apps/binapps/anaconda3/2019.07-numpy-fix/lib/python3.7/site-packages/ipykernel_launcher.py:196: RuntimeWarning: invalid value encountered in true_divide\n"
     ]
    },
    {
     "name": "stdout",
     "output_type": "stream",
     "text": [
      "Current img: d2c83bde.jpg\n",
      "pred [[0.1596201  0.5282779  0.31210196]]\n",
      "Prediction: pneumonia\n",
      "Confidence\n",
      "Normal: 0.160 Pneumonia: 0.528 Covid-19: 0.312\n"
     ]
    },
    {
     "name": "stderr",
     "output_type": "stream",
     "text": [
      "/opt/apps/apps/binapps/anaconda3/2019.07-numpy-fix/lib/python3.7/site-packages/ipykernel_launcher.py:196: RuntimeWarning: invalid value encountered in true_divide\n"
     ]
    },
    {
     "name": "stdout",
     "output_type": "stream",
     "text": [
      "Current img: 78af4c1d.jpg\n",
      "pred [[5.0475693e-04 5.3355154e-03 9.9415970e-01]]\n",
      "Prediction: COVID-19\n",
      "Confidence\n",
      "Normal: 0.001 Pneumonia: 0.005 Covid-19: 0.994\n",
      "Current img: 85540916.jpg\n",
      "pred [[0.06022562 0.5809954  0.358779  ]]\n",
      "Prediction: pneumonia\n",
      "Confidence\n",
      "Normal: 0.060 Pneumonia: 0.581 Covid-19: 0.359\n"
     ]
    },
    {
     "name": "stderr",
     "output_type": "stream",
     "text": [
      "/opt/apps/apps/binapps/anaconda3/2019.07-numpy-fix/lib/python3.7/site-packages/ipykernel_launcher.py:196: RuntimeWarning: invalid value encountered in true_divide\n"
     ]
    },
    {
     "name": "stdout",
     "output_type": "stream",
     "text": [
      "Current img: a8685b98.jpg\n",
      "pred [[0.01549622 0.14242646 0.84207726]]\n",
      "Prediction: COVID-19\n",
      "Confidence\n",
      "Normal: 0.015 Pneumonia: 0.142 Covid-19: 0.842\n",
      "Current img: 09258248.jpg\n",
      "pred [[0.00609555 0.03197737 0.96192706]]\n",
      "Prediction: COVID-19\n",
      "Confidence\n",
      "Normal: 0.006 Pneumonia: 0.032 Covid-19: 0.962\n",
      "Current img: 1e33b16c.jpg\n",
      "pred [[0.04222618 0.7871979  0.170576  ]]\n",
      "Prediction: pneumonia\n",
      "Confidence\n",
      "Normal: 0.042 Pneumonia: 0.787 Covid-19: 0.171\n"
     ]
    },
    {
     "name": "stderr",
     "output_type": "stream",
     "text": [
      "/opt/apps/apps/binapps/anaconda3/2019.07-numpy-fix/lib/python3.7/site-packages/ipykernel_launcher.py:196: RuntimeWarning: invalid value encountered in true_divide\n"
     ]
    },
    {
     "name": "stdout",
     "output_type": "stream",
     "text": [
      "Current img: 430f21e7.jpg\n",
      "pred [[0.01552813 0.1714505  0.81302136]]\n",
      "Prediction: COVID-19\n",
      "Confidence\n",
      "Normal: 0.016 Pneumonia: 0.171 Covid-19: 0.813\n",
      "Current img: 587e7c1a.jpg\n",
      "pred [[0.02244406 0.08701392 0.8905421 ]]\n",
      "Prediction: COVID-19\n",
      "Confidence\n",
      "Normal: 0.022 Pneumonia: 0.087 Covid-19: 0.891\n",
      "Current img: 98c24e39.jpg\n",
      "pred [[0.02497614 0.2619849  0.7130389 ]]\n",
      "Prediction: COVID-19\n",
      "Confidence\n",
      "Normal: 0.025 Pneumonia: 0.262 Covid-19: 0.713\n",
      "Current img: 7940dea2.jpg\n",
      "pred [[0.03715407 0.15774255 0.80510336]]\n",
      "Prediction: COVID-19\n",
      "Confidence\n",
      "Normal: 0.037 Pneumonia: 0.158 Covid-19: 0.805\n",
      "Current img: f0a93ef2.jpg\n",
      "pred [[0.05539358 0.09950686 0.84509957]]\n",
      "Prediction: COVID-19\n",
      "Confidence\n",
      "Normal: 0.055 Pneumonia: 0.100 Covid-19: 0.845\n",
      "Current img: 183af0d0.jpg\n",
      "pred [[0.04855408 0.11039969 0.84104615]]\n",
      "Prediction: COVID-19\n",
      "Confidence\n",
      "Normal: 0.049 Pneumonia: 0.110 Covid-19: 0.841\n",
      "Current img: 4b907d01.jpg\n",
      "pred [[0.06427243 0.35839364 0.5773339 ]]\n",
      "Prediction: COVID-19\n",
      "Confidence\n",
      "Normal: 0.064 Pneumonia: 0.358 Covid-19: 0.577\n"
     ]
    },
    {
     "name": "stderr",
     "output_type": "stream",
     "text": [
      "/opt/apps/apps/binapps/anaconda3/2019.07-numpy-fix/lib/python3.7/site-packages/ipykernel_launcher.py:196: RuntimeWarning: invalid value encountered in true_divide\n"
     ]
    },
    {
     "name": "stdout",
     "output_type": "stream",
     "text": [
      "Current img: 40f67745.jpg\n",
      "pred [[0.03592961 0.55305827 0.4110121 ]]\n",
      "Prediction: pneumonia\n",
      "Confidence\n",
      "Normal: 0.036 Pneumonia: 0.553 Covid-19: 0.411\n"
     ]
    },
    {
     "name": "stderr",
     "output_type": "stream",
     "text": [
      "/opt/apps/apps/binapps/anaconda3/2019.07-numpy-fix/lib/python3.7/site-packages/ipykernel_launcher.py:196: RuntimeWarning: invalid value encountered in true_divide\n"
     ]
    },
    {
     "name": "stdout",
     "output_type": "stream",
     "text": [
      "Current img: 242a639e.jpg\n",
      "pred [[0. 0. 1.]]\n",
      "Prediction: COVID-19\n",
      "Confidence\n",
      "Normal: 0.000 Pneumonia: 0.000 Covid-19: 1.000\n"
     ]
    },
    {
     "name": "stderr",
     "output_type": "stream",
     "text": [
      "/opt/apps/apps/binapps/anaconda3/2019.07-numpy-fix/lib/python3.7/site-packages/ipykernel_launcher.py:196: RuntimeWarning: invalid value encountered in true_divide\n"
     ]
    },
    {
     "name": "stdout",
     "output_type": "stream",
     "text": [
      "Current img: e104f46d.jpg\n",
      "pred [[0.02875197 0.1173404  0.8539076 ]]\n",
      "Prediction: COVID-19\n",
      "Confidence\n",
      "Normal: 0.029 Pneumonia: 0.117 Covid-19: 0.854\n",
      "Current img: 15d945b8.jpg\n",
      "pred [[0.0505177  0.16391495 0.78556734]]\n",
      "Prediction: COVID-19\n",
      "Confidence\n",
      "Normal: 0.051 Pneumonia: 0.164 Covid-19: 0.786\n",
      "Current img: ba040c5e.jpg\n",
      "pred [[0.01949771 0.25589073 0.7246116 ]]\n",
      "Prediction: COVID-19\n",
      "Confidence\n",
      "Normal: 0.019 Pneumonia: 0.256 Covid-19: 0.725\n"
     ]
    },
    {
     "name": "stderr",
     "output_type": "stream",
     "text": [
      "/opt/apps/apps/binapps/anaconda3/2019.07-numpy-fix/lib/python3.7/site-packages/ipykernel_launcher.py:196: RuntimeWarning: invalid value encountered in true_divide\n"
     ]
    },
    {
     "name": "stdout",
     "output_type": "stream",
     "text": [
      "Current img: b37c225f.jpg\n",
      "pred [[0.02502214 0.1371332  0.83784467]]\n",
      "Prediction: COVID-19\n",
      "Confidence\n",
      "Normal: 0.025 Pneumonia: 0.137 Covid-19: 0.838\n",
      "Current img: 23823ebc.jpg\n",
      "pred [[0.02061368 0.06298673 0.91639954]]\n",
      "Prediction: COVID-19\n",
      "Confidence\n",
      "Normal: 0.021 Pneumonia: 0.063 Covid-19: 0.916\n",
      "Current img: e87352fc.jpg\n",
      "pred [[0.00421686 0.9916803  0.00410281]]\n",
      "Prediction: pneumonia\n",
      "Confidence\n",
      "Normal: 0.004 Pneumonia: 0.992 Covid-19: 0.004\n"
     ]
    },
    {
     "name": "stderr",
     "output_type": "stream",
     "text": [
      "/opt/apps/apps/binapps/anaconda3/2019.07-numpy-fix/lib/python3.7/site-packages/ipykernel_launcher.py:196: RuntimeWarning: invalid value encountered in true_divide\n"
     ]
    },
    {
     "name": "stdout",
     "output_type": "stream",
     "text": [
      "Current img: 27f5a41d.jpg\n",
      "pred [[0.0330555  0.5745408  0.39240372]]\n",
      "Prediction: pneumonia\n",
      "Confidence\n",
      "Normal: 0.033 Pneumonia: 0.575 Covid-19: 0.392\n",
      "Current img: 006f3a8a.jpg\n",
      "pred [[0.35525262 0.3831867  0.26156074]]\n",
      "Prediction: pneumonia\n",
      "Confidence\n",
      "Normal: 0.355 Pneumonia: 0.383 Covid-19: 0.262\n"
     ]
    },
    {
     "name": "stderr",
     "output_type": "stream",
     "text": [
      "/opt/apps/apps/binapps/anaconda3/2019.07-numpy-fix/lib/python3.7/site-packages/ipykernel_launcher.py:196: RuntimeWarning: invalid value encountered in true_divide\n"
     ]
    },
    {
     "name": "stdout",
     "output_type": "stream",
     "text": [
      "Current img: 1d6c4b7c.jpg\n",
      "pred [[0.06893012 0.00951324 0.9215567 ]]\n",
      "Prediction: COVID-19\n",
      "Confidence\n",
      "Normal: 0.069 Pneumonia: 0.010 Covid-19: 0.922\n",
      "Current img: 18017511.jpg\n",
      "pred [[0.72488403 0.05797682 0.21713912]]\n",
      "Prediction: normal\n",
      "Confidence\n",
      "Normal: 0.725 Pneumonia: 0.058 Covid-19: 0.217\n",
      "Current img: 689836b5.jpg\n",
      "pred [[1.7746105e-06 7.5474376e-04 9.9924350e-01]]\n",
      "Prediction: COVID-19\n",
      "Confidence\n",
      "Normal: 0.000 Pneumonia: 0.001 Covid-19: 0.999\n",
      "Current img: 1ae7877e.jpg\n",
      "pred [[0.00212512 0.16468388 0.83319104]]\n",
      "Prediction: COVID-19\n",
      "Confidence\n",
      "Normal: 0.002 Pneumonia: 0.165 Covid-19: 0.833\n",
      "Current img: 5f001e0b.jpg\n",
      "pred [[0.01974978 0.15738404 0.8228662 ]]\n",
      "Prediction: COVID-19\n",
      "Confidence\n",
      "Normal: 0.020 Pneumonia: 0.157 Covid-19: 0.823\n",
      "Current img: e9877113.jpg\n",
      "pred [[0.01418691 0.45412543 0.5316877 ]]\n",
      "Prediction: COVID-19\n",
      "Confidence\n",
      "Normal: 0.014 Pneumonia: 0.454 Covid-19: 0.532\n"
     ]
    },
    {
     "name": "stderr",
     "output_type": "stream",
     "text": [
      "/opt/apps/apps/binapps/anaconda3/2019.07-numpy-fix/lib/python3.7/site-packages/ipykernel_launcher.py:196: RuntimeWarning: invalid value encountered in true_divide\n"
     ]
    },
    {
     "name": "stdout",
     "output_type": "stream",
     "text": [
      "Current img: c873402e.jpg\n",
      "pred [[0.02693762 0.63939667 0.33366573]]\n",
      "Prediction: pneumonia\n",
      "Confidence\n",
      "Normal: 0.027 Pneumonia: 0.639 Covid-19: 0.334\n"
     ]
    },
    {
     "name": "stderr",
     "output_type": "stream",
     "text": [
      "/opt/apps/apps/binapps/anaconda3/2019.07-numpy-fix/lib/python3.7/site-packages/ipykernel_launcher.py:196: RuntimeWarning: invalid value encountered in true_divide\n"
     ]
    },
    {
     "name": "stdout",
     "output_type": "stream",
     "text": [
      "Current img: 5b324cc7.jpg\n",
      "pred [[0.00853669 0.16945845 0.82200485]]\n",
      "Prediction: COVID-19\n",
      "Confidence\n",
      "Normal: 0.009 Pneumonia: 0.169 Covid-19: 0.822\n"
     ]
    },
    {
     "name": "stderr",
     "output_type": "stream",
     "text": [
      "/opt/apps/apps/binapps/anaconda3/2019.07-numpy-fix/lib/python3.7/site-packages/ipykernel_launcher.py:196: RuntimeWarning: invalid value encountered in true_divide\n"
     ]
    },
    {
     "name": "stdout",
     "output_type": "stream",
     "text": [
      "Current img: be835db3a56b5f76d607061dbb82a5_jumbo.jpeg\n",
      "pred [[1.7370024e-08 2.9286366e-06 9.9999702e-01]]\n",
      "Prediction: COVID-19\n",
      "Confidence\n",
      "Normal: 0.000 Pneumonia: 0.000 Covid-19: 1.000\n",
      "Current img: 3c48faa5dc2f1540fda696bae045ba_jumbo.jpeg\n",
      "pred [[0.01696054 0.05460069 0.9284388 ]]\n",
      "Prediction: COVID-19\n",
      "Confidence\n",
      "Normal: 0.017 Pneumonia: 0.055 Covid-19: 0.928\n",
      "Current img: 447d65b38231a1031586b304bc5837_jumbo.jpeg\n",
      "pred [[7.5950091e-05 2.6886078e-04 9.9965525e-01]]\n",
      "Prediction: COVID-19\n",
      "Confidence\n",
      "Normal: 0.000 Pneumonia: 0.000 Covid-19: 1.000\n",
      "Current img: 81af553601a1bc1fdf81c99436a50b_jumbo.jpeg\n",
      "pred [[4.4878166e-06 7.0968854e-05 9.9992454e-01]]\n",
      "Prediction: COVID-19\n",
      "Confidence\n",
      "Normal: 0.000 Pneumonia: 0.000 Covid-19: 1.000\n",
      "Current img: f46a9bfc7222e61e099a25ab9267da_jumbo.jpeg\n",
      "pred [[8.1451735e-06 1.2226368e-04 9.9986959e-01]]\n",
      "Prediction: COVID-19\n",
      "Confidence\n",
      "Normal: 0.000 Pneumonia: 0.000 Covid-19: 1.000\n",
      "Current img: 882fd7ec99b523aead995d78f3129f_jumbo.jpeg\n",
      "pred [[1.1487529e-07 2.7941492e-06 9.9999714e-01]]\n",
      "Prediction: COVID-19\n",
      "Confidence\n",
      "Normal: 0.000 Pneumonia: 0.000 Covid-19: 1.000\n",
      "Current img: 4cb2f877226f5e02b3064e1e52075f_jumbo.jpeg\n",
      "pred [[2.8941335e-08 1.8112019e-05 9.9998188e-01]]\n",
      "Prediction: COVID-19\n",
      "Confidence\n",
      "Normal: 0.000 Pneumonia: 0.000 Covid-19: 1.000\n",
      "Current img: 556e19b9d38e2199dfa8722ddff25f_jumbo.jpeg\n",
      "pred [[1.7537526e-09 1.3125003e-06 9.9999869e-01]]\n",
      "Prediction: COVID-19\n",
      "Confidence\n",
      "Normal: 0.000 Pneumonia: 0.000 Covid-19: 1.000\n",
      "Current img: 8781ac6b9589f3646d2bbfff8f9015_jumbo.jpeg\n",
      "pred [[5.7411514e-04 2.0931909e-02 9.7849393e-01]]\n",
      "Prediction: COVID-19\n",
      "Confidence\n",
      "Normal: 0.001 Pneumonia: 0.021 Covid-19: 0.978\n",
      "Current img: 7185bd4a8cc3280902117d034c7653_jumbo.jpg\n",
      "pred [[0.01661651 0.9699562  0.01342723]]\n",
      "Prediction: pneumonia\n",
      "Confidence\n",
      "Normal: 0.017 Pneumonia: 0.970 Covid-19: 0.013\n",
      "Current img: 4c8dee3d9fe81567b98ed1b0b2b4c6_jumbo.JPG\n"
     ]
    },
    {
     "name": "stderr",
     "output_type": "stream",
     "text": [
      "/opt/apps/apps/binapps/anaconda3/2019.07-numpy-fix/lib/python3.7/site-packages/ipykernel_launcher.py:196: RuntimeWarning: invalid value encountered in true_divide\n"
     ]
    },
    {
     "name": "stdout",
     "output_type": "stream",
     "text": [
      "pred [[0.16282642 0.61616486 0.22100869]]\n",
      "Prediction: pneumonia\n",
      "Confidence\n",
      "Normal: 0.163 Pneumonia: 0.616 Covid-19: 0.221\n",
      "Current img: 75fb7cd80d5ca4074c474f93471ad4_jumbo.jpeg\n"
     ]
    },
    {
     "name": "stderr",
     "output_type": "stream",
     "text": [
      "/opt/apps/apps/binapps/anaconda3/2019.07-numpy-fix/lib/python3.7/site-packages/ipykernel_launcher.py:196: RuntimeWarning: invalid value encountered in true_divide\n"
     ]
    },
    {
     "name": "stdout",
     "output_type": "stream",
     "text": [
      "pred [[4.8389411e-04 9.9950719e-01 8.9809055e-06]]\n",
      "Prediction: pneumonia\n",
      "Confidence\n",
      "Normal: 0.000 Pneumonia: 1.000 Covid-19: 0.000\n",
      "Current img: 01ec02c48ce0120d57456b2ee2d02f_jumbo.jpeg\n",
      "pred [[0.31006387 0.45687214 0.23306404]]\n",
      "Prediction: pneumonia\n",
      "Confidence\n",
      "Normal: 0.310 Pneumonia: 0.457 Covid-19: 0.233\n",
      "Current img: d815245ec98b5f0efc73b89daef72c_jumbo.jpg\n",
      "pred [[0.00443658 0.19204856 0.80351484]]\n",
      "Prediction: COVID-19\n",
      "Confidence\n",
      "Normal: 0.004 Pneumonia: 0.192 Covid-19: 0.804\n",
      "Current img: 045ffedbd437009cab794d412571b2_jumbo.jpg\n",
      "pred [[0.04261177 0.953655   0.00373315]]\n",
      "Prediction: pneumonia\n",
      "Confidence\n",
      "Normal: 0.043 Pneumonia: 0.954 Covid-19: 0.004\n",
      "Current img: 616f829f195d0cd856616586c7c35e_jumbo.jpeg\n"
     ]
    },
    {
     "name": "stderr",
     "output_type": "stream",
     "text": [
      "/opt/apps/apps/binapps/anaconda3/2019.07-numpy-fix/lib/python3.7/site-packages/ipykernel_launcher.py:196: RuntimeWarning: invalid value encountered in true_divide\n"
     ]
    },
    {
     "name": "stdout",
     "output_type": "stream",
     "text": [
      "pred [[0.00814612 0.9902434  0.00161055]]\n",
      "Prediction: pneumonia\n",
      "Confidence\n",
      "Normal: 0.008 Pneumonia: 0.990 Covid-19: 0.002\n",
      "Current img: 71b364138ea4986831b3778081cd2e_jumbo.jpeg\n"
     ]
    },
    {
     "name": "stderr",
     "output_type": "stream",
     "text": [
      "/opt/apps/apps/binapps/anaconda3/2019.07-numpy-fix/lib/python3.7/site-packages/ipykernel_launcher.py:196: RuntimeWarning: invalid value encountered in true_divide\n"
     ]
    },
    {
     "name": "stdout",
     "output_type": "stream",
     "text": [
      "pred [[1.9878137e-06 9.9999237e-01 5.6402146e-06]]\n",
      "Prediction: pneumonia\n",
      "Confidence\n",
      "Normal: 0.000 Pneumonia: 1.000 Covid-19: 0.000\n",
      "Current img: c7c4f142dea9fcabbb660318f07cbb_jumbo.jpeg\n",
      "pred [[0.00246184 0.17864488 0.8188933 ]]\n",
      "Prediction: COVID-19\n",
      "Confidence\n",
      "Normal: 0.002 Pneumonia: 0.179 Covid-19: 0.819\n",
      "Current img: 180e8fe6c27840acf913013a23328a_jumbo.jpeg\n",
      "pred [[0.52170324 0.4664178  0.011879  ]]\n",
      "Prediction: normal\n",
      "Confidence\n",
      "Normal: 0.522 Pneumonia: 0.466 Covid-19: 0.012\n",
      "Current img: ffad3e6c27fe36031249c81647800f_jumbo.jpeg\n"
     ]
    },
    {
     "name": "stderr",
     "output_type": "stream",
     "text": [
      "/opt/apps/apps/binapps/anaconda3/2019.07-numpy-fix/lib/python3.7/site-packages/ipykernel_launcher.py:196: RuntimeWarning: invalid value encountered in true_divide\n"
     ]
    },
    {
     "name": "stdout",
     "output_type": "stream",
     "text": [
      "pred [[0.50389254 0.2301241  0.26598328]]\n",
      "Prediction: normal\n",
      "Confidence\n",
      "Normal: 0.504 Pneumonia: 0.230 Covid-19: 0.266\n",
      "Current img: 1936394ff48c23fd353a83c5abb0ac_jumbo.jpeg\n",
      "pred [[0.07116002 0.4557423  0.47309777]]\n",
      "Prediction: COVID-19\n",
      "Confidence\n",
      "Normal: 0.071 Pneumonia: 0.456 Covid-19: 0.473\n",
      "Current img: b2f42e0cdfcbe32f189eb467b05e24_jumbo.jpg\n"
     ]
    },
    {
     "name": "stderr",
     "output_type": "stream",
     "text": [
      "/opt/apps/apps/binapps/anaconda3/2019.07-numpy-fix/lib/python3.7/site-packages/ipykernel_launcher.py:196: RuntimeWarning: invalid value encountered in true_divide\n"
     ]
    },
    {
     "name": "stdout",
     "output_type": "stream",
     "text": [
      "pred [[0.00762599 0.953047   0.03932706]]\n",
      "Prediction: pneumonia\n",
      "Confidence\n",
      "Normal: 0.008 Pneumonia: 0.953 Covid-19: 0.039\n",
      "Current img: ca21ce8053252fb93cbbe0f7729ce3_jumbo.jpg\n",
      "pred [[0.21512681 0.6502771  0.13459614]]\n",
      "Prediction: pneumonia\n",
      "Confidence\n",
      "Normal: 0.215 Pneumonia: 0.650 Covid-19: 0.135\n",
      "Current img: 078d2e0b3e4fec1d603efb0e818c31_jumbo.jpeg\n"
     ]
    },
    {
     "name": "stderr",
     "output_type": "stream",
     "text": [
      "/opt/apps/apps/binapps/anaconda3/2019.07-numpy-fix/lib/python3.7/site-packages/ipykernel_launcher.py:196: RuntimeWarning: invalid value encountered in true_divide\n"
     ]
    },
    {
     "name": "stdout",
     "output_type": "stream",
     "text": [
      "pred [[1.0302364e-06 3.4750096e-04 9.9965143e-01]]\n",
      "Prediction: COVID-19\n",
      "Confidence\n",
      "Normal: 0.000 Pneumonia: 0.000 Covid-19: 1.000\n",
      "Current img: 8f46c8ad3d40a93b4a313f15092e1d_jumbo.jpeg\n",
      "pred [[0.00513895 0.9604231  0.03443796]]\n",
      "Prediction: pneumonia\n",
      "Confidence\n",
      "Normal: 0.005 Pneumonia: 0.960 Covid-19: 0.034\n",
      "Current img: 2833d6b457f9dbf13b3625b174a135_jumbo.jpeg\n",
      "pred [[0.01826964 0.9641484  0.01758195]]\n",
      "Prediction: pneumonia\n",
      "Confidence\n",
      "Normal: 0.018 Pneumonia: 0.964 Covid-19: 0.018\n",
      "Current img: bc370d0566b31259c2d9544748eb21_jumbo.jpeg\n"
     ]
    },
    {
     "name": "stderr",
     "output_type": "stream",
     "text": [
      "/opt/apps/apps/binapps/anaconda3/2019.07-numpy-fix/lib/python3.7/site-packages/ipykernel_launcher.py:196: RuntimeWarning: invalid value encountered in true_divide\n"
     ]
    },
    {
     "name": "stdout",
     "output_type": "stream",
     "text": [
      "pred [[0.00327237 0.25944364 0.737284  ]]\n",
      "Prediction: COVID-19\n",
      "Confidence\n",
      "Normal: 0.003 Pneumonia: 0.259 Covid-19: 0.737\n",
      "Current img: 3e9d9c9b02b9bcd81c851134667e76_jumbo.jpg\n",
      "pred [[3.5450028e-03 9.9591076e-01 5.4417545e-04]]\n",
      "Prediction: pneumonia\n",
      "Confidence\n",
      "Normal: 0.004 Pneumonia: 0.996 Covid-19: 0.001\n",
      "Current img: 2fc8a7c61c76f13ee7f9306b44e792_jumbo.jpg\n"
     ]
    },
    {
     "name": "stderr",
     "output_type": "stream",
     "text": [
      "/opt/apps/apps/binapps/anaconda3/2019.07-numpy-fix/lib/python3.7/site-packages/ipykernel_launcher.py:196: RuntimeWarning: invalid value encountered in true_divide\n"
     ]
    },
    {
     "name": "stdout",
     "output_type": "stream",
     "text": [
      "pred [[0.00889014 0.95821434 0.03289552]]\n",
      "Prediction: pneumonia\n",
      "Confidence\n",
      "Normal: 0.009 Pneumonia: 0.958 Covid-19: 0.033\n",
      "Current img: 92d755fba55c3305419b5cac83fbf5_jumbo.jpg\n"
     ]
    },
    {
     "name": "stderr",
     "output_type": "stream",
     "text": [
      "/opt/apps/apps/binapps/anaconda3/2019.07-numpy-fix/lib/python3.7/site-packages/ipykernel_launcher.py:196: RuntimeWarning: invalid value encountered in true_divide\n"
     ]
    },
    {
     "name": "stdout",
     "output_type": "stream",
     "text": [
      "pred [[0.58847857 0.3367354  0.07478609]]\n",
      "Prediction: normal\n",
      "Confidence\n",
      "Normal: 0.588 Pneumonia: 0.337 Covid-19: 0.075\n",
      "Current img: 6ffc98957c18d4e3f2da8da48105e3_jumbo.jpg\n"
     ]
    },
    {
     "name": "stderr",
     "output_type": "stream",
     "text": [
      "/opt/apps/apps/binapps/anaconda3/2019.07-numpy-fix/lib/python3.7/site-packages/ipykernel_launcher.py:196: RuntimeWarning: invalid value encountered in true_divide\n"
     ]
    },
    {
     "name": "stdout",
     "output_type": "stream",
     "text": [
      "pred [[0.24700785 0.5278249  0.22516723]]\n",
      "Prediction: pneumonia\n",
      "Confidence\n",
      "Normal: 0.247 Pneumonia: 0.528 Covid-19: 0.225\n",
      "Current img: dc025523f07c043550a2c9de68ae50_jumbo.jpeg\n"
     ]
    },
    {
     "name": "stderr",
     "output_type": "stream",
     "text": [
      "/opt/apps/apps/binapps/anaconda3/2019.07-numpy-fix/lib/python3.7/site-packages/ipykernel_launcher.py:196: RuntimeWarning: invalid value encountered in true_divide\n"
     ]
    },
    {
     "name": "stdout",
     "output_type": "stream",
     "text": [
      "pred [[1.6849837e-04 8.1585664e-03 9.9167293e-01]]\n",
      "Prediction: COVID-19\n",
      "Confidence\n",
      "Normal: 0.000 Pneumonia: 0.008 Covid-19: 0.992\n",
      "Current img: 8b7aeaa2063bf9a12ed6b79c173f4e_jumbo.jpeg\n",
      "pred [[0.00229041 0.001295   0.99641454]]\n",
      "Prediction: COVID-19\n",
      "Confidence\n",
      "Normal: 0.002 Pneumonia: 0.001 Covid-19: 0.996\n",
      "Current img: c94ef38ddb2d94aa11828716777139_jumbo.jpeg\n",
      "pred [[1.9461986e-06 4.0725116e-03 9.9592555e-01]]\n",
      "Prediction: COVID-19\n",
      "Confidence\n",
      "Normal: 0.000 Pneumonia: 0.004 Covid-19: 0.996\n",
      "Current img: 1538fbfe9d0872739b00f5a51e4fdc_jumbo.jpeg\n",
      "pred [[0.15040927 0.6487642  0.20082651]]\n",
      "Prediction: pneumonia\n",
      "Confidence\n",
      "Normal: 0.150 Pneumonia: 0.649 Covid-19: 0.201\n",
      "Current img: 49eca411aa2d4ccd73df21a209a551_jumbo.jpeg\n",
      "pred [[0.08536081 0.5387788  0.37586042]]\n",
      "Prediction: pneumonia\n",
      "Confidence\n",
      "Normal: 0.085 Pneumonia: 0.539 Covid-19: 0.376\n",
      "Current img: 7a7044c64a87936f09fee9a7f5c5fa_jumbo.jpeg\n"
     ]
    },
    {
     "name": "stderr",
     "output_type": "stream",
     "text": [
      "/opt/apps/apps/binapps/anaconda3/2019.07-numpy-fix/lib/python3.7/site-packages/ipykernel_launcher.py:196: RuntimeWarning: invalid value encountered in true_divide\n"
     ]
    },
    {
     "name": "stdout",
     "output_type": "stream",
     "text": [
      "pred [[0.14540944 0.12841085 0.7261798 ]]\n",
      "Prediction: COVID-19\n",
      "Confidence\n",
      "Normal: 0.145 Pneumonia: 0.128 Covid-19: 0.726\n",
      "Current img: 2b4425e4afe32fa5e047fcac58f8e9_jumbo.jpeg\n"
     ]
    },
    {
     "name": "stderr",
     "output_type": "stream",
     "text": [
      "/opt/apps/apps/binapps/anaconda3/2019.07-numpy-fix/lib/python3.7/site-packages/ipykernel_launcher.py:196: RuntimeWarning: invalid value encountered in true_divide\n"
     ]
    },
    {
     "name": "stdout",
     "output_type": "stream",
     "text": [
      "pred [[0.08963137 0.28202513 0.62834346]]\n",
      "Prediction: COVID-19\n",
      "Confidence\n",
      "Normal: 0.090 Pneumonia: 0.282 Covid-19: 0.628\n",
      "Current img: 4e74cbafeab0bfd317a93e1aace6cf_jumbo.jpg\n"
     ]
    },
    {
     "name": "stderr",
     "output_type": "stream",
     "text": [
      "/opt/apps/apps/binapps/anaconda3/2019.07-numpy-fix/lib/python3.7/site-packages/ipykernel_launcher.py:196: RuntimeWarning: invalid value encountered in true_divide\n"
     ]
    },
    {
     "name": "stdout",
     "output_type": "stream",
     "text": [
      "pred [[9.4432402e-01 5.5356596e-02 3.1939210e-04]]\n",
      "Prediction: normal\n",
      "Confidence\n",
      "Normal: 0.944 Pneumonia: 0.055 Covid-19: 0.000\n",
      "Current img: e0e3a6526a3fecadfca2be13242798_jumbo.jpg\n"
     ]
    },
    {
     "name": "stderr",
     "output_type": "stream",
     "text": [
      "/opt/apps/apps/binapps/anaconda3/2019.07-numpy-fix/lib/python3.7/site-packages/ipykernel_launcher.py:196: RuntimeWarning: invalid value encountered in true_divide\n"
     ]
    },
    {
     "name": "stdout",
     "output_type": "stream",
     "text": [
      "pred [[0.00604157 0.03199017 0.9619683 ]]\n",
      "Prediction: COVID-19\n",
      "Confidence\n",
      "Normal: 0.006 Pneumonia: 0.032 Covid-19: 0.962\n",
      "Current img: 2264f643b18b1010ec10a850f17550_jumbo.jpeg\n",
      "pred [[9.3517831e-04 9.9872106e-01 3.4375378e-04]]\n",
      "Prediction: pneumonia\n",
      "Confidence\n",
      "Normal: 0.001 Pneumonia: 0.999 Covid-19: 0.000\n",
      "Current img: 800f798a58d0cbcc72eb234f192461_jumbo.jpeg\n",
      "pred [[0.04689778 0.09971409 0.85338813]]\n",
      "Prediction: COVID-19\n",
      "Confidence\n",
      "Normal: 0.047 Pneumonia: 0.100 Covid-19: 0.853\n",
      "Current img: 55f5189d2c23688ac8dc1d58eb65cf_jumbo.jpg\n",
      "pred [[0.89056486 0.0932196  0.01621554]]\n",
      "Prediction: normal\n",
      "Confidence\n",
      "Normal: 0.891 Pneumonia: 0.093 Covid-19: 0.016\n",
      "Current img: d2cdf41a662113279d2ec21af3a4e2_jumbo.jpg\n"
     ]
    },
    {
     "name": "stderr",
     "output_type": "stream",
     "text": [
      "/opt/apps/apps/binapps/anaconda3/2019.07-numpy-fix/lib/python3.7/site-packages/ipykernel_launcher.py:196: RuntimeWarning: invalid value encountered in true_divide\n"
     ]
    },
    {
     "name": "stdout",
     "output_type": "stream",
     "text": [
      "pred [[0.00243982 0.01286907 0.9846911 ]]\n",
      "Prediction: COVID-19\n",
      "Confidence\n",
      "Normal: 0.002 Pneumonia: 0.013 Covid-19: 0.985\n",
      "Current img: 16953_1_1.jpg\n",
      "pred [[1.5363959e-04 6.3890494e-02 9.3595582e-01]]\n",
      "Prediction: COVID-19\n",
      "Confidence\n",
      "Normal: 0.000 Pneumonia: 0.064 Covid-19: 0.936\n",
      "Current img: 16953_3_1.jpg\n",
      "pred [[0.00343888 0.9495025  0.0470585 ]]\n",
      "Prediction: pneumonia\n",
      "Confidence\n",
      "Normal: 0.003 Pneumonia: 0.950 Covid-19: 0.047\n",
      "Current img: 16953_4_1.jpg\n"
     ]
    },
    {
     "name": "stderr",
     "output_type": "stream",
     "text": [
      "/opt/apps/apps/binapps/anaconda3/2019.07-numpy-fix/lib/python3.7/site-packages/ipykernel_launcher.py:196: RuntimeWarning: invalid value encountered in true_divide\n"
     ]
    },
    {
     "name": "stdout",
     "output_type": "stream",
     "text": [
      "pred [[0.00546999 0.65027446 0.3442556 ]]\n",
      "Prediction: pneumonia\n",
      "Confidence\n",
      "Normal: 0.005 Pneumonia: 0.650 Covid-19: 0.344\n",
      "Current img: 16953_5_1.jpg\n"
     ]
    },
    {
     "name": "stderr",
     "output_type": "stream",
     "text": [
      "/opt/apps/apps/binapps/anaconda3/2019.07-numpy-fix/lib/python3.7/site-packages/ipykernel_launcher.py:196: RuntimeWarning: invalid value encountered in true_divide\n"
     ]
    },
    {
     "name": "stdout",
     "output_type": "stream",
     "text": [
      "pred [[0.5070544  0.47999707 0.01294862]]\n",
      "Prediction: normal\n",
      "Confidence\n",
      "Normal: 0.507 Pneumonia: 0.480 Covid-19: 0.013\n",
      "Current img: 16892_2_1.png\n"
     ]
    },
    {
     "name": "stderr",
     "output_type": "stream",
     "text": [
      "/opt/apps/apps/binapps/anaconda3/2019.07-numpy-fix/lib/python3.7/site-packages/ipykernel_launcher.py:196: RuntimeWarning: invalid value encountered in true_divide\n"
     ]
    },
    {
     "name": "stdout",
     "output_type": "stream",
     "text": [
      "pred [[0.00839365 0.09434158 0.8972648 ]]\n",
      "Prediction: COVID-19\n",
      "Confidence\n",
      "Normal: 0.008 Pneumonia: 0.094 Covid-19: 0.897\n",
      "Current img: 16883_1_1.png\n",
      "pred [[8.891618e-04 6.625607e-02 9.328548e-01]]\n",
      "Prediction: COVID-19\n",
      "Confidence\n",
      "Normal: 0.001 Pneumonia: 0.066 Covid-19: 0.933\n",
      "Current img: 2edb88df42cab5e5fbc18b3965e0bd_jumbo.jpeg\n",
      "pred [[1.4569833e-04 2.1920669e-01 7.8064758e-01]]\n",
      "Prediction: COVID-19\n",
      "Confidence\n",
      "Normal: 0.000 Pneumonia: 0.219 Covid-19: 0.781\n",
      "Current img: 16858_1_1.png\n",
      "pred [[2.9720506e-05 1.9411837e-01 8.0585188e-01]]\n",
      "Prediction: COVID-19\n",
      "Confidence\n",
      "Normal: 0.000 Pneumonia: 0.194 Covid-19: 0.806\n",
      "Current img: 16858_3_1.png\n",
      "pred [[5.329590e-05 9.699784e-03 9.902469e-01]]\n",
      "Prediction: COVID-19\n",
      "Confidence\n",
      "Normal: 0.000 Pneumonia: 0.010 Covid-19: 0.990\n",
      "Current img: 16865_1_1.jpg\n",
      "pred [[0.0000000e+00 3.5922556e-33 1.0000000e+00]]\n",
      "Prediction: COVID-19\n",
      "Confidence\n",
      "Normal: 0.000 Pneumonia: 0.000 Covid-19: 1.000\n",
      "Current img: 16865_1_2.jpg\n",
      "pred [[9.8419778e-20 1.9831923e-11 1.0000000e+00]]\n",
      "Prediction: COVID-19\n",
      "Confidence\n",
      "Normal: 0.000 Pneumonia: 0.000 Covid-19: 1.000\n",
      "Current img: bdc40f9ad2395d88c92479089f5d1b_jumbo-10.jpeg\n",
      "pred [[6.2234015e-08 3.2877509e-04 9.9967122e-01]]\n",
      "Prediction: COVID-19\n",
      "Confidence\n",
      "Normal: 0.000 Pneumonia: 0.000 Covid-19: 1.000\n",
      "Current img: 15d081345df9ca620ebe5e76023775_jumbo-10.jpeg\n",
      "pred [[3.6462668e-06 8.4766123e-04 9.9914873e-01]]\n",
      "Prediction: COVID-19\n",
      "Confidence\n",
      "Normal: 0.000 Pneumonia: 0.001 Covid-19: 0.999\n",
      "Current img: 02b973e10caa192fd4e6825ad4aeaf_jumbo-10.jpeg\n",
      "pred [[1.6063304e-05 2.2462172e-04 9.9975938e-01]]\n",
      "Prediction: COVID-19\n",
      "Confidence\n",
      "Normal: 0.000 Pneumonia: 0.000 Covid-19: 1.000\n",
      "Current img: d2c8a74b37d8d1581ea2a8fe865ef3_jumbo-10.jpeg\n",
      "pred [[2.3244243e-06 1.8615363e-05 9.9997902e-01]]\n",
      "Prediction: COVID-19\n",
      "Confidence\n",
      "Normal: 0.000 Pneumonia: 0.000 Covid-19: 1.000\n",
      "Current img: 072ecaf8c60a81980abb57150a8016_jumbo-9.jpeg\n",
      "pred [[0.04248372 0.95511436 0.00240199]]\n",
      "Prediction: pneumonia\n",
      "Confidence\n",
      "Normal: 0.042 Pneumonia: 0.955 Covid-19: 0.002\n",
      "Current img: ff33c406392b968d483174c97eb857_jumbo-9.jpeg\n",
      "pred [[0.9848188  0.01294083 0.00224029]]\n",
      "Prediction: normal\n",
      "Confidence\n",
      "Normal: 0.985 Pneumonia: 0.013 Covid-19: 0.002\n",
      "Current img: 000001-266.jpg\n"
     ]
    },
    {
     "name": "stderr",
     "output_type": "stream",
     "text": [
      "/opt/apps/apps/binapps/anaconda3/2019.07-numpy-fix/lib/python3.7/site-packages/ipykernel_launcher.py:196: RuntimeWarning: invalid value encountered in true_divide\n"
     ]
    },
    {
     "name": "stdout",
     "output_type": "stream",
     "text": [
      "pred [[0.00270937 0.07752813 0.91976243]]\n",
      "Prediction: COVID-19\n",
      "Confidence\n",
      "Normal: 0.003 Pneumonia: 0.078 Covid-19: 0.920\n",
      "Current img: 000001-272.jpg\n",
      "pred [[0.01080808 0.9832003  0.00599154]]\n",
      "Prediction: pneumonia\n",
      "Confidence\n",
      "Normal: 0.011 Pneumonia: 0.983 Covid-19: 0.006\n",
      "Current img: 000002-268.jpg\n"
     ]
    },
    {
     "name": "stderr",
     "output_type": "stream",
     "text": [
      "/opt/apps/apps/binapps/anaconda3/2019.07-numpy-fix/lib/python3.7/site-packages/ipykernel_launcher.py:196: RuntimeWarning: invalid value encountered in true_divide\n"
     ]
    },
    {
     "name": "stdout",
     "output_type": "stream",
     "text": [
      "pred [[0.0553717  0.27335957 0.67126876]]\n",
      "Prediction: COVID-19\n",
      "Confidence\n",
      "Normal: 0.055 Pneumonia: 0.273 Covid-19: 0.671\n"
     ]
    }
   ],
   "source": [
    "iou_list_all = []\n",
    "cal_red_list = []\n",
    "for i in range(len(pd_reader)):\n",
    "  '''/////////////////////////main_grad use/////////////////////////////'''\n",
    "  num = i\n",
    "  temp_name = pd_reader['filename'][num]\n",
    "  # temp_name = './assets/ex-covid.jpeg'\n",
    "  print(\"Current img:\", temp_name)\n",
    "  temp_img = cv.imread('./covid-chestxray-dataset-master/images/' + temp_name)\n",
    "  if temp_img is None:\n",
    "    temp_name = \"white.png\"\n",
    "    img_m, new_im_2, cam3_resize = main_grad(temp_name)\n",
    "\n",
    "  # img_m = cv.resize(img_m, (224, 224))\n",
    "  # cv2_imshow(img_m)\n",
    "  else:\n",
    "    img_m, new_im_2, cam3_resize = main_grad('./covid-chestxray-dataset-master/images/' + temp_name)\n",
    "    \n",
    "#   write imgs\n",
    "#   cv2.imwrite(\"./output_900_iou_smaller/\"+temp_name,img_m)\n",
    "  cv2.imwrite(\"./output_900_iou_bigger/ex-\"+temp_name,new_im_2)\n",
    "  # print(i, PCR_result_all[num])\n",
    "  '''/////////////////////////main_grad use/////////////////////////////'''\n",
    "\n",
    "\n",
    "#   '''/////////////////////////show grad-cam area/////////////////////////////'''\n",
    "#   img = cam3_resize\n",
    "\n",
    "#   gray = cv2.cvtColor(img,cv2.COLOR_BGR2GRAY)\n",
    "#   hsv = cv2.cvtColor(img, cv2.COLOR_BGR2HSV)\n",
    "\n",
    "#   binary = cv2.inRange(gray,45,80)\n",
    "# #   upper_blue = np.array([110,255,255])\n",
    "\n",
    "# #   binary = cv2.inRange(hsv, np.array([0,0,0]), upper_blue)\n",
    "    \n",
    "#   cal_red = 0\n",
    "#   total_cal = 0\n",
    "#   for j in range(binary.shape[0]):\n",
    "#     for i in range(binary.shape[1]):\n",
    "#       if binary[j][i] == 255:\n",
    "#         cal_red += 1\n",
    "#       total_cal += 1\n",
    "#   per_red = cal_red / total_cal\n",
    "#   cal_red_list.append(per_red)\n",
    "# #   print(\"total_cal, \", total_cal)\n",
    "# #   print(\"cal_red\", per_red)\n",
    "# #   print(\"blud per: \", 1-per_red)\n",
    "\n",
    "#   # cv2_imshow(binary)\n",
    "#   contours, hierarchy = cv2.findContours(binary,cv2.RETR_EXTERNAL,cv2.CHAIN_APPROX_SIMPLE)\n",
    "#   # print(contours)\n",
    "#   if len(contours) > 0:\n",
    "#     cnt = contours[0]\n",
    "#     x, y, w, h = cv2.boundingRect(cnt)\n",
    "#     img_new = cv2.rectangle(img, (x, y), (x + w, y + h), (0, 255, 255), 1)\n",
    "#     # cv2_imshow(img_new)\n",
    "#   else:\n",
    "#     x, y, w, h = 0, 0, 0, 0\n",
    "#   '''/////////////////////////show grad-cam area/////////////////////////////'''\n",
    "\n",
    "#   '''/////////////////////////main-result/////////////////////////////'''\n",
    "\n",
    "#   image = new_im_2\n",
    "#   # draw the ground-truth bounding box along with the predicted\n",
    "\n",
    "#   # bounding box\n",
    "#   detection1 = [50, 50, 200, 150] #15, 15, 200, 200\n",
    "#   detection2 = [x, y, x + w, y + h]\n",
    "#   start_point1 = [50, 50]  #10,10\n",
    "#   end_point1 = [200, 150]  #200,150\n",
    "#   color1 = (0, 255, 0)\n",
    "#   start_point2 = [x, y]   # 137\n",
    "#   end_point2 = [x+w, y+h]  # 188\n",
    "#   color2 = (0, 0, 255)\n",
    "#   thickness = 2\n",
    "\n",
    "#   cv2.rectangle(image, start_point1, end_point1, color1, thickness)\n",
    "#   cv2.rectangle(image, start_point2, end_point2, color2, thickness)\n",
    "\n",
    "\n",
    "\n",
    "#   # compute the intersection over union and display it\n",
    "#   iou = bb_intersection_over_union(detection1, detection2)\n",
    "#   # iou = bb_intersection_over_union(detection.gt, detection.pred)\n",
    "#   cv2.putText(image, \"IoU: {:.4f}\".format(iou), (10, 30),\n",
    "#     cv2.FONT_HERSHEY_SIMPLEX, 0.6, (0, 255, 0), 2)\n",
    "\n",
    "#   # show the output image\n",
    "#   # cv2_imshow(image)\n",
    "#   iou_list_all.append(iou)\n",
    "\n",
    "  \n",
    "#   if temp_img is None:\n",
    "#     pass\n",
    "#   else:\n",
    "#     cv2.imwrite(\"./output_900_iou_smaller/IOU_\"+temp_name, image)\n",
    "\n",
    "\n",
    "  '''/////////////////////////main-result/////////////////////////////'''\n"
   ]
  },
  {
   "cell_type": "code",
   "execution_count": 42,
   "metadata": {},
   "outputs": [
    {
     "data": {
      "text/plain": [
       "50176"
      ]
     },
     "execution_count": 42,
     "metadata": {},
     "output_type": "execute_result"
    }
   ],
   "source": [
    "# total_cal"
   ]
  },
  {
   "cell_type": "code",
   "execution_count": 45,
   "metadata": {
    "colab": {
     "base_uri": "https://localhost:8080/"
    },
    "id": "e9fCHLUaL4Cw",
    "outputId": "42ef74ed-2f7e-44ee-85b0-abdeecb9df53"
   },
   "outputs": [
    {
     "name": "stdout",
     "output_type": "stream",
     "text": [
      "[0.0, 0.0, 0.0, 0.0, 0.3772597021261542, 0.0, 0.0, 0.0, 0.223553385096441, 0.05232885276648953, 0.0, 0.0, 0.0, 0.1912355374378035, 0.0, 0.0, 0.0, 0.08250846158758542, 0.010818962690971084, 0.03840909090909091, 0.40947778225265136, 0.0, 0.0, 0.07303811997825167, 0.03232821959677894, 0.10980140347658579, 0.06783422588893713, 0.2414445399828031, 0.5198458809858725, 0.0, 0.4077718899823366, 0.008823697931587693, 0.014818067065473903, 0.0, 0.03624180076447549, 0.0, 0.0, 0.0, 0.11398268926002682, 0.0, 0.0, 0.0, 0.0, 0.3822016703628557, 0.11398268926002682, 0.0, 0.13516539440203562, 0.0, 0.03488295849452495, 0.0, 0.11464237946627603, 0.04552499031383185, 0.0798636155006229, 0.0, 0.0, 0.0, 0.0, 0.036485253876558224, 0.05881581535637007, 0.0, 0.0, 0.3524995920143611, 0.033047013310602585, 0.37192772116125716, 0.26343931466681997, 0.0, 0.0, 0.07988655164263768, 0.08488661996913213, 0.0, 0.0, 0.010435937574118875, 0.0, 0.0, 0.0, 0.0, 0.3362220400515283, 0.03840909090909091, 0.009442003803029309, 0.0, 0.0, 0.0, 0.0, 0.03840909090909091, 0.02820673542652003, 0.02119740079490253, 0.1570252827284031, 0.0, 0.1428103075208183, 0.0, 0.0, 0.0, 0.0, 0.0, 0.042620156055340634, 0.0, 0.0027338410466705722, 0.0, 0.04074702886247878, 0.0, 0.0, 0.059673247965684725, 0.19834764933446988, 0.08353114775133123, 0.0, 0.0, 0.39408268733850127, 0.0, 0.0, 0.40369857173310597, 0.0, 0.0, 0.0, 0.0, 0.27447841775414417, 0.0, 0.0, 0.0, 0.0, 0.0, 0.026162218870893712, 0.0, 0.0, 0.009930956209212144, 0.0, 0.027595610674631517, 0.0, 0.0, 0.0, 0.0, 0.0, 0.0, 0.03143655531563572, 0.0, 0.0, 0.5424639140651225, 0.0006033485846447785, 0.0, 0.0, 0.0, 0.0, 0.0, 0.0, 0.01071087025820848, 0.0, 0.10397591101825109, 0.0, 0.1264942128897603, 0.14058094551176972, 0.0, 0.0, 0.0, 0.023018172241243088, 0.0, 0.06387401574803149, 0.0, 0.0, 0.04734115795685529, 0.0, 0.0, 0.0, 0.0, 0.0, 0.011639436133982843, 0.023408301095010162, 0.0, 0.0, 0.08451252758665455, 0.008840267418089397, 0.29845526971963754, 0.08153502157974105, 0.040412679745549795, 0.0, 0.0, 0.0005849853753656159, 0.19538591147689716, 0.0, 0.0, 0.0, 0.0, 0.2854136727571341, 0.0, 0.1833988592945346, 0.0, 0.0, 0.0, 0.034923604614904895, 0.0792176640629805, 0.07691804137208694, 0.11704274445055952, 0.036987402841061376, 0.007081502852271982, 0.0, 0.0, 0.04822633566520151, 0.0, 0.0, 0.35190292333149475, 0.0, 0.0, 0.0, 0.0, 0.059873209673632306, 0.024368812606174215, 0.0, 0.023076923076923078, 0.0, 0.022001047668936617, 0.014914470079746759, 0.0, 0.0, 0.0, 0.0072930594384344235, 0.4034495571932867, 0.008237338310058562, 0.0, 0.08484629667835775, 0.0, 0.015867811946757588, 0.0, 0.1371057635564881, 0.0754478930103457, 0.26424159231297184, 0.0, 0.0, 0.0, 0.0, 0.0, 0.0, 0.0, 0.0, 0.0, 0.0, 0.0, 0.0, 0.0, 0.0, 0.0, 0.0, 0.0, 0.0, 0.0, 0.0, 0.0, 0.0, 0.0, 0.0, 0.0, 0.1857882654423149, 0.0, 0.22057569995410137, 0.07361831897704778, 0.040002150653260925, 0.0, 0.0, 0.021322908800142152, 0.03625430556366396, 0.0, 0.0, 0.0018335406980551372, 0.0, 0.007058974523519219, 0.05620506408252579, 0.013396690902845365, 0.0, 0.0, 0.1476600225102567, 0.04412388629613916, 0.2876057018603527, 0.0, 0.0, 0.0, 0.007234979553318654, 0.0, 0.3076681431219175, 0.04603286234895467, 0.0, 0.0, 0.0, 0.0, 0.0, 0.0, 0.0, 0.10253754531330916, 0.0, 0.04112801394985269, 0.0, 0.5603378268637323, 0.0, 0.28215008817190257, 0.022047856818623954, 0.0, 0.0, 0.02982298614674192, 0.1707363002950223, 0.0, 0.02291342143610874, 0.0428277434785027, 0.0, 0.07105378224748579, 0.0, 0.0005847193347193348, 0.008325449385052034, 0.16065205835449767, 0.05854892044349348, 0.07435498912029842, 0.0, 0.03809461578672243, 0.0, 0.0, 0.04602976853976788, 0.0, 0.0, 0.02426233651355279, 0.0, 0.031000941324129276, 0.0, 0.1622227274203501, 0.0, 0.0, 0.007735547418905678, 0.0, 0.0, 0.010228837453281752, 0.0, 0.0, 0.0, 0.0005840363400389357, 0.04373840722790642, 0.0, 0.005969957632558737, 0.017766196849461093, 0.09924615658574226, 0.4265826109797741, 0.0016392367713592552, 0.0, 0.012673168913462136, 0.0, 0.0, 0.09255298463931558, 0.0, 0.0, 0.0, 0.021827575072650953, 0.0, 0.0, 0.0, 0.0, 0.0, 0.3575940454636894, 0.0, 0.00058350622406639, 0.267579138557343, 0.0, 0.0, 0.0, 0.0, 0.0, 0.07678883071553229, 0.0, 0.004737897102593695, 0.0, 0.0, 0.022268660615163586, 0.005618306314742202, 0.00846872843610815, 0.0, 0.0, 0.0, 0.0018567803428854366, 0.0, 0.0, 0.00572309046885318, 0.0, 0.0, 0.00572309046885318, 0.0, 0.0, 0.010594303238697086, 0.0, 0.0, 0.0, 0.11398268926002682, 0.0, 0.0, 0.0, 0.0, 0.016959102472115323, 0.0, 0.0, 0.19559848526425552, 0.03840909090909091, 0.0, 0.000129315918789603, 0.0, 0.006055268083232412, 0.15893531255998464, 0.0, 0.09798994974874371, 0.0, 0.05057448196277156, 0.014742440885702724, 0.0, 0.0, 0.0, 0.0, 0.0, 0.0, 0.008208916936021753, 0.0, 0.0, 0.0, 0.0, 0.0, 0.0, 0.0, 0.0, 0.0, 0.018507298264940786, 0.0, 0.0, 0.0, 0.0, 0.0, 0.0, 0.0, 0.19834764933446988, 0.0, 0.0, 0.017111315547378107, 0.0, 0.41985450586430445, 0.0, 0.0, 0.0, 0.01635273454060929, 0.013619184152222078, 0.0, 0.051596091205211726, 0.0, 0.0, 0.0, 0.07900743255106221, 0.2885056717592289, 0.138679430856993, 0.0, 0.0, 0.0, 0.0, 0.22406194163192378, 0.0, 0.0498637444193193, 0.1067539497702524, 0.08851878565339978, 0.0009835420628155531, 0.08098824947273275, 0.08452320244773075, 0.047122094884435625, 0.0041080133647368134, 0.0, 0.0, 0.03826577543386276, 0.0, 0.025523859259742803, 0.0, 0.0, 0.0, 0.009465894096724227, 0.0, 0.17870605768387832, 0.0, 0.012991975544516622, 0.0, 0.039093519027548713, 0.0, 0.0, 0.0, 0.0, 0.0, 0.0, 0.04859229591235717, 0.0, 0.0, 0.0, 0.16608720433171845, 0.0, 0.0, 0.17677493532624317, 0.0, 0.0, 0.09533121486189196, 0.0, 0.0, 0.2609147009631467, 0.03638490026638945, 0.11714354412118298, 0.0, 0.0, 0.012001615602100283, 0.0, 0.0, 0.0, 0.010697121595783163, 0.10601631691461978, 0.0, 0.0, 0.0, 0.0, 0.0, 0.0, 0.0, 0.04870703764320786, 0.0, 0.41517857142857145, 0.0, 0.0475378663694184, 0.0, 0.0, 0.03793490460157127, 0.0005847193347193348, 0.0, 0.02715064227325808, 0.0, 0.0, 0.0, 0.0, 0.002295479181279092, 0.0, 0.0, 0.03840909090909091, 0.0, 0.08488661996913213, 0.17588148148148147, 0.0, 0.053261364375365806, 0.0, 0.0, 0.09876676763305928, 0.0, 0.019432901491077976, 0.34512707990491864, 0.0, 0.08488661996913213, 0.005738158755725575, 0.0, 0.0, 0.27262756567608504, 0.3855349070818684, 0.2527566497142086, 0.09114028862077123, 0.3181519699812383, 0.0, 0.0, 0.0, 0.0, 0.0, 0.0, 0.0, 0.0, 0.000842350806712888, 0.016990132653728028, 0.0, 0.0, 0.026479934094386252, 0.0, 0.08393782383419689, 0.028861115293881443, 0.0, 0.0, 0.08260175578611333, 0.0005856324830817283, 0.0, 0.0, 0.0, 0.06952655247334646, 0.0, 0.0, 0.0, 0.0, 0.0, 0.0, 0.02261617291948878, 0.0, 0.015001948304974672, 0.0, 0.0, 0.0, 0.0, 0.0, 0.0, 0.0014414813993457892, 0.0, 0.0, 0.0, 0.0005835818959927377, 0.5059132720105125, 0.10228837453281751, 0.013742556115437472, 0.06981842711788183, 0.0, 0.0, 0.21232368225686712, 0.008766552231486022, 0.26693378093020736, 0.0, 0.0, 0.03840909090909091, 0.0, 0.0, 0.020253753928529857, 0.12036428029344802, 0.11384160691806688, 0.0, 0.000582901554404145, 0.0, 0.03793490460157127, 0.1436796788336591, 0.0, 0.3822309970384995, 0.3407842636352025, 0.0, 0.19834764933446988, 0.021718177729229585, 0.0, 0.35120322394933795, 0.0, 0.0, 0.0, 0.0, 0.006055268083232412, 0.0, 0.0, 0.0, 0.0, 0.0, 0.0026945531532687494, 0.0, 0.0005854039287108105, 0.0, 0.0, 0.0, 0.5291393058161351, 0.0, 0.0, 0.0, 0.0, 0.0, 0.02142272068552706, 0.0, 0.0423295784461735, 0.007283763277693475, 0.0, 0.0, 0.0, 0.0, 0.46099137931034484, 0.06575199116330446, 0.0, 0.02491250963876861, 0.0327847354271851, 0.0, 0.000584339696143358, 0.0, 0.28640505858285287, 0.13769588879417743, 0.012261491049767228, 0.0, 0.0, 0.0, 0.18970993012915519, 0.0019479254593857541, 0.0, 0.0, 0.0, 0.0363405202097791, 0.0, 0.19743699797657735, 0.0754750593824228, 0.0, 0.0, 0.0, 0.0, 0.059328134373125375, 0.0, 0.0, 0.0005842638275772526, 0.0005863192182410424, 0.026227788341748083, 0.28109326570865034, 0.0, 0.0, 0.020799024092711192, 0.0, 0.029323793325904637, 0.0, 0.0, 0.0005847193347193348, 0.0, 0.2055602911284506, 0.0, 0.0, 0.0, 0.0, 0.0, 0.0, 0.0, 0.06648744344633138, 0.023605009507573275, 0.0, 0.20195397023146022, 0.0, 0.0, 0.0596606798831645, 0.0, 0.017310340305553736, 0.0, 0.0007818098898951072, 0.0, 0.0, 0.0, 0.007719188442080008, 0.0, 0.3188593648736228, 0.0, 0.00058188401112045, 0.0, 0.0, 0.19834764933446988, 0.23215656178050653, 0.0013675436311539463, 0.0, 0.0, 0.0, 0.0, 0.0, 0.0, 0.0, 0.0, 0.1083814092176055, 0.38213887613926956, 0.25680933852140075, 0.0, 0.0, 0.3973122991527899, 0.0, 0.05881581535637007, 0.0, 0.0, 0.0, 0.0005845674201091193, 0.0005863192182410424, 0.00936829093747967, 0.0, 0.0, 0.0005850994669093746, 0.1795678499347026, 0.015248590466427472, 0.0, 0.07988655164263768, 0.0, 0.0, 0.17992262802439185, 0.0, 0.20916661202544096, 0.2824622005776091, 0.0050286893172587195, 0.00557728059490993, 0.006178003732543922, 0.0, 0.1524225530202885, 0.0, 0.0, 0.0, 0.0, 0.0, 0.005705821034728699, 0.00572309046885318, 0.041357370095440084, 0.0, 0.0, 0.3065372762441807, 0.0, 0.0, 0.0, 0.1855215360664245, 0.0, 0.0, 0.03817052512704686, 0.2597919673518141, 0.19834764933446988, 0.0, 0.0, 0.0, 0.00937643433217494, 0.0, 0.0, 0.18309073671295523, 0.013704019408563374, 0.015583403675086033, 0.0, 0.0, 0.0, 0.0, 0.0, 0.18998272884283246, 0.0, 0.06950363910563241, 0.19834764933446988, 0.0, 0.07481485213360875, 0.0, 0.0, 0.0, 0.0, 0.0, 0.0, 0.0, 0.0, 0.0, 0.07481485213360875, 0.0, 0.0, 0.0, 0.26402741547746916, 0.0, 0.40609772333910266, 0.0005832415267967079, 0.1014201413656702, 0.0, 0.06904465280965183, 0.1542193954494787, 0.0006548359635911204, 0.0, 0.0, 0.3018424147393179, 0.0, 0.0, 0.0, 0.0, 0.0, 0.0, 0.0, 0.11661351465190445, 0.0, 0.0009976720984369804, 0.05619214086877711, 0.0, 0.0, 0.0017599895704321752, 0.0, 0.0, 0.03840909090909091, 0.0, 0.0, 0.0, 0.0, 0.0, 0.0, 0.09591287035952688, 0.1449741000590125, 0.0, 0.0, 0.0, 0.30293095534719033, 0.2510663571081475, 0.09914103993180776, 0.008655170152776868, 0.0, 0.0, 0.0, 0.007343780735689463, 0.6117268041237114, 0.0, 0.0, 0.0, 0.0, 0.07581157260415991, 0.0, 0.0, 0.00058188401112045, 0.16552285089725993, 0.45154239729770007, 0.27444308575681853, 0.0, 0.0, 0.0, 0.0, 0.0, 0.03213005020320344, 0.046678847173925855, 0.0, 0.0, 0.00638615646083329, 0.0, 0.0, 0.0, 0.0, 0.03840909090909091, 0.19834764933446988, 0.11398268926002682, 0.0, 0.0, 0.2060812797741575, 0.0, 0.0, 0.0005822227972570837, 0.0, 0.0023475709162047603, 0.0, 0.06877456234369418, 0.20628334321280378, 0.0, 0.27080287330748204, 0.0, 0.0, 0.0, 0.0, 0.0, 0.0, 0.028670141835373985, 0.21244597075019242, 0.0, 0.0, 0.0, 0.0, 0.0013582562576806157, 0.21092146166930612, 0.0, 0.0, 0.04200832597451747, 0.00728445808835007, 0.0, 0.0, 0.0, 0.0, 0.13623604266733205, 0.0007819117742881345, 0.1244507133944556, 0.0, 0.05924874144830257, 0.20785249178002707, 0.0, 0.014757779916586462, 0.0022114637499252884, 0.2055602911284506, 0.0, 0.0, 0.4787308718236698, 0.0, 0.2654150777354063]\n"
     ]
    }
   ],
   "source": [
    "print(iou_list_all)\n",
    "dict = {}\n",
    "\n",
    "for i in range(len(iou_list_all)):\n",
    "  dict[i] = iou_list_all[i]\n",
    "\n",
    "# dict"
   ]
  },
  {
   "cell_type": "code",
   "execution_count": 46,
   "metadata": {},
   "outputs": [
    {
     "name": "stdout",
     "output_type": "stream",
     "text": [
      "[0.10532924107142858, 0.08410395408163265, 0.04761240433673469, 0.08396444515306123, 0.21051897321428573, 0.06883769132653061, 0.05540497448979592, 0.1359016262755102, 0.24944196428571427, 0.056939572704081634, 0.0, 0.0, 0.0, 0.013193558673469387, 0.0, 0.0, 0.0, 0.061025191326530615, 0.0419921875, 0.009028220663265306, 0.10799984056122448, 0.02060746173469388, 0.036232461734693876, 0.04683514030612245, 0.030652104591836735, 0.1619499362244898, 0.08577806122448979, 0.13526387117346939, 0.08759167729591837, 0.02459343112244898, 0.03555484693877551, 0.06196189413265306, 0.10331632653061225, 0.37625558035714285, 0.1250597895408163, 0.08765146683673469, 0.06949537627551021, 0.0, 0.008988360969387755, 0.0, 0.07025271045918367, 0.06361607142857142, 0.044224330357142856, 0.03099091198979592, 0.008928571428571428, 0.0, 0.01833545918367347, 0.0, 0.03497688137755102, 0.0, 0.05805564413265306, 0.06955516581632654, 0.0690170599489796, 0.0, 0.13008211096938777, 0.05121970663265306, 0.0, 0.08213089923469388, 0.061045121173469385, 0.0, 0.0, 0.12119339923469388, 0.036232461734693876, 0.054767219387755105, 0.02040816326530612, 0.0, 0.0, 0.009008290816326531, 0.008908641581632654, 0.0875717474489796, 0.0, 0.018275669642857144, 0.04669563137755102, 0.03244579081632653, 0.0, 0.043287627551020405, 0.029316804846938774, 0.008868781887755101, 0.10618622448979592, 0.0, 0.0, 0.0, 0.03423947704081633, 0.009048150510204082, 0.11194595025510204, 0.05544483418367347, 0.013811383928571428, 0.0, 0.05442841198979592, 0.0, 0.1817203443877551, 0.04743303571428571, 0.06977439413265306, 0.0963608099489796, 0.0690170599489796, 0.06722337372448979, 0.032326211734693876, 0.07802535076530612, 0.09552375637755102, 0.038006218112244895, 0.03529575892857143, 0.02610809948979592, 0.009028220663265306, 0.032146843112244895, 0.0, 0.09107940051020408, 0.11184630102040816, 0.06658561862244898, 0.06644610969387756, 0.031947544642857144, 0.06798070790816327, 0.2027264030612245, 0.049107142857142856, 0.13594148596938777, 0.1844108737244898, 0.09373007015306123, 0.03651147959183673, 0.20153061224489796, 0.1580436862244898, 0.07463727678571429, 0.01323341836734694, 0.04302853954081633, 0.07954001913265306, 0.01845503826530612, 0.0, 0.047353316326530615, 0.0, 0.017996651785714284, 0.0, 0.04825015943877551, 0.04241071428571429, 0.12308673469387756, 0.03334263392857143, 0.0, 0.0, 0.06399473852040816, 0.02517139668367347, 0.020786830357142856, 0.07641103316326531, 0.059889190051020405, 0.10668447066326531, 0.058713329081632654, 0.119140625, 0.09261399872448979, 0.06742267219387756, 0.06758211096938775, 0.08422353316326531, 0.040118781887755105, 0.1061264349489796, 0.08806999362244898, 0.08129384566326531, 0.0712093431122449, 0.2683155293367347, 0.09974888392857142, 0.05859375, 0.10686383928571429, 0.06716358418367346, 0.01171875, 0.04334741709183673, 0.0, 0.0, 0.0, 0.016481983418367346, 0.15053013392857142, 0.13187579719387754, 0.10473134566326531, 0.0, 0.09042171556122448, 0.07491629464285714, 0.12976323341836735, 0.09546396683673469, 0.08529974489795919, 0.04432397959183673, 0.05707908163265306, 0.009964923469387755, 0.12187101403061225, 0.0340202487244898, 0.047193877551020405, 0.0, 0.042869100765306124, 0.025849011479591837, 0.08779097576530612, 0.05893255739795918, 0.04545998086734694, 0.06349649234693877, 0.0, 0.07378029336734694, 0.10247927295918367, 0.13681839923469388, 0.05905213647959184, 0.21404655612244897, 0.0693359375, 0.0, 0.0, 0.01873405612244898, 0.0, 0.011997767857142858, 0.03748804209183673, 0.0, 0.0, 0.0, 0.0, 0.06588807397959184, 0.23284040178571427, 0.11411830357142858, 0.05076132015306122, 0.0, 0.10680404974489796, 0.06794084821428571, 0.04025829081632653, 0.20888472576530612, 0.10331632653061225, 0.05919164540816327, 0.05389030612244898, 0.4145009566326531, 0.10799984056122448, 0.09012276785714286, 0.06192203443877551, 0.08260921556122448, 0.04213169642857143, 0.049306441326530615, 0.022301498724489797, 0.03519610969387755, 0.11166693239795919, 0.12191087372448979, 0.0, 0.0, 0.0, 0.0, 0.0, 0.0, 0.0, 0.0, 0.0, 0.0, 0.0, 0.0, 0.0, 0.022480867346938774, 0.13899075255102042, 0.08721301020408163, 0.0, 0.0, 0.0, 0.0, 0.0, 0.0, 0.11373963647959184, 0.06469228316326531, 0.10202088647959184, 0.010024713010204082, 0.044025031887755105, 0.08695392219387756, 0.16418207908163265, 0.011957908163265306, 0.2150031887755102, 0.06899713010204081, 0.11557318239795919, 0.06696428571428571, 0.07922114158163265, 0.01628268494897959, 0.05885283801020408, 0.042490433673469385, 0.08492107780612244, 0.08516023596938775, 0.3087133290816326, 0.18877551020408162, 0.04665577168367347, 0.08896683673469388, 0.03567442602040816, 0.17217394770408162, 0.10078523596938775, 0.05562420280612245, 0.0, 0.042271205357142856, 0.06403459821428571, 0.13944913903061223, 0.045818718112244895, 0.059450733418367346, 0.12187101403061225, 0.17014110331632654, 0.04047751913265306, 0.08737244897959184, 0.08017777423469388, 0.10949457908163265, 0.08888711734693877, 0.08990353954081633, 0.03455835459183673, 0.08302774234693877, 0.04153380102040816, 0.12667410714285715, 0.16896524234693877, 0.08928571428571429, 0.07916135204081633, 0.12551817602040816, 0.01020408163265306, 0.01424984056122449, 0.04653619260204082, 0.0, 0.013731664540816327, 0.049485809948979595, 0.010941485969387755, 0.06148357780612245, 0.013512436224489796, 0.02760283801020408, 0.12406329719387756, 0.04193239795918367, 0.09875239158163265, 0.0, 0.095703125, 0.007732780612244898, 0.0996890943877551, 0.07766661352040816, 0.16828762755102042, 0.0, 0.07742745535714286, 0.09042171556122448, 0.14578683035714285, 0.0, 0.0, 0.013412786989795918, 0.0, 0.053033322704081634, 0.04219148596938776, 0.0, 0.09978874362244898, 0.0, 0.00940688775510204, 0.09353077168367346, 0.043048469387755105, 0.032924107142857144, 0.03657126913265306, 0.04448341836734694, 0.032545440051020405, 0.016800860969387755, 0.0418327487244898, 0.042291135204081634, 0.0, 0.022919323979591837, 0.014728156887755101, 0.12220982142857142, 0.10780054209183673, 0.14500956632653061, 0.04884805484693878, 0.0702327806122449, 0.17731584821428573, 0.0, 0.12149234693877552, 0.0, 0.039740114795918366, 0.04468271683673469, 0.009267378826530613, 0.029595822704081634, 0.0, 0.04749282525510204, 0.0, 0.08806999362244898, 0.0, 0.04807079081632653, 0.09785554846938775, 0.061643016581632654, 0.08143335459183673, 0.04908721301020408, 0.07934072066326531, 0.047173947704081634, 0.038783482142857144, 0.07655054209183673, 0.07232541454081633, 0.07284359056122448, 0.0813735650510204, 0.0, 0.0, 0.009028220663265306, 0.0, 0.0, 0.008888711734693877, 0.0, 0.0, 0.020667251275510203, 0.02365672831632653, 0.03977997448979592, 0.0, 0.009048150510204082, 0.03864397321428571, 0.0, 0.0, 0.03298389668367347, 0.16667330994897958, 0.05249521683673469, 0.0, 0.0801578443877551, 0.009048150510204082, 0.0, 0.0564811862244898, 0.05004384566326531, 0.009008290816326531, 0.06582828443877552, 0.01725924744897959, 0.07116948341836735, 0.06463249362244898, 0.08791055484693877, 0.06584821428571429, 0.0, 0.0, 0.0, 0.0253109056122449, 0.0, 0.0, 0.013911033163265306, 0.0, 0.0, 0.0, 0.0, 0.0, 0.0, 0.0, 0.0, 0.0782047193877551, 0.039760044642857144, 0.05857382015306122, 0.0780452806122449, 0.0, 0.0645328443877551, 0.14606584821428573, 0.0, 0.13259327168367346, 0.009008290816326531, 0.021364795918367346, 0.044264190051020405, 0.04902742346938776, 0.06014827806122449, 0.04348692602040816, 0.0, 0.03772720025510204, 0.0, 0.02969547193877551, 0.055365114795918366, 0.14359454719387754, 0.08607700892857142, 0.0, 0.07694913903061225, 0.062201052295918366, 0.1035953443877551, 0.05797592474489796, 0.08795041454081633, 0.0, 0.08735251913265306, 0.06048708545918367, 0.03599330357142857, 0.07748724489795919, 0.0, 0.05741788903061224, 0.05668048469387755, 0.05038265306122449, 0.017737563775510203, 0.05865353954081633, 0.05612244897959184, 0.06572863520408163, 0.07607222576530612, 0.10068558673469388, 0.12205038265306123, 0.06570870535714286, 0.02863919005102041, 0.04936623086734694, 0.07150829081632654, 0.1380341198979592, 0.03860411352040816, 0.0643734056122449, 0.0830875318877551, 0.13233418367346939, 0.13000239158163265, 0.09101961096938775, 0.0, 0.06499123086734694, 0.03569435586734694, 0.14343510841836735, 0.04272959183673469, 0.0, 0.0, 0.0, 0.035036670918367346, 0.2386200573979592, 0.09460698341836735, 0.06682477678571429, 0.13285235969387754, 0.0, 0.044642857142857144, 0.15611049107142858, 0.04225127551020408, 0.09247448979591837, 0.030911192602040817, 0.11007254464285714, 0.07041214923469388, 0.030831473214285716, 0.05365114795918367, 0.09175701530612244, 0.0, 0.0, 0.08318718112244898, 0.0, 0.0, 0.0, 0.013552295918367346, 0.03960060586734694, 0.0262874681122449, 0.0, 0.0, 0.0, 0.0, 0.022042410714285716, 0.007692920918367347, 0.24400111607142858, 0.03513632015306122, 0.04946588010204082, 0.0, 0.16627471301020408, 0.0, 0.0, 0.009685905612244899, 0.013372927295918368, 0.012416294642857142, 0.032126913265306124, 0.0, 0.0, 0.1351044323979592, 0.0, 0.02979512117346939, 0.0, 0.06323740433673469, 0.009008290816326531, 0.07557397959183673, 0.008928571428571428, 0.013811383928571428, 0.0, 0.07212611607142858, 0.0, 0.0, 0.03491709183673469, 0.0, 0.060048628826530615, 0.07800542091836735, 0.19698660714285715, 0.00896843112244898, 0.01403061224489796, 0.06991390306122448, 0.0, 0.02792171556122449, 0.0975765306122449, 0.06863839285714286, 0.02264030612244898, 0.041135204081632654, 0.1773357780612245, 0.11082987882653061, 0.21691645408163265, 0.23371731505102042, 0.07202646683673469, 0.09693877551020408, 0.08127391581632654, 0.0908203125, 0.08063616071428571, 0.04486208545918367, 0.09982860331632654, 0.0, 0.19535235969387754, 0.0, 0.012834821428571428, 0.07419882015306123, 0.06993383290816327, 0.09596221301020408, 0.03631218112244898, 0.00932716836734694, 0.0, 0.0, 0.0, 0.04057716836734694, 0.16633450255102042, 0.04747289540816327, 0.054966517857142856, 0.0, 0.0, 0.06423389668367346, 0.03910235969387755, 0.10901626275510204, 0.10534917091836735, 0.023317920918367346, 0.0, 0.0, 0.0, 0.0, 0.0, 0.07483657525510204, 0.0, 0.0, 0.03577407525510204, 0.009526466836734694, 0.044802295918367346, 0.023317920918367346, 0.0301937181122449, 0.06357621173469388, 0.15060985331632654, 0.0, 0.029595822704081634, 0.12422273596938775, 0.036252391581632654, 0.07146843112244898, 0.0, 0.008988360969387755, 0.0, 0.010443239795918368, 0.11928013392857142, 0.15260283801020408, 0.10688376913265306, 0.09506536989795919, 0.01215720663265306, 0.0, 0.009685905612244899, 0.01588408801020408, 0.0, 0.03266501913265306, 0.04928651147959184, 0.07110969387755102, 0.009247448979591837, 0.03346221301020408, 0.09779575892857142, 0.10375478316326531, 0.07089046556122448, 0.0, 0.0, 0.0, 0.009107940051020409, 0.046775350765306124, 0.0, 0.0, 0.0, 0.0, 0.0803970025510204, 0.0, 0.0372688137755102, 0.0, 0.05345184948979592, 0.0, 0.03382095025510204, 0.13743622448979592, 0.0, 0.11274314413265306, 0.09287308673469388, 0.07091039540816327, 0.0989516900510204, 0.010901626275510204, 0.03892299107142857, 0.11280293367346939, 0.020567602040816327, 0.02379623724489796, 0.03481744260204082, 0.02375637755102041, 0.045579559948979595, 0.047373246173469385, 0.1434948979591837, 0.09795519770408163, 0.08085538903061225, 0.078125, 0.011001275510204082, 0.05644132653061224, 0.03202726403061224, 0.023138552295918366, 0.019949776785714284, 0.1636639030612245, 0.08061623086734694, 0.05660076530612245, 0.01793686224489796, 0.01829559948979592, 0.02116549744897959, 0.0, 0.0, 0.05622209821428571, 0.12940449617346939, 0.07471699617346939, 0.07362085459183673, 0.10387436224489796, 0.06244021045918367, 0.04749282525510204, 0.0, 0.08278858418367346, 0.0, 0.0, 0.018694196428571428, 0.011698820153061224, 0.09365035076530612, 0.027782206632653062, 0.0, 0.01805644132653061, 0.07716836734693877, 0.029735331632653062, 0.03790656887755102, 0.0, 0.0, 0.010283801020408163, 0.0, 0.00940688775510204, 0.14592633928571427, 0.11126833545918367, 0.09695870535714286, 0.016442123724489797, 0.0, 0.05474728954081633, 0.04127471301020408, 0.05678013392857143, 0.02708466198979592, 0.0, 0.019770408163265307, 0.045041454081632654, 0.04514110331632653, 0.02955596301020408, 0.0, 0.04976482780612245, 0.0, 0.039381377551020405, 0.08127391581632654, 0.04193239795918367, 0.04380580357142857, 0.012834821428571428, 0.02507174744897959, 0.02792171556122449, 0.0, 0.00994499362244898, 0.10315688775510204, 0.0, 0.008888711734693877, 0.012794961734693877, 0.04663584183673469, 0.0, 0.0, 0.0, 0.0, 0.0, 0.0, 0.0, 0.0, 0.06505102040816327, 0.03266501913265306, 0.08472177933673469, 0.0, 0.0, 0.03752790178571429, 0.0, 0.06953523596938775, 0.0, 0.0, 0.0, 0.009685905612244899, 0.010064572704081632, 0.046018016581632654, 0.0, 0.027044802295918366, 0.01132015306122449, 0.013193558673469387, 0.1221500318877551, 0.10530931122448979, 0.009008290816326531, 0.044064891581632654, 0.007692920918367347, 0.02032844387755102, 0.0, 0.009646045918367346, 0.016043526785714284, 0.02116549744897959, 0.020388233418367346, 0.028858418367346938, 0.0, 0.014329559948979591, 0.0, 0.0, 0.0, 0.0, 0.0, 0.009247448979591837, 0.009008290816326531, 0.026905293367346938, 0.0, 0.27128507653061223, 0.013352997448979591, 0.04083625637755102, 0.0, 0.0, 0.00896843112244898, 0.026925223214285716, 0.0, 0.009207589285714286, 0.028878348214285716, 0.008848852040816327, 0.019870057397959183, 0.0, 0.0, 0.025151466836734693, 0.013372927295918368, 0.0, 0.0677016900510204, 0.05642139668367347, 0.03302375637755102, 0.0, 0.0, 0.0, 0.045220822704081634, 0.0, 0.014668367346938776, 0.0, 0.01992984693877551, 0.009127869897959183, 0.05508609693877551, 0.052435427295918366, 0.0, 0.0, 0.0, 0.06040736607142857, 0.0, 0.0, 0.0, 0.0, 0.07936065051020408, 0.052435427295918366, 0.0, 0.0, 0.0, 0.02303890306122449, 0.09500558035714286, 0.10843829719387756, 0.01070232780612245, 0.03302375637755102, 0.03515625, 0.07469706632653061, 0.02303890306122449, 0.047771843112244895, 0.0, 0.0, 0.01331313775510204, 0.0, 0.0, 0.0, 0.0, 0.0, 0.0, 0.0, 0.08964445153061225, 0.0, 0.06971460459183673, 0.04179288903061224, 0.0, 0.0, 0.01251594387755102, 0.0, 0.0, 0.009028220663265306, 0.0, 0.0, 0.0, 0.0, 0.06427375637755102, 0.0, 0.010323660714285714, 0.02814094387755102, 0.0, 0.03900271045918367, 0.25468351403061223, 0.013392857142857142, 0.0244140625, 0.016302614795918366, 0.03513632015306122, 0.0, 0.0, 0.0, 0.07772640306122448, 0.058872767857142856, 0.0, 0.10698341836734694, 0.01815609056122449, 0.0, 0.058514030612244895, 0.0, 0.024075255102040817, 0.01070232780612245, 0.1370575573979592, 0.03382095025510204, 0.04974489795918367, 0.0, 0.0, 0.0, 0.11049107142857142, 0.10072544642857142, 0.09002311862244898, 0.0712890625, 0.09630102040816327, 0.06572863520408163, 0.08942522321428571, 0.06744260204081633, 0.01313376913265306, 0.0, 0.0, 0.009008290816326531, 0.009008290816326531, 0.008988360969387755, 0.0, 0.0, 0.03158880739795918, 0.053212691326530615, 0.0, 0.010044642857142858, 0.0, 0.02672592474489796, 0.0, 0.08864795918367346, 0.020627391581632654, 0.0, 0.013651945153061224, 0.0, 0.0, 0.0, 0.0, 0.06879783163265306, 0.01709980867346939, 0.06983418367346939, 0.016561702806122448, 0.0, 0.0, 0.0, 0.0, 0.05542490433673469, 0.016262755102040817, 0.05006377551020408, 0.0, 0.07928093112244898, 0.05678013392857143, 0.0, 0.0, 0.0, 0.08450255102040816, 0.03519610969387755, 0.03772720025510204, 0.027762276785714284, 0.02379623724489796, 0.04705436862244898, 0.09333147321428571, 0.11535395408163265, 0.06909677933673469, 0.032545440051020405, 0.030432876275510203, 0.0343391262755102, 0.0, 0.041872608418367346, 0.0, 0.021205357142857144]\n"
     ]
    }
   ],
   "source": [
    "print(cal_red_list)\n",
    "dict2 = {}\n",
    "\n",
    "for i in range(len(cal_red_list)):\n",
    "  dict2[i] = cal_red_list[i]\n",
    "\n",
    "# dict"
   ]
  },
  {
   "cell_type": "code",
   "execution_count": null,
   "metadata": {},
   "outputs": [],
   "source": []
  },
  {
   "cell_type": "code",
   "execution_count": null,
   "metadata": {},
   "outputs": [],
   "source": []
  },
  {
   "cell_type": "code",
   "execution_count": 47,
   "metadata": {
    "id": "76jl0ludQWPl"
   },
   "outputs": [],
   "source": [
    "# df = pd.DataFrame(dict, columns=['num', 'IOU'])\n",
    "\n",
    "df = pd.DataFrame.from_dict(dict,orient='index',columns=['IOU'])\n",
    "df = df.reset_index().rename(columns = {'index':'num'})\n",
    "\n",
    "df2 = pd.DataFrame.from_dict(dict2,orient='index',columns=['red_cal'])\n",
    "df2 = df2.reset_index().rename(columns = {'index':'num'})\n",
    "\n",
    "\n",
    "# save into excel\n",
    "df.to_excel(\"900_org_iou_smaller.xlsx\", index=False)\n",
    "# save into excel\n",
    "df2.to_excel(\"900_org_red_smaller.xlsx\", index=False)"
   ]
  },
  {
   "cell_type": "code",
   "execution_count": null,
   "metadata": {},
   "outputs": [],
   "source": []
  },
  {
   "cell_type": "code",
   "execution_count": 24,
   "metadata": {
    "id": "kFUurqCVckqA"
   },
   "outputs": [],
   "source": [
    "# import os, tarfile\n",
    " \n",
    "# import os\n",
    "# from google.colab import files\n",
    "\n",
    "# def make_targz_one_by_one(output_filename, source_dir):\n",
    "#   tar = tarfile.open(output_filename,\"w\")\n",
    "#   for root,dir_name,files_list in os.walk(source_dir):\n",
    "#     for file in files_list:\n",
    "#       pathfile = os.path.join(root, file)\n",
    "#       tar.add(pathfile)\n",
    "#   tar.close()\n",
    " \n",
    "#   files.download(output_filename)\n",
    " \n",
    " \n",
    "# make_targz_one_by_one('output_all_iou_org', '/content/output_all_iou_org/')"
   ]
  },
  {
   "cell_type": "code",
   "execution_count": 25,
   "metadata": {
    "id": "g5-zjylQL869"
   },
   "outputs": [],
   "source": [
    "# save\n",
    "# !cp -r ./output_900_iou_org/ 'drive/MyDrive/covid/IOU_ex/'"
   ]
  },
  {
   "cell_type": "markdown",
   "metadata": {
    "id": "zIHrQmqkB4KX"
   },
   "source": [
    "# Robust"
   ]
  },
  {
   "cell_type": "markdown",
   "metadata": {
    "id": "3SI5oHAIFeM1"
   },
   "source": [
    "## Test once"
   ]
  },
  {
   "cell_type": "code",
   "execution_count": 26,
   "metadata": {
    "id": "EpA3EW3oB6KW"
   },
   "outputs": [],
   "source": [
    "# # Test for example image\n",
    "\n",
    "# '''/////////////////////////main_grad use/////////////////////////////'''\n",
    "# temp_name = 'c94ef38ddb2d94aa11828716777139_jumbo.jpeg'\n",
    "# # ./assets/ex-covid.jpeg\n",
    "# print(\"Current img:\", temp_name)\n",
    "# img_m, new_im_2, cam3_resize = main_grad('./covid-chestxray-dataset-master/images/'+temp_name)\n",
    "# '''/////////////////////////main_grad use/////////////////////////////'''\n",
    "\n",
    "\n",
    "# '''/////////////////////////show grad-cam area/////////////////////////////'''\n",
    "# img = cam3_resize\n",
    "# img2= img_m\n",
    "# gray = cv2.cvtColor(img,cv2.COLOR_BGR2GRAY)\n",
    "# gray2 = cv2.cvtColor(img2,cv2.COLOR_BGR2GRAY)\n",
    "\n",
    "# binary = cv2.inRange(gray,50,80)\n",
    "\n",
    "# cv2_imshow(binary)\n",
    "\n",
    "\n",
    "# print(\"cam_rec\")\n",
    "# contours, hierarchy = cv2.findContours(binary,cv2.RETR_EXTERNAL,cv2.CHAIN_APPROX_SIMPLE)\n",
    "\n",
    "# cnt = contours[0]\n",
    "# x, y, w, h = cv2.boundingRect(cnt)\n",
    "# img_new = cv2.rectangle(img, (x, y), (x + w, y + h), (0, 255, 255), 1)\n",
    "# cv2_imshow(img_new)\n",
    "\n",
    "# '''/////////////////////////show grad-cam area/////////////////////////////'''\n",
    "\n",
    "\n",
    "# print(\"x, y\", x, y)\n",
    "# print(\"x+w, y+h\", x+w, y+h)\n",
    "\n",
    "# for i in range(img_m.shape[0]):\n",
    "#   for j in range(img_m.shape[1]):\n",
    "#     if (j>=x and j<=x+w) and (i>=y and i<=y+h):\n",
    "#       img_m[i][j] = [255, 255, 255]\n",
    "# cv2_imshow(img_m)"
   ]
  },
  {
   "cell_type": "code",
   "execution_count": 27,
   "metadata": {
    "colab": {
     "base_uri": "https://localhost:8080/"
    },
    "id": "DvMtixyHCGxs",
    "outputId": "770e66c1-8086-43fb-8c59-051d2db179c3"
   },
   "outputs": [
    {
     "data": {
      "text/plain": [
       "True"
      ]
     },
     "execution_count": 27,
     "metadata": {},
     "output_type": "execute_result"
    }
   ],
   "source": [
    "# # write the image to the current folder temperarily\n",
    "# cv2.imwrite(\"test1.jpg\", img_m)"
   ]
  },
  {
   "cell_type": "code",
   "execution_count": 28,
   "metadata": {
    "colab": {
     "base_uri": "https://localhost:8080/"
    },
    "id": "kHO2oGGICf8f",
    "outputId": "e44f8dd0-a353-4e6e-a8b0-3624e9580898"
   },
   "outputs": [
    {
     "name": "stdout",
     "output_type": "stream",
     "text": [
      "pred [[0.15720429 0.51102364 0.33177206]]\n",
      "Prediction: pneumonia\n",
      "Confidence\n",
      "Normal: 0.157 Pneumonia: 0.511 Covid-19: 0.332\n"
     ]
    },
    {
     "name": "stderr",
     "output_type": "stream",
     "text": [
      "/opt/apps/apps/binapps/anaconda3/2019.07-numpy-fix/lib/python3.7/site-packages/ipykernel_launcher.py:196: RuntimeWarning: invalid value encountered in true_divide\n"
     ]
    }
   ],
   "source": [
    "# # test1 test\n",
    "# new_name = 'test1.jpg'\n",
    "# # print(\"Current img:\", temp_name)\n",
    "\n",
    "# img_m_new, new_im_2_new, cam3_resize_new = main_grad(new_name)"
   ]
  },
  {
   "cell_type": "markdown",
   "metadata": {
    "id": "B3nErGhLIVvQ"
   },
   "source": [
    "Result above shows that when the area removed, the prediction not change in this case, but only lower the probability of the covid19, while the area of the most likely covid part **changed**."
   ]
  },
  {
   "cell_type": "markdown",
   "metadata": {
    "id": "fMqoBLmmFh0w"
   },
   "source": [
    "## Loop for 30"
   ]
  },
  {
   "cell_type": "code",
   "execution_count": 29,
   "metadata": {
    "id": "eKdnhO7UFnx8"
   },
   "outputs": [],
   "source": [
    "# # !mkdir ./output_org/\n",
    "# !mkdir ./output_robust/"
   ]
  },
  {
   "cell_type": "code",
   "execution_count": 30,
   "metadata": {
    "id": "BrarG-v7Fm1q"
   },
   "outputs": [],
   "source": [
    "# # change into loop\n",
    "\n",
    "# iou_list = []\n",
    "# for i in range(len(img_num_set)):\n",
    "#   '''/////////////////////////main_grad use/////////////////////////////'''\n",
    "#   num = img_num_set[i]\n",
    "#   temp_name = pd_reader['filename'][num]\n",
    "#   # temp_name = './assets/ex-covid.jpeg'\n",
    "#   print(\"Current img:\", temp_name)\n",
    "#   # img_m = cv.imread(temp_name)\n",
    "#   # img_m = cv.resize(img_m, (224, 224))\n",
    "#   # cv2_imshow(img_m)\n",
    "#   img_m, new_im_2, cam3_resize = main_grad('./covid-chestxray-dataset-master/images/' + temp_name)\n",
    "#   # print(i, PCR_result_all[num])\n",
    "#   '''/////////////////////////main_grad use/////////////////////////////'''\n",
    "\n",
    "\n",
    "#   '''/////////////////////////show grad-cam area/////////////////////////////'''\n",
    "\n",
    "\n",
    "#   img = cam3_resize\n",
    "\n",
    "#   gray = cv2.cvtColor(img,cv2.COLOR_BGR2GRAY)\n",
    "\n",
    "#   binary = cv2.inRange(gray,45,80)\n",
    "#   cv2_imshow(binary)\n",
    "#   contours, hierarchy = cv2.findContours(binary,cv2.RETR_EXTERNAL,cv2.CHAIN_APPROX_SIMPLE)\n",
    "#   # print(contours)\n",
    "#   if len(contours) > 0:\n",
    "#     cnt = contours[0]\n",
    "#     x, y, w, h = cv2.boundingRect(cnt)\n",
    "#     img_new = cv2.rectangle(img, (x, y), (x + w, y + h), (0, 255, 255), 1)\n",
    "#     cv2_imshow(img_new)\n",
    "#   else:\n",
    "#     x, y, w, h = 0, 0, 0, 0\n",
    "\n",
    "\n",
    "  \n",
    "#   '''/////////////////////////show grad-cam area/////////////////////////////'''\n",
    "\n",
    "#   '''/////////////////////////Robust/////////////////////////////'''\n",
    "#   for i in range(img_m.shape[0]):\n",
    "#     for j in range(img_m.shape[1]):\n",
    "#       if (j>=x and j<=x+w) and (i>=y and i<=y+h):\n",
    "#         img_m[i][j] = [255, 255, 255]\n",
    "#   cv2_imshow(img_m)\n",
    "\n",
    "#   # write the image to the current folder temperarily\n",
    "#   cv2.imwrite(\"./output_robust/rob-\"+temp_name, img_m)\n",
    "\n",
    "#   new_name = \"./output_robust/rob-\"+temp_name\n",
    "#   # print(\"Current img:\", temp_name)\n",
    "\n",
    "#   img_m_new, new_im_2_new, cam3_resize_new = main_grad(new_name)\n",
    "\n",
    "#   '''/////////////////////////Robust/////////////////////////////'''\n",
    "\n",
    "#   '''/////////////////////////main-result/////////////////////////////'''\n",
    "\n",
    "#   image = new_im_2_new\n",
    "#   # draw the ground-truth bounding box along with the predicted\n",
    "\n",
    "#   img = cam3_resize_new\n",
    "#   gray = cv2.cvtColor(img,cv2.COLOR_BGR2GRAY)\n",
    "\n",
    "#   binary = cv2.inRange(gray,45,80)\n",
    "#   cv2_imshow(binary)\n",
    "#   contours, hierarchy = cv2.findContours(binary,cv2.RETR_EXTERNAL,cv2.CHAIN_APPROX_SIMPLE)\n",
    "#   # print(contours)\n",
    "#   if len(contours) > 0:\n",
    "#     cnt = contours[0]\n",
    "#     x, y, w, h = cv2.boundingRect(cnt)\n",
    "#     img_new = cv2.rectangle(img, (x, y), (x + w, y + h), (0, 255, 255), 1)\n",
    "#     cv2_imshow(img_new)\n",
    "#   else:\n",
    "#     x, y, w, h = 0, 0, 0, 0\n",
    "\n",
    "#   # bounding box\n",
    "\n",
    "#   detection1 = [50, 50, 200, 150] #15, 15, 200, 200\n",
    "#   detection2 = [x, y, x + w, y + h]\n",
    "#   start_point1 = [50, 50]  #10,10\n",
    "#   end_point1 = [200, 150]  #200,150\n",
    "#   color1 = (0, 255, 0)\n",
    "#   start_point2 = [x, y]   # 137\n",
    "#   end_point2 = [x+w, y+h]  # 188\n",
    "#   color2 = (0, 0, 255)\n",
    "#   thickness = 2\n",
    "\n",
    "#   cv2.rectangle(image, start_point1, end_point1, color1, thickness)\n",
    "#   cv2.rectangle(image, start_point2, end_point2, color2, thickness)\n",
    "\n",
    "\n",
    "\n",
    "#   # compute the intersection over union and display it\n",
    "#   iou = bb_intersection_over_union(detection1, detection2)\n",
    "#   # iou = bb_intersection_over_union(detection.gt, detection.pred)\n",
    "#   cv2.putText(image, \"IoU: {:.4f}\".format(iou), (10, 30),\n",
    "#     cv2.FONT_HERSHEY_SIMPLEX, 0.6, (0, 255, 0), 2)\n",
    "\n",
    "#   # show the output image\n",
    "#   cv2_imshow(image)\n",
    "#   iou_list.append(iou)\n",
    "#   cv2.imwrite(\"./output_robust/IOU_\"+temp_name, image)\n",
    "\n",
    "\n",
    "#   '''/////////////////////////main-result/////////////////////////////'''\n"
   ]
  },
  {
   "cell_type": "code",
   "execution_count": 31,
   "metadata": {
    "id": "ES5oTCM6J0Ud"
   },
   "outputs": [],
   "source": [
    "# print(iou_list)"
   ]
  },
  {
   "cell_type": "code",
   "execution_count": 32,
   "metadata": {
    "id": "m3HnReRwPMx_"
   },
   "outputs": [],
   "source": [
    "# dict = {}\n",
    "# i = 0\n",
    "# for num in img_num_set:\n",
    "#   dict[num] = iou_list[i]\n",
    "#   i += 1\n",
    "# dict"
   ]
  },
  {
   "cell_type": "code",
   "execution_count": 33,
   "metadata": {
    "id": "cOnJUC3AObep"
   },
   "outputs": [],
   "source": [
    "# # df = pd.DataFrame(dict, columns=['num', 'IOU'])\n",
    "\n",
    "# df = pd.DataFrame.from_dict(dict,orient='index',columns=['IOU'])\n",
    "# df = df.reset_index().rename(columns = {'index':'num'})\n",
    "\n",
    "\n",
    "# # save into excel\n",
    "# df.to_excel(\"30_org_iou.xlsx\", index=False)"
   ]
  },
  {
   "cell_type": "code",
   "execution_count": 34,
   "metadata": {
    "id": "KKH5xZTBJ4dn"
   },
   "outputs": [],
   "source": [
    "# # save\n",
    "# !cp -r ./output_robust/ 'drive/MyDrive/covid/IOU_ex/'"
   ]
  },
  {
   "cell_type": "markdown",
   "metadata": {
    "id": "D0NRFFcaYqqS"
   },
   "source": [
    "## ROBUST Loop All -900"
   ]
  },
  {
   "cell_type": "markdown",
   "metadata": {},
   "source": [
    "Use smaller here"
   ]
  },
  {
   "cell_type": "code",
   "execution_count": 9,
   "metadata": {
    "id": "yYAj7DqMYqqT"
   },
   "outputs": [],
   "source": [
    "# create folder to save\n",
    "!mkdir ./output_900_iou_robust/"
   ]
  },
  {
   "cell_type": "code",
   "execution_count": null,
   "metadata": {
    "colab": {
     "base_uri": "https://localhost:8080/"
    },
    "id": "v_AMQVKXYqqU",
    "outputId": "d9e83455-c61a-4365-d170-f3d6f99b5476"
   },
   "outputs": [
    {
     "name": "stdout",
     "output_type": "stream",
     "text": [
      "Current img: auntminnie-a-2020_01_28_23_51_6665_2020_01_28_Vietnam_coronavirus.jpeg\n",
      "pred [[4.8324199e-07 6.9753582e-06 9.9999249e-01]]\n",
      "Prediction: COVID-19\n",
      "Confidence\n",
      "Normal: 0.000 Pneumonia: 0.000 Covid-19: 1.000\n",
      "pred [[1.1872621e-07 2.0007803e-06 9.9999785e-01]]\n",
      "Prediction: COVID-19\n",
      "Confidence\n",
      "Normal: 0.000 Pneumonia: 0.000 Covid-19: 1.000\n",
      "pred [[1.1872621e-07 2.0007803e-06 9.9999785e-01]]\n",
      "Prediction: COVID-19\n",
      "Confidence\n",
      "Normal: 0.000 Pneumonia: 0.000 Covid-19: 1.000\n",
      "Current img: auntminnie-b-2020_01_28_23_51_6665_2020_01_28_Vietnam_coronavirus.jpeg\n",
      "pred [[6.5234033e-08 2.0346113e-06 9.9999785e-01]]\n",
      "Prediction: COVID-19\n",
      "Confidence\n",
      "Normal: 0.000 Pneumonia: 0.000 Covid-19: 1.000\n",
      "pred [[1.0937270e-07 2.8183283e-06 9.9999702e-01]]\n",
      "Prediction: COVID-19\n",
      "Confidence\n",
      "Normal: 0.000 Pneumonia: 0.000 Covid-19: 1.000\n",
      "pred [[1.0937270e-07 2.8183283e-06 9.9999702e-01]]\n",
      "Prediction: COVID-19\n",
      "Confidence\n",
      "Normal: 0.000 Pneumonia: 0.000 Covid-19: 1.000\n",
      "Current img: auntminnie-c-2020_01_28_23_51_6665_2020_01_28_Vietnam_coronavirus.jpeg\n",
      "pred [[5.8104629e-08 2.0348577e-06 9.9999785e-01]]\n",
      "Prediction: COVID-19\n",
      "Confidence\n",
      "Normal: 0.000 Pneumonia: 0.000 Covid-19: 1.000\n",
      "pred [[1.4072701e-07 4.1041985e-06 9.9999571e-01]]\n",
      "Prediction: COVID-19\n",
      "Confidence\n",
      "Normal: 0.000 Pneumonia: 0.000 Covid-19: 1.000\n",
      "pred [[1.4072701e-07 4.1041985e-06 9.9999571e-01]]\n",
      "Prediction: COVID-19\n",
      "Confidence\n",
      "Normal: 0.000 Pneumonia: 0.000 Covid-19: 1.000\n",
      "Current img: auntminnie-d-2020_01_28_23_51_6665_2020_01_28_Vietnam_coronavirus.jpeg\n",
      "pred [[2.1693018e-07 1.0585318e-05 9.9998915e-01]]\n",
      "Prediction: COVID-19\n",
      "Confidence\n",
      "Normal: 0.000 Pneumonia: 0.000 Covid-19: 1.000\n",
      "pred [[2.3391736e-07 1.3797968e-05 9.9998593e-01]]\n",
      "Prediction: COVID-19\n",
      "Confidence\n",
      "Normal: 0.000 Pneumonia: 0.000 Covid-19: 1.000\n",
      "pred [[2.3391736e-07 1.3797968e-05 9.9998593e-01]]\n",
      "Prediction: COVID-19\n",
      "Confidence\n",
      "Normal: 0.000 Pneumonia: 0.000 Covid-19: 1.000\n",
      "Current img: nejmc2001573_f1a.jpeg\n",
      "pred [[9.4741303e-04 7.6580606e-03 9.9139446e-01]]\n",
      "Prediction: COVID-19\n",
      "Confidence\n",
      "Normal: 0.001 Pneumonia: 0.008 Covid-19: 0.991\n",
      "pred [[0.12868325 0.7423369  0.12897971]]\n",
      "Prediction: pneumonia\n",
      "Confidence\n",
      "Normal: 0.129 Pneumonia: 0.742 Covid-19: 0.129\n"
     ]
    },
    {
     "name": "stderr",
     "output_type": "stream",
     "text": [
      "/opt/apps/apps/binapps/anaconda3/2019.07-numpy-fix/lib/python3.7/site-packages/ipykernel_launcher.py:196: RuntimeWarning: invalid value encountered in true_divide\n"
     ]
    },
    {
     "name": "stdout",
     "output_type": "stream",
     "text": [
      "pred [[0.12868325 0.7423369  0.12897971]]\n",
      "Prediction: pneumonia\n",
      "Confidence\n",
      "Normal: 0.129 Pneumonia: 0.742 Covid-19: 0.129\n",
      "Current img: nejmc2001573_f1b.jpeg\n"
     ]
    },
    {
     "name": "stderr",
     "output_type": "stream",
     "text": [
      "/opt/apps/apps/binapps/anaconda3/2019.07-numpy-fix/lib/python3.7/site-packages/ipykernel_launcher.py:196: RuntimeWarning: invalid value encountered in true_divide\n"
     ]
    },
    {
     "name": "stdout",
     "output_type": "stream",
     "text": [
      "pred [[1.58395744e-06 1.46173725e-05 9.99983788e-01]]\n",
      "Prediction: COVID-19\n",
      "Confidence\n",
      "Normal: 0.000 Pneumonia: 0.000 Covid-19: 1.000\n",
      "pred [[3.4862812e-06 1.4439475e-05 9.9998212e-01]]\n",
      "Prediction: COVID-19\n",
      "Confidence\n",
      "Normal: 0.000 Pneumonia: 0.000 Covid-19: 1.000\n",
      "pred [[3.4862812e-06 1.4439475e-05 9.9998212e-01]]\n",
      "Prediction: COVID-19\n",
      "Confidence\n",
      "Normal: 0.000 Pneumonia: 0.000 Covid-19: 1.000\n",
      "Current img: ARDSSevere.png\n",
      "pred [[7.5563739e-06 2.4952891e-03 9.9749714e-01]]\n",
      "Prediction: COVID-19\n",
      "Confidence\n",
      "Normal: 0.000 Pneumonia: 0.002 Covid-19: 0.997\n",
      "pred [[1.8815363e-07 9.6420190e-05 9.9990344e-01]]\n",
      "Prediction: COVID-19\n",
      "Confidence\n",
      "Normal: 0.000 Pneumonia: 0.000 Covid-19: 1.000\n",
      "pred [[1.8815363e-07 9.6420190e-05 9.9990344e-01]]\n",
      "Prediction: COVID-19\n",
      "Confidence\n",
      "Normal: 0.000 Pneumonia: 0.000 Covid-19: 1.000\n",
      "Current img: lancet-case2a.jpg\n",
      "pred [[9.1949834e-05 2.5650894e-03 9.9734300e-01]]\n",
      "Prediction: COVID-19\n",
      "Confidence\n",
      "Normal: 0.000 Pneumonia: 0.003 Covid-19: 0.997\n",
      "pred [[9.6117816e-05 2.5893706e-03 9.9731451e-01]]\n",
      "Prediction: COVID-19\n",
      "Confidence\n",
      "Normal: 0.000 Pneumonia: 0.003 Covid-19: 0.997\n",
      "pred [[9.6117816e-05 2.5893706e-03 9.9731451e-01]]\n",
      "Prediction: COVID-19\n",
      "Confidence\n",
      "Normal: 0.000 Pneumonia: 0.003 Covid-19: 0.997\n",
      "Current img: lancet-case2b.jpg\n",
      "pred [[2.3867784e-04 1.7420237e-03 9.9801934e-01]]\n",
      "Prediction: COVID-19\n",
      "Confidence\n",
      "Normal: 0.000 Pneumonia: 0.002 Covid-19: 0.998\n",
      "pred [[0.00411366 0.02376904 0.9721173 ]]\n",
      "Prediction: COVID-19\n",
      "Confidence\n",
      "Normal: 0.004 Pneumonia: 0.024 Covid-19: 0.972\n",
      "pred [[0.00411366 0.02376904 0.9721173 ]]\n",
      "Prediction: COVID-19\n",
      "Confidence\n",
      "Normal: 0.004 Pneumonia: 0.024 Covid-19: 0.972\n",
      "Current img: SARS-10.1148rg.242035193-g04mr34g0-Fig8a-day0.jpeg\n",
      "pred [[5.337259e-04 2.116790e-01 7.877873e-01]]\n",
      "Prediction: COVID-19\n",
      "Confidence\n",
      "Normal: 0.001 Pneumonia: 0.212 Covid-19: 0.788\n",
      "pred [[0.00617342 0.66886914 0.32495746]]\n",
      "Prediction: pneumonia\n",
      "Confidence\n",
      "Normal: 0.006 Pneumonia: 0.669 Covid-19: 0.325\n",
      "pred [[0.00617342 0.66886914 0.32495746]]\n",
      "Prediction: pneumonia\n",
      "Confidence\n",
      "Normal: 0.006 Pneumonia: 0.669 Covid-19: 0.325\n",
      "Current img: SARS-10.1148rg.242035193-g04mr34g0-Fig8b-day5.jpeg\n",
      "pred [[0.00243549 0.6793778  0.31818673]]\n",
      "Prediction: pneumonia\n",
      "Confidence\n",
      "Normal: 0.002 Pneumonia: 0.679 Covid-19: 0.318\n"
     ]
    },
    {
     "name": "stderr",
     "output_type": "stream",
     "text": [
      "/opt/apps/apps/binapps/anaconda3/2019.07-numpy-fix/lib/python3.7/site-packages/ipykernel_launcher.py:196: RuntimeWarning: invalid value encountered in true_divide\n"
     ]
    },
    {
     "name": "stdout",
     "output_type": "stream",
     "text": [
      "pred [[0.00605688 0.69850194 0.29544115]]\n",
      "Prediction: pneumonia\n",
      "Confidence\n",
      "Normal: 0.006 Pneumonia: 0.699 Covid-19: 0.295\n"
     ]
    },
    {
     "name": "stderr",
     "output_type": "stream",
     "text": [
      "/opt/apps/apps/binapps/anaconda3/2019.07-numpy-fix/lib/python3.7/site-packages/ipykernel_launcher.py:196: RuntimeWarning: invalid value encountered in true_divide\n"
     ]
    },
    {
     "name": "stdout",
     "output_type": "stream",
     "text": [
      "pred [[0.00605688 0.69850194 0.29544115]]\n",
      "Prediction: pneumonia\n",
      "Confidence\n",
      "Normal: 0.006 Pneumonia: 0.699 Covid-19: 0.295\n",
      "Current img: SARS-10.1148rg.242035193-g04mr34g0-Fig8c-day10.jpeg\n"
     ]
    },
    {
     "name": "stderr",
     "output_type": "stream",
     "text": [
      "/opt/apps/apps/binapps/anaconda3/2019.07-numpy-fix/lib/python3.7/site-packages/ipykernel_launcher.py:196: RuntimeWarning: invalid value encountered in true_divide\n"
     ]
    },
    {
     "name": "stdout",
     "output_type": "stream",
     "text": [
      "pred [[8.1919234e-06 9.9998522e-01 6.5975983e-06]]\n",
      "Prediction: pneumonia\n",
      "Confidence\n",
      "Normal: 0.000 Pneumonia: 1.000 Covid-19: 0.000\n"
     ]
    },
    {
     "name": "stderr",
     "output_type": "stream",
     "text": [
      "/opt/apps/apps/binapps/anaconda3/2019.07-numpy-fix/lib/python3.7/site-packages/ipykernel_launcher.py:196: RuntimeWarning: invalid value encountered in true_divide\n"
     ]
    },
    {
     "name": "stdout",
     "output_type": "stream",
     "text": [
      "pred [[2.8893659e-05 9.9995673e-01 1.4439302e-05]]\n",
      "Prediction: pneumonia\n",
      "Confidence\n",
      "Normal: 0.000 Pneumonia: 1.000 Covid-19: 0.000\n"
     ]
    },
    {
     "name": "stderr",
     "output_type": "stream",
     "text": [
      "/opt/apps/apps/binapps/anaconda3/2019.07-numpy-fix/lib/python3.7/site-packages/ipykernel_launcher.py:196: RuntimeWarning: invalid value encountered in true_divide\n"
     ]
    },
    {
     "name": "stdout",
     "output_type": "stream",
     "text": [
      "pred [[2.8893659e-05 9.9995673e-01 1.4439302e-05]]\n",
      "Prediction: pneumonia\n",
      "Confidence\n",
      "Normal: 0.000 Pneumonia: 1.000 Covid-19: 0.000\n",
      "Current img: SARS-10.1148rg.242035193-g04mr34g04a-Fig4a-day7.jpeg\n"
     ]
    },
    {
     "name": "stderr",
     "output_type": "stream",
     "text": [
      "/opt/apps/apps/binapps/anaconda3/2019.07-numpy-fix/lib/python3.7/site-packages/ipykernel_launcher.py:196: RuntimeWarning: invalid value encountered in true_divide\n"
     ]
    },
    {
     "name": "stdout",
     "output_type": "stream",
     "text": [
      "pred [[0.5552118  0.08515265 0.35963556]]\n",
      "Prediction: normal\n",
      "Confidence\n",
      "Normal: 0.555 Pneumonia: 0.085 Covid-19: 0.360\n"
     ]
    },
    {
     "name": "stderr",
     "output_type": "stream",
     "text": [
      "/opt/apps/apps/binapps/anaconda3/2019.07-numpy-fix/lib/python3.7/site-packages/ipykernel_launcher.py:196: RuntimeWarning: invalid value encountered in true_divide\n"
     ]
    },
    {
     "name": "stdout",
     "output_type": "stream",
     "text": [
      "pred [[0.38902676 0.07051931 0.5404539 ]]\n",
      "Prediction: COVID-19\n",
      "Confidence\n",
      "Normal: 0.389 Pneumonia: 0.071 Covid-19: 0.540\n"
     ]
    },
    {
     "name": "stderr",
     "output_type": "stream",
     "text": [
      "/opt/apps/apps/binapps/anaconda3/2019.07-numpy-fix/lib/python3.7/site-packages/ipykernel_launcher.py:196: RuntimeWarning: invalid value encountered in true_divide\n"
     ]
    },
    {
     "name": "stdout",
     "output_type": "stream",
     "text": [
      "pred [[0.38902676 0.07051931 0.5404539 ]]\n",
      "Prediction: COVID-19\n",
      "Confidence\n",
      "Normal: 0.389 Pneumonia: 0.071 Covid-19: 0.540\n",
      "Current img: SARS-10.1148rg.242035193-g04mr34g04b-Fig4b-day12.jpeg\n"
     ]
    },
    {
     "name": "stderr",
     "output_type": "stream",
     "text": [
      "/opt/apps/apps/binapps/anaconda3/2019.07-numpy-fix/lib/python3.7/site-packages/ipykernel_launcher.py:196: RuntimeWarning: invalid value encountered in true_divide\n"
     ]
    },
    {
     "name": "stdout",
     "output_type": "stream",
     "text": [
      "pred [[0.2959518  0.47581857 0.22822967]]\n",
      "Prediction: pneumonia\n",
      "Confidence\n",
      "Normal: 0.296 Pneumonia: 0.476 Covid-19: 0.228\n",
      "pred [[0.75800514 0.23022823 0.01176662]]\n",
      "Prediction: normal\n",
      "Confidence\n",
      "Normal: 0.758 Pneumonia: 0.230 Covid-19: 0.012\n"
     ]
    },
    {
     "name": "stderr",
     "output_type": "stream",
     "text": [
      "/opt/apps/apps/binapps/anaconda3/2019.07-numpy-fix/lib/python3.7/site-packages/ipykernel_launcher.py:196: RuntimeWarning: invalid value encountered in true_divide\n"
     ]
    },
    {
     "name": "stdout",
     "output_type": "stream",
     "text": [
      "pred [[0.75800514 0.23022823 0.01176662]]\n",
      "Prediction: normal\n",
      "Confidence\n",
      "Normal: 0.758 Pneumonia: 0.230 Covid-19: 0.012\n",
      "Current img: SARS-10.1148rg.242035193-g04mr34g05x-Fig5-day9.jpeg\n"
     ]
    },
    {
     "name": "stderr",
     "output_type": "stream",
     "text": [
      "/opt/apps/apps/binapps/anaconda3/2019.07-numpy-fix/lib/python3.7/site-packages/ipykernel_launcher.py:196: RuntimeWarning: invalid value encountered in true_divide\n"
     ]
    },
    {
     "name": "stdout",
     "output_type": "stream",
     "text": [
      "pred [[0.18839884 0.12089645 0.69070476]]\n",
      "Prediction: COVID-19\n",
      "Confidence\n",
      "Normal: 0.188 Pneumonia: 0.121 Covid-19: 0.691\n"
     ]
    },
    {
     "name": "stderr",
     "output_type": "stream",
     "text": [
      "/opt/apps/apps/binapps/anaconda3/2019.07-numpy-fix/lib/python3.7/site-packages/ipykernel_launcher.py:196: RuntimeWarning: invalid value encountered in true_divide\n"
     ]
    },
    {
     "name": "stdout",
     "output_type": "stream",
     "text": [
      "pred [[0.36328468 0.09151527 0.54520005]]\n",
      "Prediction: COVID-19\n",
      "Confidence\n",
      "Normal: 0.363 Pneumonia: 0.092 Covid-19: 0.545\n"
     ]
    },
    {
     "name": "stderr",
     "output_type": "stream",
     "text": [
      "/opt/apps/apps/binapps/anaconda3/2019.07-numpy-fix/lib/python3.7/site-packages/ipykernel_launcher.py:196: RuntimeWarning: invalid value encountered in true_divide\n"
     ]
    },
    {
     "name": "stdout",
     "output_type": "stream",
     "text": [
      "pred [[0.36328468 0.09151527 0.54520005]]\n",
      "Prediction: COVID-19\n",
      "Confidence\n",
      "Normal: 0.363 Pneumonia: 0.092 Covid-19: 0.545\n",
      "Current img: SARS-10.1148rg.242035193-g04mr34g07a-Fig7a-day5.jpeg\n"
     ]
    },
    {
     "name": "stderr",
     "output_type": "stream",
     "text": [
      "/opt/apps/apps/binapps/anaconda3/2019.07-numpy-fix/lib/python3.7/site-packages/ipykernel_launcher.py:196: RuntimeWarning: invalid value encountered in true_divide\n"
     ]
    },
    {
     "name": "stdout",
     "output_type": "stream",
     "text": [
      "pred [[0.00204777 0.9163652  0.08158692]]\n",
      "Prediction: pneumonia\n",
      "Confidence\n",
      "Normal: 0.002 Pneumonia: 0.916 Covid-19: 0.082\n"
     ]
    },
    {
     "name": "stderr",
     "output_type": "stream",
     "text": [
      "/opt/apps/apps/binapps/anaconda3/2019.07-numpy-fix/lib/python3.7/site-packages/ipykernel_launcher.py:196: RuntimeWarning: invalid value encountered in true_divide\n"
     ]
    },
    {
     "name": "stdout",
     "output_type": "stream",
     "text": [
      "pred [[0.00545299 0.7133839  0.2811631 ]]\n",
      "Prediction: pneumonia\n",
      "Confidence\n",
      "Normal: 0.005 Pneumonia: 0.713 Covid-19: 0.281\n",
      "pred [[0.00545299 0.7133839  0.2811631 ]]\n",
      "Prediction: pneumonia\n",
      "Confidence\n",
      "Normal: 0.005 Pneumonia: 0.713 Covid-19: 0.281\n",
      "Current img: SARS-10.1148rg.242035193-g04mr34g07b-Fig7b-day12.jpeg\n",
      "pred [[0.021215   0.66296774 0.3158172 ]]\n",
      "Prediction: pneumonia\n",
      "Confidence\n",
      "Normal: 0.021 Pneumonia: 0.663 Covid-19: 0.316\n"
     ]
    },
    {
     "name": "stderr",
     "output_type": "stream",
     "text": [
      "/opt/apps/apps/binapps/anaconda3/2019.07-numpy-fix/lib/python3.7/site-packages/ipykernel_launcher.py:196: RuntimeWarning: invalid value encountered in true_divide\n"
     ]
    },
    {
     "name": "stdout",
     "output_type": "stream",
     "text": [
      "pred [[0.1508787  0.49574453 0.3533767 ]]\n",
      "Prediction: pneumonia\n",
      "Confidence\n",
      "Normal: 0.151 Pneumonia: 0.496 Covid-19: 0.353\n"
     ]
    },
    {
     "name": "stderr",
     "output_type": "stream",
     "text": [
      "/opt/apps/apps/binapps/anaconda3/2019.07-numpy-fix/lib/python3.7/site-packages/ipykernel_launcher.py:196: RuntimeWarning: invalid value encountered in true_divide\n"
     ]
    },
    {
     "name": "stdout",
     "output_type": "stream",
     "text": [
      "pred [[0.1508787  0.49574453 0.3533767 ]]\n",
      "Prediction: pneumonia\n",
      "Confidence\n",
      "Normal: 0.151 Pneumonia: 0.496 Covid-19: 0.353\n",
      "Current img: SARS-10.1148rg.242035193-g04mr34g09a-Fig9a-day17.jpeg\n"
     ]
    },
    {
     "name": "stderr",
     "output_type": "stream",
     "text": [
      "/opt/apps/apps/binapps/anaconda3/2019.07-numpy-fix/lib/python3.7/site-packages/ipykernel_launcher.py:196: RuntimeWarning: invalid value encountered in true_divide\n"
     ]
    },
    {
     "name": "stdout",
     "output_type": "stream",
     "text": [
      "pred [[0.00146303 0.05829248 0.94024444]]\n",
      "Prediction: COVID-19\n",
      "Confidence\n",
      "Normal: 0.001 Pneumonia: 0.058 Covid-19: 0.940\n",
      "pred [[0.00237013 0.07615755 0.9214724 ]]\n",
      "Prediction: COVID-19\n",
      "Confidence\n",
      "Normal: 0.002 Pneumonia: 0.076 Covid-19: 0.921\n",
      "pred [[0.00237013 0.07615755 0.9214724 ]]\n",
      "Prediction: COVID-19\n",
      "Confidence\n",
      "Normal: 0.002 Pneumonia: 0.076 Covid-19: 0.921\n",
      "Current img: SARS-10.1148rg.242035193-g04mr34g09b-Fig9b-day19.jpeg\n",
      "pred [[1.2427885e-05 2.6157579e-01 7.3841184e-01]]\n",
      "Prediction: COVID-19\n",
      "Confidence\n",
      "Normal: 0.000 Pneumonia: 0.262 Covid-19: 0.738\n",
      "pred [[3.7438698e-05 5.1173717e-01 4.8822537e-01]]\n",
      "Prediction: pneumonia\n",
      "Confidence\n",
      "Normal: 0.000 Pneumonia: 0.512 Covid-19: 0.488\n",
      "pred [[3.7438698e-05 5.1173717e-01 4.8822537e-01]]\n",
      "Prediction: pneumonia\n",
      "Confidence\n",
      "Normal: 0.000 Pneumonia: 0.512 Covid-19: 0.488\n",
      "Current img: SARS-10.1148rg.242035193-g04mr34g09c-Fig9c-day27.jpeg\n",
      "pred [[7.5155112e-05 3.9351800e-01 6.0640687e-01]]\n",
      "Prediction: COVID-19\n",
      "Confidence\n",
      "Normal: 0.000 Pneumonia: 0.394 Covid-19: 0.606\n",
      "pred [[0.00087954 0.4385153  0.5606051 ]]\n",
      "Prediction: COVID-19\n",
      "Confidence\n",
      "Normal: 0.001 Pneumonia: 0.439 Covid-19: 0.561\n"
     ]
    },
    {
     "name": "stderr",
     "output_type": "stream",
     "text": [
      "/opt/apps/apps/binapps/anaconda3/2019.07-numpy-fix/lib/python3.7/site-packages/ipykernel_launcher.py:196: RuntimeWarning: invalid value encountered in true_divide\n"
     ]
    },
    {
     "name": "stdout",
     "output_type": "stream",
     "text": [
      "pred [[0.00087954 0.4385153  0.5606051 ]]\n",
      "Prediction: COVID-19\n",
      "Confidence\n",
      "Normal: 0.001 Pneumonia: 0.439 Covid-19: 0.561\n",
      "Current img: 1-s2.0-S0140673620303706-fx1_lrg.jpg\n"
     ]
    },
    {
     "name": "stderr",
     "output_type": "stream",
     "text": [
      "/opt/apps/apps/binapps/anaconda3/2019.07-numpy-fix/lib/python3.7/site-packages/ipykernel_launcher.py:196: RuntimeWarning: invalid value encountered in true_divide\n"
     ]
    },
    {
     "name": "stdout",
     "output_type": "stream",
     "text": [
      "pred [[1.9400433e-11 6.6771666e-10 1.0000000e+00]]\n",
      "Prediction: COVID-19\n",
      "Confidence\n",
      "Normal: 0.000 Pneumonia: 0.000 Covid-19: 1.000\n",
      "pred [[0.21572754 0.7746124  0.00965997]]\n",
      "Prediction: pneumonia\n",
      "Confidence\n",
      "Normal: 0.216 Pneumonia: 0.775 Covid-19: 0.010\n"
     ]
    },
    {
     "name": "stderr",
     "output_type": "stream",
     "text": [
      "/opt/apps/apps/binapps/anaconda3/2019.07-numpy-fix/lib/python3.7/site-packages/ipykernel_launcher.py:196: RuntimeWarning: invalid value encountered in true_divide\n"
     ]
    },
    {
     "name": "stdout",
     "output_type": "stream",
     "text": [
      "pred [[0.21572754 0.7746124  0.00965997]]\n",
      "Prediction: pneumonia\n",
      "Confidence\n",
      "Normal: 0.216 Pneumonia: 0.775 Covid-19: 0.010\n",
      "Current img: nCoV-radiol.2020200269.fig1-day7.jpeg\n"
     ]
    },
    {
     "name": "stderr",
     "output_type": "stream",
     "text": [
      "/opt/apps/apps/binapps/anaconda3/2019.07-numpy-fix/lib/python3.7/site-packages/ipykernel_launcher.py:196: RuntimeWarning: invalid value encountered in true_divide\n"
     ]
    },
    {
     "name": "stdout",
     "output_type": "stream",
     "text": [
      "pred [[9.0917367e-17 4.2364682e-14 1.0000000e+00]]\n",
      "Prediction: COVID-19\n",
      "Confidence\n",
      "Normal: 0.000 Pneumonia: 0.000 Covid-19: 1.000\n",
      "pred [[6.7947301e-11 1.0188224e-09 1.0000000e+00]]\n",
      "Prediction: COVID-19\n",
      "Confidence\n",
      "Normal: 0.000 Pneumonia: 0.000 Covid-19: 1.000\n",
      "pred [[6.7947301e-11 1.0188224e-09 1.0000000e+00]]\n",
      "Prediction: COVID-19\n",
      "Confidence\n",
      "Normal: 0.000 Pneumonia: 0.000 Covid-19: 1.000\n",
      "Current img: nejmoa2001191_f1-PA.jpeg\n",
      "pred [[1.3827269e-04 3.6022562e-04 9.9950147e-01]]\n",
      "Prediction: COVID-19\n",
      "Confidence\n",
      "Normal: 0.000 Pneumonia: 0.000 Covid-19: 1.000\n",
      "pred [[0.06879297 0.02129828 0.9099088 ]]\n",
      "Prediction: COVID-19\n",
      "Confidence\n",
      "Normal: 0.069 Pneumonia: 0.021 Covid-19: 0.910\n",
      "pred [[0.06879297 0.02129828 0.9099088 ]]\n",
      "Prediction: COVID-19\n",
      "Confidence\n",
      "Normal: 0.069 Pneumonia: 0.021 Covid-19: 0.910\n",
      "Current img: nejmoa2001191_f1-L.jpeg\n",
      "pred [[0.0030265  0.03264581 0.96432763]]\n",
      "Prediction: COVID-19\n",
      "Confidence\n",
      "Normal: 0.003 Pneumonia: 0.033 Covid-19: 0.964\n",
      "pred [[0.04573262 0.37278488 0.5814825 ]]\n",
      "Prediction: COVID-19\n",
      "Confidence\n",
      "Normal: 0.046 Pneumonia: 0.373 Covid-19: 0.581\n",
      "pred [[0.04573262 0.37278488 0.5814825 ]]\n",
      "Prediction: COVID-19\n",
      "Confidence\n",
      "Normal: 0.046 Pneumonia: 0.373 Covid-19: 0.581\n",
      "Current img: nejmoa2001191_f3-PA.jpeg\n",
      "pred [[1.8270895e-05 2.2832784e-05 9.9995887e-01]]\n",
      "Prediction: COVID-19\n",
      "Confidence\n",
      "Normal: 0.000 Pneumonia: 0.000 Covid-19: 1.000\n",
      "pred [[1.5625071e-04 1.6910107e-04 9.9967468e-01]]\n",
      "Prediction: COVID-19\n",
      "Confidence\n",
      "Normal: 0.000 Pneumonia: 0.000 Covid-19: 1.000\n",
      "pred [[1.5625071e-04 1.6910107e-04 9.9967468e-01]]\n",
      "Prediction: COVID-19\n",
      "Confidence\n",
      "Normal: 0.000 Pneumonia: 0.000 Covid-19: 1.000\n",
      "Current img: nejmoa2001191_f3-L.jpeg\n",
      "pred [[0.00137543 0.01851409 0.9801105 ]]\n",
      "Prediction: COVID-19\n",
      "Confidence\n",
      "Normal: 0.001 Pneumonia: 0.019 Covid-19: 0.980\n",
      "pred [[0.0475084 0.501195  0.4512966]]\n",
      "Prediction: pneumonia\n",
      "Confidence\n",
      "Normal: 0.048 Pneumonia: 0.501 Covid-19: 0.451\n",
      "pred [[0.0475084 0.501195  0.4512966]]\n",
      "Prediction: pneumonia\n",
      "Confidence\n",
      "Normal: 0.048 Pneumonia: 0.501 Covid-19: 0.451\n",
      "Current img: nejmoa2001191_f4.jpeg\n",
      "pred [[1.1197878e-05 1.9610276e-05 9.9996924e-01]]\n",
      "Prediction: COVID-19\n",
      "Confidence\n",
      "Normal: 0.000 Pneumonia: 0.000 Covid-19: 1.000\n",
      "pred [[0.10474391 0.02611024 0.8691458 ]]\n",
      "Prediction: COVID-19\n",
      "Confidence\n",
      "Normal: 0.105 Pneumonia: 0.026 Covid-19: 0.869\n",
      "pred [[0.10474391 0.02611024 0.8691458 ]]\n",
      "Prediction: COVID-19\n",
      "Confidence\n",
      "Normal: 0.105 Pneumonia: 0.026 Covid-19: 0.869\n",
      "Current img: nejmoa2001191_f5-PA.jpeg\n",
      "pred [[1.0889894e-06 6.0527782e-06 9.9999285e-01]]\n",
      "Prediction: COVID-19\n",
      "Confidence\n",
      "Normal: 0.000 Pneumonia: 0.000 Covid-19: 1.000\n",
      "pred [[0.28168982 0.29655212 0.421758  ]]\n",
      "Prediction: COVID-19\n",
      "Confidence\n",
      "Normal: 0.282 Pneumonia: 0.297 Covid-19: 0.422\n"
     ]
    },
    {
     "name": "stderr",
     "output_type": "stream",
     "text": [
      "/opt/apps/apps/binapps/anaconda3/2019.07-numpy-fix/lib/python3.7/site-packages/ipykernel_launcher.py:196: RuntimeWarning: invalid value encountered in true_divide\n"
     ]
    },
    {
     "name": "stdout",
     "output_type": "stream",
     "text": [
      "pred [[0.28168982 0.29655212 0.421758  ]]\n",
      "Prediction: COVID-19\n",
      "Confidence\n",
      "Normal: 0.282 Pneumonia: 0.297 Covid-19: 0.422\n",
      "Current img: nejmoa2001191_f5-L.jpeg\n"
     ]
    },
    {
     "name": "stderr",
     "output_type": "stream",
     "text": [
      "/opt/apps/apps/binapps/anaconda3/2019.07-numpy-fix/lib/python3.7/site-packages/ipykernel_launcher.py:196: RuntimeWarning: invalid value encountered in true_divide\n"
     ]
    },
    {
     "name": "stdout",
     "output_type": "stream",
     "text": [
      "pred [[1.3164004e-04 2.1309170e-03 9.9773741e-01]]\n",
      "Prediction: COVID-19\n",
      "Confidence\n",
      "Normal: 0.000 Pneumonia: 0.002 Covid-19: 0.998\n",
      "pred [[0.0505898  0.70156914 0.2478411 ]]\n",
      "Prediction: pneumonia\n",
      "Confidence\n",
      "Normal: 0.051 Pneumonia: 0.702 Covid-19: 0.248\n",
      "pred [[0.0505898  0.70156914 0.2478411 ]]\n",
      "Prediction: pneumonia\n",
      "Confidence\n",
      "Normal: 0.051 Pneumonia: 0.702 Covid-19: 0.248\n",
      "Current img: ryct.2020200034.fig2.jpeg\n",
      "pred [[2.5582545e-05 2.6369386e-05 9.9994802e-01]]\n",
      "Prediction: COVID-19\n",
      "Confidence\n",
      "Normal: 0.000 Pneumonia: 0.000 Covid-19: 1.000\n",
      "pred [[0.07957243 0.02119709 0.8992305 ]]\n",
      "Prediction: COVID-19\n",
      "Confidence\n",
      "Normal: 0.080 Pneumonia: 0.021 Covid-19: 0.899\n",
      "pred [[0.07957243 0.02119709 0.8992305 ]]\n",
      "Prediction: COVID-19\n",
      "Confidence\n",
      "Normal: 0.080 Pneumonia: 0.021 Covid-19: 0.899\n",
      "Current img: ryct.2020200034.fig5-day0.jpeg\n",
      "pred [[0.03169521 0.03495249 0.9333523 ]]\n",
      "Prediction: COVID-19\n",
      "Confidence\n",
      "Normal: 0.032 Pneumonia: 0.035 Covid-19: 0.933\n",
      "pred [[0.36123046 0.33637556 0.302394  ]]\n",
      "Prediction: normal\n",
      "Confidence\n",
      "Normal: 0.361 Pneumonia: 0.336 Covid-19: 0.302\n"
     ]
    },
    {
     "name": "stderr",
     "output_type": "stream",
     "text": [
      "/opt/apps/apps/binapps/anaconda3/2019.07-numpy-fix/lib/python3.7/site-packages/ipykernel_launcher.py:196: RuntimeWarning: invalid value encountered in true_divide\n"
     ]
    },
    {
     "name": "stdout",
     "output_type": "stream",
     "text": [
      "pred [[0.36123046 0.33637556 0.302394  ]]\n",
      "Prediction: normal\n",
      "Confidence\n",
      "Normal: 0.361 Pneumonia: 0.336 Covid-19: 0.302\n",
      "Current img: ryct.2020200034.fig5-day4.jpeg\n"
     ]
    },
    {
     "name": "stderr",
     "output_type": "stream",
     "text": [
      "/opt/apps/apps/binapps/anaconda3/2019.07-numpy-fix/lib/python3.7/site-packages/ipykernel_launcher.py:196: RuntimeWarning: invalid value encountered in true_divide\n"
     ]
    },
    {
     "name": "stdout",
     "output_type": "stream",
     "text": [
      "pred [[1.4178584e-06 7.1842503e-04 9.9928015e-01]]\n",
      "Prediction: COVID-19\n",
      "Confidence\n",
      "Normal: 0.000 Pneumonia: 0.001 Covid-19: 0.999\n",
      "pred [[2.5188150e-05 6.2708375e-03 9.9370390e-01]]\n",
      "Prediction: COVID-19\n",
      "Confidence\n",
      "Normal: 0.000 Pneumonia: 0.006 Covid-19: 0.994\n",
      "pred [[2.5188150e-05 6.2708375e-03 9.9370390e-01]]\n",
      "Prediction: COVID-19\n",
      "Confidence\n",
      "Normal: 0.000 Pneumonia: 0.006 Covid-19: 0.994\n",
      "Current img: ryct.2020200034.fig5-day7.jpeg\n",
      "pred [[6.2358063e-06 1.6544594e-03 9.9833930e-01]]\n",
      "Prediction: COVID-19\n",
      "Confidence\n",
      "Normal: 0.000 Pneumonia: 0.002 Covid-19: 0.998\n",
      "pred [[1.3797211e-05 3.5999885e-03 9.9638617e-01]]\n",
      "Prediction: COVID-19\n",
      "Confidence\n",
      "Normal: 0.000 Pneumonia: 0.004 Covid-19: 0.996\n",
      "pred [[1.3797211e-05 3.5999885e-03 9.9638617e-01]]\n",
      "Prediction: COVID-19\n",
      "Confidence\n",
      "Normal: 0.000 Pneumonia: 0.004 Covid-19: 0.996\n",
      "Current img: ryct.2020200028.fig1a.jpeg\n",
      "pred [[4.1358759e-05 4.6289389e-04 9.9949574e-01]]\n",
      "Prediction: COVID-19\n",
      "Confidence\n",
      "Normal: 0.000 Pneumonia: 0.000 Covid-19: 0.999\n",
      "pred [[4.3223263e-06 2.0338905e-04 9.9979228e-01]]\n",
      "Prediction: COVID-19\n",
      "Confidence\n",
      "Normal: 0.000 Pneumonia: 0.000 Covid-19: 1.000\n",
      "pred [[4.3223263e-06 2.0338905e-04 9.9979228e-01]]\n",
      "Prediction: COVID-19\n",
      "Confidence\n",
      "Normal: 0.000 Pneumonia: 0.000 Covid-19: 1.000\n",
      "Current img: jkms-35-e79-g001-l-a.jpg\n",
      "pred [[6.3257437e-05 1.9661244e-03 9.9797064e-01]]\n",
      "Prediction: COVID-19\n",
      "Confidence\n",
      "Normal: 0.000 Pneumonia: 0.002 Covid-19: 0.998\n",
      "pred [[0.0024399  0.00922714 0.9883329 ]]\n",
      "Prediction: COVID-19\n",
      "Confidence\n",
      "Normal: 0.002 Pneumonia: 0.009 Covid-19: 0.988\n",
      "pred [[0.0024399  0.00922714 0.9883329 ]]\n",
      "Prediction: COVID-19\n",
      "Confidence\n",
      "Normal: 0.002 Pneumonia: 0.009 Covid-19: 0.988\n",
      "Current img: jkms-35-e79-g001-l-b.jpg\n",
      "pred [[7.2728017e-06 2.3078303e-04 9.9976200e-01]]\n",
      "Prediction: COVID-19\n",
      "Confidence\n",
      "Normal: 0.000 Pneumonia: 0.000 Covid-19: 1.000\n",
      "pred [[5.7382840e-05 4.6808968e-04 9.9947459e-01]]\n",
      "Prediction: COVID-19\n",
      "Confidence\n",
      "Normal: 0.000 Pneumonia: 0.000 Covid-19: 0.999\n",
      "pred [[5.7382840e-05 4.6808968e-04 9.9947459e-01]]\n",
      "Prediction: COVID-19\n",
      "Confidence\n",
      "Normal: 0.000 Pneumonia: 0.000 Covid-19: 0.999\n",
      "Current img: jkms-35-e79-g001-l-c.jpg\n",
      "pred [[1.2718846e-07 1.0952611e-04 9.9989033e-01]]\n",
      "Prediction: COVID-19\n",
      "Confidence\n",
      "Normal: 0.000 Pneumonia: 0.000 Covid-19: 1.000\n",
      "pred [[3.079832e-06 3.399512e-04 9.996569e-01]]\n",
      "Prediction: COVID-19\n",
      "Confidence\n",
      "Normal: 0.000 Pneumonia: 0.000 Covid-19: 1.000\n",
      "pred [[3.079832e-06 3.399512e-04 9.996569e-01]]\n",
      "Prediction: COVID-19\n",
      "Confidence\n",
      "Normal: 0.000 Pneumonia: 0.000 Covid-19: 1.000\n",
      "Current img: jkms-35-e79-g001-l-d.jpg\n",
      "pred [[6.9617271e-01 3.0382732e-01 6.0847355e-10]]\n",
      "Prediction: normal\n",
      "Confidence\n",
      "Normal: 0.696 Pneumonia: 0.304 Covid-19: 0.000\n"
     ]
    },
    {
     "name": "stderr",
     "output_type": "stream",
     "text": [
      "/opt/apps/apps/binapps/anaconda3/2019.07-numpy-fix/lib/python3.7/site-packages/ipykernel_launcher.py:196: RuntimeWarning: invalid value encountered in true_divide\n"
     ]
    },
    {
     "name": "stdout",
     "output_type": "stream",
     "text": [
      "pred [[1.5440322e-01 8.4559685e-01 3.9125805e-08]]\n",
      "Prediction: pneumonia\n",
      "Confidence\n",
      "Normal: 0.154 Pneumonia: 0.846 Covid-19: 0.000\n",
      "pred [[1.5440322e-01 8.4559685e-01 3.9125805e-08]]\n",
      "Prediction: pneumonia\n",
      "Confidence\n",
      "Normal: 0.154 Pneumonia: 0.846 Covid-19: 0.000\n",
      "Current img: jkms-35-e79-g001-l-e.jpg\n",
      "pred [[5.4697412e-01 4.5302588e-01 7.7775679e-09]]\n",
      "Prediction: normal\n",
      "Confidence\n",
      "Normal: 0.547 Pneumonia: 0.453 Covid-19: 0.000\n",
      "pred [[9.2584036e-02 9.0740913e-01 6.7741366e-06]]\n",
      "Prediction: pneumonia\n",
      "Confidence\n",
      "Normal: 0.093 Pneumonia: 0.907 Covid-19: 0.000\n",
      "pred [[9.2584036e-02 9.0740913e-01 6.7741366e-06]]\n",
      "Prediction: pneumonia\n",
      "Confidence\n",
      "Normal: 0.093 Pneumonia: 0.907 Covid-19: 0.000\n",
      "Current img: radiol.2020200490.fig3.jpeg\n",
      "pred [[0. 0. 1.]]\n",
      "Prediction: COVID-19\n",
      "Confidence\n",
      "Normal: 0.000 Pneumonia: 0.000 Covid-19: 1.000\n"
     ]
    },
    {
     "name": "stderr",
     "output_type": "stream",
     "text": [
      "/opt/apps/apps/binapps/anaconda3/2019.07-numpy-fix/lib/python3.7/site-packages/ipykernel_launcher.py:196: RuntimeWarning: invalid value encountered in true_divide\n"
     ]
    },
    {
     "name": "stdout",
     "output_type": "stream",
     "text": [
      "pred [[0. 0. 1.]]\n",
      "Prediction: COVID-19\n",
      "Confidence\n",
      "Normal: 0.000 Pneumonia: 0.000 Covid-19: 1.000\n"
     ]
    },
    {
     "name": "stderr",
     "output_type": "stream",
     "text": [
      "/opt/apps/apps/binapps/anaconda3/2019.07-numpy-fix/lib/python3.7/site-packages/ipykernel_launcher.py:196: RuntimeWarning: invalid value encountered in true_divide\n"
     ]
    },
    {
     "name": "stdout",
     "output_type": "stream",
     "text": [
      "pred [[0. 0. 1.]]\n",
      "Prediction: COVID-19\n",
      "Confidence\n",
      "Normal: 0.000 Pneumonia: 0.000 Covid-19: 1.000\n",
      "Current img: 1-s2.0-S0929664620300449-gr2_lrg-a.jpg\n"
     ]
    },
    {
     "name": "stderr",
     "output_type": "stream",
     "text": [
      "/opt/apps/apps/binapps/anaconda3/2019.07-numpy-fix/lib/python3.7/site-packages/ipykernel_launcher.py:196: RuntimeWarning: invalid value encountered in true_divide\n"
     ]
    },
    {
     "name": "stdout",
     "output_type": "stream",
     "text": [
      "pred [[1.6197631e-05 1.5010028e-03 9.9848276e-01]]\n",
      "Prediction: COVID-19\n",
      "Confidence\n",
      "Normal: 0.000 Pneumonia: 0.002 Covid-19: 0.998\n",
      "pred [[3.3838543e-05 3.9123041e-03 9.9605381e-01]]\n",
      "Prediction: COVID-19\n",
      "Confidence\n",
      "Normal: 0.000 Pneumonia: 0.004 Covid-19: 0.996\n",
      "pred [[3.3838543e-05 3.9123041e-03 9.9605381e-01]]\n",
      "Prediction: COVID-19\n",
      "Confidence\n",
      "Normal: 0.000 Pneumonia: 0.004 Covid-19: 0.996\n",
      "Current img: 1-s2.0-S0929664620300449-gr2_lrg-b.jpg\n",
      "pred [[1.8853221e-05 7.7817854e-03 9.9219936e-01]]\n",
      "Prediction: COVID-19\n",
      "Confidence\n",
      "Normal: 0.000 Pneumonia: 0.008 Covid-19: 0.992\n",
      "pred [[0.00094569 0.33711886 0.66193545]]\n",
      "Prediction: COVID-19\n",
      "Confidence\n",
      "Normal: 0.001 Pneumonia: 0.337 Covid-19: 0.662\n"
     ]
    },
    {
     "name": "stderr",
     "output_type": "stream",
     "text": [
      "/opt/apps/apps/binapps/anaconda3/2019.07-numpy-fix/lib/python3.7/site-packages/ipykernel_launcher.py:196: RuntimeWarning: invalid value encountered in true_divide\n"
     ]
    },
    {
     "name": "stdout",
     "output_type": "stream",
     "text": [
      "pred [[0.00094569 0.33711886 0.66193545]]\n",
      "Prediction: COVID-19\n",
      "Confidence\n",
      "Normal: 0.001 Pneumonia: 0.337 Covid-19: 0.662\n",
      "Current img: 1-s2.0-S0929664620300449-gr2_lrg-c.jpg\n"
     ]
    },
    {
     "name": "stderr",
     "output_type": "stream",
     "text": [
      "/opt/apps/apps/binapps/anaconda3/2019.07-numpy-fix/lib/python3.7/site-packages/ipykernel_launcher.py:196: RuntimeWarning: invalid value encountered in true_divide\n"
     ]
    },
    {
     "name": "stdout",
     "output_type": "stream",
     "text": [
      "pred [[3.4745299e-05 2.0937305e-02 9.7902793e-01]]\n",
      "Prediction: COVID-19\n",
      "Confidence\n",
      "Normal: 0.000 Pneumonia: 0.021 Covid-19: 0.979\n",
      "pred [[5.9794803e-04 1.2474362e-01 8.7465847e-01]]\n",
      "Prediction: COVID-19\n",
      "Confidence\n",
      "Normal: 0.001 Pneumonia: 0.125 Covid-19: 0.875\n",
      "pred [[5.9794803e-04 1.2474362e-01 8.7465847e-01]]\n",
      "Prediction: COVID-19\n",
      "Confidence\n",
      "Normal: 0.001 Pneumonia: 0.125 Covid-19: 0.875\n",
      "Current img: 1-s2.0-S0929664620300449-gr2_lrg-d.jpg\n",
      "pred [[0.00807535 0.07136302 0.9205617 ]]\n",
      "Prediction: COVID-19\n",
      "Confidence\n",
      "Normal: 0.008 Pneumonia: 0.071 Covid-19: 0.921\n",
      "pred [[0.45920035 0.41739628 0.12340333]]\n",
      "Prediction: normal\n",
      "Confidence\n",
      "Normal: 0.459 Pneumonia: 0.417 Covid-19: 0.123\n"
     ]
    },
    {
     "name": "stderr",
     "output_type": "stream",
     "text": [
      "/opt/apps/apps/binapps/anaconda3/2019.07-numpy-fix/lib/python3.7/site-packages/ipykernel_launcher.py:196: RuntimeWarning: invalid value encountered in true_divide\n"
     ]
    },
    {
     "name": "stdout",
     "output_type": "stream",
     "text": [
      "pred [[0.45920035 0.41739628 0.12340333]]\n",
      "Prediction: normal\n",
      "Confidence\n",
      "Normal: 0.459 Pneumonia: 0.417 Covid-19: 0.123\n",
      "Current img: 1-s2.0-S0929664620300449-gr3_lrg-a.jpg\n"
     ]
    },
    {
     "name": "stderr",
     "output_type": "stream",
     "text": [
      "/opt/apps/apps/binapps/anaconda3/2019.07-numpy-fix/lib/python3.7/site-packages/ipykernel_launcher.py:196: RuntimeWarning: invalid value encountered in true_divide\n"
     ]
    },
    {
     "name": "stdout",
     "output_type": "stream",
     "text": [
      "pred [[3.9898545e-01 6.0101455e-01 2.2474648e-08]]\n",
      "Prediction: pneumonia\n",
      "Confidence\n",
      "Normal: 0.399 Pneumonia: 0.601 Covid-19: 0.000\n",
      "pred [[3.9205712e-01 6.0794264e-01 2.9167816e-07]]\n",
      "Prediction: pneumonia\n",
      "Confidence\n",
      "Normal: 0.392 Pneumonia: 0.608 Covid-19: 0.000\n",
      "pred [[3.9205712e-01 6.0794264e-01 2.9167816e-07]]\n",
      "Prediction: pneumonia\n",
      "Confidence\n",
      "Normal: 0.392 Pneumonia: 0.608 Covid-19: 0.000\n",
      "Current img: 1-s2.0-S0929664620300449-gr3_lrg-b.jpg\n",
      "pred [[2.9491213e-01 7.0508784e-01 3.3064591e-08]]\n",
      "Prediction: pneumonia\n",
      "Confidence\n",
      "Normal: 0.295 Pneumonia: 0.705 Covid-19: 0.000\n"
     ]
    },
    {
     "name": "stderr",
     "output_type": "stream",
     "text": [
      "/opt/apps/apps/binapps/anaconda3/2019.07-numpy-fix/lib/python3.7/site-packages/ipykernel_launcher.py:196: RuntimeWarning: invalid value encountered in true_divide\n"
     ]
    },
    {
     "name": "stdout",
     "output_type": "stream",
     "text": [
      "pred [[1.1251097e-01 8.8748896e-01 2.2928199e-09]]\n",
      "Prediction: pneumonia\n",
      "Confidence\n",
      "Normal: 0.113 Pneumonia: 0.887 Covid-19: 0.000\n",
      "pred [[1.1251097e-01 8.8748896e-01 2.2928199e-09]]\n",
      "Prediction: pneumonia\n",
      "Confidence\n",
      "Normal: 0.113 Pneumonia: 0.887 Covid-19: 0.000\n",
      "Current img: 1-s2.0-S0929664620300449-gr3_lrg-c.jpg\n",
      "pred [[3.2510263e-01 6.7489183e-01 5.5764604e-06]]\n",
      "Prediction: pneumonia\n",
      "Confidence\n",
      "Normal: 0.325 Pneumonia: 0.675 Covid-19: 0.000\n",
      "pred [[7.1454340e-01 2.8545642e-01 1.7752902e-07]]\n",
      "Prediction: normal\n",
      "Confidence\n",
      "Normal: 0.715 Pneumonia: 0.285 Covid-19: 0.000\n"
     ]
    },
    {
     "name": "stderr",
     "output_type": "stream",
     "text": [
      "/opt/apps/apps/binapps/anaconda3/2019.07-numpy-fix/lib/python3.7/site-packages/ipykernel_launcher.py:196: RuntimeWarning: invalid value encountered in true_divide\n"
     ]
    },
    {
     "name": "stdout",
     "output_type": "stream",
     "text": [
      "pred [[7.1454340e-01 2.8545642e-01 1.7752902e-07]]\n",
      "Prediction: normal\n",
      "Confidence\n",
      "Normal: 0.715 Pneumonia: 0.285 Covid-19: 0.000\n",
      "Current img: 1-s2.0-S0929664620300449-gr3_lrg-d.jpg\n"
     ]
    },
    {
     "name": "stderr",
     "output_type": "stream",
     "text": [
      "/opt/apps/apps/binapps/anaconda3/2019.07-numpy-fix/lib/python3.7/site-packages/ipykernel_launcher.py:196: RuntimeWarning: invalid value encountered in true_divide\n"
     ]
    },
    {
     "name": "stdout",
     "output_type": "stream",
     "text": [
      "pred [[1.19010955e-01 8.80989075e-01 4.17237160e-08]]\n",
      "Prediction: pneumonia\n",
      "Confidence\n",
      "Normal: 0.119 Pneumonia: 0.881 Covid-19: 0.000\n"
     ]
    },
    {
     "name": "stderr",
     "output_type": "stream",
     "text": [
      "/opt/apps/apps/binapps/anaconda3/2019.07-numpy-fix/lib/python3.7/site-packages/ipykernel_launcher.py:196: RuntimeWarning: invalid value encountered in true_divide\n"
     ]
    },
    {
     "name": "stdout",
     "output_type": "stream",
     "text": [
      "pred [[4.3421161e-01 5.6578833e-01 8.3579685e-08]]\n",
      "Prediction: pneumonia\n",
      "Confidence\n",
      "Normal: 0.434 Pneumonia: 0.566 Covid-19: 0.000\n"
     ]
    },
    {
     "name": "stderr",
     "output_type": "stream",
     "text": [
      "/opt/apps/apps/binapps/anaconda3/2019.07-numpy-fix/lib/python3.7/site-packages/ipykernel_launcher.py:196: RuntimeWarning: invalid value encountered in true_divide\n"
     ]
    },
    {
     "name": "stdout",
     "output_type": "stream",
     "text": [
      "pred [[4.3421161e-01 5.6578833e-01 8.3579685e-08]]\n",
      "Prediction: pneumonia\n",
      "Confidence\n",
      "Normal: 0.434 Pneumonia: 0.566 Covid-19: 0.000\n",
      "Current img: covid-19-pneumonia-15-PA.jpg\n"
     ]
    },
    {
     "name": "stderr",
     "output_type": "stream",
     "text": [
      "/opt/apps/apps/binapps/anaconda3/2019.07-numpy-fix/lib/python3.7/site-packages/ipykernel_launcher.py:196: RuntimeWarning: invalid value encountered in true_divide\n"
     ]
    },
    {
     "name": "stdout",
     "output_type": "stream",
     "text": [
      "pred [[2.7678825e-05 3.1452132e-03 9.9682707e-01]]\n",
      "Prediction: COVID-19\n",
      "Confidence\n",
      "Normal: 0.000 Pneumonia: 0.003 Covid-19: 0.997\n",
      "pred [[6.5728509e-06 8.7244203e-04 9.9912101e-01]]\n",
      "Prediction: COVID-19\n",
      "Confidence\n",
      "Normal: 0.000 Pneumonia: 0.001 Covid-19: 0.999\n",
      "pred [[6.5728509e-06 8.7244203e-04 9.9912101e-01]]\n",
      "Prediction: COVID-19\n",
      "Confidence\n",
      "Normal: 0.000 Pneumonia: 0.001 Covid-19: 0.999\n",
      "Current img: covid-19-pneumonia-15-L.jpg\n",
      "pred [[0.09881458 0.8507055  0.0504799 ]]\n",
      "Prediction: pneumonia\n",
      "Confidence\n",
      "Normal: 0.099 Pneumonia: 0.851 Covid-19: 0.050\n"
     ]
    },
    {
     "name": "stderr",
     "output_type": "stream",
     "text": [
      "/opt/apps/apps/binapps/anaconda3/2019.07-numpy-fix/lib/python3.7/site-packages/ipykernel_launcher.py:196: RuntimeWarning: invalid value encountered in true_divide\n"
     ]
    },
    {
     "name": "stdout",
     "output_type": "stream",
     "text": [
      "pred [[0.15574694 0.8405489  0.00370415]]\n",
      "Prediction: pneumonia\n",
      "Confidence\n",
      "Normal: 0.156 Pneumonia: 0.841 Covid-19: 0.004\n"
     ]
    },
    {
     "name": "stderr",
     "output_type": "stream",
     "text": [
      "/opt/apps/apps/binapps/anaconda3/2019.07-numpy-fix/lib/python3.7/site-packages/ipykernel_launcher.py:196: RuntimeWarning: invalid value encountered in true_divide\n"
     ]
    },
    {
     "name": "stdout",
     "output_type": "stream",
     "text": [
      "pred [[0.15574694 0.8405489  0.00370415]]\n",
      "Prediction: pneumonia\n",
      "Confidence\n",
      "Normal: 0.156 Pneumonia: 0.841 Covid-19: 0.004\n",
      "Current img: covid-19-pneumonia-2.jpg\n"
     ]
    },
    {
     "name": "stderr",
     "output_type": "stream",
     "text": [
      "/opt/apps/apps/binapps/anaconda3/2019.07-numpy-fix/lib/python3.7/site-packages/ipykernel_launcher.py:196: RuntimeWarning: invalid value encountered in true_divide\n"
     ]
    },
    {
     "name": "stdout",
     "output_type": "stream",
     "text": [
      "pred [[0.00150719 0.04063603 0.9578568 ]]\n",
      "Prediction: COVID-19\n",
      "Confidence\n",
      "Normal: 0.002 Pneumonia: 0.041 Covid-19: 0.958\n",
      "pred [[0.09867709 0.8715381  0.02978487]]\n",
      "Prediction: pneumonia\n",
      "Confidence\n",
      "Normal: 0.099 Pneumonia: 0.872 Covid-19: 0.030\n"
     ]
    },
    {
     "name": "stderr",
     "output_type": "stream",
     "text": [
      "/opt/apps/apps/binapps/anaconda3/2019.07-numpy-fix/lib/python3.7/site-packages/ipykernel_launcher.py:196: RuntimeWarning: invalid value encountered in true_divide\n"
     ]
    },
    {
     "name": "stdout",
     "output_type": "stream",
     "text": [
      "pred [[0.09867709 0.8715381  0.02978487]]\n",
      "Prediction: pneumonia\n",
      "Confidence\n",
      "Normal: 0.099 Pneumonia: 0.872 Covid-19: 0.030\n",
      "Current img: covid-19-pneumonia-7-PA.jpg\n"
     ]
    },
    {
     "name": "stderr",
     "output_type": "stream",
     "text": [
      "/opt/apps/apps/binapps/anaconda3/2019.07-numpy-fix/lib/python3.7/site-packages/ipykernel_launcher.py:196: RuntimeWarning: invalid value encountered in true_divide\n"
     ]
    },
    {
     "name": "stdout",
     "output_type": "stream",
     "text": [
      "pred [[0.00269029 0.00428314 0.9930266 ]]\n",
      "Prediction: COVID-19\n",
      "Confidence\n",
      "Normal: 0.003 Pneumonia: 0.004 Covid-19: 0.993\n",
      "pred [[0.11670485 0.1077752  0.7755199 ]]\n",
      "Prediction: COVID-19\n",
      "Confidence\n",
      "Normal: 0.117 Pneumonia: 0.108 Covid-19: 0.776\n",
      "pred [[0.11670485 0.1077752  0.7755199 ]]\n",
      "Prediction: COVID-19\n",
      "Confidence\n",
      "Normal: 0.117 Pneumonia: 0.108 Covid-19: 0.776\n",
      "Current img: covid-19-pneumonia-7-L.jpg\n",
      "pred [[0.00187885 0.03968578 0.9584354 ]]\n",
      "Prediction: COVID-19\n",
      "Confidence\n",
      "Normal: 0.002 Pneumonia: 0.040 Covid-19: 0.958\n",
      "pred [[0.06669225 0.5771008  0.35620686]]\n",
      "Prediction: pneumonia\n",
      "Confidence\n",
      "Normal: 0.067 Pneumonia: 0.577 Covid-19: 0.356\n"
     ]
    },
    {
     "name": "stderr",
     "output_type": "stream",
     "text": [
      "/opt/apps/apps/binapps/anaconda3/2019.07-numpy-fix/lib/python3.7/site-packages/ipykernel_launcher.py:196: RuntimeWarning: invalid value encountered in true_divide\n"
     ]
    },
    {
     "name": "stdout",
     "output_type": "stream",
     "text": [
      "pred [[0.06669225 0.5771008  0.35620686]]\n",
      "Prediction: pneumonia\n",
      "Confidence\n",
      "Normal: 0.067 Pneumonia: 0.577 Covid-19: 0.356\n",
      "Current img: radiopaedia_org_covid-19-pneumonia-7_85703_0-dcm.nii.gz\n"
     ]
    },
    {
     "name": "stderr",
     "output_type": "stream",
     "text": [
      "/opt/apps/apps/binapps/anaconda3/2019.07-numpy-fix/lib/python3.7/site-packages/ipykernel_launcher.py:196: RuntimeWarning: invalid value encountered in true_divide\n"
     ]
    },
    {
     "name": "stdout",
     "output_type": "stream",
     "text": [
      "pred [[0.2905914  0.6988258  0.01058283]]\n",
      "Prediction: pneumonia\n",
      "Confidence\n",
      "Normal: 0.291 Pneumonia: 0.699 Covid-19: 0.011\n"
     ]
    },
    {
     "name": "stderr",
     "output_type": "stream",
     "text": [
      "/opt/apps/apps/binapps/anaconda3/2019.07-numpy-fix/lib/python3.7/site-packages/ipykernel_launcher.py:196: RuntimeWarning: invalid value encountered in true_divide\n"
     ]
    },
    {
     "name": "stdout",
     "output_type": "stream",
     "text": [
      "pred [[0.2905914  0.6988258  0.01058283]]\n",
      "Prediction: pneumonia\n",
      "Confidence\n",
      "Normal: 0.291 Pneumonia: 0.699 Covid-19: 0.011\n"
     ]
    },
    {
     "name": "stderr",
     "output_type": "stream",
     "text": [
      "/opt/apps/apps/binapps/anaconda3/2019.07-numpy-fix/lib/python3.7/site-packages/ipykernel_launcher.py:196: RuntimeWarning: invalid value encountered in true_divide\n"
     ]
    },
    {
     "name": "stdout",
     "output_type": "stream",
     "text": [
      "pred [[0.2905914  0.6988258  0.01058283]]\n",
      "Prediction: pneumonia\n",
      "Confidence\n",
      "Normal: 0.291 Pneumonia: 0.699 Covid-19: 0.011\n",
      "Current img: covid-19-pneumonia-14-PA.png\n"
     ]
    },
    {
     "name": "stderr",
     "output_type": "stream",
     "text": [
      "/opt/apps/apps/binapps/anaconda3/2019.07-numpy-fix/lib/python3.7/site-packages/ipykernel_launcher.py:196: RuntimeWarning: invalid value encountered in true_divide\n"
     ]
    },
    {
     "name": "stdout",
     "output_type": "stream",
     "text": [
      "pred [[1.9954183e-07 4.2040433e-06 9.9999559e-01]]\n",
      "Prediction: COVID-19\n",
      "Confidence\n",
      "Normal: 0.000 Pneumonia: 0.000 Covid-19: 1.000\n",
      "pred [[5.2552878e-05 3.0268551e-04 9.9964476e-01]]\n",
      "Prediction: COVID-19\n",
      "Confidence\n",
      "Normal: 0.000 Pneumonia: 0.000 Covid-19: 1.000\n",
      "pred [[5.2552878e-05 3.0268551e-04 9.9964476e-01]]\n",
      "Prediction: COVID-19\n",
      "Confidence\n",
      "Normal: 0.000 Pneumonia: 0.000 Covid-19: 1.000\n",
      "Current img: covid-19-pneumonia-14-L.png\n",
      "pred [[1.5746731e-04 8.1604281e-03 9.9168211e-01]]\n",
      "Prediction: COVID-19\n",
      "Confidence\n",
      "Normal: 0.000 Pneumonia: 0.008 Covid-19: 0.992\n",
      "pred [[0.00201305 0.05567637 0.9423106 ]]\n",
      "Prediction: COVID-19\n",
      "Confidence\n",
      "Normal: 0.002 Pneumonia: 0.056 Covid-19: 0.942\n",
      "pred [[0.00201305 0.05567637 0.9423106 ]]\n",
      "Prediction: COVID-19\n",
      "Confidence\n",
      "Normal: 0.002 Pneumonia: 0.056 Covid-19: 0.942\n",
      "Current img: radiopaedia_org_covid-19-pneumonia-14_85914_0-dcm.nii.gz\n",
      "pred [[0.2905914  0.6988258  0.01058283]]\n",
      "Prediction: pneumonia\n",
      "Confidence\n",
      "Normal: 0.291 Pneumonia: 0.699 Covid-19: 0.011\n"
     ]
    },
    {
     "name": "stderr",
     "output_type": "stream",
     "text": [
      "/opt/apps/apps/binapps/anaconda3/2019.07-numpy-fix/lib/python3.7/site-packages/ipykernel_launcher.py:196: RuntimeWarning: invalid value encountered in true_divide\n"
     ]
    },
    {
     "name": "stdout",
     "output_type": "stream",
     "text": [
      "pred [[0.2905914  0.6988258  0.01058283]]\n",
      "Prediction: pneumonia\n",
      "Confidence\n",
      "Normal: 0.291 Pneumonia: 0.699 Covid-19: 0.011\n"
     ]
    },
    {
     "name": "stderr",
     "output_type": "stream",
     "text": [
      "/opt/apps/apps/binapps/anaconda3/2019.07-numpy-fix/lib/python3.7/site-packages/ipykernel_launcher.py:196: RuntimeWarning: invalid value encountered in true_divide\n"
     ]
    },
    {
     "name": "stdout",
     "output_type": "stream",
     "text": [
      "pred [[0.2905914  0.6988258  0.01058283]]\n",
      "Prediction: pneumonia\n",
      "Confidence\n",
      "Normal: 0.291 Pneumonia: 0.699 Covid-19: 0.011\n",
      "Current img: covid-19-pneumonia-12.jpg\n"
     ]
    },
    {
     "name": "stderr",
     "output_type": "stream",
     "text": [
      "/opt/apps/apps/binapps/anaconda3/2019.07-numpy-fix/lib/python3.7/site-packages/ipykernel_launcher.py:196: RuntimeWarning: invalid value encountered in true_divide\n"
     ]
    },
    {
     "name": "stdout",
     "output_type": "stream",
     "text": [
      "pred [[1.1874115e-06 3.8953840e-03 9.9610341e-01]]\n",
      "Prediction: COVID-19\n",
      "Confidence\n",
      "Normal: 0.000 Pneumonia: 0.004 Covid-19: 0.996\n",
      "pred [[4.9368891e-06 7.4396445e-03 9.9255544e-01]]\n",
      "Prediction: COVID-19\n",
      "Confidence\n",
      "Normal: 0.000 Pneumonia: 0.007 Covid-19: 0.993\n",
      "pred [[4.9368891e-06 7.4396445e-03 9.9255544e-01]]\n",
      "Prediction: COVID-19\n",
      "Confidence\n",
      "Normal: 0.000 Pneumonia: 0.007 Covid-19: 0.993\n",
      "Current img: acute-respiratory-distress-syndrome-ards-1.jpg\n",
      "pred [[5.982613e-04 2.872589e-02 9.706759e-01]]\n",
      "Prediction: COVID-19\n",
      "Confidence\n",
      "Normal: 0.001 Pneumonia: 0.029 Covid-19: 0.971\n",
      "pred [[0.09943838 0.63440263 0.26615903]]\n",
      "Prediction: pneumonia\n",
      "Confidence\n",
      "Normal: 0.099 Pneumonia: 0.634 Covid-19: 0.266\n"
     ]
    },
    {
     "name": "stderr",
     "output_type": "stream",
     "text": [
      "/opt/apps/apps/binapps/anaconda3/2019.07-numpy-fix/lib/python3.7/site-packages/ipykernel_launcher.py:196: RuntimeWarning: invalid value encountered in true_divide\n"
     ]
    },
    {
     "name": "stdout",
     "output_type": "stream",
     "text": [
      "pred [[0.09943838 0.63440263 0.26615903]]\n",
      "Prediction: pneumonia\n",
      "Confidence\n",
      "Normal: 0.099 Pneumonia: 0.634 Covid-19: 0.266\n",
      "Current img: acute-respiratory-distress-syndrome-ards.jpg\n"
     ]
    },
    {
     "name": "stderr",
     "output_type": "stream",
     "text": [
      "/opt/apps/apps/binapps/anaconda3/2019.07-numpy-fix/lib/python3.7/site-packages/ipykernel_launcher.py:196: RuntimeWarning: invalid value encountered in true_divide\n"
     ]
    },
    {
     "name": "stdout",
     "output_type": "stream",
     "text": [
      "pred [[6.3070055e-04 9.7656453e-01 2.2804733e-02]]\n",
      "Prediction: pneumonia\n",
      "Confidence\n",
      "Normal: 0.001 Pneumonia: 0.977 Covid-19: 0.023\n"
     ]
    },
    {
     "name": "stderr",
     "output_type": "stream",
     "text": [
      "/opt/apps/apps/binapps/anaconda3/2019.07-numpy-fix/lib/python3.7/site-packages/ipykernel_launcher.py:196: RuntimeWarning: invalid value encountered in true_divide\n"
     ]
    },
    {
     "name": "stdout",
     "output_type": "stream",
     "text": [
      "pred [[2.5491236e-04 9.9974507e-01 4.3940766e-08]]\n",
      "Prediction: pneumonia\n",
      "Confidence\n",
      "Normal: 0.000 Pneumonia: 1.000 Covid-19: 0.000\n"
     ]
    },
    {
     "name": "stderr",
     "output_type": "stream",
     "text": [
      "/opt/apps/apps/binapps/anaconda3/2019.07-numpy-fix/lib/python3.7/site-packages/ipykernel_launcher.py:196: RuntimeWarning: invalid value encountered in true_divide\n"
     ]
    },
    {
     "name": "stdout",
     "output_type": "stream",
     "text": [
      "pred [[2.5491236e-04 9.9974507e-01 4.3940766e-08]]\n",
      "Prediction: pneumonia\n",
      "Confidence\n",
      "Normal: 0.000 Pneumonia: 1.000 Covid-19: 0.000\n",
      "Current img: ards-secondary-to-tiger-snake-bite.png\n"
     ]
    },
    {
     "name": "stderr",
     "output_type": "stream",
     "text": [
      "/opt/apps/apps/binapps/anaconda3/2019.07-numpy-fix/lib/python3.7/site-packages/ipykernel_launcher.py:196: RuntimeWarning: invalid value encountered in true_divide\n"
     ]
    },
    {
     "name": "stdout",
     "output_type": "stream",
     "text": [
      "pred [[4.0890544e-04 9.9687272e-01 2.7184011e-03]]\n",
      "Prediction: pneumonia\n",
      "Confidence\n",
      "Normal: 0.000 Pneumonia: 0.997 Covid-19: 0.003\n"
     ]
    },
    {
     "name": "stderr",
     "output_type": "stream",
     "text": [
      "/opt/apps/apps/binapps/anaconda3/2019.07-numpy-fix/lib/python3.7/site-packages/ipykernel_launcher.py:196: RuntimeWarning: invalid value encountered in true_divide\n"
     ]
    },
    {
     "name": "stdout",
     "output_type": "stream",
     "text": [
      "pred [[2.3747605e-05 9.9997091e-01 5.3197946e-06]]\n",
      "Prediction: pneumonia\n",
      "Confidence\n",
      "Normal: 0.000 Pneumonia: 1.000 Covid-19: 0.000\n"
     ]
    },
    {
     "name": "stderr",
     "output_type": "stream",
     "text": [
      "/opt/apps/apps/binapps/anaconda3/2019.07-numpy-fix/lib/python3.7/site-packages/ipykernel_launcher.py:196: RuntimeWarning: invalid value encountered in true_divide\n"
     ]
    },
    {
     "name": "stdout",
     "output_type": "stream",
     "text": [
      "pred [[2.3747605e-05 9.9997091e-01 5.3197946e-06]]\n",
      "Prediction: pneumonia\n",
      "Confidence\n",
      "Normal: 0.000 Pneumonia: 1.000 Covid-19: 0.000\n",
      "Current img: pneumocystis-pneumonia-2-PA.png\n"
     ]
    },
    {
     "name": "stderr",
     "output_type": "stream",
     "text": [
      "/opt/apps/apps/binapps/anaconda3/2019.07-numpy-fix/lib/python3.7/site-packages/ipykernel_launcher.py:196: RuntimeWarning: invalid value encountered in true_divide\n"
     ]
    },
    {
     "name": "stdout",
     "output_type": "stream",
     "text": [
      "pred [[1.0019953e-04 6.9833006e-04 9.9920148e-01]]\n",
      "Prediction: COVID-19\n",
      "Confidence\n",
      "Normal: 0.000 Pneumonia: 0.001 Covid-19: 0.999\n",
      "pred [[0.03899125 0.08607062 0.8749381 ]]\n",
      "Prediction: COVID-19\n",
      "Confidence\n",
      "Normal: 0.039 Pneumonia: 0.086 Covid-19: 0.875\n",
      "pred [[0.03899125 0.08607062 0.8749381 ]]\n",
      "Prediction: COVID-19\n",
      "Confidence\n",
      "Normal: 0.039 Pneumonia: 0.086 Covid-19: 0.875\n",
      "Current img: pneumocystis-pneumonia-2-L.png\n",
      "pred [[0.04828516 0.16580032 0.78591454]]\n",
      "Prediction: COVID-19\n",
      "Confidence\n",
      "Normal: 0.048 Pneumonia: 0.166 Covid-19: 0.786\n",
      "pred [[0.19408335 0.48309943 0.32281724]]\n",
      "Prediction: pneumonia\n",
      "Confidence\n",
      "Normal: 0.194 Pneumonia: 0.483 Covid-19: 0.323\n"
     ]
    },
    {
     "name": "stderr",
     "output_type": "stream",
     "text": [
      "/opt/apps/apps/binapps/anaconda3/2019.07-numpy-fix/lib/python3.7/site-packages/ipykernel_launcher.py:196: RuntimeWarning: invalid value encountered in true_divide\n"
     ]
    },
    {
     "name": "stdout",
     "output_type": "stream",
     "text": [
      "pred [[0.19408335 0.48309943 0.32281724]]\n",
      "Prediction: pneumonia\n",
      "Confidence\n",
      "Normal: 0.194 Pneumonia: 0.483 Covid-19: 0.323\n",
      "Current img: streptococcus-pneumoniae-pneumonia-1.jpg\n"
     ]
    },
    {
     "name": "stderr",
     "output_type": "stream",
     "text": [
      "/opt/apps/apps/binapps/anaconda3/2019.07-numpy-fix/lib/python3.7/site-packages/ipykernel_launcher.py:196: RuntimeWarning: invalid value encountered in true_divide\n"
     ]
    },
    {
     "name": "stdout",
     "output_type": "stream",
     "text": [
      "pred [[0.01959476 0.13340674 0.8469985 ]]\n",
      "Prediction: COVID-19\n",
      "Confidence\n",
      "Normal: 0.020 Pneumonia: 0.133 Covid-19: 0.847\n",
      "pred [[3.2450852e-01 6.7488045e-01 6.1102846e-04]]\n",
      "Prediction: pneumonia\n",
      "Confidence\n",
      "Normal: 0.325 Pneumonia: 0.675 Covid-19: 0.001\n"
     ]
    },
    {
     "name": "stderr",
     "output_type": "stream",
     "text": [
      "/opt/apps/apps/binapps/anaconda3/2019.07-numpy-fix/lib/python3.7/site-packages/ipykernel_launcher.py:196: RuntimeWarning: invalid value encountered in true_divide\n"
     ]
    },
    {
     "name": "stdout",
     "output_type": "stream",
     "text": [
      "pred [[3.2450852e-01 6.7488045e-01 6.1102846e-04]]\n",
      "Prediction: pneumonia\n",
      "Confidence\n",
      "Normal: 0.325 Pneumonia: 0.675 Covid-19: 0.001\n",
      "Current img: pneumonia-7.jpg\n"
     ]
    },
    {
     "name": "stderr",
     "output_type": "stream",
     "text": [
      "/opt/apps/apps/binapps/anaconda3/2019.07-numpy-fix/lib/python3.7/site-packages/ipykernel_launcher.py:196: RuntimeWarning: invalid value encountered in true_divide\n"
     ]
    },
    {
     "name": "stdout",
     "output_type": "stream",
     "text": [
      "pred [[3.7836182e-07 9.9999964e-01 1.6658721e-08]]\n",
      "Prediction: pneumonia\n",
      "Confidence\n",
      "Normal: 0.000 Pneumonia: 1.000 Covid-19: 0.000\n",
      "pred [[1.5898373e-03 9.9840921e-01 9.0776484e-07]]\n",
      "Prediction: pneumonia\n",
      "Confidence\n",
      "Normal: 0.002 Pneumonia: 0.998 Covid-19: 0.000\n",
      "pred [[1.5898373e-03 9.9840921e-01 9.0776484e-07]]\n",
      "Prediction: pneumonia\n",
      "Confidence\n",
      "Normal: 0.002 Pneumonia: 0.998 Covid-19: 0.000\n",
      "Current img: streptococcus-pneumoniae-pneumonia-temporal-evolution-1-day0.jpg\n",
      "pred [[0.00260772 0.99588555 0.00150672]]\n",
      "Prediction: pneumonia\n",
      "Confidence\n",
      "Normal: 0.003 Pneumonia: 0.996 Covid-19: 0.002\n"
     ]
    },
    {
     "name": "stderr",
     "output_type": "stream",
     "text": [
      "/opt/apps/apps/binapps/anaconda3/2019.07-numpy-fix/lib/python3.7/site-packages/ipykernel_launcher.py:196: RuntimeWarning: invalid value encountered in true_divide\n"
     ]
    },
    {
     "name": "stdout",
     "output_type": "stream",
     "text": [
      "pred [[1.5590823e-03 9.9839908e-01 4.1796939e-05]]\n",
      "Prediction: pneumonia\n",
      "Confidence\n",
      "Normal: 0.002 Pneumonia: 0.998 Covid-19: 0.000\n"
     ]
    },
    {
     "name": "stderr",
     "output_type": "stream",
     "text": [
      "/opt/apps/apps/binapps/anaconda3/2019.07-numpy-fix/lib/python3.7/site-packages/ipykernel_launcher.py:196: RuntimeWarning: invalid value encountered in true_divide\n"
     ]
    },
    {
     "name": "stdout",
     "output_type": "stream",
     "text": [
      "pred [[1.5590823e-03 9.9839908e-01 4.1796939e-05]]\n",
      "Prediction: pneumonia\n",
      "Confidence\n",
      "Normal: 0.002 Pneumonia: 0.998 Covid-19: 0.000\n",
      "Current img: streptococcus-pneumoniae-pneumonia-temporal-evolution-1-day1.jpg\n"
     ]
    },
    {
     "name": "stderr",
     "output_type": "stream",
     "text": [
      "/opt/apps/apps/binapps/anaconda3/2019.07-numpy-fix/lib/python3.7/site-packages/ipykernel_launcher.py:196: RuntimeWarning: invalid value encountered in true_divide\n"
     ]
    },
    {
     "name": "stdout",
     "output_type": "stream",
     "text": [
      "pred [[2.7184957e-05 9.9997056e-01 2.2074703e-06]]\n",
      "Prediction: pneumonia\n",
      "Confidence\n",
      "Normal: 0.000 Pneumonia: 1.000 Covid-19: 0.000\n"
     ]
    },
    {
     "name": "stderr",
     "output_type": "stream",
     "text": [
      "/opt/apps/apps/binapps/anaconda3/2019.07-numpy-fix/lib/python3.7/site-packages/ipykernel_launcher.py:196: RuntimeWarning: invalid value encountered in true_divide\n"
     ]
    },
    {
     "name": "stdout",
     "output_type": "stream",
     "text": [
      "pred [[4.7847927e-05 9.9994683e-01 5.3624631e-06]]\n",
      "Prediction: pneumonia\n",
      "Confidence\n",
      "Normal: 0.000 Pneumonia: 1.000 Covid-19: 0.000\n"
     ]
    },
    {
     "name": "stderr",
     "output_type": "stream",
     "text": [
      "/opt/apps/apps/binapps/anaconda3/2019.07-numpy-fix/lib/python3.7/site-packages/ipykernel_launcher.py:196: RuntimeWarning: invalid value encountered in true_divide\n"
     ]
    },
    {
     "name": "stdout",
     "output_type": "stream",
     "text": [
      "pred [[4.7847927e-05 9.9994683e-01 5.3624631e-06]]\n",
      "Prediction: pneumonia\n",
      "Confidence\n",
      "Normal: 0.000 Pneumonia: 1.000 Covid-19: 0.000\n",
      "Current img: streptococcus-pneumoniae-pneumonia-temporal-evolution-1-day2.jpg\n"
     ]
    },
    {
     "name": "stderr",
     "output_type": "stream",
     "text": [
      "/opt/apps/apps/binapps/anaconda3/2019.07-numpy-fix/lib/python3.7/site-packages/ipykernel_launcher.py:196: RuntimeWarning: invalid value encountered in true_divide\n"
     ]
    },
    {
     "name": "stdout",
     "output_type": "stream",
     "text": [
      "pred [[4.6691226e-04 9.9951565e-01 1.7355977e-05]]\n",
      "Prediction: pneumonia\n",
      "Confidence\n",
      "Normal: 0.000 Pneumonia: 1.000 Covid-19: 0.000\n",
      "pred [[0.00161002 0.9969861  0.00140389]]\n",
      "Prediction: pneumonia\n",
      "Confidence\n",
      "Normal: 0.002 Pneumonia: 0.997 Covid-19: 0.001\n"
     ]
    },
    {
     "name": "stderr",
     "output_type": "stream",
     "text": [
      "/opt/apps/apps/binapps/anaconda3/2019.07-numpy-fix/lib/python3.7/site-packages/ipykernel_launcher.py:196: RuntimeWarning: invalid value encountered in true_divide\n"
     ]
    },
    {
     "name": "stdout",
     "output_type": "stream",
     "text": [
      "pred [[0.00161002 0.9969861  0.00140389]]\n",
      "Prediction: pneumonia\n",
      "Confidence\n",
      "Normal: 0.002 Pneumonia: 0.997 Covid-19: 0.001\n",
      "Current img: streptococcus-pneumoniae-pneumonia-temporal-evolution-1-day3.jpg\n"
     ]
    },
    {
     "name": "stderr",
     "output_type": "stream",
     "text": [
      "/opt/apps/apps/binapps/anaconda3/2019.07-numpy-fix/lib/python3.7/site-packages/ipykernel_launcher.py:196: RuntimeWarning: invalid value encountered in true_divide\n"
     ]
    },
    {
     "name": "stdout",
     "output_type": "stream",
     "text": [
      "pred [[2.4845533e-04 9.4689626e-01 5.2855302e-02]]\n",
      "Prediction: pneumonia\n",
      "Confidence\n",
      "Normal: 0.000 Pneumonia: 0.947 Covid-19: 0.053\n",
      "pred [[5.8727188e-04 9.7678590e-01 2.2626843e-02]]\n",
      "Prediction: pneumonia\n",
      "Confidence\n",
      "Normal: 0.001 Pneumonia: 0.977 Covid-19: 0.023\n"
     ]
    },
    {
     "name": "stderr",
     "output_type": "stream",
     "text": [
      "/opt/apps/apps/binapps/anaconda3/2019.07-numpy-fix/lib/python3.7/site-packages/ipykernel_launcher.py:196: RuntimeWarning: invalid value encountered in true_divide\n"
     ]
    },
    {
     "name": "stdout",
     "output_type": "stream",
     "text": [
      "pred [[5.8727188e-04 9.7678590e-01 2.2626843e-02]]\n",
      "Prediction: pneumonia\n",
      "Confidence\n",
      "Normal: 0.001 Pneumonia: 0.977 Covid-19: 0.023\n",
      "Current img: 39EE8E69-5801-48DE-B6E3-BE7D1BCF3092.jpeg\n"
     ]
    },
    {
     "name": "stderr",
     "output_type": "stream",
     "text": [
      "/opt/apps/apps/binapps/anaconda3/2019.07-numpy-fix/lib/python3.7/site-packages/ipykernel_launcher.py:196: RuntimeWarning: invalid value encountered in true_divide\n"
     ]
    },
    {
     "name": "stdout",
     "output_type": "stream",
     "text": [
      "pred [[0.00413139 0.06106877 0.93479985]]\n",
      "Prediction: COVID-19\n",
      "Confidence\n",
      "Normal: 0.004 Pneumonia: 0.061 Covid-19: 0.935\n",
      "pred [[2.448890e-09 1.545233e-08 1.000000e+00]]\n",
      "Prediction: COVID-19\n",
      "Confidence\n",
      "Normal: 0.000 Pneumonia: 0.000 Covid-19: 1.000\n",
      "pred [[2.448890e-09 1.545233e-08 1.000000e+00]]\n",
      "Prediction: COVID-19\n",
      "Confidence\n",
      "Normal: 0.000 Pneumonia: 0.000 Covid-19: 1.000\n",
      "Current img: 191F3B3A-2879-4EF3-BE56-EE0D2B5AAEE3.jpeg\n",
      "pred [[8.4468883e-01 1.5531117e-01 4.7444959e-09]]\n",
      "Prediction: normal\n",
      "Confidence\n",
      "Normal: 0.845 Pneumonia: 0.155 Covid-19: 0.000\n"
     ]
    },
    {
     "name": "stderr",
     "output_type": "stream",
     "text": [
      "/opt/apps/apps/binapps/anaconda3/2019.07-numpy-fix/lib/python3.7/site-packages/ipykernel_launcher.py:196: RuntimeWarning: invalid value encountered in true_divide\n"
     ]
    },
    {
     "name": "stdout",
     "output_type": "stream",
     "text": [
      "pred [[8.2219428e-01 1.7780563e-01 7.2851840e-08]]\n",
      "Prediction: normal\n",
      "Confidence\n",
      "Normal: 0.822 Pneumonia: 0.178 Covid-19: 0.000\n"
     ]
    },
    {
     "name": "stderr",
     "output_type": "stream",
     "text": [
      "/opt/apps/apps/binapps/anaconda3/2019.07-numpy-fix/lib/python3.7/site-packages/ipykernel_launcher.py:196: RuntimeWarning: invalid value encountered in true_divide\n"
     ]
    },
    {
     "name": "stdout",
     "output_type": "stream",
     "text": [
      "pred [[8.2219428e-01 1.7780563e-01 7.2851840e-08]]\n",
      "Prediction: normal\n",
      "Confidence\n",
      "Normal: 0.822 Pneumonia: 0.178 Covid-19: 0.000\n",
      "Current img: DE488FE1-0C44-428B-B67A-09741C1214C0.jpeg\n"
     ]
    },
    {
     "name": "stderr",
     "output_type": "stream",
     "text": [
      "/opt/apps/apps/binapps/anaconda3/2019.07-numpy-fix/lib/python3.7/site-packages/ipykernel_launcher.py:196: RuntimeWarning: invalid value encountered in true_divide\n"
     ]
    },
    {
     "name": "stdout",
     "output_type": "stream",
     "text": [
      "pred [[3.0218247e-02 9.6978170e-01 7.7116791e-10]]\n",
      "Prediction: pneumonia\n",
      "Confidence\n",
      "Normal: 0.030 Pneumonia: 0.970 Covid-19: 0.000\n",
      "pred [[2.9288638e-01 7.0711339e-01 1.9809055e-07]]\n",
      "Prediction: pneumonia\n",
      "Confidence\n",
      "Normal: 0.293 Pneumonia: 0.707 Covid-19: 0.000\n",
      "pred [[2.9288638e-01 7.0711339e-01 1.9809055e-07]]\n",
      "Prediction: pneumonia\n",
      "Confidence\n",
      "Normal: 0.293 Pneumonia: 0.707 Covid-19: 0.000\n",
      "Current img: 7C69C012-7479-493F-8722-ABC29C60A2DD.jpeg\n",
      "pred [[2.1691234e-03 9.2330633e-04 9.9690753e-01]]\n",
      "Prediction: COVID-19\n",
      "Confidence\n",
      "Normal: 0.002 Pneumonia: 0.001 Covid-19: 0.997\n",
      "pred [[0.00731862 0.0023611  0.99032027]]\n",
      "Prediction: COVID-19\n",
      "Confidence\n",
      "Normal: 0.007 Pneumonia: 0.002 Covid-19: 0.990\n",
      "pred [[0.00731862 0.0023611  0.99032027]]\n",
      "Prediction: COVID-19\n",
      "Confidence\n",
      "Normal: 0.007 Pneumonia: 0.002 Covid-19: 0.990\n",
      "Current img: 44C8E3D6-20DA-42E9-B33B-96FA6D6DE12F.jpeg\n",
      "pred [[0.010555   0.02829694 0.961148  ]]\n",
      "Prediction: COVID-19\n",
      "Confidence\n",
      "Normal: 0.011 Pneumonia: 0.028 Covid-19: 0.961\n",
      "pred [[0.00514477 0.01051102 0.98434424]]\n",
      "Prediction: COVID-19\n",
      "Confidence\n",
      "Normal: 0.005 Pneumonia: 0.011 Covid-19: 0.984\n",
      "pred [[0.00514477 0.01051102 0.98434424]]\n",
      "Prediction: COVID-19\n",
      "Confidence\n",
      "Normal: 0.005 Pneumonia: 0.011 Covid-19: 0.984\n",
      "Current img: 3ED3C0E1-4FE0-4238-8112-DDFF9E20B471.jpeg\n",
      "pred [[7.8881997e-01 2.1117981e-01 1.4918626e-07]]\n",
      "Prediction: normal\n",
      "Confidence\n",
      "Normal: 0.789 Pneumonia: 0.211 Covid-19: 0.000\n"
     ]
    },
    {
     "name": "stderr",
     "output_type": "stream",
     "text": [
      "/opt/apps/apps/binapps/anaconda3/2019.07-numpy-fix/lib/python3.7/site-packages/ipykernel_launcher.py:196: RuntimeWarning: invalid value encountered in true_divide\n"
     ]
    },
    {
     "name": "stdout",
     "output_type": "stream",
     "text": [
      "pred [[8.7862176e-01 1.2137613e-01 2.0467155e-06]]\n",
      "Prediction: normal\n",
      "Confidence\n",
      "Normal: 0.879 Pneumonia: 0.121 Covid-19: 0.000\n"
     ]
    }
   ],
   "source": [
    "iou_list_all2 = []\n",
    "\n",
    "pred_list_all = []\n",
    "pred_list_all2 = []\n",
    "cls_list_all = []\n",
    "cls1_list_all = []\n",
    "cls2_list_all = []\n",
    "change0_list_all = []\n",
    "change_list_all = []\n",
    "for i in range(len(pd_reader)):\n",
    "  '''/////////////////////////main_grad use/////////////////////////////'''\n",
    "  num = i\n",
    "  temp_name = pd_reader['filename'][num]\n",
    "  print(\"Current img:\", temp_name)\n",
    "  temp_img = cv.imread('./covid-chestxray-dataset-master/images/' + temp_name)\n",
    "  if temp_img is None:\n",
    "    temp_name = \"white.png\"\n",
    "    img_m, new_im_2, cam3_resize, pred0 = main_grad(temp_name)\n",
    "  else:\n",
    "    img_m, new_im_2, cam3_resize, pred0 = main_grad('./covid-chestxray-dataset-master/images/' + temp_name)\n",
    "  pred_list_all.append(pred0)\n",
    "  pred_max0 = pred0[0].max()\n",
    "  if pred0[0][0] == pred_max0:\n",
    "    # nomal\n",
    "    cls0 = 0\n",
    "  elif pred0[0][1] == pred_max0:\n",
    "    # non-covid\n",
    "    cls0 = 1\n",
    "  else:\n",
    "    # covid\n",
    "    cls0 = 2 \n",
    "  cls_list_all.append(cls0)\n",
    "  '''/////////////////////////main_grad use/////////////////////////////'''\n",
    "\n",
    "\n",
    "  '''/////////////////////////show grad-cam area/////////////////////////////'''\n",
    "\n",
    "\n",
    "  img = cam3_resize\n",
    "\n",
    "  gray = cv2.cvtColor(img,cv2.COLOR_BGR2GRAY)\n",
    "\n",
    "  binary = cv2.inRange(gray,45,80)\n",
    "  # cv2_imshow(binary)\n",
    "  contours, hierarchy = cv2.findContours(binary,cv2.RETR_EXTERNAL,cv2.CHAIN_APPROX_SIMPLE)\n",
    "  # print(contours)\n",
    "  if len(contours) > 0:\n",
    "    cnt = contours[0]\n",
    "    x, y, w, h = cv2.boundingRect(cnt)\n",
    "    img_new = cv2.rectangle(img, (x, y), (x + w, y + h), (0, 255, 255), 1)\n",
    "    # cv2_imshow(img_new)\n",
    "  else:\n",
    "    x, y, w, h = 0, 0, 0, 0\n",
    "\n",
    "\n",
    "  \n",
    "  '''/////////////////////////show grad-cam area/////////////////////////////'''\n",
    "\n",
    "  '''/////////////////////////Robust/////////////////////////////'''\n",
    "  img1 = img_m\n",
    "  img2 = img_m\n",
    "  for i in range(img1.shape[0]):\n",
    "    for j in range(img1.shape[1]):\n",
    "      if (j>=x and j<=x+w) and (i>=y and i<=y+h):\n",
    "        img1[i][j] = [255, 255, 255]\n",
    "  # cv2_imshow(img_m)\n",
    "\n",
    "  # write the image to the current folder temperarily\n",
    "  cv2.imwrite(\"./output_900_iou_robust/rob1-\"+temp_name, img1)\n",
    "\n",
    "  new_name = \"./output_900_iou_robust/rob1-\"+temp_name\n",
    "  # print(\"Current img:\", temp_name)\n",
    "\n",
    "  img_m_new, new_im_2_new, cam3_resize_new, pred = main_grad(new_name)\n",
    "  pred_list_all2.append(pred)\n",
    "  pred_max = pred[0].max()\n",
    "  if pred[0][0] == pred_max:\n",
    "    # nomal\n",
    "    cls1 = 0\n",
    "  elif pred[0][1] == pred_max:\n",
    "    # non-covid\n",
    "    cls1 = 1\n",
    "  else:\n",
    "    # covid\n",
    "    cls1 = 2\n",
    "  cls1_list_all.append(cls1)\n",
    "\n",
    "  #  robust half - 1/4\n",
    "  for i in range(img2.shape[0]):\n",
    "    for j in range(img2.shape[1]):\n",
    "      if (j>=x and j<=x+w/2) and (i>=y and i<=y+h/2):\n",
    "        img2[i][j] = [255, 255, 255]\n",
    "  cv2.imwrite(\"./output_900_iou_robust/rob2-\"+temp_name, img2)\n",
    "\n",
    "  new_name2 = \"./output_900_iou_robust/rob2-\"+temp_name\n",
    "  # print(\"Current img:\", temp_name)\n",
    "\n",
    "  img_m_new2, new_im_2_new2, cam3_resize_new2, pred2 = main_grad(new_name2)\n",
    "  pred_list_all2.append(pred2)\n",
    "  pred_max = pred2[0].max()\n",
    "  if pred2[0][0] == pred_max:\n",
    "    # nomal\n",
    "    cls2 = 0\n",
    "  elif pred2[0][1] == pred_max:\n",
    "    # non-covid\n",
    "    cls2 = 1\n",
    "  else:\n",
    "    # covid\n",
    "    cls2 = 2\n",
    "  cls2_list_all.append(cls2)\n",
    "\n",
    "  if cls1 == cls0:\n",
    "    change = 1\n",
    "  else:\n",
    "    change = 0\n",
    "\n",
    "  if cls0 == cls2:\n",
    "    change2 = 1\n",
    "  else:\n",
    "    change2 = 0\n",
    "  change_list_all.append(change2)\n",
    "  change0_list_all.append(change)\n",
    "\n",
    "  '''/////////////////////////Robust/////////////////////////////'''\n",
    "\n",
    "  '''/////////////////////////main-result/////////////////////////////'''\n",
    "\n",
    "  image = new_im_2_new2\n",
    "  # draw the ground-truth bounding box along with the predicted\n",
    "\n",
    "  img = cam3_resize_new\n",
    "  gray = cv2.cvtColor(img,cv2.COLOR_BGR2GRAY)\n",
    "\n",
    "  binary = cv2.inRange(gray,45,80)\n",
    "  # cv2_imshow(binary)\n",
    "  contours, hierarchy = cv2.findContours(binary,cv2.RETR_EXTERNAL,cv2.CHAIN_APPROX_SIMPLE)\n",
    "  # print(contours)\n",
    "  if len(contours) > 0:\n",
    "    cnt = contours[0]\n",
    "    x, y, w, h = cv2.boundingRect(cnt)\n",
    "    img_new = cv2.rectangle(img, (x, y), (x + w, y + h), (0, 255, 255), 1)\n",
    "    # cv2_imshow(img_new)\n",
    "  else:\n",
    "    x, y, w, h = 0, 0, 0, 0\n",
    "\n",
    "  # bounding box\n",
    "\n",
    "  detection1 = [50, 50, 200, 150] #15, 15, 200, 200\n",
    "  detection2 = [x, y, x + w, y + h]\n",
    "  start_point1 = [50, 50]  #10,10\n",
    "  end_point1 = [200, 150]  #200,150\n",
    "  color1 = (0, 255, 0)\n",
    "  start_point2 = [x, y]   # 137\n",
    "  end_point2 = [x+w, y+h]  # 188\n",
    "  color2 = (0, 0, 255)\n",
    "  thickness = 2\n",
    "\n",
    "  cv2.rectangle(image, start_point1, end_point1, color1, thickness)\n",
    "  cv2.rectangle(image, start_point2, end_point2, color2, thickness)\n",
    "\n",
    "\n",
    "\n",
    "  # compute the intersection over union and display it\n",
    "  iou = bb_intersection_over_union(detection1, detection2)\n",
    "  # iou = bb_intersection_over_union(detection.gt, detection.pred)\n",
    "  cv2.putText(image, \"IoU: {:.4f}\".format(iou), (10, 30),\n",
    "    cv2.FONT_HERSHEY_SIMPLEX, 0.6, (0, 255, 0), 2)\n",
    "\n",
    "  # show the output image\n",
    "  # cv2_imshow(image)\n",
    "  iou_list_all2.append(iou)\n",
    "  cv2.imwrite(\"./output_900_iou_robust/IOU_half_\"+temp_name, image)\n",
    "\n",
    "\n",
    "  '''/////////////////////////main-result/////////////////////////////'''\n"
   ]
  },
  {
   "cell_type": "code",
   "execution_count": null,
   "metadata": {},
   "outputs": [],
   "source": [
    "print(pred_list_all)"
   ]
  },
  {
   "cell_type": "code",
   "execution_count": null,
   "metadata": {},
   "outputs": [],
   "source": [
    "print(pred_list_all2)"
   ]
  },
  {
   "cell_type": "code",
   "execution_count": null,
   "metadata": {
    "colab": {
     "base_uri": "https://localhost:8080/"
    },
    "id": "BwhKamTGYqqW",
    "outputId": "9310acb6-5514-47ac-f7b7-3ce38e58cc9b"
   },
   "outputs": [],
   "source": [
    "print(iou_list_all2)\n",
    "dict2 = {}\n",
    "\n",
    "for i in range(len(pd_reader)):\n",
    "  dict2[i] = iou_list_all2[i]\n",
    "\n",
    "# dict"
   ]
  },
  {
   "cell_type": "code",
   "execution_count": null,
   "metadata": {},
   "outputs": [],
   "source": [
    "# print(cls1_list_all)\n",
    "dict2_cls0 = {}\n",
    "dict2_cls1 = {}\n",
    "dict2_cls2 = {}\n",
    "dict_change = {}\n",
    "dict_change2 = {}\n",
    "\n",
    "for i in range(len(pd_reader)):\n",
    "  dict2_cls0[i] = cls_list_all[i]\n",
    "  dict2_cls1[i] = cls1_list_all[i]\n",
    "  dict2_cls2[i] = cls2_list_all[i]\n",
    "  dict_change[i] = change0_list_all[i]\n",
    "  dict_change2[i] = change_list_all[i]\n",
    "\n",
    "# dict"
   ]
  },
  {
   "cell_type": "code",
   "execution_count": null,
   "metadata": {
    "id": "TPwUKhUUYqqX"
   },
   "outputs": [],
   "source": [
    "# df = pd.DataFrame(dict, columns=['num', 'IOU'])\n",
    "\n",
    "df = pd.DataFrame.from_dict(dict2,orient='index',columns=['IOU'])\n",
    "df = df.reset_index().rename(columns = {'index':'num'})\n",
    "\n",
    "df2 = pd.DataFrame.from_dict(dict2_cls1,orient='index',columns=['cls1'])\n",
    "df2 = df2.reset_index().rename(columns = {'index':'num'})\n",
    "\n",
    "df3 = pd.DataFrame.from_dict(dict2_cls2,orient='index',columns=['cls2'])\n",
    "df3 = df3.reset_index().rename(columns = {'index':'num'})\n",
    "\n",
    "df0 = pd.DataFrame.from_dict(dict2_cls0,orient='index',columns=['cls0'])\n",
    "df0 = df0.reset_index().rename(columns = {'index':'num'})\n",
    "\n",
    "df4 = pd.DataFrame.from_dict(dict_change,orient='index',columns=['change_cls1_cls0'])\n",
    "df4 = df4.reset_index().rename(columns = {'index':'num'})\n",
    "\n",
    "df5 = pd.DataFrame.from_dict(dict_change,orient='index',columns=['change_cls2_cls0'])\n",
    "df5 = df5.reset_index().rename(columns = {'index':'num'})\n",
    "\n",
    "\n",
    "# save into excel\n",
    "df.to_excel(\"900_robust_half_iou.xlsx\", index=False)\n",
    "\n",
    "df0.to_excel(\"900_robust_cls0_org.xlsx\", index=False)\n",
    "df2.to_excel(\"900_robust_cls1.xlsx\", index=False)\n",
    "df3.to_excel(\"900_robust_cls2.xlsx\", index=False)\n",
    "df4.to_excel(\"900_robust_change_cls1_0.xlsx\", index=False)\n",
    "df5.to_excel(\"900_robust_change_cls2_0.xlsx\", index=False)"
   ]
  },
  {
   "cell_type": "code",
   "execution_count": null,
   "metadata": {
    "id": "ZXIeWRftYqqX"
   },
   "outputs": [],
   "source": [
    "# save\n",
    "# !cp -r ./output_900_iou_robust/ 'drive/MyDrive/covid/IOU_ex/'"
   ]
  },
  {
   "cell_type": "code",
   "execution_count": null,
   "metadata": {},
   "outputs": [],
   "source": []
  }
 ],
 "metadata": {
  "colab": {
   "collapsed_sections": [
    "3SI5oHAIFeM1"
   ],
   "history_visible": true,
   "provenance": [],
   "toc_visible": true
  },
  "gpuClass": "standard",
  "kernelspec": {
   "display_name": "Python 3",
   "language": "python",
   "name": "python3"
  },
  "language_info": {
   "codemirror_mode": {
    "name": "ipython",
    "version": 3
   },
   "file_extension": ".py",
   "mimetype": "text/x-python",
   "name": "python",
   "nbconvert_exporter": "python",
   "pygments_lexer": "ipython3",
   "version": "3.7.3"
  }
 },
 "nbformat": 4,
 "nbformat_minor": 1
}
